{
  "nbformat": 4,
  "nbformat_minor": 0,
  "metadata": {
    "colab": {
      "name": "Acoustic  part1 .ipynb",
      "provenance": [],
      "collapsed_sections": [],
      "toc_visible": true,
      "include_colab_link": true
    },
    "kernelspec": {
      "name": "python3",
      "display_name": "Python 3"
    },
    "language_info": {
      "name": "python"
    }
  },
  "cells": [
    {
      "cell_type": "markdown",
      "metadata": {
        "id": "view-in-github",
        "colab_type": "text"
      },
      "source": [
        "<a href=\"https://colab.research.google.com/github/nadireus/AUTOSCOUT-P/blob/main/Autoscout24_all_in_one.ipynb\" target=\"_parent\"><img src=\"https://colab.research.google.com/assets/colab-badge.svg\" alt=\"Open In Colab\"/></a>"
      ]
    },
    {
      "cell_type": "markdown",
      "source": [
        "Summary info about AutoScout24\n",
        "\n",
        "The Munich-based company AutoScout24 is one of the leading online markets for new and used cars as well as for commercial vehicles and motorcycles.If you open the website, you will first see a box in which you can enter filter criteria for the desired vehicle or motorcycle. Click on the button to display the corresponding means of transportation. On the search results page you will find 20 overview windows. of the search results page, you can see more information and pictures on the detail page.\n",
        "\n",
        "Summary info about Project\n",
        "In this project you can find the methods of cleaning and analysing of the  data,which extracted from  Atouscout24.  "
      ],
      "metadata": {
        "id": "HD9mcv2dHDU0"
      }
    },
    {
      "cell_type": "markdown",
      "source": [
        "used some important features during data manipulation\n",
        "\n",
        "\n",
        "\n",
        "Manipulation: moving columns, slicing, reshaping, merging, joining, filtering, and others.\n",
        "\n",
        "Time-series Handling: operations on date/times, resampling, moving windows and auto-alignment of datasets.\n",
        "\n",
        "Missing Data Handling: auto-exclude, drop, replace missing values\n",
        "Group-by Operations.\n",
        "\n",
        "Summary Statistics: Fast and powerful summary statistics of data.\n",
        "Visualization: Simplified access to plots on data structures, such as histograms, box plots, general plots."
      ],
      "metadata": {
        "id": "zaHlKy5cflhM"
      }
    },
    {
      "cell_type": "markdown",
      "source": [
        "Importing packages"
      ],
      "metadata": {
        "id": "vsWwhD2UJCn_"
      }
    },
    {
      "cell_type": "code",
      "source": [
        "\n",
        "import pandas as pd\n",
        "import numpy as np\n",
        "import seaborn as sns\n",
        "import scipy \n",
        "import stat as st\n",
        "import matplotlib.pyplot as plt\n",
        "import matplotlib.mlab as mlab\n",
        "import matplotlib\n",
        "plt.style.use('ggplot')\n",
        "from matplotlib.pyplot import figure\n",
        "\n",
        "%matplotlib inline\n",
        "matplotlib.rcParams['figure.figsize'] = (12,8)\n",
        "\n",
        "pd.options.mode.chained_assignment = None"
      ],
      "metadata": {
        "id": "X48AhL1nlZYI"
      },
      "execution_count": 1,
      "outputs": []
    },
    {
      "cell_type": "markdown",
      "source": [
        "#reading jason file from drive"
      ],
      "metadata": {
        "id": "eYe6larXtPs3"
      }
    },
    {
      "cell_type": "code",
      "source": [
        "from google.colab import drive\n",
        "drive.mount('/content/drive')"
      ],
      "metadata": {
        "colab": {
          "base_uri": "https://localhost:8080/"
        },
        "id": "93HaZ0GXUetJ",
        "outputId": "cc84119d-bfc9-4aef-e7b6-190cb45a77c8"
      },
      "execution_count": 2,
      "outputs": [
        {
          "output_type": "stream",
          "name": "stdout",
          "text": [
            "Mounted at /content/drive\n"
          ]
        }
      ]
    },
    {
      "cell_type": "code",
      "source": [
        "df=pd.read_json(\"/content/drive/MyDrive/Colab Notebooks/scout24_car.json\", lines=True) #reading jason  file from drive"
      ],
      "metadata": {
        "id": "uoNLO4ojObON"
      },
      "execution_count": 3,
      "outputs": []
    },
    {
      "cell_type": "code",
      "source": [
        "df.to_csv(index=False) #converting jason datas to csv"
      ],
      "metadata": {
        "id": "rDRgRZejpTEC"
      },
      "execution_count": 4,
      "outputs": []
    },
    {
      "cell_type": "markdown",
      "source": [
        "writing file to csv"
      ],
      "metadata": {
        "id": "NXAlDmW67gna"
      }
    },
    {
      "cell_type": "code",
      "source": [
        "df.to_csv('Autoscout.last.csv')"
      ],
      "metadata": {
        "id": "vNSj_Wwv7f9F"
      },
      "execution_count": 5,
      "outputs": []
    },
    {
      "cell_type": "code",
      "source": [
        "df.head().T"
      ],
      "metadata": {
        "id": "McKCHtPEsM-z",
        "colab": {
          "base_uri": "https://localhost:8080/",
          "height": 1000
        },
        "outputId": "089b5f38-315a-4f60-e84a-d20292f004ca"
      },
      "execution_count": null,
      "outputs": [
        {
          "output_type": "execute_result",
          "data": {
            "text/html": [
              "\n",
              "  <div id=\"df-7cf483dc-fd12-4e82-b6d5-4765ea673388\">\n",
              "    <div class=\"colab-df-container\">\n",
              "      <div>\n",
              "<style scoped>\n",
              "    .dataframe tbody tr th:only-of-type {\n",
              "        vertical-align: middle;\n",
              "    }\n",
              "\n",
              "    .dataframe tbody tr th {\n",
              "        vertical-align: top;\n",
              "    }\n",
              "\n",
              "    .dataframe thead th {\n",
              "        text-align: right;\n",
              "    }\n",
              "</style>\n",
              "<table border=\"1\" class=\"dataframe\">\n",
              "  <thead>\n",
              "    <tr style=\"text-align: right;\">\n",
              "      <th></th>\n",
              "      <th>0</th>\n",
              "      <th>1</th>\n",
              "      <th>2</th>\n",
              "      <th>3</th>\n",
              "      <th>4</th>\n",
              "    </tr>\n",
              "  </thead>\n",
              "  <tbody>\n",
              "    <tr>\n",
              "      <th>url</th>\n",
              "      <td>https://www.autoscout24.com//offers/audi-a1-sp...</td>\n",
              "      <td>https://www.autoscout24.com//offers/audi-a1-1-...</td>\n",
              "      <td>https://www.autoscout24.com//offers/audi-a1-sp...</td>\n",
              "      <td>https://www.autoscout24.com//offers/audi-a1-1-...</td>\n",
              "      <td>https://www.autoscout24.com//offers/audi-a1-sp...</td>\n",
              "    </tr>\n",
              "    <tr>\n",
              "      <th>make_model</th>\n",
              "      <td>Audi A1</td>\n",
              "      <td>Audi A1</td>\n",
              "      <td>Audi A1</td>\n",
              "      <td>Audi A1</td>\n",
              "      <td>Audi A1</td>\n",
              "    </tr>\n",
              "    <tr>\n",
              "      <th>short_description</th>\n",
              "      <td>Sportback 1.4 TDI S-tronic Xenon Navi Klima</td>\n",
              "      <td>1.8 TFSI sport</td>\n",
              "      <td>Sportback 1.6 TDI S tronic Einparkhilfe plus+m...</td>\n",
              "      <td>1.4 TDi Design S tronic</td>\n",
              "      <td>Sportback 1.4 TDI S-Tronic S-Line Ext. admired...</td>\n",
              "    </tr>\n",
              "    <tr>\n",
              "      <th>body_type</th>\n",
              "      <td>Sedans</td>\n",
              "      <td>Sedans</td>\n",
              "      <td>Sedans</td>\n",
              "      <td>Sedans</td>\n",
              "      <td>Sedans</td>\n",
              "    </tr>\n",
              "    <tr>\n",
              "      <th>price</th>\n",
              "      <td>15770</td>\n",
              "      <td>14500</td>\n",
              "      <td>14640</td>\n",
              "      <td>14500</td>\n",
              "      <td>16790</td>\n",
              "    </tr>\n",
              "    <tr>\n",
              "      <th>vat</th>\n",
              "      <td>VAT deductible</td>\n",
              "      <td>Price negotiable</td>\n",
              "      <td>VAT deductible</td>\n",
              "      <td>None</td>\n",
              "      <td>None</td>\n",
              "    </tr>\n",
              "    <tr>\n",
              "      <th>km</th>\n",
              "      <td>56,013 km</td>\n",
              "      <td>80,000 km</td>\n",
              "      <td>83,450 km</td>\n",
              "      <td>73,000 km</td>\n",
              "      <td>16,200 km</td>\n",
              "    </tr>\n",
              "    <tr>\n",
              "      <th>registration</th>\n",
              "      <td>01/2016</td>\n",
              "      <td>03/2017</td>\n",
              "      <td>02/2016</td>\n",
              "      <td>08/2016</td>\n",
              "      <td>05/2016</td>\n",
              "    </tr>\n",
              "    <tr>\n",
              "      <th>prev_owner</th>\n",
              "      <td>2 previous owners</td>\n",
              "      <td>None</td>\n",
              "      <td>1 previous owner</td>\n",
              "      <td>1 previous owner</td>\n",
              "      <td>1 previous owner</td>\n",
              "    </tr>\n",
              "    <tr>\n",
              "      <th>kW</th>\n",
              "      <td>NaN</td>\n",
              "      <td>NaN</td>\n",
              "      <td>NaN</td>\n",
              "      <td>NaN</td>\n",
              "      <td>NaN</td>\n",
              "    </tr>\n",
              "    <tr>\n",
              "      <th>hp</th>\n",
              "      <td>66 kW</td>\n",
              "      <td>141 kW</td>\n",
              "      <td>85 kW</td>\n",
              "      <td>66 kW</td>\n",
              "      <td>66 kW</td>\n",
              "    </tr>\n",
              "    <tr>\n",
              "      <th>Type</th>\n",
              "      <td>[, Used, , Diesel (Particulate Filter)]</td>\n",
              "      <td>[, Used, , Gasoline]</td>\n",
              "      <td>[, Used, , Diesel (Particulate Filter)]</td>\n",
              "      <td>[, Used, , Diesel (Particulate Filter)]</td>\n",
              "      <td>[, Used, , Diesel (Particulate Filter)]</td>\n",
              "    </tr>\n",
              "    <tr>\n",
              "      <th>Previous Owners</th>\n",
              "      <td>\\n2\\n</td>\n",
              "      <td>NaN</td>\n",
              "      <td>\\n1\\n</td>\n",
              "      <td>\\n1\\n</td>\n",
              "      <td>\\n1\\n</td>\n",
              "    </tr>\n",
              "    <tr>\n",
              "      <th>Next Inspection</th>\n",
              "      <td>[\\n06/2021\\n, \\n99 g CO2/km (comb)\\n]</td>\n",
              "      <td>NaN</td>\n",
              "      <td>NaN</td>\n",
              "      <td>NaN</td>\n",
              "      <td>NaN</td>\n",
              "    </tr>\n",
              "    <tr>\n",
              "      <th>Inspection new</th>\n",
              "      <td>[\\nYes\\n, \\nEuro 6\\n]</td>\n",
              "      <td>NaN</td>\n",
              "      <td>NaN</td>\n",
              "      <td>NaN</td>\n",
              "      <td>[\\nYes\\n, \\n109 g CO2/km (comb)\\n]</td>\n",
              "    </tr>\n",
              "    <tr>\n",
              "      <th>Warranty</th>\n",
              "      <td>[\\n, \\n, \\n4 (Green)\\n]</td>\n",
              "      <td>NaN</td>\n",
              "      <td>[\\n, \\n, \\n99 g CO2/km (comb)\\n]</td>\n",
              "      <td>NaN</td>\n",
              "      <td>[\\n, \\n, \\nEuro 6\\n]</td>\n",
              "    </tr>\n",
              "    <tr>\n",
              "      <th>Full Service</th>\n",
              "      <td>[\\n, \\n]</td>\n",
              "      <td>NaN</td>\n",
              "      <td>NaN</td>\n",
              "      <td>[\\n, \\n, \\n99 g CO2/km (comb)\\n]</td>\n",
              "      <td>[\\n, \\n, \\n4 (Green)\\n]</td>\n",
              "    </tr>\n",
              "    <tr>\n",
              "      <th>Non-smoking Vehicle</th>\n",
              "      <td>[\\n, \\n]</td>\n",
              "      <td>NaN</td>\n",
              "      <td>NaN</td>\n",
              "      <td>[\\n, \\n, \\nEuro 6\\n]</td>\n",
              "      <td>[\\n, \\n]</td>\n",
              "    </tr>\n",
              "    <tr>\n",
              "      <th>null</th>\n",
              "      <td>[]</td>\n",
              "      <td>[]</td>\n",
              "      <td>[]</td>\n",
              "      <td>[]</td>\n",
              "      <td>[]</td>\n",
              "    </tr>\n",
              "    <tr>\n",
              "      <th>Make</th>\n",
              "      <td>\\nAudi\\n</td>\n",
              "      <td>\\nAudi\\n</td>\n",
              "      <td>\\nAudi\\n</td>\n",
              "      <td>\\nAudi\\n</td>\n",
              "      <td>\\nAudi\\n</td>\n",
              "    </tr>\n",
              "    <tr>\n",
              "      <th>Model</th>\n",
              "      <td>[\\n, A1, \\n]</td>\n",
              "      <td>[\\n, A1, \\n]</td>\n",
              "      <td>[\\n, A1, \\n]</td>\n",
              "      <td>[\\n, A1, \\n]</td>\n",
              "      <td>[\\n, A1, \\n]</td>\n",
              "    </tr>\n",
              "    <tr>\n",
              "      <th>Offer Number</th>\n",
              "      <td>[\\nLR-062483\\n]</td>\n",
              "      <td>NaN</td>\n",
              "      <td>[\\nAM-95365\\n]</td>\n",
              "      <td>NaN</td>\n",
              "      <td>[\\nC1626\\n]</td>\n",
              "    </tr>\n",
              "    <tr>\n",
              "      <th>First Registration</th>\n",
              "      <td>[\\n, 2016, \\n]</td>\n",
              "      <td>[\\n, 2017, \\n]</td>\n",
              "      <td>[\\n, 2016, \\n]</td>\n",
              "      <td>[\\n, 2016, \\n]</td>\n",
              "      <td>[\\n, 2016, \\n]</td>\n",
              "    </tr>\n",
              "    <tr>\n",
              "      <th>Body Color</th>\n",
              "      <td>[\\n, Black, \\n]</td>\n",
              "      <td>[\\n, Red, \\n]</td>\n",
              "      <td>[\\n, Black, \\n]</td>\n",
              "      <td>[\\n, Brown, \\n]</td>\n",
              "      <td>[\\n, Black, \\n]</td>\n",
              "    </tr>\n",
              "    <tr>\n",
              "      <th>Paint Type</th>\n",
              "      <td>[\\nMetallic\\n]</td>\n",
              "      <td>NaN</td>\n",
              "      <td>[\\nMetallic\\n]</td>\n",
              "      <td>[\\nMetallic\\n]</td>\n",
              "      <td>[\\nMetallic\\n]</td>\n",
              "    </tr>\n",
              "    <tr>\n",
              "      <th>Body Color Original</th>\n",
              "      <td>[\\nMythosschwarz\\n]</td>\n",
              "      <td>NaN</td>\n",
              "      <td>[\\nmythosschwarz metallic\\n]</td>\n",
              "      <td>NaN</td>\n",
              "      <td>[\\nMythosschwarz Metallic\\n]</td>\n",
              "    </tr>\n",
              "    <tr>\n",
              "      <th>Upholstery</th>\n",
              "      <td>[\\nCloth, Black\\n]</td>\n",
              "      <td>[\\nCloth, Grey\\n]</td>\n",
              "      <td>[\\nCloth, Black\\n]</td>\n",
              "      <td>NaN</td>\n",
              "      <td>[\\nCloth, Black\\n]</td>\n",
              "    </tr>\n",
              "    <tr>\n",
              "      <th>Body</th>\n",
              "      <td>[\\n, Sedans, \\n]</td>\n",
              "      <td>[\\n, Sedans, \\n]</td>\n",
              "      <td>[\\n, Sedans, \\n]</td>\n",
              "      <td>[\\n, Sedans, \\n]</td>\n",
              "      <td>[\\n, Sedans, \\n]</td>\n",
              "    </tr>\n",
              "    <tr>\n",
              "      <th>Nr. of Doors</th>\n",
              "      <td>[\\n5\\n]</td>\n",
              "      <td>[\\n3\\n]</td>\n",
              "      <td>[\\n4\\n]</td>\n",
              "      <td>[\\n3\\n]</td>\n",
              "      <td>[\\n5\\n]</td>\n",
              "    </tr>\n",
              "    <tr>\n",
              "      <th>Nr. of Seats</th>\n",
              "      <td>[\\n5\\n]</td>\n",
              "      <td>[\\n4\\n]</td>\n",
              "      <td>[\\n4\\n]</td>\n",
              "      <td>[\\n4\\n]</td>\n",
              "      <td>[\\n5\\n]</td>\n",
              "    </tr>\n",
              "    <tr>\n",
              "      <th>Model Code</th>\n",
              "      <td>[\\n0588/BDF\\n]</td>\n",
              "      <td>[\\n0588/BCY\\n]</td>\n",
              "      <td>NaN</td>\n",
              "      <td>NaN</td>\n",
              "      <td>[\\n0588/BDF\\n]</td>\n",
              "    </tr>\n",
              "    <tr>\n",
              "      <th>Gearing Type</th>\n",
              "      <td>[\\n, Automatic, \\n]</td>\n",
              "      <td>[\\n, Automatic, \\n]</td>\n",
              "      <td>[\\n, Automatic, \\n]</td>\n",
              "      <td>[\\n, Automatic, \\n]</td>\n",
              "      <td>[\\n, Automatic, \\n]</td>\n",
              "    </tr>\n",
              "    <tr>\n",
              "      <th>Displacement</th>\n",
              "      <td>[\\n1,422 cc\\n]</td>\n",
              "      <td>[\\n1,798 cc\\n]</td>\n",
              "      <td>[\\n1,598 cc\\n]</td>\n",
              "      <td>[\\n1,422 cc\\n]</td>\n",
              "      <td>[\\n1,422 cc\\n]</td>\n",
              "    </tr>\n",
              "    <tr>\n",
              "      <th>Cylinders</th>\n",
              "      <td>[\\n3\\n]</td>\n",
              "      <td>[\\n4\\n]</td>\n",
              "      <td>NaN</td>\n",
              "      <td>[\\n3\\n]</td>\n",
              "      <td>[\\n3\\n]</td>\n",
              "    </tr>\n",
              "    <tr>\n",
              "      <th>Weight</th>\n",
              "      <td>[\\n1,220 kg\\n]</td>\n",
              "      <td>[\\n1,255 kg\\n]</td>\n",
              "      <td>NaN</td>\n",
              "      <td>[\\n1,195 kg\\n]</td>\n",
              "      <td>NaN</td>\n",
              "    </tr>\n",
              "    <tr>\n",
              "      <th>Drive chain</th>\n",
              "      <td>[\\nfront\\n]</td>\n",
              "      <td>[\\nfront\\n]</td>\n",
              "      <td>[\\nfront\\n]</td>\n",
              "      <td>NaN</td>\n",
              "      <td>[\\nfront\\n]</td>\n",
              "    </tr>\n",
              "    <tr>\n",
              "      <th>Fuel</th>\n",
              "      <td>[\\n, Diesel (Particulate Filter), \\n]</td>\n",
              "      <td>[\\n, Gasoline, \\n]</td>\n",
              "      <td>[\\n, Diesel (Particulate Filter), \\n]</td>\n",
              "      <td>[\\n, Diesel (Particulate Filter), \\n]</td>\n",
              "      <td>[\\n, Diesel (Particulate Filter), \\n]</td>\n",
              "    </tr>\n",
              "    <tr>\n",
              "      <th>Consumption</th>\n",
              "      <td>[[3.8 l/100 km (comb)], [4.3 l/100 km (city)],...</td>\n",
              "      <td>[[5.6 l/100 km (comb)], [7.1 l/100 km (city)],...</td>\n",
              "      <td>[[3.8 l/100 km (comb)], [4.4 l/100 km (city)],...</td>\n",
              "      <td>[[3.8 l/100 km (comb)], [4.3 l/100 km (city)],...</td>\n",
              "      <td>[[4.1 l/100 km (comb)], [4.6 l/100 km (city)],...</td>\n",
              "    </tr>\n",
              "    <tr>\n",
              "      <th>CO2 Emission</th>\n",
              "      <td>[\\n99 g CO2/km (comb)\\n]</td>\n",
              "      <td>[\\n129 g CO2/km (comb)\\n]</td>\n",
              "      <td>[\\n99 g CO2/km (comb)\\n]</td>\n",
              "      <td>[\\n99 g CO2/km (comb)\\n]</td>\n",
              "      <td>[\\n109 g CO2/km (comb)\\n]</td>\n",
              "    </tr>\n",
              "    <tr>\n",
              "      <th>Emission Class</th>\n",
              "      <td>[\\nEuro 6\\n]</td>\n",
              "      <td>[\\nEuro 6\\n]</td>\n",
              "      <td>[\\nEuro 6\\n]</td>\n",
              "      <td>[\\nEuro 6\\n]</td>\n",
              "      <td>[\\nEuro 6\\n]</td>\n",
              "    </tr>\n",
              "    <tr>\n",
              "      <th>\\nComfort &amp; Convenience\\n</th>\n",
              "      <td>[Air conditioning, Armrest, Automatic climate ...</td>\n",
              "      <td>[Air conditioning, Automatic climate control, ...</td>\n",
              "      <td>[Air conditioning, Cruise control, Electrical ...</td>\n",
              "      <td>[Air suspension, Armrest, Auxiliary heating, E...</td>\n",
              "      <td>[Air conditioning, Armrest, Automatic climate ...</td>\n",
              "    </tr>\n",
              "    <tr>\n",
              "      <th>\\nEntertainment &amp; Media\\n</th>\n",
              "      <td>[Bluetooth, Hands-free equipment, On-board com...</td>\n",
              "      <td>[Bluetooth, Hands-free equipment, On-board com...</td>\n",
              "      <td>[MP3, On-board computer]</td>\n",
              "      <td>[Bluetooth, CD player, Hands-free equipment, M...</td>\n",
              "      <td>[Bluetooth, CD player, Hands-free equipment, M...</td>\n",
              "    </tr>\n",
              "    <tr>\n",
              "      <th>\\nExtras\\n</th>\n",
              "      <td>[Alloy wheels, Catalytic Converter, Voice Cont...</td>\n",
              "      <td>[Alloy wheels, Sport seats, Sport suspension, ...</td>\n",
              "      <td>[Alloy wheels, Voice Control]</td>\n",
              "      <td>[Alloy wheels, Sport seats, Voice Control]</td>\n",
              "      <td>[Alloy wheels, Sport package, Sport suspension...</td>\n",
              "    </tr>\n",
              "    <tr>\n",
              "      <th>\\nSafety &amp; Security\\n</th>\n",
              "      <td>[ABS, Central door lock, Daytime running light...</td>\n",
              "      <td>[ABS, Central door lock, Central door lock wit...</td>\n",
              "      <td>[ABS, Central door lock, Daytime running light...</td>\n",
              "      <td>[ABS, Alarm system, Central door lock with rem...</td>\n",
              "      <td>[ABS, Central door lock, Driver-side airbag, E...</td>\n",
              "    </tr>\n",
              "    <tr>\n",
              "      <th>description</th>\n",
              "      <td>[\\n, Sicherheit:,  , Deaktivierung für Beifahr...</td>\n",
              "      <td>[\\nLangstreckenfahrzeug daher die hohe Kilomet...</td>\n",
              "      <td>[\\n, Fahrzeug-Nummer: AM-95365,  , Ehem. UPE 2...</td>\n",
              "      <td>[\\nAudi A1: , - 1e eigenaar , - Perfecte staat...</td>\n",
              "      <td>[\\n, Technik &amp; Sicherheit:, Xenon plus, Klimaa...</td>\n",
              "    </tr>\n",
              "    <tr>\n",
              "      <th>Emission Label</th>\n",
              "      <td>NaN</td>\n",
              "      <td>[\\n4 (Green)\\n]</td>\n",
              "      <td>[\\n4 (Green)\\n]</td>\n",
              "      <td>NaN</td>\n",
              "      <td>NaN</td>\n",
              "    </tr>\n",
              "    <tr>\n",
              "      <th>Gears</th>\n",
              "      <td>NaN</td>\n",
              "      <td>[\\n7\\n]</td>\n",
              "      <td>NaN</td>\n",
              "      <td>[\\n6\\n]</td>\n",
              "      <td>NaN</td>\n",
              "    </tr>\n",
              "    <tr>\n",
              "      <th>Country version</th>\n",
              "      <td>NaN</td>\n",
              "      <td>NaN</td>\n",
              "      <td>NaN</td>\n",
              "      <td>NaN</td>\n",
              "      <td>[\\nGermany\\n]</td>\n",
              "    </tr>\n",
              "    <tr>\n",
              "      <th>Electricity consumption</th>\n",
              "      <td>NaN</td>\n",
              "      <td>NaN</td>\n",
              "      <td>NaN</td>\n",
              "      <td>NaN</td>\n",
              "      <td>NaN</td>\n",
              "    </tr>\n",
              "    <tr>\n",
              "      <th>Last Service Date</th>\n",
              "      <td>NaN</td>\n",
              "      <td>NaN</td>\n",
              "      <td>NaN</td>\n",
              "      <td>NaN</td>\n",
              "      <td>NaN</td>\n",
              "    </tr>\n",
              "    <tr>\n",
              "      <th>Other Fuel Types</th>\n",
              "      <td>NaN</td>\n",
              "      <td>NaN</td>\n",
              "      <td>NaN</td>\n",
              "      <td>NaN</td>\n",
              "      <td>NaN</td>\n",
              "    </tr>\n",
              "    <tr>\n",
              "      <th>Availability</th>\n",
              "      <td>NaN</td>\n",
              "      <td>NaN</td>\n",
              "      <td>NaN</td>\n",
              "      <td>NaN</td>\n",
              "      <td>NaN</td>\n",
              "    </tr>\n",
              "    <tr>\n",
              "      <th>Last Timing Belt Service Date</th>\n",
              "      <td>NaN</td>\n",
              "      <td>NaN</td>\n",
              "      <td>NaN</td>\n",
              "      <td>NaN</td>\n",
              "      <td>NaN</td>\n",
              "    </tr>\n",
              "    <tr>\n",
              "      <th>Available from</th>\n",
              "      <td>NaN</td>\n",
              "      <td>NaN</td>\n",
              "      <td>NaN</td>\n",
              "      <td>NaN</td>\n",
              "      <td>NaN</td>\n",
              "    </tr>\n",
              "  </tbody>\n",
              "</table>\n",
              "</div>\n",
              "      <button class=\"colab-df-convert\" onclick=\"convertToInteractive('df-7cf483dc-fd12-4e82-b6d5-4765ea673388')\"\n",
              "              title=\"Convert this dataframe to an interactive table.\"\n",
              "              style=\"display:none;\">\n",
              "        \n",
              "  <svg xmlns=\"http://www.w3.org/2000/svg\" height=\"24px\"viewBox=\"0 0 24 24\"\n",
              "       width=\"24px\">\n",
              "    <path d=\"M0 0h24v24H0V0z\" fill=\"none\"/>\n",
              "    <path d=\"M18.56 5.44l.94 2.06.94-2.06 2.06-.94-2.06-.94-.94-2.06-.94 2.06-2.06.94zm-11 1L8.5 8.5l.94-2.06 2.06-.94-2.06-.94L8.5 2.5l-.94 2.06-2.06.94zm10 10l.94 2.06.94-2.06 2.06-.94-2.06-.94-.94-2.06-.94 2.06-2.06.94z\"/><path d=\"M17.41 7.96l-1.37-1.37c-.4-.4-.92-.59-1.43-.59-.52 0-1.04.2-1.43.59L10.3 9.45l-7.72 7.72c-.78.78-.78 2.05 0 2.83L4 21.41c.39.39.9.59 1.41.59.51 0 1.02-.2 1.41-.59l7.78-7.78 2.81-2.81c.8-.78.8-2.07 0-2.86zM5.41 20L4 18.59l7.72-7.72 1.47 1.35L5.41 20z\"/>\n",
              "  </svg>\n",
              "      </button>\n",
              "      \n",
              "  <style>\n",
              "    .colab-df-container {\n",
              "      display:flex;\n",
              "      flex-wrap:wrap;\n",
              "      gap: 12px;\n",
              "    }\n",
              "\n",
              "    .colab-df-convert {\n",
              "      background-color: #E8F0FE;\n",
              "      border: none;\n",
              "      border-radius: 50%;\n",
              "      cursor: pointer;\n",
              "      display: none;\n",
              "      fill: #1967D2;\n",
              "      height: 32px;\n",
              "      padding: 0 0 0 0;\n",
              "      width: 32px;\n",
              "    }\n",
              "\n",
              "    .colab-df-convert:hover {\n",
              "      background-color: #E2EBFA;\n",
              "      box-shadow: 0px 1px 2px rgba(60, 64, 67, 0.3), 0px 1px 3px 1px rgba(60, 64, 67, 0.15);\n",
              "      fill: #174EA6;\n",
              "    }\n",
              "\n",
              "    [theme=dark] .colab-df-convert {\n",
              "      background-color: #3B4455;\n",
              "      fill: #D2E3FC;\n",
              "    }\n",
              "\n",
              "    [theme=dark] .colab-df-convert:hover {\n",
              "      background-color: #434B5C;\n",
              "      box-shadow: 0px 1px 3px 1px rgba(0, 0, 0, 0.15);\n",
              "      filter: drop-shadow(0px 1px 2px rgba(0, 0, 0, 0.3));\n",
              "      fill: #FFFFFF;\n",
              "    }\n",
              "  </style>\n",
              "\n",
              "      <script>\n",
              "        const buttonEl =\n",
              "          document.querySelector('#df-7cf483dc-fd12-4e82-b6d5-4765ea673388 button.colab-df-convert');\n",
              "        buttonEl.style.display =\n",
              "          google.colab.kernel.accessAllowed ? 'block' : 'none';\n",
              "\n",
              "        async function convertToInteractive(key) {\n",
              "          const element = document.querySelector('#df-7cf483dc-fd12-4e82-b6d5-4765ea673388');\n",
              "          const dataTable =\n",
              "            await google.colab.kernel.invokeFunction('convertToInteractive',\n",
              "                                                     [key], {});\n",
              "          if (!dataTable) return;\n",
              "\n",
              "          const docLinkHtml = 'Like what you see? Visit the ' +\n",
              "            '<a target=\"_blank\" href=https://colab.research.google.com/notebooks/data_table.ipynb>data table notebook</a>'\n",
              "            + ' to learn more about interactive tables.';\n",
              "          element.innerHTML = '';\n",
              "          dataTable['output_type'] = 'display_data';\n",
              "          await google.colab.output.renderOutput(dataTable, element);\n",
              "          const docLink = document.createElement('div');\n",
              "          docLink.innerHTML = docLinkHtml;\n",
              "          element.appendChild(docLink);\n",
              "        }\n",
              "      </script>\n",
              "    </div>\n",
              "  </div>\n",
              "  "
            ],
            "text/plain": [
              "                                                                               0  ...                                                  4\n",
              "url                            https://www.autoscout24.com//offers/audi-a1-sp...  ...  https://www.autoscout24.com//offers/audi-a1-sp...\n",
              "make_model                                                               Audi A1  ...                                            Audi A1\n",
              "short_description                    Sportback 1.4 TDI S-tronic Xenon Navi Klima  ...  Sportback 1.4 TDI S-Tronic S-Line Ext. admired...\n",
              "body_type                                                                 Sedans  ...                                             Sedans\n",
              "price                                                                      15770  ...                                              16790\n",
              "vat                                                               VAT deductible  ...                                               None\n",
              "km                                                                     56,013 km  ...                                          16,200 km\n",
              "registration                                                             01/2016  ...                                            05/2016\n",
              "prev_owner                                                     2 previous owners  ...                                   1 previous owner\n",
              "kW                                                                           NaN  ...                                                NaN\n",
              "hp                                                                         66 kW  ...                                              66 kW\n",
              "Type                                     [, Used, , Diesel (Particulate Filter)]  ...            [, Used, , Diesel (Particulate Filter)]\n",
              "Previous Owners                                                            \\n2\\n  ...                                              \\n1\\n\n",
              "Next Inspection                            [\\n06/2021\\n, \\n99 g CO2/km (comb)\\n]  ...                                                NaN\n",
              "Inspection new                                             [\\nYes\\n, \\nEuro 6\\n]  ...                 [\\nYes\\n, \\n109 g CO2/km (comb)\\n]\n",
              "Warranty                                                 [\\n, \\n, \\n4 (Green)\\n]  ...                               [\\n, \\n, \\nEuro 6\\n]\n",
              "Full Service                                                            [\\n, \\n]  ...                            [\\n, \\n, \\n4 (Green)\\n]\n",
              "Non-smoking Vehicle                                                     [\\n, \\n]  ...                                           [\\n, \\n]\n",
              "null                                                                          []  ...                                                 []\n",
              "Make                                                                    \\nAudi\\n  ...                                           \\nAudi\\n\n",
              "Model                                                               [\\n, A1, \\n]  ...                                       [\\n, A1, \\n]\n",
              "Offer Number                                                     [\\nLR-062483\\n]  ...                                        [\\nC1626\\n]\n",
              "First Registration                                                [\\n, 2016, \\n]  ...                                     [\\n, 2016, \\n]\n",
              "Body Color                                                       [\\n, Black, \\n]  ...                                    [\\n, Black, \\n]\n",
              "Paint Type                                                        [\\nMetallic\\n]  ...                                     [\\nMetallic\\n]\n",
              "Body Color Original                                          [\\nMythosschwarz\\n]  ...                       [\\nMythosschwarz Metallic\\n]\n",
              "Upholstery                                                    [\\nCloth, Black\\n]  ...                                 [\\nCloth, Black\\n]\n",
              "Body                                                            [\\n, Sedans, \\n]  ...                                   [\\n, Sedans, \\n]\n",
              "Nr. of Doors                                                             [\\n5\\n]  ...                                            [\\n5\\n]\n",
              "Nr. of Seats                                                             [\\n5\\n]  ...                                            [\\n5\\n]\n",
              "Model Code                                                        [\\n0588/BDF\\n]  ...                                     [\\n0588/BDF\\n]\n",
              "Gearing Type                                                 [\\n, Automatic, \\n]  ...                                [\\n, Automatic, \\n]\n",
              "Displacement                                                      [\\n1,422 cc\\n]  ...                                     [\\n1,422 cc\\n]\n",
              "Cylinders                                                                [\\n3\\n]  ...                                            [\\n3\\n]\n",
              "Weight                                                            [\\n1,220 kg\\n]  ...                                                NaN\n",
              "Drive chain                                                          [\\nfront\\n]  ...                                        [\\nfront\\n]\n",
              "Fuel                                       [\\n, Diesel (Particulate Filter), \\n]  ...              [\\n, Diesel (Particulate Filter), \\n]\n",
              "Consumption                    [[3.8 l/100 km (comb)], [4.3 l/100 km (city)],...  ...  [[4.1 l/100 km (comb)], [4.6 l/100 km (city)],...\n",
              "CO2 Emission                                            [\\n99 g CO2/km (comb)\\n]  ...                          [\\n109 g CO2/km (comb)\\n]\n",
              "Emission Class                                                      [\\nEuro 6\\n]  ...                                       [\\nEuro 6\\n]\n",
              "\\nComfort & Convenience\\n      [Air conditioning, Armrest, Automatic climate ...  ...  [Air conditioning, Armrest, Automatic climate ...\n",
              "\\nEntertainment & Media\\n      [Bluetooth, Hands-free equipment, On-board com...  ...  [Bluetooth, CD player, Hands-free equipment, M...\n",
              "\\nExtras\\n                     [Alloy wheels, Catalytic Converter, Voice Cont...  ...  [Alloy wheels, Sport package, Sport suspension...\n",
              "\\nSafety & Security\\n          [ABS, Central door lock, Daytime running light...  ...  [ABS, Central door lock, Driver-side airbag, E...\n",
              "description                    [\\n, Sicherheit:,  , Deaktivierung für Beifahr...  ...  [\\n, Technik & Sicherheit:, Xenon plus, Klimaa...\n",
              "Emission Label                                                               NaN  ...                                                NaN\n",
              "Gears                                                                        NaN  ...                                                NaN\n",
              "Country version                                                              NaN  ...                                      [\\nGermany\\n]\n",
              "Electricity consumption                                                      NaN  ...                                                NaN\n",
              "Last Service Date                                                            NaN  ...                                                NaN\n",
              "Other Fuel Types                                                             NaN  ...                                                NaN\n",
              "Availability                                                                 NaN  ...                                                NaN\n",
              "Last Timing Belt Service Date                                                NaN  ...                                                NaN\n",
              "Available from                                                               NaN  ...                                                NaN\n",
              "\n",
              "[54 rows x 5 columns]"
            ]
          },
          "metadata": {},
          "execution_count": 581
        }
      ]
    },
    {
      "cell_type": "code",
      "source": [
        "df= df.rename(columns={\"\\nComfort & Convenience\\n\" : \"Comfort_and_Convenience\", \n",
        "                       \"\\nEntertainment & Media\\n\" : \"Entertainment_and_Media\",\n",
        "                       \"\\nExtras\\n\" : 'Extras', \n",
        "                       \"\\nSafety & Security\\n\" : 'Safety_and_Security'})  #Rename the columns"
      ],
      "metadata": {
        "id": "nxDqXQRHsO2e"
      },
      "execution_count": 6,
      "outputs": []
    },
    {
      "cell_type": "code",
      "source": [
        "df.tail().T"
      ],
      "metadata": {
        "colab": {
          "base_uri": "https://localhost:8080/",
          "height": 1000
        },
        "id": "JXjneu6L1ZpT",
        "outputId": "3e825386-4afa-4a6c-9ad5-94ed8e444ccb"
      },
      "execution_count": null,
      "outputs": [
        {
          "output_type": "execute_result",
          "data": {
            "text/html": [
              "\n",
              "  <div id=\"df-266980c7-0e9b-4076-ad03-ec9bd217f3e1\">\n",
              "    <div class=\"colab-df-container\">\n",
              "      <div>\n",
              "<style scoped>\n",
              "    .dataframe tbody tr th:only-of-type {\n",
              "        vertical-align: middle;\n",
              "    }\n",
              "\n",
              "    .dataframe tbody tr th {\n",
              "        vertical-align: top;\n",
              "    }\n",
              "\n",
              "    .dataframe thead th {\n",
              "        text-align: right;\n",
              "    }\n",
              "</style>\n",
              "<table border=\"1\" class=\"dataframe\">\n",
              "  <thead>\n",
              "    <tr style=\"text-align: right;\">\n",
              "      <th></th>\n",
              "      <th>15914</th>\n",
              "      <th>15915</th>\n",
              "      <th>15916</th>\n",
              "      <th>15917</th>\n",
              "      <th>15918</th>\n",
              "    </tr>\n",
              "  </thead>\n",
              "  <tbody>\n",
              "    <tr>\n",
              "      <th>url</th>\n",
              "      <td>https://www.autoscout24.com//offers/renault-es...</td>\n",
              "      <td>https://www.autoscout24.com//offers/renault-es...</td>\n",
              "      <td>https://www.autoscout24.com//offers/renault-es...</td>\n",
              "      <td>https://www.autoscout24.com//offers/renault-es...</td>\n",
              "      <td>https://www.autoscout24.com//offers/renault-es...</td>\n",
              "    </tr>\n",
              "    <tr>\n",
              "      <th>make_model</th>\n",
              "      <td>Renault Espace</td>\n",
              "      <td>Renault Espace</td>\n",
              "      <td>Renault Espace</td>\n",
              "      <td>Renault Espace</td>\n",
              "      <td>Renault Espace</td>\n",
              "    </tr>\n",
              "    <tr>\n",
              "      <th>short_description</th>\n",
              "      <td>Blue dCi 200CV EDC Executive 4Control</td>\n",
              "      <td>TCe 225 EDC GPF LIM Deluxe Pano,RFK</td>\n",
              "      <td>Blue dCi 200 EDC Initiale Paris Leder LED Navi...</td>\n",
              "      <td>Blue dCi 200CV EDC Business , NUOVA DA IMMATRI...</td>\n",
              "      <td>INITIALE PARIS TCe 225 EDC GPF NAVI SHZ AUX</td>\n",
              "    </tr>\n",
              "    <tr>\n",
              "      <th>body_type</th>\n",
              "      <td>Van</td>\n",
              "      <td>Van</td>\n",
              "      <td>Van</td>\n",
              "      <td>Van</td>\n",
              "      <td>Van</td>\n",
              "    </tr>\n",
              "    <tr>\n",
              "      <th>price</th>\n",
              "      <td>39950</td>\n",
              "      <td>39885</td>\n",
              "      <td>39875</td>\n",
              "      <td>39700</td>\n",
              "      <td>40999</td>\n",
              "    </tr>\n",
              "    <tr>\n",
              "      <th>vat</th>\n",
              "      <td>VAT deductible</td>\n",
              "      <td>VAT deductible</td>\n",
              "      <td>VAT deductible</td>\n",
              "      <td>VAT deductible</td>\n",
              "      <td>VAT deductible</td>\n",
              "    </tr>\n",
              "    <tr>\n",
              "      <th>km</th>\n",
              "      <td>- km</td>\n",
              "      <td>9,900 km</td>\n",
              "      <td>15 km</td>\n",
              "      <td>10 km</td>\n",
              "      <td>- km</td>\n",
              "    </tr>\n",
              "    <tr>\n",
              "      <th>registration</th>\n",
              "      <td>-/-</td>\n",
              "      <td>01/2019</td>\n",
              "      <td>03/2019</td>\n",
              "      <td>06/2019</td>\n",
              "      <td>01/2019</td>\n",
              "    </tr>\n",
              "    <tr>\n",
              "      <th>prev_owner</th>\n",
              "      <td>None</td>\n",
              "      <td>1 previous owner</td>\n",
              "      <td>1 previous owner</td>\n",
              "      <td>None</td>\n",
              "      <td>1 previous owner</td>\n",
              "    </tr>\n",
              "    <tr>\n",
              "      <th>kW</th>\n",
              "      <td>NaN</td>\n",
              "      <td>NaN</td>\n",
              "      <td>NaN</td>\n",
              "      <td>NaN</td>\n",
              "      <td>NaN</td>\n",
              "    </tr>\n",
              "    <tr>\n",
              "      <th>hp</th>\n",
              "      <td>147 kW</td>\n",
              "      <td>165 kW</td>\n",
              "      <td>146 kW</td>\n",
              "      <td>147 kW</td>\n",
              "      <td>165 kW</td>\n",
              "    </tr>\n",
              "    <tr>\n",
              "      <th>Type</th>\n",
              "      <td>[, New, , Diesel (Particulate Filter)]</td>\n",
              "      <td>[, Used, , Super 95 / Super Plus 98 (Particula...</td>\n",
              "      <td>[, Pre-registered, , Diesel]</td>\n",
              "      <td>[, Pre-registered, , Diesel]</td>\n",
              "      <td>[, Demonstration, , Super 95]</td>\n",
              "    </tr>\n",
              "    <tr>\n",
              "      <th>Previous Owners</th>\n",
              "      <td>NaN</td>\n",
              "      <td>[\\n1\\n, \\n, 7.4 l/100 km (comb), \\n, 9.2 l/100...</td>\n",
              "      <td>[\\n1\\n, \\n139 g CO2/km (comb)\\n]</td>\n",
              "      <td>NaN</td>\n",
              "      <td>\\n1\\n</td>\n",
              "    </tr>\n",
              "    <tr>\n",
              "      <th>Next Inspection</th>\n",
              "      <td>NaN</td>\n",
              "      <td>[\\n01/2022\\n, \\n168 g CO2/km (comb)\\n]</td>\n",
              "      <td>NaN</td>\n",
              "      <td>NaN</td>\n",
              "      <td>NaN</td>\n",
              "    </tr>\n",
              "    <tr>\n",
              "      <th>Inspection new</th>\n",
              "      <td>NaN</td>\n",
              "      <td>NaN</td>\n",
              "      <td>[\\nYes\\n, \\nEuro 6d-TEMP\\n]</td>\n",
              "      <td>NaN</td>\n",
              "      <td>[\\nYes\\n, \\n153 g CO2/km (comb)\\n]</td>\n",
              "    </tr>\n",
              "    <tr>\n",
              "      <th>Warranty</th>\n",
              "      <td>\\n24 months\\n</td>\n",
              "      <td>[\\n, \\n, \\nEuro 6\\n]</td>\n",
              "      <td>[\\n, \\n, \\n4 (Green)\\n]</td>\n",
              "      <td>\\n</td>\n",
              "      <td>NaN</td>\n",
              "    </tr>\n",
              "    <tr>\n",
              "      <th>Full Service</th>\n",
              "      <td>NaN</td>\n",
              "      <td>NaN</td>\n",
              "      <td>[\\n, \\n]</td>\n",
              "      <td>NaN</td>\n",
              "      <td>NaN</td>\n",
              "    </tr>\n",
              "    <tr>\n",
              "      <th>Non-smoking Vehicle</th>\n",
              "      <td>NaN</td>\n",
              "      <td>[\\n, \\n, \\n4 (Green)\\n]</td>\n",
              "      <td>[\\n, \\n]</td>\n",
              "      <td>NaN</td>\n",
              "      <td>NaN</td>\n",
              "    </tr>\n",
              "    <tr>\n",
              "      <th>null</th>\n",
              "      <td>[]</td>\n",
              "      <td>[]</td>\n",
              "      <td>[]</td>\n",
              "      <td>[]</td>\n",
              "      <td>[]</td>\n",
              "    </tr>\n",
              "    <tr>\n",
              "      <th>Make</th>\n",
              "      <td>\\nRenault\\n</td>\n",
              "      <td>\\nRenault\\n</td>\n",
              "      <td>\\nRenault\\n</td>\n",
              "      <td>\\nRenault\\n</td>\n",
              "      <td>\\nRenault\\n</td>\n",
              "    </tr>\n",
              "    <tr>\n",
              "      <th>Model</th>\n",
              "      <td>[\\n, Espace, \\n]</td>\n",
              "      <td>[\\n, Espace, \\n]</td>\n",
              "      <td>[\\n, Espace, \\n]</td>\n",
              "      <td>[\\n, Espace, \\n]</td>\n",
              "      <td>[\\n, Espace, \\n]</td>\n",
              "    </tr>\n",
              "    <tr>\n",
              "      <th>Offer Number</th>\n",
              "      <td>[\\n10988301\\n]</td>\n",
              "      <td>[\\n507370_3223\\n]</td>\n",
              "      <td>[\\nEspace16\\n]</td>\n",
              "      <td>[\\n2691331\\n]</td>\n",
              "      <td>[\\nRe_30000008029\\n]</td>\n",
              "    </tr>\n",
              "    <tr>\n",
              "      <th>First Registration</th>\n",
              "      <td>NaN</td>\n",
              "      <td>[\\n, 2019, \\n]</td>\n",
              "      <td>[\\n, 2019, \\n]</td>\n",
              "      <td>[\\n, 2019, \\n]</td>\n",
              "      <td>[\\n, 2019, \\n]</td>\n",
              "    </tr>\n",
              "    <tr>\n",
              "      <th>Body Color</th>\n",
              "      <td>[\\n, Grey, \\n]</td>\n",
              "      <td>[\\n, Grey, \\n]</td>\n",
              "      <td>[\\n, White, \\n]</td>\n",
              "      <td>[\\n, Grey, \\n]</td>\n",
              "      <td>[\\n, Grey, \\n]</td>\n",
              "    </tr>\n",
              "    <tr>\n",
              "      <th>Paint Type</th>\n",
              "      <td>[\\nMetallic\\n]</td>\n",
              "      <td>[\\nMetallic\\n]</td>\n",
              "      <td>NaN</td>\n",
              "      <td>NaN</td>\n",
              "      <td>[\\nMetallic\\n]</td>\n",
              "    </tr>\n",
              "    <tr>\n",
              "      <th>Body Color Original</th>\n",
              "      <td>[\\nGrigio scuro\\n]</td>\n",
              "      <td>[\\nStahl-Grau Metallic\\n]</td>\n",
              "      <td>[\\narktis-weiß\\n]</td>\n",
              "      <td>[\\nGrigio\\n]</td>\n",
              "      <td>[\\nTitanium-Grau Metallic\\n]</td>\n",
              "    </tr>\n",
              "    <tr>\n",
              "      <th>Upholstery</th>\n",
              "      <td>NaN</td>\n",
              "      <td>[\\nCloth\\n]</td>\n",
              "      <td>[\\nFull leather, Black\\n]</td>\n",
              "      <td>[\\nPart leather\\n]</td>\n",
              "      <td>[\\nFull leather, Brown\\n]</td>\n",
              "    </tr>\n",
              "    <tr>\n",
              "      <th>Body</th>\n",
              "      <td>[\\n, Van, \\n]</td>\n",
              "      <td>[\\n, Van, \\n]</td>\n",
              "      <td>[\\n, Van, \\n]</td>\n",
              "      <td>[\\n, Van, \\n]</td>\n",
              "      <td>[\\n, Van, \\n]</td>\n",
              "    </tr>\n",
              "    <tr>\n",
              "      <th>Nr. of Doors</th>\n",
              "      <td>[\\n5\\n]</td>\n",
              "      <td>[\\n5\\n]</td>\n",
              "      <td>[\\n5\\n]</td>\n",
              "      <td>[\\n5\\n]</td>\n",
              "      <td>[\\n5\\n]</td>\n",
              "    </tr>\n",
              "    <tr>\n",
              "      <th>Nr. of Seats</th>\n",
              "      <td>[\\n5\\n]</td>\n",
              "      <td>[\\n5\\n]</td>\n",
              "      <td>[\\n7\\n]</td>\n",
              "      <td>[\\n7\\n]</td>\n",
              "      <td>[\\n5\\n]</td>\n",
              "    </tr>\n",
              "    <tr>\n",
              "      <th>Model Code</th>\n",
              "      <td>NaN</td>\n",
              "      <td>[\\n0000/000\\n]</td>\n",
              "      <td>NaN</td>\n",
              "      <td>NaN</td>\n",
              "      <td>[\\n3333/BHJ\\n]</td>\n",
              "    </tr>\n",
              "    <tr>\n",
              "      <th>Gearing Type</th>\n",
              "      <td>[\\n, Automatic, \\n]</td>\n",
              "      <td>[\\n, Automatic, \\n]</td>\n",
              "      <td>[\\n, Automatic, \\n]</td>\n",
              "      <td>[\\n, Automatic, \\n]</td>\n",
              "      <td>[\\n, Automatic, \\n]</td>\n",
              "    </tr>\n",
              "    <tr>\n",
              "      <th>Displacement</th>\n",
              "      <td>[\\n1,997 cc\\n]</td>\n",
              "      <td>[\\n1,798 cc\\n]</td>\n",
              "      <td>[\\n1,997 cc\\n]</td>\n",
              "      <td>[\\n1,997 cc\\n]</td>\n",
              "      <td>[\\n1,798 cc\\n]</td>\n",
              "    </tr>\n",
              "    <tr>\n",
              "      <th>Cylinders</th>\n",
              "      <td>[\\n4\\n]</td>\n",
              "      <td>[\\n4\\n]</td>\n",
              "      <td>[\\n4\\n]</td>\n",
              "      <td>[\\n4\\n]</td>\n",
              "      <td>[\\n4\\n]</td>\n",
              "    </tr>\n",
              "    <tr>\n",
              "      <th>Weight</th>\n",
              "      <td>[\\n1,758 kg\\n]</td>\n",
              "      <td>[\\n1,708 kg\\n]</td>\n",
              "      <td>NaN</td>\n",
              "      <td>[\\n1,758 kg\\n]</td>\n",
              "      <td>[\\n1,685 kg\\n]</td>\n",
              "    </tr>\n",
              "    <tr>\n",
              "      <th>Drive chain</th>\n",
              "      <td>[\\nfront\\n]</td>\n",
              "      <td>[\\nfront\\n]</td>\n",
              "      <td>[\\nfront\\n]</td>\n",
              "      <td>[\\nfront\\n]</td>\n",
              "      <td>[\\n4WD\\n]</td>\n",
              "    </tr>\n",
              "    <tr>\n",
              "      <th>Fuel</th>\n",
              "      <td>[\\n, Diesel (Particulate Filter), \\n]</td>\n",
              "      <td>[\\n, Super 95 / Super Plus 98 (Particulate Fil...</td>\n",
              "      <td>[\\n, Diesel, \\n]</td>\n",
              "      <td>[\\n, Diesel, \\n]</td>\n",
              "      <td>[\\n, Super 95, \\n]</td>\n",
              "    </tr>\n",
              "    <tr>\n",
              "      <th>Consumption</th>\n",
              "      <td>[[5.3 l/100 km (comb)], [6.2 l/100 km (city)],...</td>\n",
              "      <td>[\\n, 7.4 l/100 km (comb), \\n, 9.2 l/100 km (ci...</td>\n",
              "      <td>[[5.3 l/100 km (comb)], [6.2 l/100 km (city)],...</td>\n",
              "      <td>[[5.3 l/100 km (comb)], [6.2 l/100 km (city)],...</td>\n",
              "      <td>[[6.8 l/100 km (comb)], [8.7 l/100 km (city)],...</td>\n",
              "    </tr>\n",
              "    <tr>\n",
              "      <th>CO2 Emission</th>\n",
              "      <td>[\\n139 g CO2/km (comb)\\n]</td>\n",
              "      <td>[\\n168 g CO2/km (comb)\\n]</td>\n",
              "      <td>[\\n139 g CO2/km (comb)\\n]</td>\n",
              "      <td>[\\n139 g CO2/km (comb)\\n]</td>\n",
              "      <td>[\\n153 g CO2/km (comb)\\n]</td>\n",
              "    </tr>\n",
              "    <tr>\n",
              "      <th>Emission Class</th>\n",
              "      <td>NaN</td>\n",
              "      <td>NaN</td>\n",
              "      <td>[\\nEuro 6d-TEMP\\n]</td>\n",
              "      <td>[\\nEuro 6\\n]</td>\n",
              "      <td>[\\nEuro 6\\n]</td>\n",
              "    </tr>\n",
              "    <tr>\n",
              "      <th>Comfort_and_Convenience</th>\n",
              "      <td>[Air conditioning, Automatic climate control, ...</td>\n",
              "      <td>[Air conditioning, Automatic climate control, ...</td>\n",
              "      <td>[Air conditioning, Armrest, Automatic climate ...</td>\n",
              "      <td>[Air conditioning, Automatic climate control, ...</td>\n",
              "      <td>[Air conditioning, Automatic climate control, ...</td>\n",
              "    </tr>\n",
              "    <tr>\n",
              "      <th>Entertainment_and_Media</th>\n",
              "      <td>[Bluetooth, Digital radio, Hands-free equipmen...</td>\n",
              "      <td>[Bluetooth, Digital radio, Hands-free equipmen...</td>\n",
              "      <td>[Bluetooth, Hands-free equipment, On-board com...</td>\n",
              "      <td>[Bluetooth, Digital radio, Radio, USB]</td>\n",
              "      <td>[USB]</td>\n",
              "    </tr>\n",
              "    <tr>\n",
              "      <th>Extras</th>\n",
              "      <td>[Alloy wheels, Touch screen]</td>\n",
              "      <td>[Alloy wheels, Touch screen, Voice Control]</td>\n",
              "      <td>[Alloy wheels]</td>\n",
              "      <td>[Alloy wheels, Touch screen]</td>\n",
              "      <td>[Alloy wheels, Touch screen]</td>\n",
              "    </tr>\n",
              "    <tr>\n",
              "      <th>Safety_and_Security</th>\n",
              "      <td>[ABS, Central door lock, Central door lock wit...</td>\n",
              "      <td>[ABS, Adaptive Cruise Control, Blind spot moni...</td>\n",
              "      <td>[ABS, Adaptive Cruise Control, Blind spot moni...</td>\n",
              "      <td>[ABS, Blind spot monitor, Driver-side airbag, ...</td>\n",
              "      <td>[ABS, Blind spot monitor, Daytime running ligh...</td>\n",
              "    </tr>\n",
              "    <tr>\n",
              "      <th>description</th>\n",
              "      <td>[\\nVettura visionabile nella sede in Via Roma ...</td>\n",
              "      <td>[\\nDach: Panorama-Glas-Schiebedach, Lackierung...</td>\n",
              "      <td>[\\n, Getriebe:,  Automatik, Technik:,  Bordcom...</td>\n",
              "      <td>[\\nDEK:[2691331], Renault Espace Blue dCi 200C...</td>\n",
              "      <td>[\\n, Sicherheit Airbags:,  , Seitenairbag,  , ...</td>\n",
              "    </tr>\n",
              "    <tr>\n",
              "      <th>Emission Label</th>\n",
              "      <td>NaN</td>\n",
              "      <td>NaN</td>\n",
              "      <td>NaN</td>\n",
              "      <td>NaN</td>\n",
              "      <td>[\\n4 (Green)\\n]</td>\n",
              "    </tr>\n",
              "    <tr>\n",
              "      <th>Gears</th>\n",
              "      <td>[\\n6\\n]</td>\n",
              "      <td>[\\n7\\n]</td>\n",
              "      <td>[\\n6\\n]</td>\n",
              "      <td>[\\n6\\n]</td>\n",
              "      <td>NaN</td>\n",
              "    </tr>\n",
              "    <tr>\n",
              "      <th>Country version</th>\n",
              "      <td>NaN</td>\n",
              "      <td>[\\nGermany\\n]</td>\n",
              "      <td>[\\nAustria\\n]</td>\n",
              "      <td>NaN</td>\n",
              "      <td>[\\nGermany\\n]</td>\n",
              "    </tr>\n",
              "    <tr>\n",
              "      <th>Electricity consumption</th>\n",
              "      <td>NaN</td>\n",
              "      <td>NaN</td>\n",
              "      <td>NaN</td>\n",
              "      <td>NaN</td>\n",
              "      <td>NaN</td>\n",
              "    </tr>\n",
              "    <tr>\n",
              "      <th>Last Service Date</th>\n",
              "      <td>NaN</td>\n",
              "      <td>NaN</td>\n",
              "      <td>NaN</td>\n",
              "      <td>NaN</td>\n",
              "      <td>NaN</td>\n",
              "    </tr>\n",
              "    <tr>\n",
              "      <th>Other Fuel Types</th>\n",
              "      <td>NaN</td>\n",
              "      <td>[[], [], []]</td>\n",
              "      <td>NaN</td>\n",
              "      <td>NaN</td>\n",
              "      <td>NaN</td>\n",
              "    </tr>\n",
              "    <tr>\n",
              "      <th>Availability</th>\n",
              "      <td>NaN</td>\n",
              "      <td>\\nin 5 days from ordering\\n</td>\n",
              "      <td>\\nin 120 days from ordering\\n</td>\n",
              "      <td>NaN</td>\n",
              "      <td>NaN</td>\n",
              "    </tr>\n",
              "    <tr>\n",
              "      <th>Last Timing Belt Service Date</th>\n",
              "      <td>NaN</td>\n",
              "      <td>NaN</td>\n",
              "      <td>NaN</td>\n",
              "      <td>NaN</td>\n",
              "      <td>NaN</td>\n",
              "    </tr>\n",
              "    <tr>\n",
              "      <th>Available from</th>\n",
              "      <td>NaN</td>\n",
              "      <td>NaN</td>\n",
              "      <td>NaN</td>\n",
              "      <td>NaN</td>\n",
              "      <td>NaN</td>\n",
              "    </tr>\n",
              "  </tbody>\n",
              "</table>\n",
              "</div>\n",
              "      <button class=\"colab-df-convert\" onclick=\"convertToInteractive('df-266980c7-0e9b-4076-ad03-ec9bd217f3e1')\"\n",
              "              title=\"Convert this dataframe to an interactive table.\"\n",
              "              style=\"display:none;\">\n",
              "        \n",
              "  <svg xmlns=\"http://www.w3.org/2000/svg\" height=\"24px\"viewBox=\"0 0 24 24\"\n",
              "       width=\"24px\">\n",
              "    <path d=\"M0 0h24v24H0V0z\" fill=\"none\"/>\n",
              "    <path d=\"M18.56 5.44l.94 2.06.94-2.06 2.06-.94-2.06-.94-.94-2.06-.94 2.06-2.06.94zm-11 1L8.5 8.5l.94-2.06 2.06-.94-2.06-.94L8.5 2.5l-.94 2.06-2.06.94zm10 10l.94 2.06.94-2.06 2.06-.94-2.06-.94-.94-2.06-.94 2.06-2.06.94z\"/><path d=\"M17.41 7.96l-1.37-1.37c-.4-.4-.92-.59-1.43-.59-.52 0-1.04.2-1.43.59L10.3 9.45l-7.72 7.72c-.78.78-.78 2.05 0 2.83L4 21.41c.39.39.9.59 1.41.59.51 0 1.02-.2 1.41-.59l7.78-7.78 2.81-2.81c.8-.78.8-2.07 0-2.86zM5.41 20L4 18.59l7.72-7.72 1.47 1.35L5.41 20z\"/>\n",
              "  </svg>\n",
              "      </button>\n",
              "      \n",
              "  <style>\n",
              "    .colab-df-container {\n",
              "      display:flex;\n",
              "      flex-wrap:wrap;\n",
              "      gap: 12px;\n",
              "    }\n",
              "\n",
              "    .colab-df-convert {\n",
              "      background-color: #E8F0FE;\n",
              "      border: none;\n",
              "      border-radius: 50%;\n",
              "      cursor: pointer;\n",
              "      display: none;\n",
              "      fill: #1967D2;\n",
              "      height: 32px;\n",
              "      padding: 0 0 0 0;\n",
              "      width: 32px;\n",
              "    }\n",
              "\n",
              "    .colab-df-convert:hover {\n",
              "      background-color: #E2EBFA;\n",
              "      box-shadow: 0px 1px 2px rgba(60, 64, 67, 0.3), 0px 1px 3px 1px rgba(60, 64, 67, 0.15);\n",
              "      fill: #174EA6;\n",
              "    }\n",
              "\n",
              "    [theme=dark] .colab-df-convert {\n",
              "      background-color: #3B4455;\n",
              "      fill: #D2E3FC;\n",
              "    }\n",
              "\n",
              "    [theme=dark] .colab-df-convert:hover {\n",
              "      background-color: #434B5C;\n",
              "      box-shadow: 0px 1px 3px 1px rgba(0, 0, 0, 0.15);\n",
              "      filter: drop-shadow(0px 1px 2px rgba(0, 0, 0, 0.3));\n",
              "      fill: #FFFFFF;\n",
              "    }\n",
              "  </style>\n",
              "\n",
              "      <script>\n",
              "        const buttonEl =\n",
              "          document.querySelector('#df-266980c7-0e9b-4076-ad03-ec9bd217f3e1 button.colab-df-convert');\n",
              "        buttonEl.style.display =\n",
              "          google.colab.kernel.accessAllowed ? 'block' : 'none';\n",
              "\n",
              "        async function convertToInteractive(key) {\n",
              "          const element = document.querySelector('#df-266980c7-0e9b-4076-ad03-ec9bd217f3e1');\n",
              "          const dataTable =\n",
              "            await google.colab.kernel.invokeFunction('convertToInteractive',\n",
              "                                                     [key], {});\n",
              "          if (!dataTable) return;\n",
              "\n",
              "          const docLinkHtml = 'Like what you see? Visit the ' +\n",
              "            '<a target=\"_blank\" href=https://colab.research.google.com/notebooks/data_table.ipynb>data table notebook</a>'\n",
              "            + ' to learn more about interactive tables.';\n",
              "          element.innerHTML = '';\n",
              "          dataTable['output_type'] = 'display_data';\n",
              "          await google.colab.output.renderOutput(dataTable, element);\n",
              "          const docLink = document.createElement('div');\n",
              "          docLink.innerHTML = docLinkHtml;\n",
              "          element.appendChild(docLink);\n",
              "        }\n",
              "      </script>\n",
              "    </div>\n",
              "  </div>\n",
              "  "
            ],
            "text/plain": [
              "                                                                           15914  ...                                              15918\n",
              "url                            https://www.autoscout24.com//offers/renault-es...  ...  https://www.autoscout24.com//offers/renault-es...\n",
              "make_model                                                        Renault Espace  ...                                     Renault Espace\n",
              "short_description                          Blue dCi 200CV EDC Executive 4Control  ...        INITIALE PARIS TCe 225 EDC GPF NAVI SHZ AUX\n",
              "body_type                                                                    Van  ...                                                Van\n",
              "price                                                                      39950  ...                                              40999\n",
              "vat                                                               VAT deductible  ...                                     VAT deductible\n",
              "km                                                                          - km  ...                                               - km\n",
              "registration                                                                 -/-  ...                                            01/2019\n",
              "prev_owner                                                                  None  ...                                   1 previous owner\n",
              "kW                                                                           NaN  ...                                                NaN\n",
              "hp                                                                        147 kW  ...                                             165 kW\n",
              "Type                                      [, New, , Diesel (Particulate Filter)]  ...                      [, Demonstration, , Super 95]\n",
              "Previous Owners                                                              NaN  ...                                              \\n1\\n\n",
              "Next Inspection                                                              NaN  ...                                                NaN\n",
              "Inspection new                                                               NaN  ...                 [\\nYes\\n, \\n153 g CO2/km (comb)\\n]\n",
              "Warranty                                                           \\n24 months\\n  ...                                                NaN\n",
              "Full Service                                                                 NaN  ...                                                NaN\n",
              "Non-smoking Vehicle                                                          NaN  ...                                                NaN\n",
              "null                                                                          []  ...                                                 []\n",
              "Make                                                                 \\nRenault\\n  ...                                        \\nRenault\\n\n",
              "Model                                                           [\\n, Espace, \\n]  ...                                   [\\n, Espace, \\n]\n",
              "Offer Number                                                      [\\n10988301\\n]  ...                               [\\nRe_30000008029\\n]\n",
              "First Registration                                                           NaN  ...                                     [\\n, 2019, \\n]\n",
              "Body Color                                                        [\\n, Grey, \\n]  ...                                     [\\n, Grey, \\n]\n",
              "Paint Type                                                        [\\nMetallic\\n]  ...                                     [\\nMetallic\\n]\n",
              "Body Color Original                                           [\\nGrigio scuro\\n]  ...                       [\\nTitanium-Grau Metallic\\n]\n",
              "Upholstery                                                                   NaN  ...                          [\\nFull leather, Brown\\n]\n",
              "Body                                                               [\\n, Van, \\n]  ...                                      [\\n, Van, \\n]\n",
              "Nr. of Doors                                                             [\\n5\\n]  ...                                            [\\n5\\n]\n",
              "Nr. of Seats                                                             [\\n5\\n]  ...                                            [\\n5\\n]\n",
              "Model Code                                                                   NaN  ...                                     [\\n3333/BHJ\\n]\n",
              "Gearing Type                                                 [\\n, Automatic, \\n]  ...                                [\\n, Automatic, \\n]\n",
              "Displacement                                                      [\\n1,997 cc\\n]  ...                                     [\\n1,798 cc\\n]\n",
              "Cylinders                                                                [\\n4\\n]  ...                                            [\\n4\\n]\n",
              "Weight                                                            [\\n1,758 kg\\n]  ...                                     [\\n1,685 kg\\n]\n",
              "Drive chain                                                          [\\nfront\\n]  ...                                          [\\n4WD\\n]\n",
              "Fuel                                       [\\n, Diesel (Particulate Filter), \\n]  ...                                 [\\n, Super 95, \\n]\n",
              "Consumption                    [[5.3 l/100 km (comb)], [6.2 l/100 km (city)],...  ...  [[6.8 l/100 km (comb)], [8.7 l/100 km (city)],...\n",
              "CO2 Emission                                           [\\n139 g CO2/km (comb)\\n]  ...                          [\\n153 g CO2/km (comb)\\n]\n",
              "Emission Class                                                               NaN  ...                                       [\\nEuro 6\\n]\n",
              "Comfort_and_Convenience        [Air conditioning, Automatic climate control, ...  ...  [Air conditioning, Automatic climate control, ...\n",
              "Entertainment_and_Media        [Bluetooth, Digital radio, Hands-free equipmen...  ...                                              [USB]\n",
              "Extras                                              [Alloy wheels, Touch screen]  ...                       [Alloy wheels, Touch screen]\n",
              "Safety_and_Security            [ABS, Central door lock, Central door lock wit...  ...  [ABS, Blind spot monitor, Daytime running ligh...\n",
              "description                    [\\nVettura visionabile nella sede in Via Roma ...  ...  [\\n, Sicherheit Airbags:,  , Seitenairbag,  , ...\n",
              "Emission Label                                                               NaN  ...                                    [\\n4 (Green)\\n]\n",
              "Gears                                                                    [\\n6\\n]  ...                                                NaN\n",
              "Country version                                                              NaN  ...                                      [\\nGermany\\n]\n",
              "Electricity consumption                                                      NaN  ...                                                NaN\n",
              "Last Service Date                                                            NaN  ...                                                NaN\n",
              "Other Fuel Types                                                             NaN  ...                                                NaN\n",
              "Availability                                                                 NaN  ...                                                NaN\n",
              "Last Timing Belt Service Date                                                NaN  ...                                                NaN\n",
              "Available from                                                               NaN  ...                                                NaN\n",
              "\n",
              "[54 rows x 5 columns]"
            ]
          },
          "metadata": {},
          "execution_count": 583
        }
      ]
    },
    {
      "cell_type": "code",
      "source": [
        "df.shape"
      ],
      "metadata": {
        "colab": {
          "base_uri": "https://localhost:8080/"
        },
        "id": "IR2_aG9w3VDY",
        "outputId": "0d17b472-a87f-4261-c485-9e60053bfa99"
      },
      "execution_count": null,
      "outputs": [
        {
          "output_type": "execute_result",
          "data": {
            "text/plain": [
              "(15919, 54)"
            ]
          },
          "metadata": {},
          "execution_count": 358
        }
      ]
    },
    {
      "cell_type": "code",
      "source": [
        "df.dtypes"
      ],
      "metadata": {
        "id": "HDjBuAop3d72",
        "colab": {
          "base_uri": "https://localhost:8080/"
        },
        "outputId": "7421ca62-8ea4-4c87-8cbb-74da43caa256"
      },
      "execution_count": null,
      "outputs": [
        {
          "output_type": "execute_result",
          "data": {
            "text/plain": [
              "url                               object\n",
              "make_model                        object\n",
              "short_description                 object\n",
              "body_type                         object\n",
              "price                              int64\n",
              "vat                               object\n",
              "km                                object\n",
              "registration                      object\n",
              "prev_owner                        object\n",
              "kW                               float64\n",
              "hp                                object\n",
              "Type                              object\n",
              "Previous Owners                   object\n",
              "Next Inspection                   object\n",
              "Inspection new                    object\n",
              "Warranty                          object\n",
              "Full Service                      object\n",
              "Non-smoking Vehicle               object\n",
              "null                              object\n",
              "Make                              object\n",
              "Model                             object\n",
              "Offer Number                      object\n",
              "First Registration                object\n",
              "Body Color                        object\n",
              "Paint Type                        object\n",
              "Body Color Original               object\n",
              "Upholstery                        object\n",
              "Body                              object\n",
              "Nr. of Doors                      object\n",
              "Nr. of Seats                      object\n",
              "Model Code                        object\n",
              "Gearing Type                      object\n",
              "Displacement                      object\n",
              "Cylinders                         object\n",
              "Weight                            object\n",
              "Drive chain                       object\n",
              "Fuel                              object\n",
              "Consumption                       object\n",
              "CO2 Emission                      object\n",
              "Emission Class                    object\n",
              "Comfort_and_Convenience           object\n",
              "Entertainment_and_Media           object\n",
              "Extras                            object\n",
              "Safety_and_Security               object\n",
              "description                       object\n",
              "Emission Label                    object\n",
              "Gears                             object\n",
              "Country version                   object\n",
              "Electricity consumption           object\n",
              "Last Service Date                 object\n",
              "Other Fuel Types                  object\n",
              "Availability                      object\n",
              "Last Timing Belt Service Date     object\n",
              "Available from                    object\n",
              "dtype: object"
            ]
          },
          "metadata": {},
          "execution_count": 359
        }
      ]
    },
    {
      "cell_type": "code",
      "source": [
        "df.describe()"
      ],
      "metadata": {
        "colab": {
          "base_uri": "https://localhost:8080/",
          "height": 300
        },
        "id": "wYQ4EdQ-DUmR",
        "outputId": "67079422-2599-43a5-c050-45e2e1b5e91b"
      },
      "execution_count": null,
      "outputs": [
        {
          "output_type": "execute_result",
          "data": {
            "text/html": [
              "\n",
              "  <div id=\"df-da509691-d530-4404-9a07-281b4989d017\">\n",
              "    <div class=\"colab-df-container\">\n",
              "      <div>\n",
              "<style scoped>\n",
              "    .dataframe tbody tr th:only-of-type {\n",
              "        vertical-align: middle;\n",
              "    }\n",
              "\n",
              "    .dataframe tbody tr th {\n",
              "        vertical-align: top;\n",
              "    }\n",
              "\n",
              "    .dataframe thead th {\n",
              "        text-align: right;\n",
              "    }\n",
              "</style>\n",
              "<table border=\"1\" class=\"dataframe\">\n",
              "  <thead>\n",
              "    <tr style=\"text-align: right;\">\n",
              "      <th></th>\n",
              "      <th>price</th>\n",
              "      <th>kW</th>\n",
              "    </tr>\n",
              "  </thead>\n",
              "  <tbody>\n",
              "    <tr>\n",
              "      <th>count</th>\n",
              "      <td>15919.000000</td>\n",
              "      <td>0.0</td>\n",
              "    </tr>\n",
              "    <tr>\n",
              "      <th>mean</th>\n",
              "      <td>18019.896727</td>\n",
              "      <td>NaN</td>\n",
              "    </tr>\n",
              "    <tr>\n",
              "      <th>std</th>\n",
              "      <td>7386.169409</td>\n",
              "      <td>NaN</td>\n",
              "    </tr>\n",
              "    <tr>\n",
              "      <th>min</th>\n",
              "      <td>13.000000</td>\n",
              "      <td>NaN</td>\n",
              "    </tr>\n",
              "    <tr>\n",
              "      <th>25%</th>\n",
              "      <td>12850.000000</td>\n",
              "      <td>NaN</td>\n",
              "    </tr>\n",
              "    <tr>\n",
              "      <th>50%</th>\n",
              "      <td>16900.000000</td>\n",
              "      <td>NaN</td>\n",
              "    </tr>\n",
              "    <tr>\n",
              "      <th>75%</th>\n",
              "      <td>21900.000000</td>\n",
              "      <td>NaN</td>\n",
              "    </tr>\n",
              "    <tr>\n",
              "      <th>max</th>\n",
              "      <td>74600.000000</td>\n",
              "      <td>NaN</td>\n",
              "    </tr>\n",
              "  </tbody>\n",
              "</table>\n",
              "</div>\n",
              "      <button class=\"colab-df-convert\" onclick=\"convertToInteractive('df-da509691-d530-4404-9a07-281b4989d017')\"\n",
              "              title=\"Convert this dataframe to an interactive table.\"\n",
              "              style=\"display:none;\">\n",
              "        \n",
              "  <svg xmlns=\"http://www.w3.org/2000/svg\" height=\"24px\"viewBox=\"0 0 24 24\"\n",
              "       width=\"24px\">\n",
              "    <path d=\"M0 0h24v24H0V0z\" fill=\"none\"/>\n",
              "    <path d=\"M18.56 5.44l.94 2.06.94-2.06 2.06-.94-2.06-.94-.94-2.06-.94 2.06-2.06.94zm-11 1L8.5 8.5l.94-2.06 2.06-.94-2.06-.94L8.5 2.5l-.94 2.06-2.06.94zm10 10l.94 2.06.94-2.06 2.06-.94-2.06-.94-.94-2.06-.94 2.06-2.06.94z\"/><path d=\"M17.41 7.96l-1.37-1.37c-.4-.4-.92-.59-1.43-.59-.52 0-1.04.2-1.43.59L10.3 9.45l-7.72 7.72c-.78.78-.78 2.05 0 2.83L4 21.41c.39.39.9.59 1.41.59.51 0 1.02-.2 1.41-.59l7.78-7.78 2.81-2.81c.8-.78.8-2.07 0-2.86zM5.41 20L4 18.59l7.72-7.72 1.47 1.35L5.41 20z\"/>\n",
              "  </svg>\n",
              "      </button>\n",
              "      \n",
              "  <style>\n",
              "    .colab-df-container {\n",
              "      display:flex;\n",
              "      flex-wrap:wrap;\n",
              "      gap: 12px;\n",
              "    }\n",
              "\n",
              "    .colab-df-convert {\n",
              "      background-color: #E8F0FE;\n",
              "      border: none;\n",
              "      border-radius: 50%;\n",
              "      cursor: pointer;\n",
              "      display: none;\n",
              "      fill: #1967D2;\n",
              "      height: 32px;\n",
              "      padding: 0 0 0 0;\n",
              "      width: 32px;\n",
              "    }\n",
              "\n",
              "    .colab-df-convert:hover {\n",
              "      background-color: #E2EBFA;\n",
              "      box-shadow: 0px 1px 2px rgba(60, 64, 67, 0.3), 0px 1px 3px 1px rgba(60, 64, 67, 0.15);\n",
              "      fill: #174EA6;\n",
              "    }\n",
              "\n",
              "    [theme=dark] .colab-df-convert {\n",
              "      background-color: #3B4455;\n",
              "      fill: #D2E3FC;\n",
              "    }\n",
              "\n",
              "    [theme=dark] .colab-df-convert:hover {\n",
              "      background-color: #434B5C;\n",
              "      box-shadow: 0px 1px 3px 1px rgba(0, 0, 0, 0.15);\n",
              "      filter: drop-shadow(0px 1px 2px rgba(0, 0, 0, 0.3));\n",
              "      fill: #FFFFFF;\n",
              "    }\n",
              "  </style>\n",
              "\n",
              "      <script>\n",
              "        const buttonEl =\n",
              "          document.querySelector('#df-da509691-d530-4404-9a07-281b4989d017 button.colab-df-convert');\n",
              "        buttonEl.style.display =\n",
              "          google.colab.kernel.accessAllowed ? 'block' : 'none';\n",
              "\n",
              "        async function convertToInteractive(key) {\n",
              "          const element = document.querySelector('#df-da509691-d530-4404-9a07-281b4989d017');\n",
              "          const dataTable =\n",
              "            await google.colab.kernel.invokeFunction('convertToInteractive',\n",
              "                                                     [key], {});\n",
              "          if (!dataTable) return;\n",
              "\n",
              "          const docLinkHtml = 'Like what you see? Visit the ' +\n",
              "            '<a target=\"_blank\" href=https://colab.research.google.com/notebooks/data_table.ipynb>data table notebook</a>'\n",
              "            + ' to learn more about interactive tables.';\n",
              "          element.innerHTML = '';\n",
              "          dataTable['output_type'] = 'display_data';\n",
              "          await google.colab.output.renderOutput(dataTable, element);\n",
              "          const docLink = document.createElement('div');\n",
              "          docLink.innerHTML = docLinkHtml;\n",
              "          element.appendChild(docLink);\n",
              "        }\n",
              "      </script>\n",
              "    </div>\n",
              "  </div>\n",
              "  "
            ],
            "text/plain": [
              "              price   kW\n",
              "count  15919.000000  0.0\n",
              "mean   18019.896727  NaN\n",
              "std     7386.169409  NaN\n",
              "min       13.000000  NaN\n",
              "25%    12850.000000  NaN\n",
              "50%    16900.000000  NaN\n",
              "75%    21900.000000  NaN\n",
              "max    74600.000000  NaN"
            ]
          },
          "metadata": {},
          "execution_count": 584
        }
      ]
    },
    {
      "cell_type": "code",
      "source": [
        "df.describe(include= 'O').T"
      ],
      "metadata": {
        "colab": {
          "base_uri": "https://localhost:8080/",
          "height": 1000
        },
        "id": "3cxgIXLhDoB4",
        "outputId": "0e001eb1-f588-4b2c-cfa1-184fa1f225dc"
      },
      "execution_count": 7,
      "outputs": [
        {
          "output_type": "execute_result",
          "data": {
            "text/html": [
              "\n",
              "  <div id=\"df-e5b3b728-2ee0-417f-8ff6-d44f7949e0e1\">\n",
              "    <div class=\"colab-df-container\">\n",
              "      <div>\n",
              "<style scoped>\n",
              "    .dataframe tbody tr th:only-of-type {\n",
              "        vertical-align: middle;\n",
              "    }\n",
              "\n",
              "    .dataframe tbody tr th {\n",
              "        vertical-align: top;\n",
              "    }\n",
              "\n",
              "    .dataframe thead th {\n",
              "        text-align: right;\n",
              "    }\n",
              "</style>\n",
              "<table border=\"1\" class=\"dataframe\">\n",
              "  <thead>\n",
              "    <tr style=\"text-align: right;\">\n",
              "      <th></th>\n",
              "      <th>count</th>\n",
              "      <th>unique</th>\n",
              "      <th>top</th>\n",
              "      <th>freq</th>\n",
              "    </tr>\n",
              "  </thead>\n",
              "  <tbody>\n",
              "    <tr>\n",
              "      <th>url</th>\n",
              "      <td>15919</td>\n",
              "      <td>15919</td>\n",
              "      <td>https://www.autoscout24.com//offers/audi-a1-sp...</td>\n",
              "      <td>1</td>\n",
              "    </tr>\n",
              "    <tr>\n",
              "      <th>make_model</th>\n",
              "      <td>15919</td>\n",
              "      <td>9</td>\n",
              "      <td>Audi A3</td>\n",
              "      <td>3097</td>\n",
              "    </tr>\n",
              "    <tr>\n",
              "      <th>short_description</th>\n",
              "      <td>15873</td>\n",
              "      <td>10001</td>\n",
              "      <td>SPB 1.6 TDI 116 CV S tronic Sport</td>\n",
              "      <td>64</td>\n",
              "    </tr>\n",
              "    <tr>\n",
              "      <th>body_type</th>\n",
              "      <td>15859</td>\n",
              "      <td>9</td>\n",
              "      <td>Sedans</td>\n",
              "      <td>7903</td>\n",
              "    </tr>\n",
              "    <tr>\n",
              "      <th>vat</th>\n",
              "      <td>11406</td>\n",
              "      <td>2</td>\n",
              "      <td>VAT deductible</td>\n",
              "      <td>10980</td>\n",
              "    </tr>\n",
              "    <tr>\n",
              "      <th>km</th>\n",
              "      <td>15919</td>\n",
              "      <td>6690</td>\n",
              "      <td>10 km</td>\n",
              "      <td>1045</td>\n",
              "    </tr>\n",
              "    <tr>\n",
              "      <th>registration</th>\n",
              "      <td>15919</td>\n",
              "      <td>48</td>\n",
              "      <td>-/-</td>\n",
              "      <td>1597</td>\n",
              "    </tr>\n",
              "    <tr>\n",
              "      <th>prev_owner</th>\n",
              "      <td>9091</td>\n",
              "      <td>4</td>\n",
              "      <td>1 previous owner</td>\n",
              "      <td>8294</td>\n",
              "    </tr>\n",
              "    <tr>\n",
              "      <th>hp</th>\n",
              "      <td>15919</td>\n",
              "      <td>81</td>\n",
              "      <td>85 kW</td>\n",
              "      <td>2542</td>\n",
              "    </tr>\n",
              "    <tr>\n",
              "      <th>Type</th>\n",
              "      <td>15917</td>\n",
              "      <td>169</td>\n",
              "      <td>[, Used, , Diesel (Particulate Filter)]</td>\n",
              "      <td>3475</td>\n",
              "    </tr>\n",
              "    <tr>\n",
              "      <th>Previous Owners</th>\n",
              "      <td>9279</td>\n",
              "      <td>102</td>\n",
              "      <td>\\n1\\n</td>\n",
              "      <td>8101</td>\n",
              "    </tr>\n",
              "    <tr>\n",
              "      <th>Next Inspection</th>\n",
              "      <td>3535</td>\n",
              "      <td>1399</td>\n",
              "      <td>\\n04/2022\\n</td>\n",
              "      <td>62</td>\n",
              "    </tr>\n",
              "    <tr>\n",
              "      <th>Inspection new</th>\n",
              "      <td>3932</td>\n",
              "      <td>202</td>\n",
              "      <td>[\\nYes\\n, \\nEuro 6\\n]</td>\n",
              "      <td>523</td>\n",
              "    </tr>\n",
              "    <tr>\n",
              "      <th>Warranty</th>\n",
              "      <td>10499</td>\n",
              "      <td>515</td>\n",
              "      <td>[\\n, \\n, \\nEuro 6\\n]</td>\n",
              "      <td>1868</td>\n",
              "    </tr>\n",
              "    <tr>\n",
              "      <th>Full Service</th>\n",
              "      <td>8215</td>\n",
              "      <td>122</td>\n",
              "      <td>[\\n, \\n, \\n4 (Green)\\n]</td>\n",
              "      <td>2235</td>\n",
              "    </tr>\n",
              "    <tr>\n",
              "      <th>Non-smoking Vehicle</th>\n",
              "      <td>7177</td>\n",
              "      <td>94</td>\n",
              "      <td>[\\n, \\n]</td>\n",
              "      <td>3647</td>\n",
              "    </tr>\n",
              "    <tr>\n",
              "      <th>null</th>\n",
              "      <td>15919</td>\n",
              "      <td>1</td>\n",
              "      <td>[]</td>\n",
              "      <td>15919</td>\n",
              "    </tr>\n",
              "    <tr>\n",
              "      <th>Make</th>\n",
              "      <td>15919</td>\n",
              "      <td>3</td>\n",
              "      <td>\\nOpel\\n</td>\n",
              "      <td>7343</td>\n",
              "    </tr>\n",
              "    <tr>\n",
              "      <th>Model</th>\n",
              "      <td>15919</td>\n",
              "      <td>9</td>\n",
              "      <td>[\\n, A3, \\n]</td>\n",
              "      <td>3097</td>\n",
              "    </tr>\n",
              "    <tr>\n",
              "      <th>Offer Number</th>\n",
              "      <td>12744</td>\n",
              "      <td>11440</td>\n",
              "      <td>[\\nTA76392\\n]</td>\n",
              "      <td>27</td>\n",
              "    </tr>\n",
              "    <tr>\n",
              "      <th>First Registration</th>\n",
              "      <td>14322</td>\n",
              "      <td>4</td>\n",
              "      <td>[\\n, 2018, \\n]</td>\n",
              "      <td>4522</td>\n",
              "    </tr>\n",
              "    <tr>\n",
              "      <th>Body Color</th>\n",
              "      <td>15322</td>\n",
              "      <td>14</td>\n",
              "      <td>[\\n, Black, \\n]</td>\n",
              "      <td>3745</td>\n",
              "    </tr>\n",
              "    <tr>\n",
              "      <th>Paint Type</th>\n",
              "      <td>10147</td>\n",
              "      <td>3</td>\n",
              "      <td>[\\nMetallic\\n]</td>\n",
              "      <td>9794</td>\n",
              "    </tr>\n",
              "    <tr>\n",
              "      <th>Body Color Original</th>\n",
              "      <td>12160</td>\n",
              "      <td>1927</td>\n",
              "      <td>[\\nOnyx Schwarz\\n]</td>\n",
              "      <td>338</td>\n",
              "    </tr>\n",
              "    <tr>\n",
              "      <th>Upholstery</th>\n",
              "      <td>12199</td>\n",
              "      <td>46</td>\n",
              "      <td>[\\nCloth, Black\\n]</td>\n",
              "      <td>5821</td>\n",
              "    </tr>\n",
              "    <tr>\n",
              "      <th>Body</th>\n",
              "      <td>15859</td>\n",
              "      <td>9</td>\n",
              "      <td>[\\n, Sedans, \\n]</td>\n",
              "      <td>7903</td>\n",
              "    </tr>\n",
              "    <tr>\n",
              "      <th>Nr. of Doors</th>\n",
              "      <td>15707</td>\n",
              "      <td>6</td>\n",
              "      <td>[\\n5\\n]</td>\n",
              "      <td>11575</td>\n",
              "    </tr>\n",
              "    <tr>\n",
              "      <th>Nr. of Seats</th>\n",
              "      <td>14942</td>\n",
              "      <td>6</td>\n",
              "      <td>[\\n5\\n]</td>\n",
              "      <td>13336</td>\n",
              "    </tr>\n",
              "    <tr>\n",
              "      <th>Model Code</th>\n",
              "      <td>4978</td>\n",
              "      <td>232</td>\n",
              "      <td>[\\n0035/BCB\\n]</td>\n",
              "      <td>268</td>\n",
              "    </tr>\n",
              "    <tr>\n",
              "      <th>Gearing Type</th>\n",
              "      <td>15919</td>\n",
              "      <td>3</td>\n",
              "      <td>[\\n, Manual, \\n]</td>\n",
              "      <td>8153</td>\n",
              "    </tr>\n",
              "    <tr>\n",
              "      <th>Displacement</th>\n",
              "      <td>15423</td>\n",
              "      <td>77</td>\n",
              "      <td>[\\n1,598 cc\\n]</td>\n",
              "      <td>4761</td>\n",
              "    </tr>\n",
              "    <tr>\n",
              "      <th>Cylinders</th>\n",
              "      <td>10239</td>\n",
              "      <td>7</td>\n",
              "      <td>[\\n4\\n]</td>\n",
              "      <td>8105</td>\n",
              "    </tr>\n",
              "    <tr>\n",
              "      <th>Weight</th>\n",
              "      <td>8945</td>\n",
              "      <td>434</td>\n",
              "      <td>[\\n1,163 kg\\n]</td>\n",
              "      <td>574</td>\n",
              "    </tr>\n",
              "    <tr>\n",
              "      <th>Drive chain</th>\n",
              "      <td>9061</td>\n",
              "      <td>3</td>\n",
              "      <td>[\\nfront\\n]</td>\n",
              "      <td>8886</td>\n",
              "    </tr>\n",
              "    <tr>\n",
              "      <th>Fuel</th>\n",
              "      <td>15919</td>\n",
              "      <td>77</td>\n",
              "      <td>[\\n, Diesel (Particulate Filter), \\n]</td>\n",
              "      <td>4315</td>\n",
              "    </tr>\n",
              "    <tr>\n",
              "      <th>Consumption</th>\n",
              "      <td>14013</td>\n",
              "      <td>881</td>\n",
              "      <td>[[3.9 l/100 km (comb)], [4.1 l/100 km (city)],...</td>\n",
              "      <td>304</td>\n",
              "    </tr>\n",
              "    <tr>\n",
              "      <th>CO2 Emission</th>\n",
              "      <td>14111</td>\n",
              "      <td>123</td>\n",
              "      <td>[\\n120 g CO2/km (comb)\\n]</td>\n",
              "      <td>740</td>\n",
              "    </tr>\n",
              "    <tr>\n",
              "      <th>Emission Class</th>\n",
              "      <td>12898</td>\n",
              "      <td>7</td>\n",
              "      <td>[\\nEuro 6\\n]</td>\n",
              "      <td>10139</td>\n",
              "    </tr>\n",
              "    <tr>\n",
              "      <th>Comfort_and_Convenience</th>\n",
              "      <td>14999</td>\n",
              "      <td>6198</td>\n",
              "      <td>[Air conditioning, Electrical side mirrors, Hi...</td>\n",
              "      <td>216</td>\n",
              "    </tr>\n",
              "    <tr>\n",
              "      <th>Entertainment_and_Media</th>\n",
              "      <td>14545</td>\n",
              "      <td>346</td>\n",
              "      <td>[Bluetooth, Hands-free equipment, On-board com...</td>\n",
              "      <td>1282</td>\n",
              "    </tr>\n",
              "    <tr>\n",
              "      <th>Extras</th>\n",
              "      <td>12957</td>\n",
              "      <td>659</td>\n",
              "      <td>[Alloy wheels]</td>\n",
              "      <td>3245</td>\n",
              "    </tr>\n",
              "    <tr>\n",
              "      <th>Safety_and_Security</th>\n",
              "      <td>14937</td>\n",
              "      <td>4443</td>\n",
              "      <td>[ABS, Central door lock, Daytime running light...</td>\n",
              "      <td>538</td>\n",
              "    </tr>\n",
              "    <tr>\n",
              "      <th>description</th>\n",
              "      <td>15919</td>\n",
              "      <td>12874</td>\n",
              "      <td>[]</td>\n",
              "      <td>636</td>\n",
              "    </tr>\n",
              "    <tr>\n",
              "      <th>Emission Label</th>\n",
              "      <td>3985</td>\n",
              "      <td>6</td>\n",
              "      <td>[\\n4 (Green)\\n]</td>\n",
              "      <td>3553</td>\n",
              "    </tr>\n",
              "    <tr>\n",
              "      <th>Gears</th>\n",
              "      <td>11207</td>\n",
              "      <td>10</td>\n",
              "      <td>[\\n6\\n]</td>\n",
              "      <td>5822</td>\n",
              "    </tr>\n",
              "    <tr>\n",
              "      <th>Country version</th>\n",
              "      <td>7586</td>\n",
              "      <td>23</td>\n",
              "      <td>[\\nGermany\\n]</td>\n",
              "      <td>4502</td>\n",
              "    </tr>\n",
              "    <tr>\n",
              "      <th>Electricity consumption</th>\n",
              "      <td>137</td>\n",
              "      <td>1</td>\n",
              "      <td>[\\n0 kWh/100 km (comb)\\n]</td>\n",
              "      <td>137</td>\n",
              "    </tr>\n",
              "    <tr>\n",
              "      <th>Last Service Date</th>\n",
              "      <td>566</td>\n",
              "      <td>266</td>\n",
              "      <td>[\\n02/2019\\n, \\nEuro 6\\n]</td>\n",
              "      <td>23</td>\n",
              "    </tr>\n",
              "    <tr>\n",
              "      <th>Other Fuel Types</th>\n",
              "      <td>880</td>\n",
              "      <td>1</td>\n",
              "      <td>[[], [], []]</td>\n",
              "      <td>880</td>\n",
              "    </tr>\n",
              "    <tr>\n",
              "      <th>Availability</th>\n",
              "      <td>635</td>\n",
              "      <td>15</td>\n",
              "      <td>\\nin 90 days from ordering\\n</td>\n",
              "      <td>196</td>\n",
              "    </tr>\n",
              "    <tr>\n",
              "      <th>Last Timing Belt Service Date</th>\n",
              "      <td>16</td>\n",
              "      <td>15</td>\n",
              "      <td>[\\n04/2016\\n]</td>\n",
              "      <td>2</td>\n",
              "    </tr>\n",
              "    <tr>\n",
              "      <th>Available from</th>\n",
              "      <td>272</td>\n",
              "      <td>46</td>\n",
              "      <td>\\n31/08/19\\n</td>\n",
              "      <td>98</td>\n",
              "    </tr>\n",
              "  </tbody>\n",
              "</table>\n",
              "</div>\n",
              "      <button class=\"colab-df-convert\" onclick=\"convertToInteractive('df-e5b3b728-2ee0-417f-8ff6-d44f7949e0e1')\"\n",
              "              title=\"Convert this dataframe to an interactive table.\"\n",
              "              style=\"display:none;\">\n",
              "        \n",
              "  <svg xmlns=\"http://www.w3.org/2000/svg\" height=\"24px\"viewBox=\"0 0 24 24\"\n",
              "       width=\"24px\">\n",
              "    <path d=\"M0 0h24v24H0V0z\" fill=\"none\"/>\n",
              "    <path d=\"M18.56 5.44l.94 2.06.94-2.06 2.06-.94-2.06-.94-.94-2.06-.94 2.06-2.06.94zm-11 1L8.5 8.5l.94-2.06 2.06-.94-2.06-.94L8.5 2.5l-.94 2.06-2.06.94zm10 10l.94 2.06.94-2.06 2.06-.94-2.06-.94-.94-2.06-.94 2.06-2.06.94z\"/><path d=\"M17.41 7.96l-1.37-1.37c-.4-.4-.92-.59-1.43-.59-.52 0-1.04.2-1.43.59L10.3 9.45l-7.72 7.72c-.78.78-.78 2.05 0 2.83L4 21.41c.39.39.9.59 1.41.59.51 0 1.02-.2 1.41-.59l7.78-7.78 2.81-2.81c.8-.78.8-2.07 0-2.86zM5.41 20L4 18.59l7.72-7.72 1.47 1.35L5.41 20z\"/>\n",
              "  </svg>\n",
              "      </button>\n",
              "      \n",
              "  <style>\n",
              "    .colab-df-container {\n",
              "      display:flex;\n",
              "      flex-wrap:wrap;\n",
              "      gap: 12px;\n",
              "    }\n",
              "\n",
              "    .colab-df-convert {\n",
              "      background-color: #E8F0FE;\n",
              "      border: none;\n",
              "      border-radius: 50%;\n",
              "      cursor: pointer;\n",
              "      display: none;\n",
              "      fill: #1967D2;\n",
              "      height: 32px;\n",
              "      padding: 0 0 0 0;\n",
              "      width: 32px;\n",
              "    }\n",
              "\n",
              "    .colab-df-convert:hover {\n",
              "      background-color: #E2EBFA;\n",
              "      box-shadow: 0px 1px 2px rgba(60, 64, 67, 0.3), 0px 1px 3px 1px rgba(60, 64, 67, 0.15);\n",
              "      fill: #174EA6;\n",
              "    }\n",
              "\n",
              "    [theme=dark] .colab-df-convert {\n",
              "      background-color: #3B4455;\n",
              "      fill: #D2E3FC;\n",
              "    }\n",
              "\n",
              "    [theme=dark] .colab-df-convert:hover {\n",
              "      background-color: #434B5C;\n",
              "      box-shadow: 0px 1px 3px 1px rgba(0, 0, 0, 0.15);\n",
              "      filter: drop-shadow(0px 1px 2px rgba(0, 0, 0, 0.3));\n",
              "      fill: #FFFFFF;\n",
              "    }\n",
              "  </style>\n",
              "\n",
              "      <script>\n",
              "        const buttonEl =\n",
              "          document.querySelector('#df-e5b3b728-2ee0-417f-8ff6-d44f7949e0e1 button.colab-df-convert');\n",
              "        buttonEl.style.display =\n",
              "          google.colab.kernel.accessAllowed ? 'block' : 'none';\n",
              "\n",
              "        async function convertToInteractive(key) {\n",
              "          const element = document.querySelector('#df-e5b3b728-2ee0-417f-8ff6-d44f7949e0e1');\n",
              "          const dataTable =\n",
              "            await google.colab.kernel.invokeFunction('convertToInteractive',\n",
              "                                                     [key], {});\n",
              "          if (!dataTable) return;\n",
              "\n",
              "          const docLinkHtml = 'Like what you see? Visit the ' +\n",
              "            '<a target=\"_blank\" href=https://colab.research.google.com/notebooks/data_table.ipynb>data table notebook</a>'\n",
              "            + ' to learn more about interactive tables.';\n",
              "          element.innerHTML = '';\n",
              "          dataTable['output_type'] = 'display_data';\n",
              "          await google.colab.output.renderOutput(dataTable, element);\n",
              "          const docLink = document.createElement('div');\n",
              "          docLink.innerHTML = docLinkHtml;\n",
              "          element.appendChild(docLink);\n",
              "        }\n",
              "      </script>\n",
              "    </div>\n",
              "  </div>\n",
              "  "
            ],
            "text/plain": [
              "                               count  ...   freq\n",
              "url                            15919  ...      1\n",
              "make_model                     15919  ...   3097\n",
              "short_description              15873  ...     64\n",
              "body_type                      15859  ...   7903\n",
              "vat                            11406  ...  10980\n",
              "km                             15919  ...   1045\n",
              "registration                   15919  ...   1597\n",
              "prev_owner                      9091  ...   8294\n",
              "hp                             15919  ...   2542\n",
              "Type                           15917  ...   3475\n",
              "Previous Owners                 9279  ...   8101\n",
              "Next Inspection                 3535  ...     62\n",
              "Inspection new                  3932  ...    523\n",
              "Warranty                       10499  ...   1868\n",
              "Full Service                    8215  ...   2235\n",
              "Non-smoking Vehicle             7177  ...   3647\n",
              "null                           15919  ...  15919\n",
              "Make                           15919  ...   7343\n",
              "Model                          15919  ...   3097\n",
              "Offer Number                   12744  ...     27\n",
              "First Registration             14322  ...   4522\n",
              "Body Color                     15322  ...   3745\n",
              "Paint Type                     10147  ...   9794\n",
              "Body Color Original            12160  ...    338\n",
              "Upholstery                     12199  ...   5821\n",
              "Body                           15859  ...   7903\n",
              "Nr. of Doors                   15707  ...  11575\n",
              "Nr. of Seats                   14942  ...  13336\n",
              "Model Code                      4978  ...    268\n",
              "Gearing Type                   15919  ...   8153\n",
              "Displacement                   15423  ...   4761\n",
              "Cylinders                      10239  ...   8105\n",
              "Weight                          8945  ...    574\n",
              "Drive chain                     9061  ...   8886\n",
              "Fuel                           15919  ...   4315\n",
              "Consumption                    14013  ...    304\n",
              "CO2 Emission                   14111  ...    740\n",
              "Emission Class                 12898  ...  10139\n",
              "Comfort_and_Convenience        14999  ...    216\n",
              "Entertainment_and_Media        14545  ...   1282\n",
              "Extras                         12957  ...   3245\n",
              "Safety_and_Security            14937  ...    538\n",
              "description                    15919  ...    636\n",
              "Emission Label                  3985  ...   3553\n",
              "Gears                          11207  ...   5822\n",
              "Country version                 7586  ...   4502\n",
              "Electricity consumption          137  ...    137\n",
              "Last Service Date                566  ...     23\n",
              "Other Fuel Types                 880  ...    880\n",
              "Availability                     635  ...    196\n",
              "Last Timing Belt Service Date     16  ...      2\n",
              "Available from                   272  ...     98\n",
              "\n",
              "[52 rows x 4 columns]"
            ]
          },
          "metadata": {},
          "execution_count": 7
        }
      ]
    },
    {
      "cell_type": "code",
      "source": [
        "#select numeric columns\n",
        "df_numeric = df.select_dtypes(include=[np.number]) #select numeric columns\n",
        "numeric_cols = df_numeric.columns.values \n",
        "print(numeric_cols)"
      ],
      "metadata": {
        "colab": {
          "base_uri": "https://localhost:8080/"
        },
        "id": "u50DkOpG1wX7",
        "outputId": "c2c43e18-66d1-493c-f7f9-7071c7697135"
      },
      "execution_count": null,
      "outputs": [
        {
          "output_type": "stream",
          "name": "stdout",
          "text": [
            "['price' 'kW']\n"
          ]
        }
      ]
    },
    {
      "cell_type": "code",
      "source": [
        "#select non numeric columns\n",
        "df_non_numeric = df.select_dtypes(exclude=[np.number]) \n",
        "non_numeric_cols = df_non_numeric.columns.values \n",
        "print(non_numeric_cols)"
      ],
      "metadata": {
        "colab": {
          "base_uri": "https://localhost:8080/"
        },
        "id": "ROXz8uGF2Uhu",
        "outputId": "b2b88b3e-d965-49bb-96be-bf7b768da752"
      },
      "execution_count": null,
      "outputs": [
        {
          "output_type": "stream",
          "name": "stdout",
          "text": [
            "['url' 'make_model' 'short_description' 'body_type' 'vat' 'km'\n",
            " 'registration' 'prev_owner' 'hp' 'Type' 'Previous Owners'\n",
            " 'Next Inspection' 'Inspection new' 'Warranty' 'Full Service'\n",
            " 'Non-smoking Vehicle' 'null' 'Make' 'Model' 'Offer Number'\n",
            " 'First Registration' 'Body Color' 'Paint Type' 'Body Color Original'\n",
            " 'Upholstery' 'Body' 'Nr. of Doors' 'Nr. of Seats' 'Model Code'\n",
            " 'Gearing Type' 'Displacement' 'Cylinders' 'Weight' 'Drive chain' 'Fuel'\n",
            " 'Consumption' 'CO2 Emission' 'Emission Class' 'Comfort_and_Convenience'\n",
            " 'Entertainment_and_Media' 'Extras' 'Safety_and_Security' 'description'\n",
            " 'Emission Label' 'Gears' 'Country version' 'Electricity consumption'\n",
            " 'Last Service Date' 'Other Fuel Types' 'Availability'\n",
            " 'Last Timing Belt Service Date' 'Available from']\n"
          ]
        }
      ]
    },
    {
      "cell_type": "markdown",
      "source": [
        "#**#The chart below demonstrates the missing data patterns of the first 30 features.**"
      ],
      "metadata": {
        "id": "FEj49Fkh334r"
      }
    },
    {
      "cell_type": "code",
      "source": [
        "cols = df.columns[:30] # first 30 columns\n",
        "colours = ['#000099', '#ffff00'] # specify the colours - yellow is missing. blue is not missing.\n",
        "sns.heatmap(df[cols].isnull(), cmap=sns.color_palette(colours))"
      ],
      "metadata": {
        "id": "fLlhMYiWlzPJ",
        "colab": {
          "base_uri": "https://localhost:8080/",
          "height": 582
        },
        "outputId": "2134e916-5d10-499b-ff0f-797d006fd55c"
      },
      "execution_count": null,
      "outputs": [
        {
          "output_type": "execute_result",
          "data": {
            "text/plain": [
              "<matplotlib.axes._subplots.AxesSubplot at 0x7f3c63279610>"
            ]
          },
          "metadata": {},
          "execution_count": 362
        },
        {
          "output_type": "display_data",
          "data": {
            "image/png": "[encoded data removed]",
            "text/plain": [
              "<Figure size 864x576 with 2 Axes>"
            ]
          },
          "metadata": {
            "needs_background": "light"
          }
        }
      ]
    },
    {
      "cell_type": "markdown",
      "source": [
        "##Missing Data Percentage List"
      ],
      "metadata": {
        "id": "FbvQznRA4PCS"
      }
    },
    {
      "cell_type": "code",
      "source": [
        "# % of missing.\n",
        "for col in df.columns:\n",
        "    pct_missing = np.mean(df[col].isnull())\n",
        "    print('{} - {}%'.format(col, round(pct_missing*100)))"
      ],
      "metadata": {
        "colab": {
          "base_uri": "https://localhost:8080/"
        },
        "id": "xA5KV8Ha4OQr",
        "outputId": "5e40e967-2c8f-4eb0-dd88-46df79f750e3"
      },
      "execution_count": null,
      "outputs": [
        {
          "output_type": "stream",
          "name": "stdout",
          "text": [
            "url - 0%\n",
            "make_model - 0%\n",
            "short_description - 0%\n",
            "body_type - 0%\n",
            "price - 0%\n",
            "vat - 28%\n",
            "km - 0%\n",
            "registration - 0%\n",
            "prev_owner - 43%\n",
            "kW - 100%\n",
            "hp - 0%\n",
            "Type - 0%\n",
            "Previous Owners - 42%\n",
            "Next Inspection - 78%\n",
            "Inspection new - 75%\n",
            "Warranty - 34%\n",
            "Full Service - 48%\n",
            "Non-smoking Vehicle - 55%\n",
            "null - 0%\n",
            "Make - 0%\n",
            "Model - 0%\n",
            "Offer Number - 20%\n",
            "First Registration - 10%\n",
            "Body Color - 4%\n",
            "Paint Type - 36%\n",
            "Body Color Original - 24%\n",
            "Upholstery - 23%\n",
            "Body - 0%\n",
            "Nr. of Doors - 1%\n",
            "Nr. of Seats - 6%\n",
            "Model Code - 69%\n",
            "Gearing Type - 0%\n",
            "Displacement - 3%\n",
            "Cylinders - 36%\n",
            "Weight - 44%\n",
            "Drive chain - 43%\n",
            "Fuel - 0%\n",
            "Consumption - 12%\n",
            "CO2 Emission - 11%\n",
            "Emission Class - 19%\n",
            "Comfort_and_Convenience - 6%\n",
            "Entertainment_and_Media - 9%\n",
            "Extras - 19%\n",
            "Safety_and_Security - 6%\n",
            "description - 0%\n",
            "Emission Label - 75%\n",
            "Gears - 30%\n",
            "Country version - 52%\n",
            "Electricity consumption - 99%\n",
            "Last Service Date - 96%\n",
            "Other Fuel Types - 94%\n",
            "Availability - 96%\n",
            "Last Timing Belt Service Date - 100%\n",
            "Available from - 98%\n"
          ]
        }
      ]
    },
    {
      "cell_type": "markdown",
      "source": [
        "##Missing Data Histogram"
      ],
      "metadata": {
        "id": "eB1VxYPz4rab"
      }
    },
    {
      "cell_type": "code",
      "source": [
        "# first create missing indicator for features with missing data\n",
        "for col in df.columns:\n",
        "    missing = df[col].isnull()\n",
        "    num_missing = np.sum(missing)\n",
        "    \n",
        "    if num_missing > 0:  \n",
        "        print('created missing indicator for: {}'.format(col))\n",
        "        df['{}_ismissing'.format(col)] = missing\n",
        "\n",
        "\n",
        "# then based on the indicator, plot the histogram of missing values\n",
        "ismissing_cols = [col for col in df.columns if 'ismissing' in col]\n",
        "df['num_missing'] = df[ismissing_cols].sum(axis=1)\n",
        "df['num_missing'].value_counts().reset_index().sort_values(by='index').plot.bar(x='index', y='num_missing')\n",
        "\n",
        "plt.show()"
      ],
      "metadata": {
        "colab": {
          "base_uri": "https://localhost:8080/",
          "height": 1000
        },
        "id": "xoFX7Uej4rDb",
        "outputId": "97d61c51-4c76-4343-ea9d-e17cd3279f2b"
      },
      "execution_count": null,
      "outputs": [
        {
          "output_type": "stream",
          "name": "stdout",
          "text": [
            "created missing indicator for: short_description\n",
            "created missing indicator for: body_type\n",
            "created missing indicator for: vat\n",
            "created missing indicator for: prev_owner\n",
            "created missing indicator for: kW\n",
            "created missing indicator for: Type\n",
            "created missing indicator for: Previous Owners\n",
            "created missing indicator for: Next Inspection\n",
            "created missing indicator for: Inspection new\n",
            "created missing indicator for: Warranty\n",
            "created missing indicator for: Full Service\n",
            "created missing indicator for: Non-smoking Vehicle\n",
            "created missing indicator for: Offer Number\n",
            "created missing indicator for: First Registration\n",
            "created missing indicator for: Body Color\n",
            "created missing indicator for: Paint Type\n",
            "created missing indicator for: Body Color Original\n",
            "created missing indicator for: Upholstery\n",
            "created missing indicator for: Body\n",
            "created missing indicator for: Nr. of Doors\n",
            "created missing indicator for: Nr. of Seats\n",
            "created missing indicator for: Model Code\n",
            "created missing indicator for: Displacement\n",
            "created missing indicator for: Cylinders\n",
            "created missing indicator for: Weight\n",
            "created missing indicator for: Drive chain\n",
            "created missing indicator for: Consumption\n",
            "created missing indicator for: CO2 Emission\n",
            "created missing indicator for: Emission Class\n",
            "created missing indicator for: Comfort_and_Convenience\n",
            "created missing indicator for: Entertainment_and_Media\n",
            "created missing indicator for: Extras\n",
            "created missing indicator for: Safety_and_Security\n",
            "created missing indicator for: Emission Label\n",
            "created missing indicator for: Gears\n",
            "created missing indicator for: Country version\n",
            "created missing indicator for: Electricity consumption\n",
            "created missing indicator for: Last Service Date\n",
            "created missing indicator for: Other Fuel Types\n",
            "created missing indicator for: Availability\n",
            "created missing indicator for: Last Timing Belt Service Date\n",
            "created missing indicator for: Available from\n"
          ]
        },
        {
          "output_type": "display_data",
          "data": {
            "image/png": "[encoded data removed]",
            "text/plain": [
              "<Figure size 864x576 with 1 Axes>"
            ]
          },
          "metadata": {
            "needs_background": "light"
          }
        }
      ]
    },
    {
      "cell_type": "code",
      "source": [
        "spec_chars = [\"!\",'\"',\"#\",\"%\",\"&\",\"'\",\"(\",\")\",\n",
        "              \"*\",\"+\",\",\",\"-\",\".\",\"/\",\":\",\";\",\"<\",\n",
        "              \"=\",\">\",\"?\",\"@\",\"[\",\"\\\\\",\"]\",\"^\",\"_\",\n",
        "              \"`\",\"{\",\"|\",\"}\",\"~\",\"–\"]\n",
        "#for char in spec_chars:\n",
        "    #df['title'] = df['title'].str.replace(char, ' ')"
      ],
      "metadata": {
        "id": "4TbV0GmhTQWS"
      },
      "execution_count": null,
      "outputs": []
    },
    {
      "cell_type": "markdown",
      "source": [
        "#special  functions for missingvalue handling"
      ],
      "metadata": {
        "id": "4HfuhkuKM8Wt"
      }
    },
    {
      "cell_type": "code",
      "source": [
        "def fillallmeth(df, group_col1, group_col2, col_name, method): # method can be \"mode\" or \"mean\" or \"ffill\"\n",
        "    if method == \"mode\":\n",
        "        for group1 in list(df[group_col1].unique()):\n",
        "            for group2 in list(df[group_col2].unique()):\n",
        "                cond1 = df[group_col1]==group1\n",
        "                cond2 = (df[group_col1]==group1) & (df[group_col2]==group2)\n",
        "                mode1 = list(df[cond1][col_name].mode())\n",
        "                mode2 = list(df[cond2][col_name].mode())\n",
        "                if mode2 != []:\n",
        "                    df.loc[cond2, col_name] = df.loc[cond2, col_name].fillna(df[cond2][col_name].mode()[0])\n",
        "                elif mode1 != []:\n",
        "                    df.loc[cond2, col_name] = df.loc[cond2, col_name].fillna(df[cond1][col_name].mode()[0])\n",
        "                else:\n",
        "                    df.loc[cond2, col_name] = df.loc[cond2, col_name].fillna(df[col_name].mode()[0])\n",
        "                \n",
        "    elif method == \"mean\":\n",
        "        for group1 in list(df[group_col1].unique()):\n",
        "            for group2 in list(df[group_col2].unique()):\n",
        "                cond1 = df[group_col1]==group1\n",
        "                cond2 = (df[group_col1]==group1) & (df[group_col2]==group2)\n",
        "                df.loc[cond2, col_name] = df.loc[cond2, col_name].fillna(df[cond2][col_name].mean()).fillna(df[cond1][col_name].mean()).fillna(df[col_name].mean())\n",
        "\n",
        "\n",
        "    elif method == \"median\":\n",
        "        for group1 in list(df[group_col1].unique()):\n",
        "            for group2 in list(df[group_col2].unique()):\n",
        "                cond1 = df[group_col1]==group1\n",
        "                cond2 = (df[group_col1]==group1) & (df[group_col2]==group2)\n",
        "                df.loc[cond2, col_name] = df.loc[cond2, col_name].fillna(df[cond2][col_name].median()).fillna(df[cond1][col_name].median()).fillna(df[col_name].mean())\n",
        "\n",
        "    elif method == \"ffill\":           \n",
        "        for group1 in list(df[group_col1].unique()):\n",
        "            for group2 in list(df[group_col2].unique()):\n",
        "                cond2 = (df[group_col1]==group1) & (df[group_col2]==group2)\n",
        "                df.loc[cond2, col_name] = df.loc[cond2, col_name].fillna(method=\"ffill\").fillna(method=\"bfill\")\n",
        "                \n",
        "        for group1 in list(df[group_col1].unique()):\n",
        "            cond1 = df[group_col1]==group1\n",
        "            df.loc[cond1, col_name] = df.loc[cond1, col_name].fillna(method=\"ffill\").fillna(method=\"bfill\")            \n",
        "           \n",
        "        df[col_name] = df[col_name].fillna(method=\"ffill\").fillna(method=\"bfill\")\n",
        "    \n",
        "    print(\"Number of NaN : \",df[col_name].isnull().sum())\n",
        "    print(\"------------------\")\n",
        "    print(df[col_name].value_counts(dropna=False))"
      ],
      "metadata": {
        "id": "cqVEzy_LNM7U"
      },
      "execution_count": 8,
      "outputs": []
    },
    {
      "cell_type": "code",
      "source": [
        "def fillmean(df, group_col1, col_name,method): # method can be  \"mean\" \n",
        "    if method == \"mean\":\n",
        "        for group1 in list(df[group_col1].unique()):\n",
        "            cond1 = df[group_col1]==group1\n",
        "            df.loc[cond1, col_name] = df.loc[cond1, col_name].fillna(df[cond1][col_name].mean()).fillna(df[col_name].mean())"
      ],
      "metadata": {
        "id": "Pz-asGffNM_b"
      },
      "execution_count": 9,
      "outputs": []
    },
    {
      "cell_type": "code",
      "source": [
        "def fill_most(df, group_col, col_name):\n",
        "    #Fills the missing values with the most existing value (mode) in the relevant column according to single-stage grouping'''\n",
        "    for group in list(df[group_col].unique()):\n",
        "        cond = df[group_col]==group\n",
        "        mode = list(df[cond][col_name].mode())\n",
        "        if mode != []:\n",
        "            df.loc[cond, col_name] = df.loc[cond, col_name].fillna(df[cond][col_name].mode()[0])\n",
        "        else:\n",
        "            df.loc[cond, col_name] = df.loc[cond, col_name].fillna(df[col_name].mode()[0])\n",
        "    print(\"Number of NaN : \",df[col_name].isnull().sum())\n",
        "    print(\"------------------\")\n",
        "    print(df[col_name].value_counts(dropna=False))"
      ],
      "metadata": {
        "id": "U2586ZKENSPx"
      },
      "execution_count": 10,
      "outputs": []
    },
    {
      "cell_type": "code",
      "source": [
        "def fill_prop(df, group_col, col_name):\n",
        "    #Fills the missing values with \"ffill and bfill method\" according to single-stage grouping'''\n",
        "    for group in list(df[group_col].unique()):\n",
        "        cond = df[group_col]==group\n",
        "        df.loc[cond, col_name] = df.loc[cond, col_name].fillna(method=\"ffill\").fillna(method=\"bfill\")\n",
        "    df[col_name] = df[col_name].fillna(method=\"ffill\").fillna(method=\"bfill\")\n",
        "    print(\"Number of NaN : \",df[col_name].isnull().sum())\n",
        "    print(\"------------------\")\n",
        "    print(df[col_name].value_counts(dropna=False))"
      ],
      "metadata": {
        "id": "Qj5EU9cXNaxz"
      },
      "execution_count": 11,
      "outputs": []
    },
    {
      "cell_type": "markdown",
      "source": [
        "#***1-url***"
      ],
      "metadata": {
        "id": "KcAMfImaMizS"
      }
    },
    {
      "cell_type": "code",
      "source": [
        "df.drop(['url'], axis=1, inplace=True)# url has no affect on price so we can directly drop it"
      ],
      "metadata": {
        "id": "-7_WW5vaMiCM"
      },
      "execution_count": 12,
      "outputs": []
    },
    {
      "cell_type": "markdown",
      "source": [
        "#***2-make_model***"
      ],
      "metadata": {
        "id": "E2bWerSgNKTK"
      }
    },
    {
      "cell_type": "code",
      "source": [
        "df['make_model'].astype(str)"
      ],
      "metadata": {
        "colab": {
          "base_uri": "https://localhost:8080/"
        },
        "id": "tJsJOnTMSR4W",
        "outputId": "cff2360f-4ea6-4341-bea8-998d8b2f249e"
      },
      "execution_count": 13,
      "outputs": [
        {
          "output_type": "execute_result",
          "data": {
            "text/plain": [
              "0               Audi A1\n",
              "1               Audi A1\n",
              "2               Audi A1\n",
              "3               Audi A1\n",
              "4               Audi A1\n",
              "              ...      \n",
              "15914    Renault Espace\n",
              "15915    Renault Espace\n",
              "15916    Renault Espace\n",
              "15917    Renault Espace\n",
              "15918    Renault Espace\n",
              "Name: make_model, Length: 15919, dtype: object"
            ]
          },
          "metadata": {},
          "execution_count": 13
        }
      ]
    },
    {
      "cell_type": "code",
      "source": [
        "#df['make_model'].str.get_dummies()"
      ],
      "metadata": {
        "id": "ve7hSOXTMvH1"
      },
      "execution_count": null,
      "outputs": []
    },
    {
      "cell_type": "markdown",
      "source": [
        "#***4-body_type***"
      ],
      "metadata": {
        "id": "iE2C1AxBXUea"
      }
    },
    {
      "cell_type": "code",
      "source": [
        "df['body_type'].astype(str)"
      ],
      "metadata": {
        "colab": {
          "base_uri": "https://localhost:8080/"
        },
        "id": "k74USSspXT5J",
        "outputId": "d148b525-90bf-4a0b-e05e-26d256f20437"
      },
      "execution_count": 14,
      "outputs": [
        {
          "output_type": "execute_result",
          "data": {
            "text/plain": [
              "0        Sedans\n",
              "1        Sedans\n",
              "2        Sedans\n",
              "3        Sedans\n",
              "4        Sedans\n",
              "          ...  \n",
              "15914       Van\n",
              "15915       Van\n",
              "15916       Van\n",
              "15917       Van\n",
              "15918       Van\n",
              "Name: body_type, Length: 15919, dtype: object"
            ]
          },
          "metadata": {},
          "execution_count": 14
        }
      ]
    },
    {
      "cell_type": "code",
      "source": [
        "df['body_type'].isnull().sum()"
      ],
      "metadata": {
        "colab": {
          "base_uri": "https://localhost:8080/"
        },
        "id": "m0hixZiHhRh2",
        "outputId": "83020a04-a6bc-4c63-80f2-8794effdc494"
      },
      "execution_count": null,
      "outputs": [
        {
          "output_type": "execute_result",
          "data": {
            "text/plain": [
              "60"
            ]
          },
          "metadata": {},
          "execution_count": 22
        }
      ]
    },
    {
      "cell_type": "code",
      "source": [
        "fill_most(df,\"make_model\",'body_type')#filling missing values by grouping make and model of cars"
      ],
      "metadata": {
        "colab": {
          "base_uri": "https://localhost:8080/"
        },
        "id": "yX6D4ZYFVWwc",
        "outputId": "188080e5-7019-4ffe-e6c6-53f4173a8480"
      },
      "execution_count": 15,
      "outputs": [
        {
          "output_type": "stream",
          "name": "stdout",
          "text": [
            "Number of NaN :  0\n",
            "------------------\n",
            "Sedans           7925\n",
            "Station wagon    3563\n",
            "Compact          3155\n",
            "Van               809\n",
            "Other             290\n",
            "Transporter        88\n",
            "Off-Road           56\n",
            "Coupe              25\n",
            "Convertible         8\n",
            "Name: body_type, dtype: int64\n"
          ]
        }
      ]
    },
    {
      "cell_type": "code",
      "source": [
        "df['body_type'].str.get_dummies()"
      ],
      "metadata": {
        "id": "8hTK_48TM27S"
      },
      "execution_count": null,
      "outputs": []
    },
    {
      "cell_type": "markdown",
      "source": [
        "#***5-Price***"
      ],
      "metadata": {
        "id": "B3lahARaxZok"
      }
    },
    {
      "cell_type": "code",
      "source": [
        "df['price']"
      ],
      "metadata": {
        "colab": {
          "base_uri": "https://localhost:8080/"
        },
        "id": "UQLfIt6ywvgv",
        "outputId": "6a1b8407-ee02-474d-94b1-1b17f76e520a"
      },
      "execution_count": null,
      "outputs": [
        {
          "output_type": "execute_result",
          "data": {
            "text/plain": [
              "0        15770\n",
              "1        14500\n",
              "2        14640\n",
              "3        14500\n",
              "4        16790\n",
              "         ...  \n",
              "15914    39950\n",
              "15915    39885\n",
              "15916    39875\n",
              "15917    39700\n",
              "15918    40999\n",
              "Name: price, Length: 15919, dtype: int64"
            ]
          },
          "metadata": {},
          "execution_count": 24
        }
      ]
    },
    {
      "cell_type": "code",
      "source": [
        "df['price'].isnull().sum()"
      ],
      "metadata": {
        "colab": {
          "base_uri": "https://localhost:8080/"
        },
        "id": "jGHdPI2JxZHd",
        "outputId": "be639cdb-1b7f-43b0-cd33-396be6934697"
      },
      "execution_count": null,
      "outputs": [
        {
          "output_type": "execute_result",
          "data": {
            "text/plain": [
              "0"
            ]
          },
          "metadata": {},
          "execution_count": 164
        }
      ]
    },
    {
      "cell_type": "markdown",
      "source": [
        "#***6-vat~~~~~~~~*** "
      ],
      "metadata": {
        "id": "vZy5rZvnxr9Y"
      }
    },
    {
      "cell_type": "code",
      "source": [
        "df['vat'].value_counts(dropna=False)"
      ],
      "metadata": {
        "colab": {
          "base_uri": "https://localhost:8080/"
        },
        "id": "1UFpOTrdfdE2",
        "outputId": "d1e8bfd9-bbf3-429e-85a0-99b02527fc57"
      },
      "execution_count": null,
      "outputs": [
        {
          "output_type": "execute_result",
          "data": {
            "text/plain": [
              "VAT deductible      10980\n",
              "NaN                  4513\n",
              "Price negotiable      426\n",
              "Name: vat, dtype: int64"
            ]
          },
          "metadata": {},
          "execution_count": 25
        }
      ]
    },
    {
      "cell_type": "code",
      "source": [
        "df['vat'].isnull().sum() #missing values need to be handled"
      ],
      "metadata": {
        "colab": {
          "base_uri": "https://localhost:8080/"
        },
        "id": "Gq1O6z7kgCA_",
        "outputId": "50f1c84f-744f-4d5e-8923-75a53eabb833"
      },
      "execution_count": null,
      "outputs": [
        {
          "output_type": "execute_result",
          "data": {
            "text/plain": [
              "4513"
            ]
          },
          "metadata": {},
          "execution_count": 26
        }
      ]
    },
    {
      "cell_type": "code",
      "source": [
        "fillallmeth(df, \"price\",\"age\",\"vat\", \"ffill\")"
      ],
      "metadata": {
        "id": "RO6bdQS-W2-q",
        "colab": {
          "base_uri": "https://localhost:8080/"
        },
        "outputId": "ff802df7-c802-449c-d5dd-13297519bb52"
      },
      "execution_count": 34,
      "outputs": [
        {
          "output_type": "stream",
          "name": "stdout",
          "text": [
            "Number of NaN :  0\n",
            "------------------\n",
            "VAT deductible      14968\n",
            "Price negotiable      951\n",
            "Name: vat, dtype: int64\n"
          ]
        }
      ]
    },
    {
      "cell_type": "markdown",
      "source": [
        "#***7-km***"
      ],
      "metadata": {
        "id": "KUVs6_KLxzc0"
      }
    },
    {
      "cell_type": "code",
      "source": [
        "df[\"km\"]=df[\"km\"].str.strip('-').str.strip('km')#deleting replace ,\n",
        "df[\"km\"]"
      ],
      "metadata": {
        "colab": {
          "base_uri": "https://localhost:8080/"
        },
        "id": "88bThVvAhvOG",
        "outputId": "ac1d8cdb-52b5-4473-85d2-0e64f7278f70"
      },
      "execution_count": 17,
      "outputs": [
        {
          "output_type": "execute_result",
          "data": {
            "text/plain": [
              "0        56,013 \n",
              "1        80,000 \n",
              "2        83,450 \n",
              "3        73,000 \n",
              "4        16,200 \n",
              "          ...   \n",
              "15914           \n",
              "15915     9,900 \n",
              "15916        15 \n",
              "15917        10 \n",
              "15918           \n",
              "Name: km, Length: 15919, dtype: object"
            ]
          },
          "metadata": {},
          "execution_count": 17
        }
      ]
    },
    {
      "cell_type": "code",
      "source": [
        "df[\"km\"]=df[\"km\"].str.replace(',','', regex=True)"
      ],
      "metadata": {
        "id": "rwcVEkEaUiOo"
      },
      "execution_count": 18,
      "outputs": []
    },
    {
      "cell_type": "code",
      "source": [
        "df[\"km\"] =pd.to_numeric(df[\"km\"], errors='coerce').astype('float')\n",
        "df[\"km\"]"
      ],
      "metadata": {
        "colab": {
          "base_uri": "https://localhost:8080/"
        },
        "id": "PNEYZlLqh92z",
        "outputId": "373451e9-41d1-4a4d-f70c-fd9648b6c78a"
      },
      "execution_count": 19,
      "outputs": [
        {
          "output_type": "execute_result",
          "data": {
            "text/plain": [
              "0        56013.0\n",
              "1        80000.0\n",
              "2        83450.0\n",
              "3        73000.0\n",
              "4        16200.0\n",
              "          ...   \n",
              "15914        NaN\n",
              "15915     9900.0\n",
              "15916       15.0\n",
              "15917       10.0\n",
              "15918        NaN\n",
              "Name: km, Length: 15919, dtype: float64"
            ]
          },
          "metadata": {},
          "execution_count": 19
        }
      ]
    },
    {
      "cell_type": "code",
      "source": [
        "df.km.value_counts(dropna=False)"
      ],
      "metadata": {
        "colab": {
          "base_uri": "https://localhost:8080/"
        },
        "id": "IICouX0Rb5lW",
        "outputId": "5d5e28fb-2a56-470f-94ca-5dced8c3f5fe"
      },
      "execution_count": null,
      "outputs": [
        {
          "output_type": "execute_result",
          "data": {
            "text/plain": [
              "10.0       1045\n",
              "NaN        1024\n",
              "1.0         367\n",
              "5.0         170\n",
              "50.0        148\n",
              "           ... \n",
              "8329.0        1\n",
              "267.0         1\n",
              "1060.0        1\n",
              "73652.0       1\n",
              "49320.0       1\n",
              "Name: km, Length: 6690, dtype: int64"
            ]
          },
          "metadata": {},
          "execution_count": 41
        }
      ]
    },
    {
      "cell_type": "code",
      "source": [
        "fillmean(df,\"age\",\"km\",\"mean\")"
      ],
      "metadata": {
        "id": "nW9ccV4ay2f9"
      },
      "execution_count": 36,
      "outputs": []
    },
    {
      "cell_type": "code",
      "source": [
        "df.km.value_counts(dropna=False)"
      ],
      "metadata": {
        "colab": {
          "base_uri": "https://localhost:8080/"
        },
        "id": "x2_eT_jth0v1",
        "outputId": "facbfa29-7c68-4844-dda3-621a3cf52d40"
      },
      "execution_count": 37,
      "outputs": [
        {
          "output_type": "execute_result",
          "data": {
            "text/plain": [
              "10.000000       1045\n",
              "1647.362609      985\n",
              "1.000000         367\n",
              "5.000000         170\n",
              "50.000000        148\n",
              "                ... \n",
              "79930.000000       1\n",
              "267.000000         1\n",
              "8329.000000        1\n",
              "1060.000000        1\n",
              "15577.000000       1\n",
              "Name: km, Length: 6692, dtype: int64"
            ]
          },
          "metadata": {},
          "execution_count": 37
        }
      ]
    },
    {
      "cell_type": "code",
      "source": [
        "plt.figure(figsize=(15,10))\n",
        "plt.subplot(141)\n",
        "plt.hist(df.km, bins = 50)\n",
        "\n",
        "plt.subplot(142)\n",
        "plt.boxplot(df.km)\n",
        "\n",
        "plt.subplot(143)\n",
        "plt.boxplot(df.km, whis = 2.5)\n",
        "\n",
        "plt.subplot(144)\n",
        "plt.boxplot(np.log(df.km), whis = 2.5)\n",
        "plt.show()"
      ],
      "metadata": {
        "colab": {
          "base_uri": "https://localhost:8080/",
          "height": 628
        },
        "id": "0iMBmtacN_tR",
        "outputId": "e97d3b99-f210-4049-e5a7-c71cc8082b4b"
      },
      "execution_count": 38,
      "outputs": [
        {
          "output_type": "stream",
          "name": "stderr",
          "text": [
            "/usr/local/lib/python3.7/dist-packages/pandas/core/series.py:726: RuntimeWarning: divide by zero encountered in log\n",
            "  result = getattr(ufunc, method)(*inputs, **kwargs)\n"
          ]
        },
        {
          "output_type": "display_data",
          "data": {
            "image/png": "[encoded data removed]",
            "text/plain": [
              "<Figure size 1080x720 with 4 Axes>"
            ]
          },
          "metadata": {
            "needs_background": "light"
          }
        }
      ]
    },
    {
      "cell_type": "markdown",
      "source": [
        "We cannot drop outleirs because km of the cars can vary in a different range and up to their ages"
      ],
      "metadata": {
        "id": "v9BBQ_6XOMbZ"
      }
    },
    {
      "cell_type": "code",
      "source": [
        "#df[\"km\"].fillna(df.groupby(\"age\").km.transform(\"mean\"))"
      ],
      "metadata": {
        "id": "FIhfJ2aYRDbU"
      },
      "execution_count": null,
      "outputs": []
    },
    {
      "cell_type": "markdown",
      "source": [
        "#***8-registration*** "
      ],
      "metadata": {
        "id": "bIIsscp3x2cX"
      }
    },
    {
      "cell_type": "code",
      "source": [
        "df[\"registration\"] =  df[\"registration\"].str.strip('-/-')\n",
        "df[\"registration\"]"
      ],
      "metadata": {
        "colab": {
          "base_uri": "https://localhost:8080/"
        },
        "id": "5n2VlzkSlazs",
        "outputId": "0a32fefa-4b17-4036-916d-b83cc1c9f4b5"
      },
      "execution_count": 39,
      "outputs": [
        {
          "output_type": "execute_result",
          "data": {
            "text/plain": [
              "0        01/2016\n",
              "1        03/2017\n",
              "2        02/2016\n",
              "3        08/2016\n",
              "4        05/2016\n",
              "          ...   \n",
              "15914           \n",
              "15915    01/2019\n",
              "15916    03/2019\n",
              "15917    06/2019\n",
              "15918    01/2019\n",
              "Name: registration, Length: 15919, dtype: object"
            ]
          },
          "metadata": {},
          "execution_count": 39
        }
      ]
    },
    {
      "cell_type": "code",
      "source": [
        "df[\"registration\"] =  pd.to_datetime(df[\"registration\"]) #calculate\n",
        "df[\"registration\"]"
      ],
      "metadata": {
        "colab": {
          "base_uri": "https://localhost:8080/"
        },
        "id": "2RkZxwntxrZv",
        "outputId": "b94c5383-4876-4713-d04c-cd7ffacabf60"
      },
      "execution_count": 40,
      "outputs": [
        {
          "output_type": "execute_result",
          "data": {
            "text/plain": [
              "0       2016-01-01\n",
              "1       2017-03-01\n",
              "2       2016-02-01\n",
              "3       2016-08-01\n",
              "4       2016-05-01\n",
              "           ...    \n",
              "15914          NaT\n",
              "15915   2019-01-01\n",
              "15916   2019-03-01\n",
              "15917   2019-06-01\n",
              "15918   2019-01-01\n",
              "Name: registration, Length: 15919, dtype: datetime64[ns]"
            ]
          },
          "metadata": {},
          "execution_count": 40
        }
      ]
    },
    {
      "cell_type": "code",
      "source": [
        "df.drop([\"registration\"],axis=1, inplace=True)"
      ],
      "metadata": {
        "id": "VW1oBBSueDlW"
      },
      "execution_count": 41,
      "outputs": []
    },
    {
      "cell_type": "markdown",
      "source": [
        "#***9-\tprev_owner***"
      ],
      "metadata": {
        "id": "u1AmfVF0x5UT"
      }
    },
    {
      "cell_type": "code",
      "source": [
        "df[\"prev_owner\"] =  df[\"prev_owner\"].str.strip('previous owners') #compare to type in order to fillna in type\n",
        "df[\"prev_owner\"]"
      ],
      "metadata": {
        "colab": {
          "base_uri": "https://localhost:8080/"
        },
        "id": "BuYKJ2xymGYB",
        "outputId": "383985b2-3c81-4f11-d50f-b3243bc55607"
      },
      "execution_count": null,
      "outputs": [
        {
          "output_type": "execute_result",
          "data": {
            "text/plain": [
              "0           2\n",
              "1        None\n",
              "2           1\n",
              "3           1\n",
              "4           1\n",
              "         ... \n",
              "15914    None\n",
              "15915       1\n",
              "15916       1\n",
              "15917    None\n",
              "15918       1\n",
              "Name: prev_owner, Length: 15919, dtype: object"
            ]
          },
          "metadata": {},
          "execution_count": 402
        }
      ]
    },
    {
      "cell_type": "code",
      "source": [
        "df[\"prev_owner\"].fillna('-',inplace=True)"
      ],
      "metadata": {
        "id": "CUrgjJPfek8l"
      },
      "execution_count": null,
      "outputs": []
    },
    {
      "cell_type": "code",
      "source": [
        "df.groupby(\"prev_owner\")[\"price\"].describe(include='O')"
      ],
      "metadata": {
        "id": "33gpdgWIfHip",
        "colab": {
          "base_uri": "https://localhost:8080/",
          "height": 302
        },
        "outputId": "900771a7-8ce2-4871-e193-9afec21635e7"
      },
      "execution_count": null,
      "outputs": [
        {
          "output_type": "execute_result",
          "data": {
            "text/html": [
              "\n",
              "  <div id=\"df-cce6b53e-f7e1-4633-8c41-83d54a59d354\">\n",
              "    <div class=\"colab-df-container\">\n",
              "      <div>\n",
              "<style scoped>\n",
              "    .dataframe tbody tr th:only-of-type {\n",
              "        vertical-align: middle;\n",
              "    }\n",
              "\n",
              "    .dataframe tbody tr th {\n",
              "        vertical-align: top;\n",
              "    }\n",
              "\n",
              "    .dataframe thead th {\n",
              "        text-align: right;\n",
              "    }\n",
              "</style>\n",
              "<table border=\"1\" class=\"dataframe\">\n",
              "  <thead>\n",
              "    <tr style=\"text-align: right;\">\n",
              "      <th></th>\n",
              "      <th>count</th>\n",
              "      <th>mean</th>\n",
              "      <th>std</th>\n",
              "      <th>min</th>\n",
              "      <th>25%</th>\n",
              "      <th>50%</th>\n",
              "      <th>75%</th>\n",
              "      <th>max</th>\n",
              "    </tr>\n",
              "    <tr>\n",
              "      <th>prev_owner</th>\n",
              "      <th></th>\n",
              "      <th></th>\n",
              "      <th></th>\n",
              "      <th></th>\n",
              "      <th></th>\n",
              "      <th></th>\n",
              "      <th></th>\n",
              "      <th></th>\n",
              "    </tr>\n",
              "  </thead>\n",
              "  <tbody>\n",
              "    <tr>\n",
              "      <th>-</th>\n",
              "      <td>6828.0</td>\n",
              "      <td>19353.881664</td>\n",
              "      <td>8237.158623</td>\n",
              "      <td>13.0</td>\n",
              "      <td>13100.0</td>\n",
              "      <td>18500.0</td>\n",
              "      <td>23880.0</td>\n",
              "      <td>64900.0</td>\n",
              "    </tr>\n",
              "    <tr>\n",
              "      <th>1</th>\n",
              "      <td>8294.0</td>\n",
              "      <td>17215.676031</td>\n",
              "      <td>6575.136893</td>\n",
              "      <td>5250.0</td>\n",
              "      <td>12680.0</td>\n",
              "      <td>16275.0</td>\n",
              "      <td>20840.0</td>\n",
              "      <td>74600.0</td>\n",
              "    </tr>\n",
              "    <tr>\n",
              "      <th>2</th>\n",
              "      <td>778.0</td>\n",
              "      <td>14953.494859</td>\n",
              "      <td>5208.806727</td>\n",
              "      <td>6400.0</td>\n",
              "      <td>10950.0</td>\n",
              "      <td>14990.0</td>\n",
              "      <td>17537.5</td>\n",
              "      <td>35990.0</td>\n",
              "    </tr>\n",
              "    <tr>\n",
              "      <th>3</th>\n",
              "      <td>17.0</td>\n",
              "      <td>14676.235294</td>\n",
              "      <td>5901.805894</td>\n",
              "      <td>7500.0</td>\n",
              "      <td>10598.0</td>\n",
              "      <td>13100.0</td>\n",
              "      <td>17900.0</td>\n",
              "      <td>27000.0</td>\n",
              "    </tr>\n",
              "    <tr>\n",
              "      <th>4</th>\n",
              "      <td>2.0</td>\n",
              "      <td>20150.000000</td>\n",
              "      <td>1626.345597</td>\n",
              "      <td>19000.0</td>\n",
              "      <td>19575.0</td>\n",
              "      <td>20150.0</td>\n",
              "      <td>20725.0</td>\n",
              "      <td>21300.0</td>\n",
              "    </tr>\n",
              "  </tbody>\n",
              "</table>\n",
              "</div>\n",
              "      <button class=\"colab-df-convert\" onclick=\"convertToInteractive('df-cce6b53e-f7e1-4633-8c41-83d54a59d354')\"\n",
              "              title=\"Convert this dataframe to an interactive table.\"\n",
              "              style=\"display:none;\">\n",
              "        \n",
              "  <svg xmlns=\"http://www.w3.org/2000/svg\" height=\"24px\"viewBox=\"0 0 24 24\"\n",
              "       width=\"24px\">\n",
              "    <path d=\"M0 0h24v24H0V0z\" fill=\"none\"/>\n",
              "    <path d=\"M18.56 5.44l.94 2.06.94-2.06 2.06-.94-2.06-.94-.94-2.06-.94 2.06-2.06.94zm-11 1L8.5 8.5l.94-2.06 2.06-.94-2.06-.94L8.5 2.5l-.94 2.06-2.06.94zm10 10l.94 2.06.94-2.06 2.06-.94-2.06-.94-.94-2.06-.94 2.06-2.06.94z\"/><path d=\"M17.41 7.96l-1.37-1.37c-.4-.4-.92-.59-1.43-.59-.52 0-1.04.2-1.43.59L10.3 9.45l-7.72 7.72c-.78.78-.78 2.05 0 2.83L4 21.41c.39.39.9.59 1.41.59.51 0 1.02-.2 1.41-.59l7.78-7.78 2.81-2.81c.8-.78.8-2.07 0-2.86zM5.41 20L4 18.59l7.72-7.72 1.47 1.35L5.41 20z\"/>\n",
              "  </svg>\n",
              "      </button>\n",
              "      \n",
              "  <style>\n",
              "    .colab-df-container {\n",
              "      display:flex;\n",
              "      flex-wrap:wrap;\n",
              "      gap: 12px;\n",
              "    }\n",
              "\n",
              "    .colab-df-convert {\n",
              "      background-color: #E8F0FE;\n",
              "      border: none;\n",
              "      border-radius: 50%;\n",
              "      cursor: pointer;\n",
              "      display: none;\n",
              "      fill: #1967D2;\n",
              "      height: 32px;\n",
              "      padding: 0 0 0 0;\n",
              "      width: 32px;\n",
              "    }\n",
              "\n",
              "    .colab-df-convert:hover {\n",
              "      background-color: #E2EBFA;\n",
              "      box-shadow: 0px 1px 2px rgba(60, 64, 67, 0.3), 0px 1px 3px 1px rgba(60, 64, 67, 0.15);\n",
              "      fill: #174EA6;\n",
              "    }\n",
              "\n",
              "    [theme=dark] .colab-df-convert {\n",
              "      background-color: #3B4455;\n",
              "      fill: #D2E3FC;\n",
              "    }\n",
              "\n",
              "    [theme=dark] .colab-df-convert:hover {\n",
              "      background-color: #434B5C;\n",
              "      box-shadow: 0px 1px 3px 1px rgba(0, 0, 0, 0.15);\n",
              "      filter: drop-shadow(0px 1px 2px rgba(0, 0, 0, 0.3));\n",
              "      fill: #FFFFFF;\n",
              "    }\n",
              "  </style>\n",
              "\n",
              "      <script>\n",
              "        const buttonEl =\n",
              "          document.querySelector('#df-cce6b53e-f7e1-4633-8c41-83d54a59d354 button.colab-df-convert');\n",
              "        buttonEl.style.display =\n",
              "          google.colab.kernel.accessAllowed ? 'block' : 'none';\n",
              "\n",
              "        async function convertToInteractive(key) {\n",
              "          const element = document.querySelector('#df-cce6b53e-f7e1-4633-8c41-83d54a59d354');\n",
              "          const dataTable =\n",
              "            await google.colab.kernel.invokeFunction('convertToInteractive',\n",
              "                                                     [key], {});\n",
              "          if (!dataTable) return;\n",
              "\n",
              "          const docLinkHtml = 'Like what you see? Visit the ' +\n",
              "            '<a target=\"_blank\" href=https://colab.research.google.com/notebooks/data_table.ipynb>data table notebook</a>'\n",
              "            + ' to learn more about interactive tables.';\n",
              "          element.innerHTML = '';\n",
              "          dataTable['output_type'] = 'display_data';\n",
              "          await google.colab.output.renderOutput(dataTable, element);\n",
              "          const docLink = document.createElement('div');\n",
              "          docLink.innerHTML = docLinkHtml;\n",
              "          element.appendChild(docLink);\n",
              "        }\n",
              "      </script>\n",
              "    </div>\n",
              "  </div>\n",
              "  "
            ],
            "text/plain": [
              "             count          mean          std  ...      50%      75%      max\n",
              "prev_owner                                     ...                           \n",
              "-           6828.0  19353.881664  8237.158623  ...  18500.0  23880.0  64900.0\n",
              "1           8294.0  17215.676031  6575.136893  ...  16275.0  20840.0  74600.0\n",
              "2            778.0  14953.494859  5208.806727  ...  14990.0  17537.5  35990.0\n",
              "3             17.0  14676.235294  5901.805894  ...  13100.0  17900.0  27000.0\n",
              "4              2.0  20150.000000  1626.345597  ...  20150.0  20725.0  21300.0\n",
              "\n",
              "[5 rows x 8 columns]"
            ]
          },
          "metadata": {},
          "execution_count": 406
        }
      ]
    },
    {
      "cell_type": "code",
      "source": [
        "df.drop([\"prev_owner\"], axis=1, inplace=True)"
      ],
      "metadata": {
        "id": "wKoj758OdFop"
      },
      "execution_count": 42,
      "outputs": []
    },
    {
      "cell_type": "markdown",
      "source": [
        "#***10-kW***"
      ],
      "metadata": {
        "id": "t7JlB-Bix9Hs"
      }
    },
    {
      "cell_type": "code",
      "source": [
        "df['kW'].isnull().sum()"
      ],
      "metadata": {
        "id": "xRgBBlSkmpyQ",
        "colab": {
          "base_uri": "https://localhost:8080/"
        },
        "outputId": "0be47d1f-0efd-455a-f63a-668de71be1a0"
      },
      "execution_count": null,
      "outputs": [
        {
          "output_type": "execute_result",
          "data": {
            "text/plain": [
              "15919"
            ]
          },
          "metadata": {},
          "execution_count": 408
        }
      ]
    },
    {
      "cell_type": "code",
      "source": [
        "df.drop(['kW'], axis=1)# kW has no affect on price so we can directly drop it"
      ],
      "metadata": {
        "id": "Cdn-XPenmxzu"
      },
      "execution_count": null,
      "outputs": []
    },
    {
      "cell_type": "markdown",
      "source": [
        "#***11-hp***"
      ],
      "metadata": {
        "id": "yQAfIWwEyBF0"
      }
    },
    {
      "cell_type": "markdown",
      "source": [
        "it is easier to make more power with more cylinders. If one has two engines of similar displacement, the engine with more cylinders will generally produce more power"
      ],
      "metadata": {
        "id": "a_smGUukhJkw"
      }
    },
    {
      "cell_type": "code",
      "source": [
        "df[\"hp\"] = df.hp.str.extract('(\\d+)').astype('float')"
      ],
      "metadata": {
        "id": "JZoeXjtFksnK"
      },
      "execution_count": 44,
      "outputs": []
    },
    {
      "cell_type": "code",
      "source": [
        "df[\"hp\"].isnull().sum()"
      ],
      "metadata": {
        "colab": {
          "base_uri": "https://localhost:8080/"
        },
        "id": "456CLbajk1U6",
        "outputId": "dca0934f-58a8-42fd-88fd-701e625a9914"
      },
      "execution_count": 45,
      "outputs": [
        {
          "output_type": "execute_result",
          "data": {
            "text/plain": [
              "88"
            ]
          },
          "metadata": {},
          "execution_count": 45
        }
      ]
    },
    {
      "cell_type": "code",
      "source": [
        "df[\"hp\"].value_counts(dropna=False)"
      ],
      "metadata": {
        "colab": {
          "base_uri": "https://localhost:8080/"
        },
        "id": "yBUZC06qj-uu",
        "outputId": "fe3a2369-905b-4f6d-ffda-e0135e0d0024"
      },
      "execution_count": 55,
      "outputs": [
        {
          "output_type": "execute_result",
          "data": {
            "text/plain": [
              "85.0     2542\n",
              "66.0     2122\n",
              "81.0     1402\n",
              "100.0    1308\n",
              "110.0    1112\n",
              "         ... \n",
              "75.0        1\n",
              "115.0       1\n",
              "137.0       1\n",
              "132.0       1\n",
              "84.0        1\n",
              "Name: hp, Length: 81, dtype: int64"
            ]
          },
          "metadata": {},
          "execution_count": 55
        }
      ]
    },
    {
      "cell_type": "markdown",
      "source": [
        "![image.png](data:image/png;base64,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)"
      ],
      "metadata": {
        "id": "kQWNzAilecCQ"
      }
    },
    {
      "cell_type": "code",
      "source": [
        "fillallmeth(df, \"Cylinders\",\"Displacement\",\"hp\", \"mean\")"
      ],
      "metadata": {
        "colab": {
          "base_uri": "https://localhost:8080/"
        },
        "id": "Ek9xV1Jd-r2m",
        "outputId": "40892c08-1a5f-4a33-b7bb-ba65f39c4b62"
      },
      "execution_count": 84,
      "outputs": [
        {
          "output_type": "stream",
          "name": "stdout",
          "text": [
            "Number of NaN :  0\n",
            "------------------\n",
            "85.000000     2542\n",
            "66.000000     2122\n",
            "81.000000     1402\n",
            "100.000000    1308\n",
            "110.000000    1112\n",
            "              ... \n",
            "195.000000       1\n",
            "137.000000       1\n",
            "123.000000       1\n",
            "95.500000        1\n",
            "76.917263        1\n",
            "Name: hp, Length: 95, dtype: int64\n"
          ]
        }
      ]
    },
    {
      "cell_type": "markdown",
      "source": [
        "#***12-Type***"
      ],
      "metadata": {
        "id": "q9BVSva-yEDN"
      }
    },
    {
      "cell_type": "code",
      "source": [
        "df[\"Type\"]=df[\"Type\"].apply(lambda item: item[1] if type (item) == list else item) #cleanig the column irrelavant values,gettting the intended values\n",
        "df[\"Type\"]"
      ],
      "metadata": {
        "colab": {
          "base_uri": "https://localhost:8080/"
        },
        "id": "8ZFnCvxmyP_B",
        "outputId": "9e132b01-bcd7-4ff0-9b1b-27e78b706575"
      },
      "execution_count": 85,
      "outputs": [
        {
          "output_type": "execute_result",
          "data": {
            "text/plain": [
              "0                  Used\n",
              "1                  Used\n",
              "2                  Used\n",
              "3                  Used\n",
              "4                  Used\n",
              "              ...      \n",
              "15914               New\n",
              "15915              Used\n",
              "15916    Pre-registered\n",
              "15917    Pre-registered\n",
              "15918     Demonstration\n",
              "Name: Type, Length: 15919, dtype: object"
            ]
          },
          "metadata": {},
          "execution_count": 85
        }
      ]
    },
    {
      "cell_type": "code",
      "source": [
        "df[\"Type\"].replace('Pre-registered', 'Used',regex=True, inplace= True)"
      ],
      "metadata": {
        "id": "nFQ6NdCMtqtq"
      },
      "execution_count": 86,
      "outputs": []
    },
    {
      "cell_type": "code",
      "source": [
        "df[\"Type\"].replace(\"Employee's car\", 'Used',regex=True, inplace= True)"
      ],
      "metadata": {
        "id": "14aeq6ZKt_HG"
      },
      "execution_count": 87,
      "outputs": []
    },
    {
      "cell_type": "code",
      "source": [
        "df[\"Type\"].replace(\"Demonstration\", 'Used',regex=True, inplace= True)"
      ],
      "metadata": {
        "id": "QBGTKnsxuD3y"
      },
      "execution_count": 88,
      "outputs": []
    },
    {
      "cell_type": "code",
      "source": [
        "fill_most(df, \"age\", \"Type\")"
      ],
      "metadata": {
        "colab": {
          "base_uri": "https://localhost:8080/"
        },
        "id": "Z4b_67wFrRc3",
        "outputId": "b85923e1-903b-455f-e1dc-388b0404d0a1"
      },
      "execution_count": 89,
      "outputs": [
        {
          "output_type": "stream",
          "name": "stdout",
          "text": [
            "Number of NaN :  0\n",
            "------------------\n",
            "Used    14269\n",
            "New      1650\n",
            "Name: Type, dtype: int64\n"
          ]
        }
      ]
    },
    {
      "cell_type": "code",
      "source": [
        "df[\"Type\"].value_counts(dropna=False)"
      ],
      "metadata": {
        "colab": {
          "base_uri": "https://localhost:8080/"
        },
        "id": "AGjK-_Wur8XI",
        "outputId": "1e38991f-ba99-4beb-a4d4-75685d58cf37"
      },
      "execution_count": null,
      "outputs": [
        {
          "output_type": "execute_result",
          "data": {
            "text/plain": [
              "Used    14265\n",
              "New      1650\n",
              "4           2\n",
              "NaN         2\n",
              "Name: Type, dtype: int64"
            ]
          },
          "metadata": {},
          "execution_count": 489
        }
      ]
    },
    {
      "cell_type": "code",
      "source": [
        "df.groupby('Type')[\"price\"].describe(include='O')"
      ],
      "metadata": {
        "colab": {
          "base_uri": "https://localhost:8080/",
          "height": 187
        },
        "id": "Ew3cwqfGuqKa",
        "outputId": "f677de34-ed5f-44a6-ac92-67adf0284b39"
      },
      "execution_count": null,
      "outputs": [
        {
          "output_type": "execute_result",
          "data": {
            "text/html": [
              "\n",
              "  <div id=\"df-d7632d9f-5680-47be-a01f-67772d86f5ac\">\n",
              "    <div class=\"colab-df-container\">\n",
              "      <div>\n",
              "<style scoped>\n",
              "    .dataframe tbody tr th:only-of-type {\n",
              "        vertical-align: middle;\n",
              "    }\n",
              "\n",
              "    .dataframe tbody tr th {\n",
              "        vertical-align: top;\n",
              "    }\n",
              "\n",
              "    .dataframe thead th {\n",
              "        text-align: right;\n",
              "    }\n",
              "</style>\n",
              "<table border=\"1\" class=\"dataframe\">\n",
              "  <thead>\n",
              "    <tr style=\"text-align: right;\">\n",
              "      <th></th>\n",
              "      <th>count</th>\n",
              "      <th>mean</th>\n",
              "      <th>std</th>\n",
              "      <th>min</th>\n",
              "      <th>25%</th>\n",
              "      <th>50%</th>\n",
              "      <th>75%</th>\n",
              "      <th>max</th>\n",
              "    </tr>\n",
              "    <tr>\n",
              "      <th>Type</th>\n",
              "      <th></th>\n",
              "      <th></th>\n",
              "      <th></th>\n",
              "      <th></th>\n",
              "      <th></th>\n",
              "      <th></th>\n",
              "      <th></th>\n",
              "      <th></th>\n",
              "    </tr>\n",
              "  </thead>\n",
              "  <tbody>\n",
              "    <tr>\n",
              "      <th>New</th>\n",
              "      <td>1650.0</td>\n",
              "      <td>23769.290303</td>\n",
              "      <td>8472.449712</td>\n",
              "      <td>120.0</td>\n",
              "      <td>18206.25</td>\n",
              "      <td>23139.0</td>\n",
              "      <td>27804.0</td>\n",
              "      <td>64332.0</td>\n",
              "    </tr>\n",
              "    <tr>\n",
              "      <th>Used</th>\n",
              "      <td>14267.0</td>\n",
              "      <td>17354.461835</td>\n",
              "      <td>6950.243057</td>\n",
              "      <td>13.0</td>\n",
              "      <td>12480.00</td>\n",
              "      <td>16280.0</td>\n",
              "      <td>20990.0</td>\n",
              "      <td>74600.0</td>\n",
              "    </tr>\n",
              "  </tbody>\n",
              "</table>\n",
              "</div>\n",
              "      <button class=\"colab-df-convert\" onclick=\"convertToInteractive('df-d7632d9f-5680-47be-a01f-67772d86f5ac')\"\n",
              "              title=\"Convert this dataframe to an interactive table.\"\n",
              "              style=\"display:none;\">\n",
              "        \n",
              "  <svg xmlns=\"http://www.w3.org/2000/svg\" height=\"24px\"viewBox=\"0 0 24 24\"\n",
              "       width=\"24px\">\n",
              "    <path d=\"M0 0h24v24H0V0z\" fill=\"none\"/>\n",
              "    <path d=\"M18.56 5.44l.94 2.06.94-2.06 2.06-.94-2.06-.94-.94-2.06-.94 2.06-2.06.94zm-11 1L8.5 8.5l.94-2.06 2.06-.94-2.06-.94L8.5 2.5l-.94 2.06-2.06.94zm10 10l.94 2.06.94-2.06 2.06-.94-2.06-.94-.94-2.06-.94 2.06-2.06.94z\"/><path d=\"M17.41 7.96l-1.37-1.37c-.4-.4-.92-.59-1.43-.59-.52 0-1.04.2-1.43.59L10.3 9.45l-7.72 7.72c-.78.78-.78 2.05 0 2.83L4 21.41c.39.39.9.59 1.41.59.51 0 1.02-.2 1.41-.59l7.78-7.78 2.81-2.81c.8-.78.8-2.07 0-2.86zM5.41 20L4 18.59l7.72-7.72 1.47 1.35L5.41 20z\"/>\n",
              "  </svg>\n",
              "      </button>\n",
              "      \n",
              "  <style>\n",
              "    .colab-df-container {\n",
              "      display:flex;\n",
              "      flex-wrap:wrap;\n",
              "      gap: 12px;\n",
              "    }\n",
              "\n",
              "    .colab-df-convert {\n",
              "      background-color: #E8F0FE;\n",
              "      border: none;\n",
              "      border-radius: 50%;\n",
              "      cursor: pointer;\n",
              "      display: none;\n",
              "      fill: #1967D2;\n",
              "      height: 32px;\n",
              "      padding: 0 0 0 0;\n",
              "      width: 32px;\n",
              "    }\n",
              "\n",
              "    .colab-df-convert:hover {\n",
              "      background-color: #E2EBFA;\n",
              "      box-shadow: 0px 1px 2px rgba(60, 64, 67, 0.3), 0px 1px 3px 1px rgba(60, 64, 67, 0.15);\n",
              "      fill: #174EA6;\n",
              "    }\n",
              "\n",
              "    [theme=dark] .colab-df-convert {\n",
              "      background-color: #3B4455;\n",
              "      fill: #D2E3FC;\n",
              "    }\n",
              "\n",
              "    [theme=dark] .colab-df-convert:hover {\n",
              "      background-color: #434B5C;\n",
              "      box-shadow: 0px 1px 3px 1px rgba(0, 0, 0, 0.15);\n",
              "      filter: drop-shadow(0px 1px 2px rgba(0, 0, 0, 0.3));\n",
              "      fill: #FFFFFF;\n",
              "    }\n",
              "  </style>\n",
              "\n",
              "      <script>\n",
              "        const buttonEl =\n",
              "          document.querySelector('#df-d7632d9f-5680-47be-a01f-67772d86f5ac button.colab-df-convert');\n",
              "        buttonEl.style.display =\n",
              "          google.colab.kernel.accessAllowed ? 'block' : 'none';\n",
              "\n",
              "        async function convertToInteractive(key) {\n",
              "          const element = document.querySelector('#df-d7632d9f-5680-47be-a01f-67772d86f5ac');\n",
              "          const dataTable =\n",
              "            await google.colab.kernel.invokeFunction('convertToInteractive',\n",
              "                                                     [key], {});\n",
              "          if (!dataTable) return;\n",
              "\n",
              "          const docLinkHtml = 'Like what you see? Visit the ' +\n",
              "            '<a target=\"_blank\" href=https://colab.research.google.com/notebooks/data_table.ipynb>data table notebook</a>'\n",
              "            + ' to learn more about interactive tables.';\n",
              "          element.innerHTML = '';\n",
              "          dataTable['output_type'] = 'display_data';\n",
              "          await google.colab.output.renderOutput(dataTable, element);\n",
              "          const docLink = document.createElement('div');\n",
              "          docLink.innerHTML = docLinkHtml;\n",
              "          element.appendChild(docLink);\n",
              "        }\n",
              "      </script>\n",
              "    </div>\n",
              "  </div>\n",
              "  "
            ],
            "text/plain": [
              "        count          mean          std  ...      50%      75%      max\n",
              "Type                                      ...                           \n",
              "New    1650.0  23769.290303  8472.449712  ...  23139.0  27804.0  64332.0\n",
              "Used  14267.0  17354.461835  6950.243057  ...  16280.0  20990.0  74600.0\n",
              "\n",
              "[2 rows x 8 columns]"
            ]
          },
          "metadata": {},
          "execution_count": 87
        }
      ]
    },
    {
      "cell_type": "code",
      "source": [
        "df.groupby('Type')[\"price\"].describe(include='O')"
      ],
      "metadata": {
        "id": "nD2jv81bvAZh",
        "colab": {
          "base_uri": "https://localhost:8080/",
          "height": 238
        },
        "outputId": "2b4c76ec-a292-497b-aaa8-a7b31de49ddc"
      },
      "execution_count": null,
      "outputs": [
        {
          "output_type": "execute_result",
          "data": {
            "text/html": [
              "\n",
              "  <div id=\"df-2dace501-618a-4fbc-be93-c0001eb1ad98\">\n",
              "    <div class=\"colab-df-container\">\n",
              "      <div>\n",
              "<style scoped>\n",
              "    .dataframe tbody tr th:only-of-type {\n",
              "        vertical-align: middle;\n",
              "    }\n",
              "\n",
              "    .dataframe tbody tr th {\n",
              "        vertical-align: top;\n",
              "    }\n",
              "\n",
              "    .dataframe thead th {\n",
              "        text-align: right;\n",
              "    }\n",
              "</style>\n",
              "<table border=\"1\" class=\"dataframe\">\n",
              "  <thead>\n",
              "    <tr style=\"text-align: right;\">\n",
              "      <th></th>\n",
              "      <th>count</th>\n",
              "      <th>mean</th>\n",
              "      <th>std</th>\n",
              "      <th>min</th>\n",
              "      <th>25%</th>\n",
              "      <th>50%</th>\n",
              "      <th>75%</th>\n",
              "      <th>max</th>\n",
              "    </tr>\n",
              "    <tr>\n",
              "      <th>Type</th>\n",
              "      <th></th>\n",
              "      <th></th>\n",
              "      <th></th>\n",
              "      <th></th>\n",
              "      <th></th>\n",
              "      <th></th>\n",
              "      <th></th>\n",
              "      <th></th>\n",
              "    </tr>\n",
              "  </thead>\n",
              "  <tbody>\n",
              "    <tr>\n",
              "      <th>Demonstration</th>\n",
              "      <td>796.0</td>\n",
              "      <td>25774.386935</td>\n",
              "      <td>10040.523420</td>\n",
              "      <td>8990.0</td>\n",
              "      <td>17890.00</td>\n",
              "      <td>24890.0</td>\n",
              "      <td>33590.0</td>\n",
              "      <td>68320.0</td>\n",
              "    </tr>\n",
              "    <tr>\n",
              "      <th>Employee's car</th>\n",
              "      <td>1011.0</td>\n",
              "      <td>18398.100890</td>\n",
              "      <td>5688.210640</td>\n",
              "      <td>6950.0</td>\n",
              "      <td>14857.50</td>\n",
              "      <td>18800.0</td>\n",
              "      <td>21745.0</td>\n",
              "      <td>47590.0</td>\n",
              "    </tr>\n",
              "    <tr>\n",
              "      <th>New</th>\n",
              "      <td>1650.0</td>\n",
              "      <td>23769.290303</td>\n",
              "      <td>8472.449712</td>\n",
              "      <td>120.0</td>\n",
              "      <td>18206.25</td>\n",
              "      <td>23139.0</td>\n",
              "      <td>27804.0</td>\n",
              "      <td>64332.0</td>\n",
              "    </tr>\n",
              "    <tr>\n",
              "      <th>Pre-registered</th>\n",
              "      <td>1364.0</td>\n",
              "      <td>20743.063050</td>\n",
              "      <td>8223.419727</td>\n",
              "      <td>6950.0</td>\n",
              "      <td>11489.00</td>\n",
              "      <td>21470.0</td>\n",
              "      <td>26200.0</td>\n",
              "      <td>48490.0</td>\n",
              "    </tr>\n",
              "    <tr>\n",
              "      <th>Used</th>\n",
              "      <td>11096.0</td>\n",
              "      <td>16238.795692</td>\n",
              "      <td>5982.753241</td>\n",
              "      <td>13.0</td>\n",
              "      <td>11980.00</td>\n",
              "      <td>15850.0</td>\n",
              "      <td>19750.0</td>\n",
              "      <td>74600.0</td>\n",
              "    </tr>\n",
              "  </tbody>\n",
              "</table>\n",
              "</div>\n",
              "      <button class=\"colab-df-convert\" onclick=\"convertToInteractive('df-2dace501-618a-4fbc-be93-c0001eb1ad98')\"\n",
              "              title=\"Convert this dataframe to an interactive table.\"\n",
              "              style=\"display:none;\">\n",
              "        \n",
              "  <svg xmlns=\"http://www.w3.org/2000/svg\" height=\"24px\"viewBox=\"0 0 24 24\"\n",
              "       width=\"24px\">\n",
              "    <path d=\"M0 0h24v24H0V0z\" fill=\"none\"/>\n",
              "    <path d=\"M18.56 5.44l.94 2.06.94-2.06 2.06-.94-2.06-.94-.94-2.06-.94 2.06-2.06.94zm-11 1L8.5 8.5l.94-2.06 2.06-.94-2.06-.94L8.5 2.5l-.94 2.06-2.06.94zm10 10l.94 2.06.94-2.06 2.06-.94-2.06-.94-.94-2.06-.94 2.06-2.06.94z\"/><path d=\"M17.41 7.96l-1.37-1.37c-.4-.4-.92-.59-1.43-.59-.52 0-1.04.2-1.43.59L10.3 9.45l-7.72 7.72c-.78.78-.78 2.05 0 2.83L4 21.41c.39.39.9.59 1.41.59.51 0 1.02-.2 1.41-.59l7.78-7.78 2.81-2.81c.8-.78.8-2.07 0-2.86zM5.41 20L4 18.59l7.72-7.72 1.47 1.35L5.41 20z\"/>\n",
              "  </svg>\n",
              "      </button>\n",
              "      \n",
              "  <style>\n",
              "    .colab-df-container {\n",
              "      display:flex;\n",
              "      flex-wrap:wrap;\n",
              "      gap: 12px;\n",
              "    }\n",
              "\n",
              "    .colab-df-convert {\n",
              "      background-color: #E8F0FE;\n",
              "      border: none;\n",
              "      border-radius: 50%;\n",
              "      cursor: pointer;\n",
              "      display: none;\n",
              "      fill: #1967D2;\n",
              "      height: 32px;\n",
              "      padding: 0 0 0 0;\n",
              "      width: 32px;\n",
              "    }\n",
              "\n",
              "    .colab-df-convert:hover {\n",
              "      background-color: #E2EBFA;\n",
              "      box-shadow: 0px 1px 2px rgba(60, 64, 67, 0.3), 0px 1px 3px 1px rgba(60, 64, 67, 0.15);\n",
              "      fill: #174EA6;\n",
              "    }\n",
              "\n",
              "    [theme=dark] .colab-df-convert {\n",
              "      background-color: #3B4455;\n",
              "      fill: #D2E3FC;\n",
              "    }\n",
              "\n",
              "    [theme=dark] .colab-df-convert:hover {\n",
              "      background-color: #434B5C;\n",
              "      box-shadow: 0px 1px 3px 1px rgba(0, 0, 0, 0.15);\n",
              "      filter: drop-shadow(0px 1px 2px rgba(0, 0, 0, 0.3));\n",
              "      fill: #FFFFFF;\n",
              "    }\n",
              "  </style>\n",
              "\n",
              "      <script>\n",
              "        const buttonEl =\n",
              "          document.querySelector('#df-2dace501-618a-4fbc-be93-c0001eb1ad98 button.colab-df-convert');\n",
              "        buttonEl.style.display =\n",
              "          google.colab.kernel.accessAllowed ? 'block' : 'none';\n",
              "\n",
              "        async function convertToInteractive(key) {\n",
              "          const element = document.querySelector('#df-2dace501-618a-4fbc-be93-c0001eb1ad98');\n",
              "          const dataTable =\n",
              "            await google.colab.kernel.invokeFunction('convertToInteractive',\n",
              "                                                     [key], {});\n",
              "          if (!dataTable) return;\n",
              "\n",
              "          const docLinkHtml = 'Like what you see? Visit the ' +\n",
              "            '<a target=\"_blank\" href=https://colab.research.google.com/notebooks/data_table.ipynb>data table notebook</a>'\n",
              "            + ' to learn more about interactive tables.';\n",
              "          element.innerHTML = '';\n",
              "          dataTable['output_type'] = 'display_data';\n",
              "          await google.colab.output.renderOutput(dataTable, element);\n",
              "          const docLink = document.createElement('div');\n",
              "          docLink.innerHTML = docLinkHtml;\n",
              "          element.appendChild(docLink);\n",
              "        }\n",
              "      </script>\n",
              "    </div>\n",
              "  </div>\n",
              "  "
            ],
            "text/plain": [
              "                  count          mean           std  ...      50%      75%      max\n",
              "Type                                                 ...                           \n",
              "Demonstration     796.0  25774.386935  10040.523420  ...  24890.0  33590.0  68320.0\n",
              "Employee's car   1011.0  18398.100890   5688.210640  ...  18800.0  21745.0  47590.0\n",
              "New              1650.0  23769.290303   8472.449712  ...  23139.0  27804.0  64332.0\n",
              "Pre-registered   1364.0  20743.063050   8223.419727  ...  21470.0  26200.0  48490.0\n",
              "Used            11096.0  16238.795692   5982.753241  ...  15850.0  19750.0  74600.0\n",
              "\n",
              "[5 rows x 8 columns]"
            ]
          },
          "metadata": {},
          "execution_count": 318
        }
      ]
    },
    {
      "cell_type": "markdown",
      "source": [
        "#***13-Previous Owners***"
      ],
      "metadata": {
        "id": "ikdmW33MyIYf"
      }
    },
    {
      "cell_type": "code",
      "source": [
        "df[\"Previous Owners\"]=df[\"Previous Owners\"].str.strip('\\n')\n",
        "df[\"Previous Owners\"]"
      ],
      "metadata": {
        "colab": {
          "base_uri": "https://localhost:8080/"
        },
        "id": "fkQu_0uxE6Pu",
        "outputId": "b27e6dcc-a407-4f3a-8539-ef7eed015899"
      },
      "execution_count": null,
      "outputs": [
        {
          "output_type": "execute_result",
          "data": {
            "text/plain": [
              "0          2\n",
              "1        NaN\n",
              "2          1\n",
              "3          1\n",
              "4          1\n",
              "        ... \n",
              "15914    NaN\n",
              "15915    NaN\n",
              "15916    NaN\n",
              "15917    NaN\n",
              "15918      1\n",
              "Name: Previous Owners, Length: 15919, dtype: object"
            ]
          },
          "metadata": {},
          "execution_count": 88
        }
      ]
    },
    {
      "cell_type": "code",
      "source": [
        "df.drop([\"Previous Owners\"], axis=1)# Previous Owners and Type contain same information "
      ],
      "metadata": {
        "id": "Fq2Rj717KuEd"
      },
      "execution_count": null,
      "outputs": []
    },
    {
      "cell_type": "markdown",
      "source": [
        "#***14-Next Inspection***"
      ],
      "metadata": {
        "id": "ZGKskVIvyMWp"
      }
    },
    {
      "cell_type": "code",
      "source": [
        "df[\"Next Inspection\"]=df[\"Next Inspection\"].apply(lambda item: item[0] if type (item) == list else item) #cleanig the column irrelavant values,gettting the intended values\n",
        "df[\"Next Inspection\"]"
      ],
      "metadata": {
        "colab": {
          "base_uri": "https://localhost:8080/"
        },
        "id": "5ys8egHYFksT",
        "outputId": "4bd543a1-c1e1-4447-f2b3-385e1f463306"
      },
      "execution_count": null,
      "outputs": [
        {
          "output_type": "execute_result",
          "data": {
            "text/plain": [
              "0        \\n06/2021\\n\n",
              "1                NaN\n",
              "2                NaN\n",
              "3                NaN\n",
              "4                NaN\n",
              "            ...     \n",
              "15914            NaN\n",
              "15915    \\n01/2022\\n\n",
              "15916            NaN\n",
              "15917            NaN\n",
              "15918            NaN\n",
              "Name: Next Inspection, Length: 15919, dtype: object"
            ]
          },
          "metadata": {},
          "execution_count": 197
        }
      ]
    },
    {
      "cell_type": "code",
      "source": [
        "df[\"Next Inspection\"]=df[\"Next Inspection\"].str.strip('\\n')"
      ],
      "metadata": {
        "id": "rSDBk_5vFdfb"
      },
      "execution_count": null,
      "outputs": []
    },
    {
      "cell_type": "code",
      "source": [
        "df[\"Next Inspection\"].value_counts(dropna=False)"
      ],
      "metadata": {
        "colab": {
          "base_uri": "https://localhost:8080/"
        },
        "id": "L6opv19XIkUt",
        "outputId": "7e678538-f671-48c5-dc45-6985bea01fab"
      },
      "execution_count": null,
      "outputs": [
        {
          "output_type": "execute_result",
          "data": {
            "text/plain": [
              "NaT           15209\n",
              "2022-04-01       62\n",
              "2021-03-01       38\n",
              "2022-03-01       36\n",
              "2021-06-01       34\n",
              "              ...  \n",
              "1999-01-01        1\n",
              "2018-06-01        1\n",
              "2019-01-01        1\n",
              "2018-08-01        1\n",
              "1955-01-01        1\n",
              "Name: Next Inspection, Length: 65, dtype: int64"
            ]
          },
          "metadata": {},
          "execution_count": 92
        }
      ]
    },
    {
      "cell_type": "code",
      "source": [
        "df[\"Next Inspection\"] =  pd.to_datetime(df[\"Next Inspection\"])\n",
        "df[\"Next Inspection\"]"
      ],
      "metadata": {
        "colab": {
          "base_uri": "https://localhost:8080/"
        },
        "id": "8omt4z1yGOtt",
        "outputId": "1344ecba-42c2-4ab7-dad0-40cf68fc606d"
      },
      "execution_count": null,
      "outputs": [
        {
          "output_type": "execute_result",
          "data": {
            "text/plain": [
              "0       NaT\n",
              "1       NaT\n",
              "2       NaT\n",
              "3       NaT\n",
              "4       NaT\n",
              "         ..\n",
              "15914   NaT\n",
              "15915   NaT\n",
              "15916   NaT\n",
              "15917   NaT\n",
              "15918   NaT\n",
              "Name: Next Inspection, Length: 15919, dtype: datetime64[ns]"
            ]
          },
          "metadata": {},
          "execution_count": 91
        }
      ]
    },
    {
      "cell_type": "code",
      "source": [
        "df.drop([\"Next Inspection\"], axis=1)# Next Inspection and Inspection new  contain same information"
      ],
      "metadata": {
        "id": "N_ql3m_GKcSF"
      },
      "execution_count": null,
      "outputs": []
    },
    {
      "cell_type": "markdown",
      "source": [
        "#***15-Inspection new***"
      ],
      "metadata": {
        "id": "Rmd0sj-KySLk"
      }
    },
    {
      "cell_type": "code",
      "source": [
        "df[\"Inspection new\"]=df[\"Inspection new\"].apply(lambda item: item[0] if type (item) == list else item)\n",
        "df[\"Inspection new\"]"
      ],
      "metadata": {
        "colab": {
          "base_uri": "https://localhost:8080/"
        },
        "id": "0wwjsq21Lr-g",
        "outputId": "8b4d0be3-2cc4-4e54-e46f-f76494325447"
      },
      "execution_count": null,
      "outputs": [
        {
          "output_type": "execute_result",
          "data": {
            "text/plain": [
              "0        \\nYes\\n\n",
              "1            NaN\n",
              "2            NaN\n",
              "3            NaN\n",
              "4        \\nYes\\n\n",
              "          ...   \n",
              "15914        NaN\n",
              "15915        NaN\n",
              "15916    \\nYes\\n\n",
              "15917        NaN\n",
              "15918    \\nYes\\n\n",
              "Name: Inspection new, Length: 15919, dtype: object"
            ]
          },
          "metadata": {},
          "execution_count": 495
        }
      ]
    },
    {
      "cell_type": "code",
      "source": [
        "df[\"Inspection new\"]=df[\"Inspection new\"].str.strip('\\n')"
      ],
      "metadata": {
        "id": "Cua7tVWnLzBV"
      },
      "execution_count": null,
      "outputs": []
    },
    {
      "cell_type": "code",
      "source": [
        "fill_most(df, \"age\", \"Inspection new\")"
      ],
      "metadata": {
        "colab": {
          "base_uri": "https://localhost:8080/"
        },
        "id": "MZyguD0BI7WQ",
        "outputId": "fdb1cce0-b05a-45ef-a5bb-3bc6e3b8e531"
      },
      "execution_count": null,
      "outputs": [
        {
          "output_type": "stream",
          "name": "stdout",
          "text": [
            "Number of NaN :  0\n",
            "------------------\n",
            "Yes    15919\n",
            "Name: Inspection new, dtype: int64\n"
          ]
        }
      ]
    },
    {
      "cell_type": "code",
      "source": [
        "df.drop(\"Inspection new\", axis=1, inplace=True)"
      ],
      "metadata": {
        "id": "zQZTl9vasv77"
      },
      "execution_count": 92,
      "outputs": []
    },
    {
      "cell_type": "markdown",
      "source": [
        "#***16-Warranty***"
      ],
      "metadata": {
        "id": "PX8Iz8CfySI6"
      }
    },
    {
      "cell_type": "code",
      "source": [
        "df[\"Warranty\"]=df[\"Warranty\"].apply(lambda item: item[0] if type (item) == list else item) #cleanig the column irrelavant values,gettting the intended values\n",
        "df[\"Warranty\"]"
      ],
      "metadata": {
        "colab": {
          "base_uri": "https://localhost:8080/"
        },
        "id": "Fp0RQruEMi-C",
        "outputId": "d9c1ff07-59b0-4032-e6a5-9795c32ce267"
      },
      "execution_count": 93,
      "outputs": [
        {
          "output_type": "execute_result",
          "data": {
            "text/plain": [
              "0                   \\n\n",
              "1                  NaN\n",
              "2                   \\n\n",
              "3                  NaN\n",
              "4                   \\n\n",
              "             ...      \n",
              "15914    \\n24 months\\n\n",
              "15915               \\n\n",
              "15916               \\n\n",
              "15917               \\n\n",
              "15918              NaN\n",
              "Name: Warranty, Length: 15919, dtype: object"
            ]
          },
          "metadata": {},
          "execution_count": 93
        }
      ]
    },
    {
      "cell_type": "code",
      "source": [
        "df[\"Warranty\"]=df[\"Warranty\"].str.strip('\\n').str.strip('months')#.str.strip('inf')\n",
        "df[\"Warranty\"]"
      ],
      "metadata": {
        "colab": {
          "base_uri": "https://localhost:8080/"
        },
        "id": "-NED0eCvMjfd",
        "outputId": "51ab9bac-fd2f-4670-9e5a-a18aa845cc4a"
      },
      "execution_count": 94,
      "outputs": [
        {
          "output_type": "execute_result",
          "data": {
            "text/plain": [
              "0           \n",
              "1        NaN\n",
              "2           \n",
              "3        NaN\n",
              "4           \n",
              "        ... \n",
              "15914    24 \n",
              "15915       \n",
              "15916       \n",
              "15917       \n",
              "15918    NaN\n",
              "Name: Warranty, Length: 15919, dtype: object"
            ]
          },
          "metadata": {},
          "execution_count": 94
        }
      ]
    },
    {
      "cell_type": "code",
      "source": [
        "df[\"Warranty\"]=df[\"Warranty\"].str.strip(\"\\''\")"
      ],
      "metadata": {
        "id": "GhyH4h03K0r-"
      },
      "execution_count": 95,
      "outputs": []
    },
    {
      "cell_type": "code",
      "source": [
        "df.groupby([\"Warranty\"])['price'].describe(include='O')"
      ],
      "metadata": {
        "colab": {
          "base_uri": "https://localhost:8080/",
          "height": 1000
        },
        "id": "HIe-nI5bKqN_",
        "outputId": "bbc37ef3-d6c6-4584-a362-da9b01cd17c5"
      },
      "execution_count": null,
      "outputs": [
        {
          "output_type": "execute_result",
          "data": {
            "text/html": [
              "\n",
              "  <div id=\"df-85d5c489-90f2-4e85-9b93-4f56ba869186\">\n",
              "    <div class=\"colab-df-container\">\n",
              "      <div>\n",
              "<style scoped>\n",
              "    .dataframe tbody tr th:only-of-type {\n",
              "        vertical-align: middle;\n",
              "    }\n",
              "\n",
              "    .dataframe tbody tr th {\n",
              "        vertical-align: top;\n",
              "    }\n",
              "\n",
              "    .dataframe thead th {\n",
              "        text-align: right;\n",
              "    }\n",
              "</style>\n",
              "<table border=\"1\" class=\"dataframe\">\n",
              "  <thead>\n",
              "    <tr style=\"text-align: right;\">\n",
              "      <th></th>\n",
              "      <th>count</th>\n",
              "      <th>mean</th>\n",
              "      <th>std</th>\n",
              "      <th>min</th>\n",
              "      <th>25%</th>\n",
              "      <th>50%</th>\n",
              "      <th>75%</th>\n",
              "      <th>max</th>\n",
              "    </tr>\n",
              "    <tr>\n",
              "      <th>Warranty</th>\n",
              "      <th></th>\n",
              "      <th></th>\n",
              "      <th></th>\n",
              "      <th></th>\n",
              "      <th></th>\n",
              "      <th></th>\n",
              "      <th></th>\n",
              "      <th></th>\n",
              "    </tr>\n",
              "  </thead>\n",
              "  <tbody>\n",
              "    <tr>\n",
              "      <th></th>\n",
              "      <td>5646.0</td>\n",
              "      <td>18976.718385</td>\n",
              "      <td>6974.574757</td>\n",
              "      <td>120.0</td>\n",
              "      <td>14480.00</td>\n",
              "      <td>17980.0</td>\n",
              "      <td>22396.75</td>\n",
              "      <td>64298.0</td>\n",
              "    </tr>\n",
              "    <tr>\n",
              "      <th>1</th>\n",
              "      <td>3.0</td>\n",
              "      <td>18383.333333</td>\n",
              "      <td>4269.292486</td>\n",
              "      <td>13455.0</td>\n",
              "      <td>17100.00</td>\n",
              "      <td>20745.0</td>\n",
              "      <td>20847.50</td>\n",
              "      <td>20950.0</td>\n",
              "    </tr>\n",
              "    <tr>\n",
              "      <th>10</th>\n",
              "      <td>1.0</td>\n",
              "      <td>19990.000000</td>\n",
              "      <td>NaN</td>\n",
              "      <td>19990.0</td>\n",
              "      <td>19990.00</td>\n",
              "      <td>19990.0</td>\n",
              "      <td>19990.00</td>\n",
              "      <td>19990.0</td>\n",
              "    </tr>\n",
              "    <tr>\n",
              "      <th>11</th>\n",
              "      <td>2.0</td>\n",
              "      <td>20897.000000</td>\n",
              "      <td>8341.031591</td>\n",
              "      <td>14999.0</td>\n",
              "      <td>17948.00</td>\n",
              "      <td>20897.0</td>\n",
              "      <td>23846.00</td>\n",
              "      <td>26795.0</td>\n",
              "    </tr>\n",
              "    <tr>\n",
              "      <th>12</th>\n",
              "      <td>2594.0</td>\n",
              "      <td>15659.426754</td>\n",
              "      <td>5810.190585</td>\n",
              "      <td>5250.0</td>\n",
              "      <td>11410.00</td>\n",
              "      <td>14950.0</td>\n",
              "      <td>18990.00</td>\n",
              "      <td>51900.0</td>\n",
              "    </tr>\n",
              "    <tr>\n",
              "      <th>13</th>\n",
              "      <td>3.0</td>\n",
              "      <td>16746.666667</td>\n",
              "      <td>6298.137291</td>\n",
              "      <td>9500.0</td>\n",
              "      <td>14670.00</td>\n",
              "      <td>19840.0</td>\n",
              "      <td>20370.00</td>\n",
              "      <td>20900.0</td>\n",
              "    </tr>\n",
              "    <tr>\n",
              "      <th>14</th>\n",
              "      <td>2.0</td>\n",
              "      <td>24990.000000</td>\n",
              "      <td>1414.213562</td>\n",
              "      <td>23990.0</td>\n",
              "      <td>24490.00</td>\n",
              "      <td>24990.0</td>\n",
              "      <td>25490.00</td>\n",
              "      <td>25990.0</td>\n",
              "    </tr>\n",
              "    <tr>\n",
              "      <th>15</th>\n",
              "      <td>1.0</td>\n",
              "      <td>21450.000000</td>\n",
              "      <td>NaN</td>\n",
              "      <td>21450.0</td>\n",
              "      <td>21450.00</td>\n",
              "      <td>21450.0</td>\n",
              "      <td>21450.00</td>\n",
              "      <td>21450.0</td>\n",
              "    </tr>\n",
              "    <tr>\n",
              "      <th>16</th>\n",
              "      <td>4.0</td>\n",
              "      <td>24730.750000</td>\n",
              "      <td>11677.216660</td>\n",
              "      <td>10893.0</td>\n",
              "      <td>18960.75</td>\n",
              "      <td>24570.0</td>\n",
              "      <td>30340.00</td>\n",
              "      <td>38890.0</td>\n",
              "    </tr>\n",
              "    <tr>\n",
              "      <th>17</th>\n",
              "      <td>2.0</td>\n",
              "      <td>8944.500000</td>\n",
              "      <td>1761.402992</td>\n",
              "      <td>7699.0</td>\n",
              "      <td>8321.75</td>\n",
              "      <td>8944.5</td>\n",
              "      <td>9567.25</td>\n",
              "      <td>10190.0</td>\n",
              "    </tr>\n",
              "    <tr>\n",
              "      <th>18</th>\n",
              "      <td>10.0</td>\n",
              "      <td>23056.900000</td>\n",
              "      <td>4335.446599</td>\n",
              "      <td>16999.0</td>\n",
              "      <td>20625.00</td>\n",
              "      <td>21997.5</td>\n",
              "      <td>23972.50</td>\n",
              "      <td>30800.0</td>\n",
              "    </tr>\n",
              "    <tr>\n",
              "      <th>19</th>\n",
              "      <td>3.0</td>\n",
              "      <td>24665.333333</td>\n",
              "      <td>2798.106741</td>\n",
              "      <td>21450.0</td>\n",
              "      <td>23724.00</td>\n",
              "      <td>25998.0</td>\n",
              "      <td>26273.00</td>\n",
              "      <td>26548.0</td>\n",
              "    </tr>\n",
              "    <tr>\n",
              "      <th>2</th>\n",
              "      <td>5.0</td>\n",
              "      <td>14604.000000</td>\n",
              "      <td>2709.368930</td>\n",
              "      <td>10750.0</td>\n",
              "      <td>12990.00</td>\n",
              "      <td>15290.0</td>\n",
              "      <td>16990.00</td>\n",
              "      <td>17000.0</td>\n",
              "    </tr>\n",
              "    <tr>\n",
              "      <th>20</th>\n",
              "      <td>7.0</td>\n",
              "      <td>21154.142857</td>\n",
              "      <td>9026.598481</td>\n",
              "      <td>11999.0</td>\n",
              "      <td>15470.00</td>\n",
              "      <td>18750.0</td>\n",
              "      <td>25745.00</td>\n",
              "      <td>34900.0</td>\n",
              "    </tr>\n",
              "    <tr>\n",
              "      <th>21</th>\n",
              "      <td>2.0</td>\n",
              "      <td>26220.000000</td>\n",
              "      <td>325.269119</td>\n",
              "      <td>25990.0</td>\n",
              "      <td>26105.00</td>\n",
              "      <td>26220.0</td>\n",
              "      <td>26335.00</td>\n",
              "      <td>26450.0</td>\n",
              "    </tr>\n",
              "    <tr>\n",
              "      <th>22</th>\n",
              "      <td>2.0</td>\n",
              "      <td>20175.000000</td>\n",
              "      <td>813.172798</td>\n",
              "      <td>19600.0</td>\n",
              "      <td>19887.50</td>\n",
              "      <td>20175.0</td>\n",
              "      <td>20462.50</td>\n",
              "      <td>20750.0</td>\n",
              "    </tr>\n",
              "    <tr>\n",
              "      <th>23</th>\n",
              "      <td>11.0</td>\n",
              "      <td>15376.000000</td>\n",
              "      <td>7937.432330</td>\n",
              "      <td>10990.0</td>\n",
              "      <td>11240.00</td>\n",
              "      <td>12170.0</td>\n",
              "      <td>14783.00</td>\n",
              "      <td>37600.0</td>\n",
              "    </tr>\n",
              "    <tr>\n",
              "      <th>24</th>\n",
              "      <td>1118.0</td>\n",
              "      <td>20045.742397</td>\n",
              "      <td>8018.788038</td>\n",
              "      <td>6900.0</td>\n",
              "      <td>14703.50</td>\n",
              "      <td>19850.0</td>\n",
              "      <td>23999.00</td>\n",
              "      <td>68320.0</td>\n",
              "    </tr>\n",
              "    <tr>\n",
              "      <th>25</th>\n",
              "      <td>6.0</td>\n",
              "      <td>20946.333333</td>\n",
              "      <td>8591.413427</td>\n",
              "      <td>11890.0</td>\n",
              "      <td>15842.50</td>\n",
              "      <td>20625.0</td>\n",
              "      <td>21500.00</td>\n",
              "      <td>36498.0</td>\n",
              "    </tr>\n",
              "    <tr>\n",
              "      <th>26</th>\n",
              "      <td>4.0</td>\n",
              "      <td>26869.000000</td>\n",
              "      <td>11177.217364</td>\n",
              "      <td>15840.0</td>\n",
              "      <td>17940.00</td>\n",
              "      <td>27569.0</td>\n",
              "      <td>36498.00</td>\n",
              "      <td>36498.0</td>\n",
              "    </tr>\n",
              "    <tr>\n",
              "      <th>28</th>\n",
              "      <td>2.0</td>\n",
              "      <td>17925.000000</td>\n",
              "      <td>4277.996026</td>\n",
              "      <td>14900.0</td>\n",
              "      <td>16412.50</td>\n",
              "      <td>17925.0</td>\n",
              "      <td>19437.50</td>\n",
              "      <td>20950.0</td>\n",
              "    </tr>\n",
              "    <tr>\n",
              "      <th>3</th>\n",
              "      <td>33.0</td>\n",
              "      <td>16278.212121</td>\n",
              "      <td>8782.362071</td>\n",
              "      <td>5800.0</td>\n",
              "      <td>8900.00</td>\n",
              "      <td>14950.0</td>\n",
              "      <td>17990.00</td>\n",
              "      <td>39990.0</td>\n",
              "    </tr>\n",
              "    <tr>\n",
              "      <th>30</th>\n",
              "      <td>1.0</td>\n",
              "      <td>36400.000000</td>\n",
              "      <td>NaN</td>\n",
              "      <td>36400.0</td>\n",
              "      <td>36400.00</td>\n",
              "      <td>36400.0</td>\n",
              "      <td>36400.00</td>\n",
              "      <td>36400.0</td>\n",
              "    </tr>\n",
              "    <tr>\n",
              "      <th>33</th>\n",
              "      <td>1.0</td>\n",
              "      <td>23299.000000</td>\n",
              "      <td>NaN</td>\n",
              "      <td>23299.0</td>\n",
              "      <td>23299.00</td>\n",
              "      <td>23299.0</td>\n",
              "      <td>23299.00</td>\n",
              "      <td>23299.0</td>\n",
              "    </tr>\n",
              "    <tr>\n",
              "      <th>34</th>\n",
              "      <td>3.0</td>\n",
              "      <td>25694.333333</td>\n",
              "      <td>3283.026855</td>\n",
              "      <td>23099.0</td>\n",
              "      <td>23849.00</td>\n",
              "      <td>24599.0</td>\n",
              "      <td>26992.00</td>\n",
              "      <td>29385.0</td>\n",
              "    </tr>\n",
              "    <tr>\n",
              "      <th>36</th>\n",
              "      <td>279.0</td>\n",
              "      <td>21487.892473</td>\n",
              "      <td>5386.530948</td>\n",
              "      <td>9400.0</td>\n",
              "      <td>16820.00</td>\n",
              "      <td>20850.0</td>\n",
              "      <td>25435.00</td>\n",
              "      <td>39990.0</td>\n",
              "    </tr>\n",
              "    <tr>\n",
              "      <th>4</th>\n",
              "      <td>3.0</td>\n",
              "      <td>19666.666667</td>\n",
              "      <td>7922.331307</td>\n",
              "      <td>11200.0</td>\n",
              "      <td>16050.00</td>\n",
              "      <td>20900.0</td>\n",
              "      <td>23900.00</td>\n",
              "      <td>26900.0</td>\n",
              "    </tr>\n",
              "    <tr>\n",
              "      <th>40</th>\n",
              "      <td>1.0</td>\n",
              "      <td>22500.000000</td>\n",
              "      <td>NaN</td>\n",
              "      <td>22500.0</td>\n",
              "      <td>22500.00</td>\n",
              "      <td>22500.0</td>\n",
              "      <td>22500.00</td>\n",
              "      <td>22500.0</td>\n",
              "    </tr>\n",
              "    <tr>\n",
              "      <th>45</th>\n",
              "      <td>2.0</td>\n",
              "      <td>29200.000000</td>\n",
              "      <td>12374.368671</td>\n",
              "      <td>20450.0</td>\n",
              "      <td>24825.00</td>\n",
              "      <td>29200.0</td>\n",
              "      <td>33575.00</td>\n",
              "      <td>37950.0</td>\n",
              "    </tr>\n",
              "    <tr>\n",
              "      <th>46</th>\n",
              "      <td>2.0</td>\n",
              "      <td>24490.000000</td>\n",
              "      <td>12034.957416</td>\n",
              "      <td>15980.0</td>\n",
              "      <td>20235.00</td>\n",
              "      <td>24490.0</td>\n",
              "      <td>28745.00</td>\n",
              "      <td>33000.0</td>\n",
              "    </tr>\n",
              "    <tr>\n",
              "      <th>47</th>\n",
              "      <td>1.0</td>\n",
              "      <td>16370.000000</td>\n",
              "      <td>NaN</td>\n",
              "      <td>16370.0</td>\n",
              "      <td>16370.00</td>\n",
              "      <td>16370.0</td>\n",
              "      <td>16370.00</td>\n",
              "      <td>16370.0</td>\n",
              "    </tr>\n",
              "    <tr>\n",
              "      <th>48</th>\n",
              "      <td>149.0</td>\n",
              "      <td>20929.261745</td>\n",
              "      <td>8421.025997</td>\n",
              "      <td>9300.0</td>\n",
              "      <td>15870.00</td>\n",
              "      <td>20500.0</td>\n",
              "      <td>24500.00</td>\n",
              "      <td>47990.0</td>\n",
              "    </tr>\n",
              "    <tr>\n",
              "      <th>49</th>\n",
              "      <td>1.0</td>\n",
              "      <td>16270.000000</td>\n",
              "      <td>NaN</td>\n",
              "      <td>16270.0</td>\n",
              "      <td>16270.00</td>\n",
              "      <td>16270.0</td>\n",
              "      <td>16270.00</td>\n",
              "      <td>16270.0</td>\n",
              "    </tr>\n",
              "    <tr>\n",
              "      <th>50</th>\n",
              "      <td>4.0</td>\n",
              "      <td>18837.500000</td>\n",
              "      <td>2166.308304</td>\n",
              "      <td>16370.0</td>\n",
              "      <td>17945.00</td>\n",
              "      <td>18670.0</td>\n",
              "      <td>19562.50</td>\n",
              "      <td>21640.0</td>\n",
              "    </tr>\n",
              "    <tr>\n",
              "      <th>56</th>\n",
              "      <td>1.0</td>\n",
              "      <td>21760.000000</td>\n",
              "      <td>NaN</td>\n",
              "      <td>21760.0</td>\n",
              "      <td>21760.00</td>\n",
              "      <td>21760.0</td>\n",
              "      <td>21760.00</td>\n",
              "      <td>21760.0</td>\n",
              "    </tr>\n",
              "    <tr>\n",
              "      <th>6</th>\n",
              "      <td>125.0</td>\n",
              "      <td>14608.704000</td>\n",
              "      <td>6033.523135</td>\n",
              "      <td>5900.0</td>\n",
              "      <td>8790.00</td>\n",
              "      <td>13990.0</td>\n",
              "      <td>18900.00</td>\n",
              "      <td>33800.0</td>\n",
              "    </tr>\n",
              "    <tr>\n",
              "      <th>60</th>\n",
              "      <td>401.0</td>\n",
              "      <td>16980.112219</td>\n",
              "      <td>7468.114187</td>\n",
              "      <td>6450.0</td>\n",
              "      <td>10980.00</td>\n",
              "      <td>15989.0</td>\n",
              "      <td>20980.00</td>\n",
              "      <td>46890.0</td>\n",
              "    </tr>\n",
              "    <tr>\n",
              "      <th>65</th>\n",
              "      <td>1.0</td>\n",
              "      <td>11490.000000</td>\n",
              "      <td>NaN</td>\n",
              "      <td>11490.0</td>\n",
              "      <td>11490.00</td>\n",
              "      <td>11490.0</td>\n",
              "      <td>11490.00</td>\n",
              "      <td>11490.0</td>\n",
              "    </tr>\n",
              "    <tr>\n",
              "      <th>7</th>\n",
              "      <td>1.0</td>\n",
              "      <td>21480.000000</td>\n",
              "      <td>NaN</td>\n",
              "      <td>21480.0</td>\n",
              "      <td>21480.00</td>\n",
              "      <td>21480.0</td>\n",
              "      <td>21480.00</td>\n",
              "      <td>21480.0</td>\n",
              "    </tr>\n",
              "    <tr>\n",
              "      <th>72</th>\n",
              "      <td>59.0</td>\n",
              "      <td>27362.288136</td>\n",
              "      <td>9258.445935</td>\n",
              "      <td>10970.0</td>\n",
              "      <td>17420.00</td>\n",
              "      <td>29475.0</td>\n",
              "      <td>34190.00</td>\n",
              "      <td>42475.0</td>\n",
              "    </tr>\n",
              "    <tr>\n",
              "      <th>8</th>\n",
              "      <td>1.0</td>\n",
              "      <td>17500.000000</td>\n",
              "      <td>NaN</td>\n",
              "      <td>17500.0</td>\n",
              "      <td>17500.00</td>\n",
              "      <td>17500.0</td>\n",
              "      <td>17500.00</td>\n",
              "      <td>17500.0</td>\n",
              "    </tr>\n",
              "    <tr>\n",
              "      <th>9</th>\n",
              "      <td>2.0</td>\n",
              "      <td>10797.500000</td>\n",
              "      <td>0.707107</td>\n",
              "      <td>10797.0</td>\n",
              "      <td>10797.25</td>\n",
              "      <td>10797.5</td>\n",
              "      <td>10797.75</td>\n",
              "      <td>10798.0</td>\n",
              "    </tr>\n",
              "    <tr>\n",
              "      <th>nan</th>\n",
              "      <td>5420.0</td>\n",
              "      <td>17499.031919</td>\n",
              "      <td>7902.071471</td>\n",
              "      <td>13.0</td>\n",
              "      <td>11293.75</td>\n",
              "      <td>15900.0</td>\n",
              "      <td>21900.00</td>\n",
              "      <td>74600.0</td>\n",
              "    </tr>\n",
              "  </tbody>\n",
              "</table>\n",
              "</div>\n",
              "      <button class=\"colab-df-convert\" onclick=\"convertToInteractive('df-85d5c489-90f2-4e85-9b93-4f56ba869186')\"\n",
              "              title=\"Convert this dataframe to an interactive table.\"\n",
              "              style=\"display:none;\">\n",
              "        \n",
              "  <svg xmlns=\"http://www.w3.org/2000/svg\" height=\"24px\"viewBox=\"0 0 24 24\"\n",
              "       width=\"24px\">\n",
              "    <path d=\"M0 0h24v24H0V0z\" fill=\"none\"/>\n",
              "    <path d=\"M18.56 5.44l.94 2.06.94-2.06 2.06-.94-2.06-.94-.94-2.06-.94 2.06-2.06.94zm-11 1L8.5 8.5l.94-2.06 2.06-.94-2.06-.94L8.5 2.5l-.94 2.06-2.06.94zm10 10l.94 2.06.94-2.06 2.06-.94-2.06-.94-.94-2.06-.94 2.06-2.06.94z\"/><path d=\"M17.41 7.96l-1.37-1.37c-.4-.4-.92-.59-1.43-.59-.52 0-1.04.2-1.43.59L10.3 9.45l-7.72 7.72c-.78.78-.78 2.05 0 2.83L4 21.41c.39.39.9.59 1.41.59.51 0 1.02-.2 1.41-.59l7.78-7.78 2.81-2.81c.8-.78.8-2.07 0-2.86zM5.41 20L4 18.59l7.72-7.72 1.47 1.35L5.41 20z\"/>\n",
              "  </svg>\n",
              "      </button>\n",
              "      \n",
              "  <style>\n",
              "    .colab-df-container {\n",
              "      display:flex;\n",
              "      flex-wrap:wrap;\n",
              "      gap: 12px;\n",
              "    }\n",
              "\n",
              "    .colab-df-convert {\n",
              "      background-color: #E8F0FE;\n",
              "      border: none;\n",
              "      border-radius: 50%;\n",
              "      cursor: pointer;\n",
              "      display: none;\n",
              "      fill: #1967D2;\n",
              "      height: 32px;\n",
              "      padding: 0 0 0 0;\n",
              "      width: 32px;\n",
              "    }\n",
              "\n",
              "    .colab-df-convert:hover {\n",
              "      background-color: #E2EBFA;\n",
              "      box-shadow: 0px 1px 2px rgba(60, 64, 67, 0.3), 0px 1px 3px 1px rgba(60, 64, 67, 0.15);\n",
              "      fill: #174EA6;\n",
              "    }\n",
              "\n",
              "    [theme=dark] .colab-df-convert {\n",
              "      background-color: #3B4455;\n",
              "      fill: #D2E3FC;\n",
              "    }\n",
              "\n",
              "    [theme=dark] .colab-df-convert:hover {\n",
              "      background-color: #434B5C;\n",
              "      box-shadow: 0px 1px 3px 1px rgba(0, 0, 0, 0.15);\n",
              "      filter: drop-shadow(0px 1px 2px rgba(0, 0, 0, 0.3));\n",
              "      fill: #FFFFFF;\n",
              "    }\n",
              "  </style>\n",
              "\n",
              "      <script>\n",
              "        const buttonEl =\n",
              "          document.querySelector('#df-85d5c489-90f2-4e85-9b93-4f56ba869186 button.colab-df-convert');\n",
              "        buttonEl.style.display =\n",
              "          google.colab.kernel.accessAllowed ? 'block' : 'none';\n",
              "\n",
              "        async function convertToInteractive(key) {\n",
              "          const element = document.querySelector('#df-85d5c489-90f2-4e85-9b93-4f56ba869186');\n",
              "          const dataTable =\n",
              "            await google.colab.kernel.invokeFunction('convertToInteractive',\n",
              "                                                     [key], {});\n",
              "          if (!dataTable) return;\n",
              "\n",
              "          const docLinkHtml = 'Like what you see? Visit the ' +\n",
              "            '<a target=\"_blank\" href=https://colab.research.google.com/notebooks/data_table.ipynb>data table notebook</a>'\n",
              "            + ' to learn more about interactive tables.';\n",
              "          element.innerHTML = '';\n",
              "          dataTable['output_type'] = 'display_data';\n",
              "          await google.colab.output.renderOutput(dataTable, element);\n",
              "          const docLink = document.createElement('div');\n",
              "          docLink.innerHTML = docLinkHtml;\n",
              "          element.appendChild(docLink);\n",
              "        }\n",
              "      </script>\n",
              "    </div>\n",
              "  </div>\n",
              "  "
            ],
            "text/plain": [
              "           count          mean           std  ...      50%       75%      max\n",
              "Warranty                                      ...                            \n",
              "          5646.0  18976.718385   6974.574757  ...  17980.0  22396.75  64298.0\n",
              "1            3.0  18383.333333   4269.292486  ...  20745.0  20847.50  20950.0\n",
              "10           1.0  19990.000000           NaN  ...  19990.0  19990.00  19990.0\n",
              "11           2.0  20897.000000   8341.031591  ...  20897.0  23846.00  26795.0\n",
              "12        2594.0  15659.426754   5810.190585  ...  14950.0  18990.00  51900.0\n",
              "13           3.0  16746.666667   6298.137291  ...  19840.0  20370.00  20900.0\n",
              "14           2.0  24990.000000   1414.213562  ...  24990.0  25490.00  25990.0\n",
              "15           1.0  21450.000000           NaN  ...  21450.0  21450.00  21450.0\n",
              "16           4.0  24730.750000  11677.216660  ...  24570.0  30340.00  38890.0\n",
              "17           2.0   8944.500000   1761.402992  ...   8944.5   9567.25  10190.0\n",
              "18          10.0  23056.900000   4335.446599  ...  21997.5  23972.50  30800.0\n",
              "19           3.0  24665.333333   2798.106741  ...  25998.0  26273.00  26548.0\n",
              "2            5.0  14604.000000   2709.368930  ...  15290.0  16990.00  17000.0\n",
              "20           7.0  21154.142857   9026.598481  ...  18750.0  25745.00  34900.0\n",
              "21           2.0  26220.000000    325.269119  ...  26220.0  26335.00  26450.0\n",
              "22           2.0  20175.000000    813.172798  ...  20175.0  20462.50  20750.0\n",
              "23          11.0  15376.000000   7937.432330  ...  12170.0  14783.00  37600.0\n",
              "24        1118.0  20045.742397   8018.788038  ...  19850.0  23999.00  68320.0\n",
              "25           6.0  20946.333333   8591.413427  ...  20625.0  21500.00  36498.0\n",
              "26           4.0  26869.000000  11177.217364  ...  27569.0  36498.00  36498.0\n",
              "28           2.0  17925.000000   4277.996026  ...  17925.0  19437.50  20950.0\n",
              "3           33.0  16278.212121   8782.362071  ...  14950.0  17990.00  39990.0\n",
              "30           1.0  36400.000000           NaN  ...  36400.0  36400.00  36400.0\n",
              "33           1.0  23299.000000           NaN  ...  23299.0  23299.00  23299.0\n",
              "34           3.0  25694.333333   3283.026855  ...  24599.0  26992.00  29385.0\n",
              "36         279.0  21487.892473   5386.530948  ...  20850.0  25435.00  39990.0\n",
              "4            3.0  19666.666667   7922.331307  ...  20900.0  23900.00  26900.0\n",
              "40           1.0  22500.000000           NaN  ...  22500.0  22500.00  22500.0\n",
              "45           2.0  29200.000000  12374.368671  ...  29200.0  33575.00  37950.0\n",
              "46           2.0  24490.000000  12034.957416  ...  24490.0  28745.00  33000.0\n",
              "47           1.0  16370.000000           NaN  ...  16370.0  16370.00  16370.0\n",
              "48         149.0  20929.261745   8421.025997  ...  20500.0  24500.00  47990.0\n",
              "49           1.0  16270.000000           NaN  ...  16270.0  16270.00  16270.0\n",
              "50           4.0  18837.500000   2166.308304  ...  18670.0  19562.50  21640.0\n",
              "56           1.0  21760.000000           NaN  ...  21760.0  21760.00  21760.0\n",
              "6          125.0  14608.704000   6033.523135  ...  13990.0  18900.00  33800.0\n",
              "60         401.0  16980.112219   7468.114187  ...  15989.0  20980.00  46890.0\n",
              "65           1.0  11490.000000           NaN  ...  11490.0  11490.00  11490.0\n",
              "7            1.0  21480.000000           NaN  ...  21480.0  21480.00  21480.0\n",
              "72          59.0  27362.288136   9258.445935  ...  29475.0  34190.00  42475.0\n",
              "8            1.0  17500.000000           NaN  ...  17500.0  17500.00  17500.0\n",
              "9            2.0  10797.500000      0.707107  ...  10797.5  10797.75  10798.0\n",
              "nan       5420.0  17499.031919   7902.071471  ...  15900.0  21900.00  74600.0\n",
              "\n",
              "[43 rows x 8 columns]"
            ]
          },
          "metadata": {},
          "execution_count": 131
        }
      ]
    },
    {
      "cell_type": "code",
      "source": [
        "fill_most(df, \"age\", \"Warranty\")"
      ],
      "metadata": {
        "colab": {
          "base_uri": "https://localhost:8080/"
        },
        "id": "eqCFjcypJcwG",
        "outputId": "81d2a85f-4add-4b4e-981c-c1255dc92b28"
      },
      "execution_count": 96,
      "outputs": [
        {
          "output_type": "stream",
          "name": "stdout",
          "text": [
            "Number of NaN :  0\n",
            "------------------\n",
            "       9397\n",
            "12     4263\n",
            "24     1118\n",
            "60      401\n",
            "36      279\n",
            "48      149\n",
            "6       125\n",
            "72       59\n",
            "3        33\n",
            "23       11\n",
            "18       10\n",
            "20        7\n",
            "25        6\n",
            "2         5\n",
            "50        4\n",
            "16        4\n",
            "26        4\n",
            "34        3\n",
            "1         3\n",
            "13        3\n",
            "4         3\n",
            "19        3\n",
            "21        2\n",
            "17        2\n",
            "28        2\n",
            "14        2\n",
            "11        2\n",
            "46        2\n",
            "22        2\n",
            "9         2\n",
            "45        2\n",
            "65        1\n",
            "15        1\n",
            "8         1\n",
            "56        1\n",
            "10        1\n",
            "33        1\n",
            "47        1\n",
            "49        1\n",
            "30        1\n",
            "7         1\n",
            "40        1\n",
            "Name: Warranty, dtype: int64\n"
          ]
        }
      ]
    },
    {
      "cell_type": "markdown",
      "source": [
        "#***17-Full Service***"
      ],
      "metadata": {
        "id": "I8rxJgs0ySHM"
      }
    },
    {
      "cell_type": "code",
      "source": [
        "df[\"Full Service\"]=df[\"Full Service\"].apply(lambda item : item[0] if type(item)== list else item)\n",
        "df[\"Full Service\"]"
      ],
      "metadata": {
        "colab": {
          "base_uri": "https://localhost:8080/"
        },
        "id": "UrlW4D93W3yU",
        "outputId": "2a89a54e-d9c1-4c21-f78c-dd9699f886e5"
      },
      "execution_count": 97,
      "outputs": [
        {
          "output_type": "execute_result",
          "data": {
            "text/plain": [
              "0         \\n\n",
              "1        NaN\n",
              "2        NaN\n",
              "3         \\n\n",
              "4         \\n\n",
              "        ... \n",
              "15914    NaN\n",
              "15915    NaN\n",
              "15916     \\n\n",
              "15917    NaN\n",
              "15918    NaN\n",
              "Name: Full Service, Length: 15919, dtype: object"
            ]
          },
          "metadata": {},
          "execution_count": 97
        }
      ]
    },
    {
      "cell_type": "code",
      "source": [
        "df[\"Full Service\"]=df[\"Full Service\"].str.strip('/n').value_counts(dropna=False)\n",
        "df[\"Full Service\"]"
      ],
      "metadata": {
        "colab": {
          "base_uri": "https://localhost:8080/"
        },
        "id": "F8-fCuCoY6pB",
        "outputId": "7772da07-c2e6-465e-cafd-8f7740b97e4c"
      },
      "execution_count": null,
      "outputs": [
        {
          "output_type": "execute_result",
          "data": {
            "text/plain": [
              "0       NaN\n",
              "1       NaN\n",
              "2       NaN\n",
              "3       NaN\n",
              "4       NaN\n",
              "         ..\n",
              "15914   NaN\n",
              "15915   NaN\n",
              "15916   NaN\n",
              "15917   NaN\n",
              "15918   NaN\n",
              "Name: Full Service, Length: 15919, dtype: float64"
            ]
          },
          "metadata": {},
          "execution_count": 136
        }
      ]
    },
    {
      "cell_type": "code",
      "source": [
        "df[\"Full Service\"].isnull().sum()"
      ],
      "metadata": {
        "colab": {
          "base_uri": "https://localhost:8080/"
        },
        "id": "-InGH2FnZN6J",
        "outputId": "49d19cf5-2366-4680-a424-a27711aacace"
      },
      "execution_count": null,
      "outputs": [
        {
          "output_type": "execute_result",
          "data": {
            "text/plain": [
              "15919"
            ]
          },
          "metadata": {},
          "execution_count": 137
        }
      ]
    },
    {
      "cell_type": "code",
      "source": [
        "df.drop([\"Full Service\"], axis=1)# There is not any information in this column"
      ],
      "metadata": {
        "id": "h_c8I09fZUcP"
      },
      "execution_count": null,
      "outputs": []
    },
    {
      "cell_type": "markdown",
      "source": [
        "#***18-Non-smoking Vehicle***"
      ],
      "metadata": {
        "id": "JAIXO9nkySFi"
      }
    },
    {
      "cell_type": "code",
      "source": [
        "df[\"Non-smoking Vehicle\"].value_counts()"
      ],
      "metadata": {
        "id": "r_2Q7LktaLHm"
      },
      "execution_count": null,
      "outputs": []
    },
    {
      "cell_type": "code",
      "source": [
        "df[\"Non-smoking Vehicle\"]=df[\"Non-smoking Vehicle\"].apply(lambda item : item[0] if type(item)== list else item)"
      ],
      "metadata": {
        "id": "7AF3IGSLZ8oO"
      },
      "execution_count": null,
      "outputs": []
    },
    {
      "cell_type": "code",
      "source": [
        "df[\"Non-smoking Vehicle\"]=df[\"Non-smoking Vehicle\"].str.strip('\\n')"
      ],
      "metadata": {
        "id": "09hItia2dNHL"
      },
      "execution_count": null,
      "outputs": []
    },
    {
      "cell_type": "code",
      "source": [
        "df[\"Non-smoking Vehicle\"].value_counts()"
      ],
      "metadata": {
        "colab": {
          "base_uri": "https://localhost:8080/"
        },
        "id": "luZaWZtCaeDE",
        "outputId": "1f14ae0e-12bc-4629-c8d8-f89813b71a5a"
      },
      "execution_count": null,
      "outputs": [
        {
          "output_type": "execute_result",
          "data": {
            "text/plain": [
              "    7177\n",
              "Name: Non-smoking Vehicle, dtype: int64"
            ]
          },
          "metadata": {},
          "execution_count": 141
        }
      ]
    },
    {
      "cell_type": "code",
      "source": [
        "df[\"Non-smoking Vehicle\"].unique()"
      ],
      "metadata": {
        "colab": {
          "base_uri": "https://localhost:8080/"
        },
        "id": "U0nwBVpqdhuL",
        "outputId": "8bda2e75-7626-42fb-fb27-9693b4c0255b"
      },
      "execution_count": null,
      "outputs": [
        {
          "output_type": "execute_result",
          "data": {
            "text/plain": [
              "array(['', nan], dtype=object)"
            ]
          },
          "metadata": {},
          "execution_count": 142
        }
      ]
    },
    {
      "cell_type": "code",
      "source": [
        "df.drop([\"Non-smoking Vehicle\"], axis=1)#This column does not contain useful informations"
      ],
      "metadata": {
        "id": "Rqk316n8duOT"
      },
      "execution_count": null,
      "outputs": []
    },
    {
      "cell_type": "markdown",
      "source": [
        "#***19-null***"
      ],
      "metadata": {
        "id": "FkITMHp0ySD9"
      }
    },
    {
      "cell_type": "code",
      "source": [
        "df[\"null\"].value_counts()"
      ],
      "metadata": {
        "id": "njKJq_N2eGni"
      },
      "execution_count": null,
      "outputs": []
    },
    {
      "cell_type": "code",
      "source": [
        "df.drop([\"null\"], axis=1)#This column contains only empty list"
      ],
      "metadata": {
        "id": "Tq2H8MA5eUHp"
      },
      "execution_count": null,
      "outputs": []
    },
    {
      "cell_type": "markdown",
      "source": [
        "#***20-Make***"
      ],
      "metadata": {
        "id": "kGVWb6OIySAm"
      }
    },
    {
      "cell_type": "code",
      "source": [
        "df.drop([\"Make\"], axis=1)#This column contains same informations with make-model cloumn so we dont need this column"
      ],
      "metadata": {
        "id": "p-n84n_oeso0"
      },
      "execution_count": null,
      "outputs": []
    },
    {
      "cell_type": "markdown",
      "source": [
        "#***21-Model***"
      ],
      "metadata": {
        "id": "cbbYwRIfyR-Q"
      }
    },
    {
      "cell_type": "code",
      "source": [
        "df.drop([\"Model\"], axis=1)#This column contains same informations with make-model cloumn so we dont need this column"
      ],
      "metadata": {
        "id": "vjvDEw0gfWKJ"
      },
      "execution_count": null,
      "outputs": []
    },
    {
      "cell_type": "markdown",
      "source": [
        "#***22-Offer Number***"
      ],
      "metadata": {
        "id": "AknebOWkyR6M"
      }
    },
    {
      "cell_type": "code",
      "source": [
        "df.drop([\"Offer Number\"], axis=1)#This column does not contain useful informations"
      ],
      "metadata": {
        "id": "tQRI7j1Gflf3"
      },
      "execution_count": null,
      "outputs": []
    },
    {
      "cell_type": "markdown",
      "source": [
        "# ***23-Age-First Registration***"
      ],
      "metadata": {
        "id": "9pc6s5pXyR4J"
      }
    },
    {
      "cell_type": "code",
      "source": [
        "df[\"First Registration\"]=df[\"First Registration\"].apply(lambda item : item[1] if type(item)== list else item)\n",
        "df[\"First Registration\"]"
      ],
      "metadata": {
        "colab": {
          "base_uri": "https://localhost:8080/"
        },
        "id": "0tXfkSj3hLM8",
        "outputId": "f29a949a-9189-4a07-9829-e6a755af5ca2"
      },
      "execution_count": 20,
      "outputs": [
        {
          "output_type": "execute_result",
          "data": {
            "text/plain": [
              "0        2016\n",
              "1        2017\n",
              "2        2016\n",
              "3        2016\n",
              "4        2016\n",
              "         ... \n",
              "15914     NaN\n",
              "15915    2019\n",
              "15916    2019\n",
              "15917    2019\n",
              "15918    2019\n",
              "Name: First Registration, Length: 15919, dtype: object"
            ]
          },
          "metadata": {},
          "execution_count": 20
        }
      ]
    },
    {
      "cell_type": "code",
      "source": [
        "df[\"First Registration\"]=  pd.to_datetime(df[\"First Registration\"])\n",
        "df[\"First Registration\"]"
      ],
      "metadata": {
        "colab": {
          "base_uri": "https://localhost:8080/"
        },
        "id": "tJY_v8Q7hLPa",
        "outputId": "2cf6420f-574d-479c-9e32-de0200533da2"
      },
      "execution_count": 21,
      "outputs": [
        {
          "output_type": "execute_result",
          "data": {
            "text/plain": [
              "0       2016-01-01\n",
              "1       2017-01-01\n",
              "2       2016-01-01\n",
              "3       2016-01-01\n",
              "4       2016-01-01\n",
              "           ...    \n",
              "15914          NaT\n",
              "15915   2019-01-01\n",
              "15916   2019-01-01\n",
              "15917   2019-01-01\n",
              "15918   2019-01-01\n",
              "Name: First Registration, Length: 15919, dtype: datetime64[ns]"
            ]
          },
          "metadata": {},
          "execution_count": 21
        }
      ]
    },
    {
      "cell_type": "code",
      "source": [
        "today = pd.to_datetime(\"2019-01-01\")\n",
        "print(today)"
      ],
      "metadata": {
        "colab": {
          "base_uri": "https://localhost:8080/"
        },
        "id": "roTVBw5dXJG9",
        "outputId": "7e979244-f96e-493a-9f83-8fb3923dd2b2"
      },
      "execution_count": 22,
      "outputs": [
        {
          "output_type": "stream",
          "name": "stdout",
          "text": [
            "2019-01-01 00:00:00\n"
          ]
        }
      ]
    },
    {
      "cell_type": "code",
      "source": [
        "df['diff_year'] =(today)-df[\"First Registration\"]\n",
        "df['diff_year'] "
      ],
      "metadata": {
        "id": "vxfxetoJhLcK",
        "colab": {
          "base_uri": "https://localhost:8080/"
        },
        "outputId": "9b6665eb-12cb-47f7-f09d-51f719c155f9"
      },
      "execution_count": 23,
      "outputs": [
        {
          "output_type": "execute_result",
          "data": {
            "text/plain": [
              "0       1096 days\n",
              "1        730 days\n",
              "2       1096 days\n",
              "3       1096 days\n",
              "4       1096 days\n",
              "           ...   \n",
              "15914         NaT\n",
              "15915      0 days\n",
              "15916      0 days\n",
              "15917      0 days\n",
              "15918      0 days\n",
              "Name: diff_year, Length: 15919, dtype: timedelta64[ns]"
            ]
          },
          "metadata": {},
          "execution_count": 23
        }
      ]
    },
    {
      "cell_type": "code",
      "source": [
        "df['age'] =round( df['diff_year'] / np.timedelta64(1, 'Y'),1)\n",
        "df['age']"
      ],
      "metadata": {
        "colab": {
          "base_uri": "https://localhost:8080/"
        },
        "id": "8EI1cLpIX-qZ",
        "outputId": "876a7e29-70d1-423f-c2bd-64178ae95f16"
      },
      "execution_count": 24,
      "outputs": [
        {
          "output_type": "execute_result",
          "data": {
            "text/plain": [
              "0        3.0\n",
              "1        2.0\n",
              "2        3.0\n",
              "3        3.0\n",
              "4        3.0\n",
              "        ... \n",
              "15914    NaN\n",
              "15915    0.0\n",
              "15916    0.0\n",
              "15917    0.0\n",
              "15918    0.0\n",
              "Name: age, Length: 15919, dtype: float64"
            ]
          },
          "metadata": {},
          "execution_count": 24
        }
      ]
    },
    {
      "cell_type": "code",
      "source": [
        "df['age'].fillna('-', inplace=True)"
      ],
      "metadata": {
        "id": "UMEqWYulZMLp"
      },
      "execution_count": 25,
      "outputs": []
    },
    {
      "cell_type": "code",
      "source": [
        "df['age'].value_counts(dropna=False)"
      ],
      "metadata": {
        "colab": {
          "base_uri": "https://localhost:8080/"
        },
        "id": "BFsJMwipZRY3",
        "outputId": "139cf48b-cc7d-448d-e5da-06582b1a39ab"
      },
      "execution_count": 26,
      "outputs": [
        {
          "output_type": "execute_result",
          "data": {
            "text/plain": [
              "1.0    4522\n",
              "3.0    3674\n",
              "2.0    3273\n",
              "0.0    2853\n",
              "-      1597\n",
              "Name: age, dtype: int64"
            ]
          },
          "metadata": {},
          "execution_count": 26
        }
      ]
    },
    {
      "cell_type": "code",
      "source": [
        "cond1 = (df['km'] < 10000)\n",
        "cond2 = ((df['km'] >= 10000) & (df['km'] < 28000))\n",
        "cond3 = ((df['km'] >= 28000) & (df['km'] < 50000))\n",
        "cond4 = (df['km'] >= 50000)"
      ],
      "metadata": {
        "id": "HLJ0QAMLaLdD"
      },
      "execution_count": 27,
      "outputs": []
    },
    {
      "cell_type": "code",
      "source": [
        "df.loc[cond1,'age'] = df.loc[cond1,'age'].replace('-', 0)\n",
        "df.loc[cond2,'age'] = df.loc[cond2,'age'].replace('-', 1)\n",
        "df.loc[cond3,'age'] = df.loc[cond3,'age'].replace('-', 2)\n",
        "df.loc[cond4,'age'] = df.loc[cond4,'age'].replace('-', 3)"
      ],
      "metadata": {
        "id": "ufZeBdwraNMQ"
      },
      "execution_count": 28,
      "outputs": []
    },
    {
      "cell_type": "code",
      "source": [
        "df[\"age\"] =pd.to_numeric(df[\"age\"], errors='coerce').astype('float')\n",
        "df[\"age\"]"
      ],
      "metadata": {
        "colab": {
          "base_uri": "https://localhost:8080/"
        },
        "id": "E7quRqYIhfxG",
        "outputId": "8f1bb2ad-9ffc-4e90-8274-e4320598822d"
      },
      "execution_count": 35,
      "outputs": [
        {
          "output_type": "execute_result",
          "data": {
            "text/plain": [
              "0        3.0\n",
              "1        2.0\n",
              "2        3.0\n",
              "3        3.0\n",
              "4        3.0\n",
              "        ... \n",
              "15914    0.0\n",
              "15915    0.0\n",
              "15916    0.0\n",
              "15917    0.0\n",
              "15918    0.0\n",
              "Name: age, Length: 15919, dtype: float64"
            ]
          },
          "metadata": {},
          "execution_count": 35
        }
      ]
    },
    {
      "cell_type": "code",
      "source": [
        "df.groupby('age').km.mean()"
      ],
      "metadata": {
        "colab": {
          "base_uri": "https://localhost:8080/"
        },
        "id": "NgP-BvJnar0g",
        "outputId": "7f86849c-bf7d-4c0d-c32e-55f7fdf46ce8"
      },
      "execution_count": 29,
      "outputs": [
        {
          "output_type": "execute_result",
          "data": {
            "text/plain": [
              "age\n",
              "0.0     1647.362609\n",
              "1.0    18035.130067\n",
              "2.0    41748.576923\n",
              "3.0    77450.062789\n",
              "-               NaN\n",
              "Name: km, dtype: float64"
            ]
          },
          "metadata": {},
          "execution_count": 29
        }
      ]
    },
    {
      "cell_type": "code",
      "source": [
        "df['age'].replace('-',0, inplace=True)"
      ],
      "metadata": {
        "id": "6wC_RNbjaSqr"
      },
      "execution_count": 30,
      "outputs": []
    },
    {
      "cell_type": "code",
      "source": [
        "df.drop(['diff_year'],axis=1,inplace=True)"
      ],
      "metadata": {
        "id": "a1JdmDj0g679"
      },
      "execution_count": 31,
      "outputs": []
    },
    {
      "cell_type": "code",
      "source": [
        "df.drop([\"First Registration\"],axis=1,inplace=True)"
      ],
      "metadata": {
        "id": "nsoU-OyNhH0c"
      },
      "execution_count": 33,
      "outputs": []
    },
    {
      "cell_type": "markdown",
      "source": [
        "# ***24-Body Color***"
      ],
      "metadata": {
        "id": "dVXh2OU4yR1z"
      }
    },
    {
      "cell_type": "code",
      "source": [
        "df[\"Body Color\"]=df[\"Body Color\"].apply(lambda item : item[1] if type(item)== list else item)\n",
        "df[\"Body Color\"]"
      ],
      "metadata": {
        "colab": {
          "base_uri": "https://localhost:8080/"
        },
        "id": "odrt7T00i9B-",
        "outputId": "7a99919f-e8d2-4119-f88e-ed37305651a2"
      },
      "execution_count": 104,
      "outputs": [
        {
          "output_type": "execute_result",
          "data": {
            "text/plain": [
              "0        Black\n",
              "1          Red\n",
              "2        Black\n",
              "3        Brown\n",
              "4        Black\n",
              "         ...  \n",
              "15914     Grey\n",
              "15915     Grey\n",
              "15916    White\n",
              "15917     Grey\n",
              "15918     Grey\n",
              "Name: Body Color, Length: 15919, dtype: object"
            ]
          },
          "metadata": {},
          "execution_count": 104
        }
      ]
    },
    {
      "cell_type": "code",
      "source": [
        "df[\"Body Color\"].value_counts(dropna=False)"
      ],
      "metadata": {
        "colab": {
          "base_uri": "https://localhost:8080/"
        },
        "id": "7MypTCfCjmSt",
        "outputId": "729cf237-3d9d-470a-fe70-cab77d8bc67b"
      },
      "execution_count": null,
      "outputs": [
        {
          "output_type": "execute_result",
          "data": {
            "text/plain": [
              "Black     3744\n",
              "Grey      3504\n",
              "White     3406\n",
              "Silver    1647\n",
              "Blue      1431\n",
              "Red        957\n",
              "NaN        597\n",
              "Brown      289\n",
              "Green      154\n",
              "Beige      108\n",
              "Yellow      51\n",
              "Violet      18\n",
              "Bronze       6\n",
              "Orange       3\n",
              "Gold         2\n",
              "4            2\n",
              "Name: Body Color, dtype: int64"
            ]
          },
          "metadata": {},
          "execution_count": 510
        }
      ]
    },
    {
      "cell_type": "code",
      "source": [
        "fillallmeth(df,\"make_model\", \"body_type\", \"Body Color\", 'mode')"
      ],
      "metadata": {
        "colab": {
          "base_uri": "https://localhost:8080/"
        },
        "id": "hHrAZJdMFy1g",
        "outputId": "9987e681-c6bc-4530-b970-11a1fade19af"
      },
      "execution_count": 105,
      "outputs": [
        {
          "output_type": "stream",
          "name": "stdout",
          "text": [
            "Number of NaN :  0\n",
            "------------------\n",
            "Black     3941\n",
            "Grey      3839\n",
            "White     3469\n",
            "Silver    1647\n",
            "Blue      1431\n",
            "Red        957\n",
            "Brown      289\n",
            "Green      158\n",
            "Beige      108\n",
            "Yellow      51\n",
            "Violet      18\n",
            "Bronze       6\n",
            "Orange       3\n",
            "Gold         2\n",
            "Name: Body Color, dtype: int64\n"
          ]
        }
      ]
    },
    {
      "cell_type": "code",
      "source": [
        "\n",
        "#df[\"Body Color\"].str.get_dummies()"
      ],
      "metadata": {
        "id": "J5cgCFRZjJen"
      },
      "execution_count": null,
      "outputs": []
    },
    {
      "cell_type": "markdown",
      "source": [
        "# ***25-Paint Type***"
      ],
      "metadata": {
        "id": "6q-3usjqyRzm"
      }
    },
    {
      "cell_type": "code",
      "source": [
        "df[\"Paint Type\"]=df[\"Paint Type\"].apply(lambda item : item[0] if type(item)== list else item)\n",
        "df[\"Paint Type\"]"
      ],
      "metadata": {
        "colab": {
          "base_uri": "https://localhost:8080/"
        },
        "id": "nIjv5wG-j5U6",
        "outputId": "5263eb45-3077-4eb1-f4d2-b4295d821a41"
      },
      "execution_count": 106,
      "outputs": [
        {
          "output_type": "execute_result",
          "data": {
            "text/plain": [
              "0        \\nMetallic\\n\n",
              "1                 NaN\n",
              "2        \\nMetallic\\n\n",
              "3        \\nMetallic\\n\n",
              "4        \\nMetallic\\n\n",
              "             ...     \n",
              "15914    \\nMetallic\\n\n",
              "15915    \\nMetallic\\n\n",
              "15916             NaN\n",
              "15917             NaN\n",
              "15918    \\nMetallic\\n\n",
              "Name: Paint Type, Length: 15919, dtype: object"
            ]
          },
          "metadata": {},
          "execution_count": 106
        }
      ]
    },
    {
      "cell_type": "code",
      "source": [
        "df[\"Paint Type\"]=df[\"Paint Type\"].str.strip('\\n')\n",
        "df[\"Paint Type\"]"
      ],
      "metadata": {
        "colab": {
          "base_uri": "https://localhost:8080/"
        },
        "id": "0TRiT1qij5JF",
        "outputId": "805200b7-b879-4490-98c2-a78efafd5e64"
      },
      "execution_count": 107,
      "outputs": [
        {
          "output_type": "execute_result",
          "data": {
            "text/plain": [
              "0        Metallic\n",
              "1             NaN\n",
              "2        Metallic\n",
              "3        Metallic\n",
              "4        Metallic\n",
              "           ...   \n",
              "15914    Metallic\n",
              "15915    Metallic\n",
              "15916         NaN\n",
              "15917         NaN\n",
              "15918    Metallic\n",
              "Name: Paint Type, Length: 15919, dtype: object"
            ]
          },
          "metadata": {},
          "execution_count": 107
        }
      ]
    },
    {
      "cell_type": "code",
      "source": [
        "fillallmeth(df,\"make_model\",  \"Body Color\",\"Paint Type\", 'mode')"
      ],
      "metadata": {
        "colab": {
          "base_uri": "https://localhost:8080/"
        },
        "id": "MyVfQizSGpH6",
        "outputId": "2175e156-0057-42c4-e4ec-b4228e1e257a"
      },
      "execution_count": 108,
      "outputs": [
        {
          "output_type": "stream",
          "name": "stdout",
          "text": [
            "Number of NaN :  0\n",
            "------------------\n",
            "Metallic       15547\n",
            "Uni/basic        364\n",
            "Perl effect        8\n",
            "Name: Paint Type, dtype: int64\n"
          ]
        }
      ]
    },
    {
      "cell_type": "markdown",
      "source": [
        "# ***26-Body Color Original***"
      ],
      "metadata": {
        "id": "QOQVhCqSyRxb"
      }
    },
    {
      "cell_type": "code",
      "source": [
        "df[\"Body Color Original\"]=df[\"Body Color Original\"].apply(lambda item : item[0] if type(item)== list else item)\n",
        "df[\"Body Color Original\"]"
      ],
      "metadata": {
        "colab": {
          "base_uri": "https://localhost:8080/"
        },
        "id": "f3R2WoMxrg0f",
        "outputId": "4411b304-3b26-4f69-b068-a0bb7a0787e7"
      },
      "execution_count": null,
      "outputs": [
        {
          "output_type": "execute_result",
          "data": {
            "text/plain": [
              "0                 \\nMythosschwarz\\n\n",
              "1                               NaN\n",
              "2        \\nmythosschwarz metallic\\n\n",
              "3                               NaN\n",
              "4        \\nMythosschwarz Metallic\\n\n",
              "                    ...            \n",
              "15914              \\nGrigio scuro\\n\n",
              "15915       \\nStahl-Grau Metallic\\n\n",
              "15916               \\narktis-weiß\\n\n",
              "15917                    \\nGrigio\\n\n",
              "15918    \\nTitanium-Grau Metallic\\n\n",
              "Name: Body Color Original, Length: 15919, dtype: object"
            ]
          },
          "metadata": {},
          "execution_count": 155
        }
      ]
    },
    {
      "cell_type": "code",
      "source": [
        "df[\"Body Color Original\"]=df[\"Body Color Original\"].str.strip('\\n')\n",
        "df[\"Body Color Original\"]"
      ],
      "metadata": {
        "colab": {
          "base_uri": "https://localhost:8080/"
        },
        "id": "4yIsp2xVrhAl",
        "outputId": "ec0ef941-6256-4714-a6f2-cd86c354c384"
      },
      "execution_count": null,
      "outputs": [
        {
          "output_type": "execute_result",
          "data": {
            "text/plain": [
              "0                 Mythosschwarz\n",
              "1                           NaN\n",
              "2        mythosschwarz metallic\n",
              "3                           NaN\n",
              "4        Mythosschwarz Metallic\n",
              "                  ...          \n",
              "15914              Grigio scuro\n",
              "15915       Stahl-Grau Metallic\n",
              "15916               arktis-weiß\n",
              "15917                    Grigio\n",
              "15918    Titanium-Grau Metallic\n",
              "Name: Body Color Original, Length: 15919, dtype: object"
            ]
          },
          "metadata": {},
          "execution_count": 156
        }
      ]
    },
    {
      "cell_type": "code",
      "source": [
        "df[\"Body Color Original\"]=df[\"Body Color Original\"].str.strip('Metallic').str.strip('metallic')\n",
        "df[\"Body Color Original\"]"
      ],
      "metadata": {
        "colab": {
          "base_uri": "https://localhost:8080/"
        },
        "id": "aknWWpv5rhPS",
        "outputId": "ba98a538-72ac-4901-8601-da96c033fdac"
      },
      "execution_count": null,
      "outputs": [
        {
          "output_type": "execute_result",
          "data": {
            "text/plain": [
              "0          ythosschwarz\n",
              "1                   NaN\n",
              "2         ythosschwarz \n",
              "3                   NaN\n",
              "4         ythosschwarz \n",
              "              ...      \n",
              "15914      Grigio scuro\n",
              "15915       Stahl-Grau \n",
              "15916        rktis-weiß\n",
              "15917            Grigio\n",
              "15918    Titanium-Grau \n",
              "Name: Body Color Original, Length: 15919, dtype: object"
            ]
          },
          "metadata": {},
          "execution_count": 89
        }
      ]
    },
    {
      "cell_type": "code",
      "source": [
        "df.drop([\"Body Color Original\"], axis=1, inplace=True)"
      ],
      "metadata": {
        "id": "DnEC0NF41HzK"
      },
      "execution_count": 109,
      "outputs": []
    },
    {
      "cell_type": "markdown",
      "source": [
        "# ***27-Upholstery***"
      ],
      "metadata": {
        "id": "HLOpYBEtyRuj"
      }
    },
    {
      "cell_type": "code",
      "source": [
        "upholstery_type = ['Cloth', 'Part leather', 'Full leather', 'alcantara', 'Velour', 'Other']\n",
        "upholstery_color = ['Black', 'Grey', 'Brown', 'Beige', 'Blue', 'White', 'Red', 'Yellow', 'Orange', 'Other']\n",
        "def uphols_type(x):\n",
        "    if type(x) == list:\n",
        "        if x[0].strip().split(', ')[0] in upholstery_type: return x[0].strip().split(', ')[0]\n",
        "        else: return None\n",
        "    else:\n",
        "        return None\n",
        "def uphols_color(x):\n",
        "    if type(x) == list:\n",
        "        if x[0].strip().split(', ')[-1] in upholstery_color: return x[0].strip().split(', ')[-1]\n",
        "        else: return None\n",
        "    else:\n",
        "        return None   \n",
        "df['Upholstery_Type'] = df['Upholstery'].apply(uphols_type)\n",
        "df['Upholstery_Color'] = df['Upholstery'].apply(uphols_color)"
      ],
      "metadata": {
        "id": "9lIh2GlTdFFH"
      },
      "execution_count": 110,
      "outputs": []
    },
    {
      "cell_type": "code",
      "source": [
        "pd.get_dummies(df['Upholstery_Type'], prefix='upholstery',prefix_sep='_')"
      ],
      "metadata": {
        "id": "ixm74Lbfdg8r"
      },
      "execution_count": null,
      "outputs": []
    },
    {
      "cell_type": "code",
      "source": [
        "df.groupby('Upholstery_Color')['price'].describe(include='O')"
      ],
      "metadata": {
        "colab": {
          "base_uri": "https://localhost:8080/",
          "height": 458
        },
        "id": "AiqZDDISZtt3",
        "outputId": "3a07c7ce-9648-4ba5-ec60-8cc240982ea8"
      },
      "execution_count": null,
      "outputs": [
        {
          "output_type": "execute_result",
          "data": {
            "text/html": [
              "\n",
              "  <div id=\"df-5e4b5033-b98d-49b4-b74c-f9a257920fef\">\n",
              "    <div class=\"colab-df-container\">\n",
              "      <div>\n",
              "<style scoped>\n",
              "    .dataframe tbody tr th:only-of-type {\n",
              "        vertical-align: middle;\n",
              "    }\n",
              "\n",
              "    .dataframe tbody tr th {\n",
              "        vertical-align: top;\n",
              "    }\n",
              "\n",
              "    .dataframe thead th {\n",
              "        text-align: right;\n",
              "    }\n",
              "</style>\n",
              "<table border=\"1\" class=\"dataframe\">\n",
              "  <thead>\n",
              "    <tr style=\"text-align: right;\">\n",
              "      <th></th>\n",
              "      <th>count</th>\n",
              "      <th>mean</th>\n",
              "      <th>std</th>\n",
              "      <th>min</th>\n",
              "      <th>25%</th>\n",
              "      <th>50%</th>\n",
              "      <th>75%</th>\n",
              "      <th>max</th>\n",
              "    </tr>\n",
              "    <tr>\n",
              "      <th>Upholstery_Color</th>\n",
              "      <th></th>\n",
              "      <th></th>\n",
              "      <th></th>\n",
              "      <th></th>\n",
              "      <th></th>\n",
              "      <th></th>\n",
              "      <th></th>\n",
              "      <th></th>\n",
              "    </tr>\n",
              "  </thead>\n",
              "  <tbody>\n",
              "    <tr>\n",
              "      <th>Beige</th>\n",
              "      <td>54.0</td>\n",
              "      <td>21502.111111</td>\n",
              "      <td>7958.450839</td>\n",
              "      <td>9700.0</td>\n",
              "      <td>15309.25</td>\n",
              "      <td>19470.0</td>\n",
              "      <td>28147.50</td>\n",
              "      <td>36500.0</td>\n",
              "    </tr>\n",
              "    <tr>\n",
              "      <th>Black</th>\n",
              "      <td>8201.0</td>\n",
              "      <td>17954.923668</td>\n",
              "      <td>6649.465695</td>\n",
              "      <td>120.0</td>\n",
              "      <td>13500.00</td>\n",
              "      <td>16900.0</td>\n",
              "      <td>21450.00</td>\n",
              "      <td>67600.0</td>\n",
              "    </tr>\n",
              "    <tr>\n",
              "      <th>Blue</th>\n",
              "      <td>16.0</td>\n",
              "      <td>16143.000000</td>\n",
              "      <td>5071.398939</td>\n",
              "      <td>8750.0</td>\n",
              "      <td>12989.75</td>\n",
              "      <td>16300.0</td>\n",
              "      <td>18950.00</td>\n",
              "      <td>25900.0</td>\n",
              "    </tr>\n",
              "    <tr>\n",
              "      <th>Brown</th>\n",
              "      <td>207.0</td>\n",
              "      <td>31211.478261</td>\n",
              "      <td>10775.822171</td>\n",
              "      <td>10893.0</td>\n",
              "      <td>22550.00</td>\n",
              "      <td>28990.0</td>\n",
              "      <td>38345.00</td>\n",
              "      <td>68320.0</td>\n",
              "    </tr>\n",
              "    <tr>\n",
              "      <th>Grey</th>\n",
              "      <td>1376.0</td>\n",
              "      <td>15938.998547</td>\n",
              "      <td>6876.874353</td>\n",
              "      <td>5890.0</td>\n",
              "      <td>10550.00</td>\n",
              "      <td>14990.0</td>\n",
              "      <td>19878.75</td>\n",
              "      <td>74600.0</td>\n",
              "    </tr>\n",
              "    <tr>\n",
              "      <th>Orange</th>\n",
              "      <td>1.0</td>\n",
              "      <td>21400.000000</td>\n",
              "      <td>NaN</td>\n",
              "      <td>21400.0</td>\n",
              "      <td>21400.00</td>\n",
              "      <td>21400.0</td>\n",
              "      <td>21400.00</td>\n",
              "      <td>21400.0</td>\n",
              "    </tr>\n",
              "    <tr>\n",
              "      <th>Other</th>\n",
              "      <td>1016.0</td>\n",
              "      <td>19788.734252</td>\n",
              "      <td>7286.828661</td>\n",
              "      <td>6900.0</td>\n",
              "      <td>12980.00</td>\n",
              "      <td>19877.5</td>\n",
              "      <td>24942.50</td>\n",
              "      <td>50950.0</td>\n",
              "    </tr>\n",
              "    <tr>\n",
              "      <th>Red</th>\n",
              "      <td>9.0</td>\n",
              "      <td>15704.444444</td>\n",
              "      <td>3293.076491</td>\n",
              "      <td>8500.0</td>\n",
              "      <td>13980.00</td>\n",
              "      <td>17440.0</td>\n",
              "      <td>17950.00</td>\n",
              "      <td>18880.0</td>\n",
              "    </tr>\n",
              "    <tr>\n",
              "      <th>White</th>\n",
              "      <td>13.0</td>\n",
              "      <td>16766.153846</td>\n",
              "      <td>9974.559755</td>\n",
              "      <td>5250.0</td>\n",
              "      <td>7950.00</td>\n",
              "      <td>18000.0</td>\n",
              "      <td>22000.00</td>\n",
              "      <td>32700.0</td>\n",
              "    </tr>\n",
              "    <tr>\n",
              "      <th>Yellow</th>\n",
              "      <td>4.0</td>\n",
              "      <td>14822.500000</td>\n",
              "      <td>2204.848823</td>\n",
              "      <td>12990.0</td>\n",
              "      <td>13372.50</td>\n",
              "      <td>14200.0</td>\n",
              "      <td>15650.00</td>\n",
              "      <td>17900.0</td>\n",
              "    </tr>\n",
              "  </tbody>\n",
              "</table>\n",
              "</div>\n",
              "      <button class=\"colab-df-convert\" onclick=\"convertToInteractive('df-5e4b5033-b98d-49b4-b74c-f9a257920fef')\"\n",
              "              title=\"Convert this dataframe to an interactive table.\"\n",
              "              style=\"display:none;\">\n",
              "        \n",
              "  <svg xmlns=\"http://www.w3.org/2000/svg\" height=\"24px\"viewBox=\"0 0 24 24\"\n",
              "       width=\"24px\">\n",
              "    <path d=\"M0 0h24v24H0V0z\" fill=\"none\"/>\n",
              "    <path d=\"M18.56 5.44l.94 2.06.94-2.06 2.06-.94-2.06-.94-.94-2.06-.94 2.06-2.06.94zm-11 1L8.5 8.5l.94-2.06 2.06-.94-2.06-.94L8.5 2.5l-.94 2.06-2.06.94zm10 10l.94 2.06.94-2.06 2.06-.94-2.06-.94-.94-2.06-.94 2.06-2.06.94z\"/><path d=\"M17.41 7.96l-1.37-1.37c-.4-.4-.92-.59-1.43-.59-.52 0-1.04.2-1.43.59L10.3 9.45l-7.72 7.72c-.78.78-.78 2.05 0 2.83L4 21.41c.39.39.9.59 1.41.59.51 0 1.02-.2 1.41-.59l7.78-7.78 2.81-2.81c.8-.78.8-2.07 0-2.86zM5.41 20L4 18.59l7.72-7.72 1.47 1.35L5.41 20z\"/>\n",
              "  </svg>\n",
              "      </button>\n",
              "      \n",
              "  <style>\n",
              "    .colab-df-container {\n",
              "      display:flex;\n",
              "      flex-wrap:wrap;\n",
              "      gap: 12px;\n",
              "    }\n",
              "\n",
              "    .colab-df-convert {\n",
              "      background-color: #E8F0FE;\n",
              "      border: none;\n",
              "      border-radius: 50%;\n",
              "      cursor: pointer;\n",
              "      display: none;\n",
              "      fill: #1967D2;\n",
              "      height: 32px;\n",
              "      padding: 0 0 0 0;\n",
              "      width: 32px;\n",
              "    }\n",
              "\n",
              "    .colab-df-convert:hover {\n",
              "      background-color: #E2EBFA;\n",
              "      box-shadow: 0px 1px 2px rgba(60, 64, 67, 0.3), 0px 1px 3px 1px rgba(60, 64, 67, 0.15);\n",
              "      fill: #174EA6;\n",
              "    }\n",
              "\n",
              "    [theme=dark] .colab-df-convert {\n",
              "      background-color: #3B4455;\n",
              "      fill: #D2E3FC;\n",
              "    }\n",
              "\n",
              "    [theme=dark] .colab-df-convert:hover {\n",
              "      background-color: #434B5C;\n",
              "      box-shadow: 0px 1px 3px 1px rgba(0, 0, 0, 0.15);\n",
              "      filter: drop-shadow(0px 1px 2px rgba(0, 0, 0, 0.3));\n",
              "      fill: #FFFFFF;\n",
              "    }\n",
              "  </style>\n",
              "\n",
              "      <script>\n",
              "        const buttonEl =\n",
              "          document.querySelector('#df-5e4b5033-b98d-49b4-b74c-f9a257920fef button.colab-df-convert');\n",
              "        buttonEl.style.display =\n",
              "          google.colab.kernel.accessAllowed ? 'block' : 'none';\n",
              "\n",
              "        async function convertToInteractive(key) {\n",
              "          const element = document.querySelector('#df-5e4b5033-b98d-49b4-b74c-f9a257920fef');\n",
              "          const dataTable =\n",
              "            await google.colab.kernel.invokeFunction('convertToInteractive',\n",
              "                                                     [key], {});\n",
              "          if (!dataTable) return;\n",
              "\n",
              "          const docLinkHtml = 'Like what you see? Visit the ' +\n",
              "            '<a target=\"_blank\" href=https://colab.research.google.com/notebooks/data_table.ipynb>data table notebook</a>'\n",
              "            + ' to learn more about interactive tables.';\n",
              "          element.innerHTML = '';\n",
              "          dataTable['output_type'] = 'display_data';\n",
              "          await google.colab.output.renderOutput(dataTable, element);\n",
              "          const docLink = document.createElement('div');\n",
              "          docLink.innerHTML = docLinkHtml;\n",
              "          element.appendChild(docLink);\n",
              "        }\n",
              "      </script>\n",
              "    </div>\n",
              "  </div>\n",
              "  "
            ],
            "text/plain": [
              "                   count          mean  ...       75%      max\n",
              "Upholstery_Color                        ...                   \n",
              "Beige               54.0  21502.111111  ...  28147.50  36500.0\n",
              "Black             8201.0  17954.923668  ...  21450.00  67600.0\n",
              "Blue                16.0  16143.000000  ...  18950.00  25900.0\n",
              "Brown              207.0  31211.478261  ...  38345.00  68320.0\n",
              "Grey              1376.0  15938.998547  ...  19878.75  74600.0\n",
              "Orange               1.0  21400.000000  ...  21400.00  21400.0\n",
              "Other             1016.0  19788.734252  ...  24942.50  50950.0\n",
              "Red                  9.0  15704.444444  ...  17950.00  18880.0\n",
              "White               13.0  16766.153846  ...  22000.00  32700.0\n",
              "Yellow               4.0  14822.500000  ...  15650.00  17900.0\n",
              "\n",
              "[10 rows x 8 columns]"
            ]
          },
          "metadata": {},
          "execution_count": 169
        }
      ]
    },
    {
      "cell_type": "code",
      "source": [
        "fillallmeth(df,\"make_model\", \"body_type\", 'Upholstery_Color', 'mode')"
      ],
      "metadata": {
        "colab": {
          "base_uri": "https://localhost:8080/"
        },
        "id": "xV0mdJ7LZ94I",
        "outputId": "8bb9b905-eed2-440e-cffc-36d5547e4ae8"
      },
      "execution_count": 112,
      "outputs": [
        {
          "output_type": "stream",
          "name": "stdout",
          "text": [
            "Number of NaN :  0\n",
            "------------------\n",
            "Black     13114\n",
            "Grey       1442\n",
            "Other      1017\n",
            "Brown       248\n",
            "Beige        55\n",
            "Blue         16\n",
            "White        13\n",
            "Red           9\n",
            "Yellow        4\n",
            "Orange        1\n",
            "Name: Upholstery_Color, dtype: int64\n"
          ]
        }
      ]
    },
    {
      "cell_type": "code",
      "source": [
        "df.groupby('Upholstery_Type')['price'].describe(include='O')"
      ],
      "metadata": {
        "colab": {
          "base_uri": "https://localhost:8080/",
          "height": 333
        },
        "id": "XBXe3wp7ZHQM",
        "outputId": "c5e84c8b-1636-42f2-b462-4ac7462886ff"
      },
      "execution_count": null,
      "outputs": [
        {
          "output_type": "execute_result",
          "data": {
            "text/html": [
              "\n",
              "  <div id=\"df-0aa7826a-13c4-4001-9fae-60b712cea04a\">\n",
              "    <div class=\"colab-df-container\">\n",
              "      <div>\n",
              "<style scoped>\n",
              "    .dataframe tbody tr th:only-of-type {\n",
              "        vertical-align: middle;\n",
              "    }\n",
              "\n",
              "    .dataframe tbody tr th {\n",
              "        vertical-align: top;\n",
              "    }\n",
              "\n",
              "    .dataframe thead th {\n",
              "        text-align: right;\n",
              "    }\n",
              "</style>\n",
              "<table border=\"1\" class=\"dataframe\">\n",
              "  <thead>\n",
              "    <tr style=\"text-align: right;\">\n",
              "      <th></th>\n",
              "      <th>count</th>\n",
              "      <th>mean</th>\n",
              "      <th>std</th>\n",
              "      <th>min</th>\n",
              "      <th>25%</th>\n",
              "      <th>50%</th>\n",
              "      <th>75%</th>\n",
              "      <th>max</th>\n",
              "    </tr>\n",
              "    <tr>\n",
              "      <th>Upholstery_Type</th>\n",
              "      <th></th>\n",
              "      <th></th>\n",
              "      <th></th>\n",
              "      <th></th>\n",
              "      <th></th>\n",
              "      <th></th>\n",
              "      <th></th>\n",
              "      <th></th>\n",
              "    </tr>\n",
              "  </thead>\n",
              "  <tbody>\n",
              "    <tr>\n",
              "      <th>Cloth</th>\n",
              "      <td>8421.0</td>\n",
              "      <td>16914.806080</td>\n",
              "      <td>5977.313126</td>\n",
              "      <td>120.0</td>\n",
              "      <td>12390.0</td>\n",
              "      <td>16135.0</td>\n",
              "      <td>20900.0</td>\n",
              "      <td>63477.0</td>\n",
              "    </tr>\n",
              "    <tr>\n",
              "      <th>Full leather</th>\n",
              "      <td>1009.0</td>\n",
              "      <td>27613.976214</td>\n",
              "      <td>10496.783270</td>\n",
              "      <td>8980.0</td>\n",
              "      <td>18900.0</td>\n",
              "      <td>26900.0</td>\n",
              "      <td>35100.0</td>\n",
              "      <td>74600.0</td>\n",
              "    </tr>\n",
              "    <tr>\n",
              "      <th>Other</th>\n",
              "      <td>368.0</td>\n",
              "      <td>16879.953804</td>\n",
              "      <td>5900.165393</td>\n",
              "      <td>7490.0</td>\n",
              "      <td>12290.0</td>\n",
              "      <td>15960.0</td>\n",
              "      <td>20491.0</td>\n",
              "      <td>50950.0</td>\n",
              "    </tr>\n",
              "    <tr>\n",
              "      <th>Part leather</th>\n",
              "      <td>1499.0</td>\n",
              "      <td>21655.834556</td>\n",
              "      <td>7213.313967</td>\n",
              "      <td>6999.0</td>\n",
              "      <td>15990.0</td>\n",
              "      <td>20780.0</td>\n",
              "      <td>24420.0</td>\n",
              "      <td>63900.0</td>\n",
              "    </tr>\n",
              "    <tr>\n",
              "      <th>Velour</th>\n",
              "      <td>60.0</td>\n",
              "      <td>18073.466667</td>\n",
              "      <td>5858.944165</td>\n",
              "      <td>8290.0</td>\n",
              "      <td>12990.0</td>\n",
              "      <td>17415.0</td>\n",
              "      <td>22490.0</td>\n",
              "      <td>31990.0</td>\n",
              "    </tr>\n",
              "    <tr>\n",
              "      <th>alcantara</th>\n",
              "      <td>57.0</td>\n",
              "      <td>23183.596491</td>\n",
              "      <td>9373.519582</td>\n",
              "      <td>6490.0</td>\n",
              "      <td>16720.0</td>\n",
              "      <td>19840.0</td>\n",
              "      <td>30950.0</td>\n",
              "      <td>40990.0</td>\n",
              "    </tr>\n",
              "  </tbody>\n",
              "</table>\n",
              "</div>\n",
              "      <button class=\"colab-df-convert\" onclick=\"convertToInteractive('df-0aa7826a-13c4-4001-9fae-60b712cea04a')\"\n",
              "              title=\"Convert this dataframe to an interactive table.\"\n",
              "              style=\"display:none;\">\n",
              "        \n",
              "  <svg xmlns=\"http://www.w3.org/2000/svg\" height=\"24px\"viewBox=\"0 0 24 24\"\n",
              "       width=\"24px\">\n",
              "    <path d=\"M0 0h24v24H0V0z\" fill=\"none\"/>\n",
              "    <path d=\"M18.56 5.44l.94 2.06.94-2.06 2.06-.94-2.06-.94-.94-2.06-.94 2.06-2.06.94zm-11 1L8.5 8.5l.94-2.06 2.06-.94-2.06-.94L8.5 2.5l-.94 2.06-2.06.94zm10 10l.94 2.06.94-2.06 2.06-.94-2.06-.94-.94-2.06-.94 2.06-2.06.94z\"/><path d=\"M17.41 7.96l-1.37-1.37c-.4-.4-.92-.59-1.43-.59-.52 0-1.04.2-1.43.59L10.3 9.45l-7.72 7.72c-.78.78-.78 2.05 0 2.83L4 21.41c.39.39.9.59 1.41.59.51 0 1.02-.2 1.41-.59l7.78-7.78 2.81-2.81c.8-.78.8-2.07 0-2.86zM5.41 20L4 18.59l7.72-7.72 1.47 1.35L5.41 20z\"/>\n",
              "  </svg>\n",
              "      </button>\n",
              "      \n",
              "  <style>\n",
              "    .colab-df-container {\n",
              "      display:flex;\n",
              "      flex-wrap:wrap;\n",
              "      gap: 12px;\n",
              "    }\n",
              "\n",
              "    .colab-df-convert {\n",
              "      background-color: #E8F0FE;\n",
              "      border: none;\n",
              "      border-radius: 50%;\n",
              "      cursor: pointer;\n",
              "      display: none;\n",
              "      fill: #1967D2;\n",
              "      height: 32px;\n",
              "      padding: 0 0 0 0;\n",
              "      width: 32px;\n",
              "    }\n",
              "\n",
              "    .colab-df-convert:hover {\n",
              "      background-color: #E2EBFA;\n",
              "      box-shadow: 0px 1px 2px rgba(60, 64, 67, 0.3), 0px 1px 3px 1px rgba(60, 64, 67, 0.15);\n",
              "      fill: #174EA6;\n",
              "    }\n",
              "\n",
              "    [theme=dark] .colab-df-convert {\n",
              "      background-color: #3B4455;\n",
              "      fill: #D2E3FC;\n",
              "    }\n",
              "\n",
              "    [theme=dark] .colab-df-convert:hover {\n",
              "      background-color: #434B5C;\n",
              "      box-shadow: 0px 1px 3px 1px rgba(0, 0, 0, 0.15);\n",
              "      filter: drop-shadow(0px 1px 2px rgba(0, 0, 0, 0.3));\n",
              "      fill: #FFFFFF;\n",
              "    }\n",
              "  </style>\n",
              "\n",
              "      <script>\n",
              "        const buttonEl =\n",
              "          document.querySelector('#df-0aa7826a-13c4-4001-9fae-60b712cea04a button.colab-df-convert');\n",
              "        buttonEl.style.display =\n",
              "          google.colab.kernel.accessAllowed ? 'block' : 'none';\n",
              "\n",
              "        async function convertToInteractive(key) {\n",
              "          const element = document.querySelector('#df-0aa7826a-13c4-4001-9fae-60b712cea04a');\n",
              "          const dataTable =\n",
              "            await google.colab.kernel.invokeFunction('convertToInteractive',\n",
              "                                                     [key], {});\n",
              "          if (!dataTable) return;\n",
              "\n",
              "          const docLinkHtml = 'Like what you see? Visit the ' +\n",
              "            '<a target=\"_blank\" href=https://colab.research.google.com/notebooks/data_table.ipynb>data table notebook</a>'\n",
              "            + ' to learn more about interactive tables.';\n",
              "          element.innerHTML = '';\n",
              "          dataTable['output_type'] = 'display_data';\n",
              "          await google.colab.output.renderOutput(dataTable, element);\n",
              "          const docLink = document.createElement('div');\n",
              "          docLink.innerHTML = docLinkHtml;\n",
              "          element.appendChild(docLink);\n",
              "        }\n",
              "      </script>\n",
              "    </div>\n",
              "  </div>\n",
              "  "
            ],
            "text/plain": [
              "                  count          mean           std  ...      50%      75%      max\n",
              "Upholstery_Type                                      ...                           \n",
              "Cloth            8421.0  16914.806080   5977.313126  ...  16135.0  20900.0  63477.0\n",
              "Full leather     1009.0  27613.976214  10496.783270  ...  26900.0  35100.0  74600.0\n",
              "Other             368.0  16879.953804   5900.165393  ...  15960.0  20491.0  50950.0\n",
              "Part leather     1499.0  21655.834556   7213.313967  ...  20780.0  24420.0  63900.0\n",
              "Velour             60.0  18073.466667   5858.944165  ...  17415.0  22490.0  31990.0\n",
              "alcantara          57.0  23183.596491   9373.519582  ...  19840.0  30950.0  40990.0\n",
              "\n",
              "[6 rows x 8 columns]"
            ]
          },
          "metadata": {},
          "execution_count": 518
        }
      ]
    },
    {
      "cell_type": "code",
      "source": [
        "fillallmeth(df,\"make_model\", \"body_type\", 'Upholstery_Type', 'mode')"
      ],
      "metadata": {
        "colab": {
          "base_uri": "https://localhost:8080/"
        },
        "id": "cQKDTeH6ZsQu",
        "outputId": "8b499206-69c7-43a5-a31b-0752881aa8ca"
      },
      "execution_count": 113,
      "outputs": [
        {
          "output_type": "stream",
          "name": "stdout",
          "text": [
            "Number of NaN :  0\n",
            "------------------\n",
            "Cloth           12464\n",
            "Part leather     1552\n",
            "Full leather     1382\n",
            "Other             404\n",
            "Velour             60\n",
            "alcantara          57\n",
            "Name: Upholstery_Type, dtype: int64\n"
          ]
        }
      ]
    },
    {
      "cell_type": "code",
      "source": [
        "df.drop('Upholstery',axis=1, inplace=True)"
      ],
      "metadata": {
        "id": "0iO2G1jMnyc0"
      },
      "execution_count": 114,
      "outputs": []
    },
    {
      "cell_type": "code",
      "source": [
        "pd.get_dummies(df['Upholstery_Color'],prefix='upholstery',prefix_sep='_')"
      ],
      "metadata": {
        "id": "L6iqeaHYdZQZ"
      },
      "execution_count": null,
      "outputs": []
    },
    {
      "cell_type": "markdown",
      "source": [
        "# ***28-Body***"
      ],
      "metadata": {
        "id": "y3kX_Rl8yRra"
      }
    },
    {
      "cell_type": "code",
      "source": [
        "df[\"Body\"]=df[\"Body\"].apply(lambda item : item[1] if type(item)== list else item)\n",
        "df[\"Body\"]"
      ],
      "metadata": {
        "colab": {
          "base_uri": "https://localhost:8080/"
        },
        "id": "oFz5Nk62uJ0Q",
        "outputId": "1a219564-2504-4255-9737-3c088ccd537e"
      },
      "execution_count": 115,
      "outputs": [
        {
          "output_type": "execute_result",
          "data": {
            "text/plain": [
              "0        Sedans\n",
              "1        Sedans\n",
              "2        Sedans\n",
              "3        Sedans\n",
              "4        Sedans\n",
              "          ...  \n",
              "15914       Van\n",
              "15915       Van\n",
              "15916       Van\n",
              "15917       Van\n",
              "15918       Van\n",
              "Name: Body, Length: 15919, dtype: object"
            ]
          },
          "metadata": {},
          "execution_count": 115
        }
      ]
    },
    {
      "cell_type": "code",
      "source": [
        "df[\"Body\"]=df[\"Body\"].str.strip('\\n')\n",
        "df[\"Body\"]"
      ],
      "metadata": {
        "colab": {
          "base_uri": "https://localhost:8080/"
        },
        "id": "z6PsyOIOuSKG",
        "outputId": "d40d5a78-2e27-4a49-ed78-928eeab78339"
      },
      "execution_count": 116,
      "outputs": [
        {
          "output_type": "execute_result",
          "data": {
            "text/plain": [
              "0        Sedans\n",
              "1        Sedans\n",
              "2        Sedans\n",
              "3        Sedans\n",
              "4        Sedans\n",
              "          ...  \n",
              "15914       Van\n",
              "15915       Van\n",
              "15916       Van\n",
              "15917       Van\n",
              "15918       Van\n",
              "Name: Body, Length: 15919, dtype: object"
            ]
          },
          "metadata": {},
          "execution_count": 116
        }
      ]
    },
    {
      "cell_type": "code",
      "source": [
        "df[\"Body\"].isnull().sum()"
      ],
      "metadata": {
        "colab": {
          "base_uri": "https://localhost:8080/"
        },
        "id": "wmb2n9e4ugu8",
        "outputId": "36650a80-d1c6-44f8-87cb-e7db9fecbfe8"
      },
      "execution_count": null,
      "outputs": [
        {
          "output_type": "execute_result",
          "data": {
            "text/plain": [
              "60"
            ]
          },
          "metadata": {},
          "execution_count": 233
        }
      ]
    },
    {
      "cell_type": "code",
      "source": [
        "#compare with body type and drop\n",
        "df.drop([\"Body\"], axis=1)"
      ],
      "metadata": {
        "id": "KgTUTzZ1ub_d"
      },
      "execution_count": null,
      "outputs": []
    },
    {
      "cell_type": "code",
      "source": [
        ""
      ],
      "metadata": {
        "id": "lenJnMTPhmXr"
      },
      "execution_count": null,
      "outputs": []
    },
    {
      "cell_type": "markdown",
      "source": [
        "# ***29-Nr. of Doors***"
      ],
      "metadata": {
        "id": "C-mVdAlVyRiF"
      }
    },
    {
      "cell_type": "code",
      "source": [
        "df[\"Nr. of Doors\"]=df[\"Nr. of Doors\"].apply(lambda item : item[0] if type(item)== list else item)\n",
        "df[\"Nr. of Doors\"]=df[\"Nr. of Doors\"].str.strip('\\n')\n",
        "df[\"Nr. of Doors\"]"
      ],
      "metadata": {
        "colab": {
          "base_uri": "https://localhost:8080/"
        },
        "id": "iK96O2yGuzrl",
        "outputId": "a2ceab09-df86-4d9d-878c-e3c92dc5c638"
      },
      "execution_count": 118,
      "outputs": [
        {
          "output_type": "execute_result",
          "data": {
            "text/plain": [
              "0        5\n",
              "1        3\n",
              "2        4\n",
              "3        3\n",
              "4        5\n",
              "        ..\n",
              "15914    5\n",
              "15915    5\n",
              "15916    5\n",
              "15917    5\n",
              "15918    5\n",
              "Name: Nr. of Doors, Length: 15919, dtype: object"
            ]
          },
          "metadata": {},
          "execution_count": 118
        }
      ]
    },
    {
      "cell_type": "code",
      "source": [
        "df[\"Nr. of Doors\"]=df[\"Nr. of Doors\"].astype(float)\n",
        "df[\"Nr. of Doors\"]"
      ],
      "metadata": {
        "colab": {
          "base_uri": "https://localhost:8080/"
        },
        "id": "XhR-hmAUuzzE",
        "outputId": "7f7d1c24-9aab-4b17-c9a3-b91905845f05"
      },
      "execution_count": 121,
      "outputs": [
        {
          "output_type": "execute_result",
          "data": {
            "text/plain": [
              "0        5.0\n",
              "1        3.0\n",
              "2        4.0\n",
              "3        3.0\n",
              "4        5.0\n",
              "        ... \n",
              "15914    5.0\n",
              "15915    5.0\n",
              "15916    5.0\n",
              "15917    5.0\n",
              "15918    5.0\n",
              "Name: Nr. of Doors, Length: 15919, dtype: float64"
            ]
          },
          "metadata": {},
          "execution_count": 121
        }
      ]
    },
    {
      "cell_type": "code",
      "source": [
        "df[\"Nr. of Doors\"].replace({1.0:5.0},inplace=True)"
      ],
      "metadata": {
        "id": "gmfNhO0noYud"
      },
      "execution_count": null,
      "outputs": []
    },
    {
      "cell_type": "code",
      "source": [
        "df[\"Nr. of Doors\"].value_counts(dropna=False)"
      ],
      "metadata": {
        "colab": {
          "base_uri": "https://localhost:8080/"
        },
        "id": "N3z6uIHPuz1-",
        "outputId": "b9be4ee4-41b2-4ca7-dda8-658225b11ef6"
      },
      "execution_count": 122,
      "outputs": [
        {
          "output_type": "execute_result",
          "data": {
            "text/plain": [
              "5.0    11576\n",
              "4.0     3079\n",
              "3.0      832\n",
              "2.0      219\n",
              "NaN      212\n",
              "7.0        1\n",
              "Name: Nr. of Doors, dtype: int64"
            ]
          },
          "metadata": {},
          "execution_count": 122
        }
      ]
    },
    {
      "cell_type": "code",
      "source": [
        "fillallmeth(df,\"make_model\",  \"body_type\",\"Nr. of Doors\", 'mode')"
      ],
      "metadata": {
        "colab": {
          "base_uri": "https://localhost:8080/"
        },
        "id": "7BjQF6X6HYPx",
        "outputId": "27febb1e-19ef-4956-effb-79a776a04312"
      },
      "execution_count": 123,
      "outputs": [
        {
          "output_type": "stream",
          "name": "stdout",
          "text": [
            "Number of NaN :  0\n",
            "------------------\n",
            "5.0    11788\n",
            "4.0     3079\n",
            "3.0      832\n",
            "2.0      219\n",
            "7.0        1\n",
            "Name: Nr. of Doors, dtype: int64\n"
          ]
        }
      ]
    },
    {
      "cell_type": "code",
      "source": [
        "plt.figure(figsize=(10,6))\n",
        "plt.subplot(121)\n",
        "plt.hist(df['Nr. of Doors'], bins = 20)\n",
        "\n",
        "plt.subplot(122)\n",
        "plt.boxplot(df['Nr. of Doors'], whis = 2.5)\n",
        "\n",
        "plt.show()"
      ],
      "metadata": {
        "colab": {
          "base_uri": "https://localhost:8080/",
          "height": 374
        },
        "id": "e2itKSJFoeyA",
        "outputId": "f0dae0d0-2fca-4c16-87b8-19b946bb7f02"
      },
      "execution_count": 125,
      "outputs": [
        {
          "output_type": "display_data",
          "data": {
            "image/png": "[encoded data removed]",
            "text/plain": [
              "<Figure size 720x432 with 2 Axes>"
            ]
          },
          "metadata": {
            "needs_background": "light"
          }
        }
      ]
    },
    {
      "cell_type": "markdown",
      "source": [
        "# ***30-Nr. of Seats***"
      ],
      "metadata": {
        "id": "pa4tnNIsyRSs"
      }
    },
    {
      "cell_type": "code",
      "source": [
        "df[\"Nr. of Seats\"]=df[\"Nr. of Seats\"].apply(lambda item : item[0] if type(item)== list else item)\n",
        "df[\"Nr. of Seats\"]=df[\"Nr. of Seats\"].str.strip('\\n')\n",
        "df[\"Nr. of Seats\"]"
      ],
      "metadata": {
        "id": "Bc0_KrnTvx5_",
        "colab": {
          "base_uri": "https://localhost:8080/"
        },
        "outputId": "5f108a6b-abdf-44d6-edfa-83a48faf0ddf"
      },
      "execution_count": 124,
      "outputs": [
        {
          "output_type": "execute_result",
          "data": {
            "text/plain": [
              "0        5\n",
              "1        4\n",
              "2        4\n",
              "3        4\n",
              "4        5\n",
              "        ..\n",
              "15914    5\n",
              "15915    5\n",
              "15916    7\n",
              "15917    7\n",
              "15918    5\n",
              "Name: Nr. of Seats, Length: 15919, dtype: object"
            ]
          },
          "metadata": {},
          "execution_count": 124
        }
      ]
    },
    {
      "cell_type": "code",
      "source": [
        "df[\"Nr. of Seats\"]=df[\"Nr. of Seats\"].astype('float')"
      ],
      "metadata": {
        "id": "UWMzBmXAx4mG"
      },
      "execution_count": 126,
      "outputs": []
    },
    {
      "cell_type": "code",
      "source": [
        "df[\"Nr. of Seats\"].value_counts(dropna=False)"
      ],
      "metadata": {
        "colab": {
          "base_uri": "https://localhost:8080/"
        },
        "id": "gcHIfcJsvyZ3",
        "outputId": "44ce5a5c-c5fb-4e7b-800c-5bbda677747a"
      },
      "execution_count": 127,
      "outputs": [
        {
          "output_type": "execute_result",
          "data": {
            "text/plain": [
              "5.0    13336\n",
              "4.0     1125\n",
              "NaN      977\n",
              "7.0      362\n",
              "2.0      116\n",
              "6.0        2\n",
              "3.0        1\n",
              "Name: Nr. of Seats, dtype: int64"
            ]
          },
          "metadata": {},
          "execution_count": 127
        }
      ]
    },
    {
      "cell_type": "code",
      "source": [
        "df[\"Nr. of Seats\"].mode()"
      ],
      "metadata": {
        "colab": {
          "base_uri": "https://localhost:8080/"
        },
        "id": "T5zrk77epQC8",
        "outputId": "fce0dfc0-d5a0-4141-e5d3-3c461f53e23c"
      },
      "execution_count": 132,
      "outputs": [
        {
          "output_type": "execute_result",
          "data": {
            "text/plain": [
              "0    5.0\n",
              "dtype: float64"
            ]
          },
          "metadata": {},
          "execution_count": 132
        }
      ]
    },
    {
      "cell_type": "code",
      "source": [
        "df[\"Nr. of Seats\"].replace(3.0,5.0,regex=True,inplace=True)"
      ],
      "metadata": {
        "id": "F5GkHe3-yyTi"
      },
      "execution_count": 128,
      "outputs": []
    },
    {
      "cell_type": "code",
      "source": [
        "df[\"Nr. of Seats\"].replace(6.0,5.0,regex=True,inplace=True)"
      ],
      "metadata": {
        "id": "L4XrtXRNzJ-e"
      },
      "execution_count": 129,
      "outputs": []
    },
    {
      "cell_type": "code",
      "source": [
        "df[\"Nr. of Seats\"].value_counts(dropna=False)"
      ],
      "metadata": {
        "colab": {
          "base_uri": "https://localhost:8080/"
        },
        "id": "IzXb2YUdpKwm",
        "outputId": "609b4346-8a95-4c25-de1a-4f9a962719cc"
      },
      "execution_count": 130,
      "outputs": [
        {
          "output_type": "execute_result",
          "data": {
            "text/plain": [
              "5.0    13339\n",
              "4.0     1125\n",
              "NaN      977\n",
              "7.0      362\n",
              "2.0      116\n",
              "Name: Nr. of Seats, dtype: int64"
            ]
          },
          "metadata": {},
          "execution_count": 130
        }
      ]
    },
    {
      "cell_type": "code",
      "source": [
        "fillallmeth(df,\"make_model\",  \"body_type\",\"Nr. of Seats\", 'mode')"
      ],
      "metadata": {
        "id": "13i97U44vyb7",
        "colab": {
          "base_uri": "https://localhost:8080/"
        },
        "outputId": "5a022c77-2bf2-4cdc-f0dc-81d622ed8da4"
      },
      "execution_count": 133,
      "outputs": [
        {
          "output_type": "stream",
          "name": "stdout",
          "text": [
            "Number of NaN :  0\n",
            "------------------\n",
            "5.0    14311\n",
            "4.0     1127\n",
            "7.0      362\n",
            "2.0      119\n",
            "Name: Nr. of Seats, dtype: int64\n"
          ]
        }
      ]
    },
    {
      "cell_type": "code",
      "source": [
        "plt.figure(figsize=(12,5))\n",
        "plt.subplot(121)\n",
        "plt.hist(df['Nr. of Seats'], bins = 30)\n",
        "\n",
        "plt.subplot(122)\n",
        "plt.boxplot(df['Nr. of Seats'], whis = 2.5)\n",
        "\n",
        "plt.show()"
      ],
      "metadata": {
        "colab": {
          "base_uri": "https://localhost:8080/",
          "height": 320
        },
        "id": "5UnDTM2vpdaT",
        "outputId": "33093f5b-8115-4c20-9b80-07b09092ff29"
      },
      "execution_count": 140,
      "outputs": [
        {
          "output_type": "display_data",
          "data": {
            "image/png": "[encoded data removed]",
            "text/plain": [
              "<Figure size 864x360 with 2 Axes>"
            ]
          },
          "metadata": {
            "needs_background": "light"
          }
        }
      ]
    },
    {
      "cell_type": "markdown",
      "source": [
        "# ***31-Model Code***"
      ],
      "metadata": {
        "id": "YVI0IbBCgS2h"
      }
    },
    {
      "cell_type": "code",
      "source": [
        "df[\"Model Code\"]=df[\"Model Code\"].apply(lambda item : item[0] if type(item)== list else item)\n",
        "df[\"Model Code\"]=df[\"Model Code\"].str.strip('\\n')\n",
        "df[\"Model Code\"]"
      ],
      "metadata": {
        "colab": {
          "base_uri": "https://localhost:8080/"
        },
        "id": "Hwb1N0NsySyi",
        "outputId": "7a6c41d1-8142-466e-db61-0d45fdc77743"
      },
      "execution_count": null,
      "outputs": [
        {
          "output_type": "execute_result",
          "data": {
            "text/plain": [
              "0        0588/BDF\n",
              "1        0588/BCY\n",
              "2             NaN\n",
              "3             NaN\n",
              "4        0588/BDF\n",
              "           ...   \n",
              "15914         NaN\n",
              "15915    0000/000\n",
              "15916         NaN\n",
              "15917         NaN\n",
              "15918    3333/BHJ\n",
              "Name: Model Code, Length: 15919, dtype: object"
            ]
          },
          "metadata": {},
          "execution_count": 182
        }
      ]
    },
    {
      "cell_type": "code",
      "source": [
        "df[\"Model Code\"].value_counts(dropna=False)"
      ],
      "metadata": {
        "colab": {
          "base_uri": "https://localhost:8080/"
        },
        "id": "_w7b8Kq3yS6P",
        "outputId": "2189e086-4330-4207-95ce-3f489f8a686a"
      },
      "execution_count": null,
      "outputs": [
        {
          "output_type": "execute_result",
          "data": {
            "text/plain": [
              "NaN         10941\n",
              "0035/BCB      268\n",
              "0588/BNO      245\n",
              "0588/BDB      206\n",
              "0588/BHX      188\n",
              "            ...  \n",
              "0035/AOY        1\n",
              "0035/BHX        1\n",
              "0035/BAV        1\n",
              "0035/AAD        1\n",
              "1234/123        1\n",
              "Name: Model Code, Length: 233, dtype: int64"
            ]
          },
          "metadata": {},
          "execution_count": 242
        }
      ]
    },
    {
      "cell_type": "code",
      "source": [
        "df.drop([\"Model Code\"],axis=1)#this column does not contain useful informations"
      ],
      "metadata": {
        "id": "q4WZco4eyS9l"
      },
      "execution_count": null,
      "outputs": []
    },
    {
      "cell_type": "markdown",
      "source": [
        "# ***32-Gearing Type***"
      ],
      "metadata": {
        "id": "g3cjycqMgSz3"
      }
    },
    {
      "cell_type": "code",
      "source": [
        "df[\"Gearing Type\"]=df[\"Gearing Type\"].apply(lambda item : item[1] if type(item)== list else item)\n",
        "df[\"Gearing Type\"]=df[\"Gearing Type\"].str.strip('\\n')\n",
        "df[\"Gearing Type\"]"
      ],
      "metadata": {
        "colab": {
          "base_uri": "https://localhost:8080/"
        },
        "id": "JbKSirWoz1ew",
        "outputId": "0c11eeda-8563-4ad6-83fc-ebb89619a130"
      },
      "execution_count": 142,
      "outputs": [
        {
          "output_type": "execute_result",
          "data": {
            "text/plain": [
              "0        Automatic\n",
              "1        Automatic\n",
              "2        Automatic\n",
              "3        Automatic\n",
              "4        Automatic\n",
              "           ...    \n",
              "15914    Automatic\n",
              "15915    Automatic\n",
              "15916    Automatic\n",
              "15917    Automatic\n",
              "15918    Automatic\n",
              "Name: Gearing Type, Length: 15919, dtype: object"
            ]
          },
          "metadata": {},
          "execution_count": 142
        }
      ]
    },
    {
      "cell_type": "code",
      "source": [
        "df[\"Gearing Type\"].value_counts(dropna=False)"
      ],
      "metadata": {
        "id": "zT1vdwchz1o7",
        "colab": {
          "base_uri": "https://localhost:8080/"
        },
        "outputId": "db4186d8-cfc0-4d8c-e44c-8ada83d274cf"
      },
      "execution_count": 143,
      "outputs": [
        {
          "output_type": "execute_result",
          "data": {
            "text/plain": [
              "Manual            8153\n",
              "Automatic         7297\n",
              "Semi-automatic     469\n",
              "Name: Gearing Type, dtype: int64"
            ]
          },
          "metadata": {},
          "execution_count": 143
        }
      ]
    },
    {
      "cell_type": "code",
      "source": [
        "#df[\"Gearing Type\"].str.get_dummies()"
      ],
      "metadata": {
        "id": "mtCrsvucz1uU"
      },
      "execution_count": null,
      "outputs": []
    },
    {
      "cell_type": "markdown",
      "source": [
        "# ***33-Displacement***"
      ],
      "metadata": {
        "id": "A9V3fAf3gSxS"
      }
    },
    {
      "cell_type": "code",
      "source": [
        "df[\"Displacement\"] = [\",\".join(item) if type(item) == list else item for item in df[\"Displacement\"]] \n",
        "df[\"Displacement\"]=df[\"Displacement\"].str.strip('\\n').str.strip(' cc')\n",
        "df[\"Displacement\"]"
      ],
      "metadata": {
        "id": "qz7tgobJ0sEb"
      },
      "execution_count": null,
      "outputs": []
    },
    {
      "cell_type": "code",
      "source": [
        "df[\"Displacement\"]=df[\"Displacement\"].str.replace(',','', regex=True)"
      ],
      "metadata": {
        "id": "fEKaYaPrmeCj"
      },
      "execution_count": 66,
      "outputs": []
    },
    {
      "cell_type": "code",
      "source": [
        "df[\"Displacement\"]=round(((df[\"Displacement\"].astype(float))/1000),1) #converting to float\n",
        "df[\"Displacement\"]"
      ],
      "metadata": {
        "colab": {
          "base_uri": "https://localhost:8080/"
        },
        "id": "Jqno-0dd2mAx",
        "outputId": "21bbbe8e-edf0-4a30-a2b9-12ff8571e817"
      },
      "execution_count": 67,
      "outputs": [
        {
          "output_type": "execute_result",
          "data": {
            "text/plain": [
              "0        1.4\n",
              "1        1.8\n",
              "2        1.6\n",
              "3        1.4\n",
              "4        1.4\n",
              "        ... \n",
              "15914    2.0\n",
              "15915    1.8\n",
              "15916    2.0\n",
              "15917    2.0\n",
              "15918    1.8\n",
              "Name: Displacement, Length: 15919, dtype: float64"
            ]
          },
          "metadata": {},
          "execution_count": 67
        }
      ]
    },
    {
      "cell_type": "code",
      "source": [
        "df[\"Displacement\"].value_counts(dropna=False)"
      ],
      "metadata": {
        "colab": {
          "base_uri": "https://localhost:8080/"
        },
        "id": "Pn25QNZdgI3G",
        "outputId": "5aa2ba37-bc57-4d0a-bff7-a80a038578ad"
      },
      "execution_count": null,
      "outputs": [
        {
          "output_type": "execute_result",
          "data": {
            "text/plain": [
              "1.6     5115\n",
              "1.4     3060\n",
              "1.0     2558\n",
              "1.5     1409\n",
              "1.2     1164\n",
              "2.0     1164\n",
              "NaN      496\n",
              "0.9      372\n",
              "1.1      289\n",
              "1.8      211\n",
              "0.0       38\n",
              "2.5       20\n",
              "0.1        7\n",
              "0.2        6\n",
              "1.3        3\n",
              "1.7        2\n",
              "1.9        2\n",
              "3.0        1\n",
              "16.0       1\n",
              "15.9       1\n",
              "Name: Displacement, dtype: int64"
            ]
          },
          "metadata": {},
          "execution_count": 65
        }
      ]
    },
    {
      "cell_type": "code",
      "source": [
        "fillallmeth(df,  \"Weight\", \"Cylinders\",\"Displacement\", \"mean\")"
      ],
      "metadata": {
        "id": "Zew-WJGv9vzF",
        "colab": {
          "base_uri": "https://localhost:8080/"
        },
        "outputId": "74b3fcf6-ebee-47a3-f63c-f0689e2c6807"
      },
      "execution_count": 69,
      "outputs": [
        {
          "output_type": "stream",
          "name": "stdout",
          "text": [
            "Number of NaN :  0\n",
            "------------------\n",
            "1.600000     5119\n",
            "1.400000     3060\n",
            "1.000000     2560\n",
            "1.500000     1412\n",
            "2.000000     1164\n",
            "1.200000     1164\n",
            "0.900000      372\n",
            "1.100000      289\n",
            "1.800000      211\n",
            "1.686740       71\n",
            "1.326174       66\n",
            "1.295436       49\n",
            "1.631670       41\n",
            "1.528966       38\n",
            "0.000000       38\n",
            "1.578065       37\n",
            "1.701665       29\n",
            "2.500000       20\n",
            "1.434343       18\n",
            "1.085714       12\n",
            "1.384244       10\n",
            "1.206369       10\n",
            "1.162319        9\n",
            "1.251685        9\n",
            "1.190018        8\n",
            "0.948092        8\n",
            "1.099615        7\n",
            "1.137037        7\n",
            "1.455474        7\n",
            "0.100000        7\n",
            "1.234783        6\n",
            "0.200000        6\n",
            "1.185714        6\n",
            "1.571309        6\n",
            "1.686740        5\n",
            "1.640000        4\n",
            "1.300000        3\n",
            "1.700000        3\n",
            "1.483495        3\n",
            "1.612429        3\n",
            "1.359509        3\n",
            "1.900000        2\n",
            "1.561644        2\n",
            "1.828571        2\n",
            "1.261905        2\n",
            "15.900000       1\n",
            "3.000000        1\n",
            "16.000000       1\n",
            "1.480000        1\n",
            "1.113408        1\n",
            "1.085366        1\n",
            "1.585321        1\n",
            "1.233333        1\n",
            "1.300000        1\n",
            "1.375000        1\n",
            "1.696970        1\n",
            "Name: Displacement, dtype: int64\n"
          ]
        }
      ]
    },
    {
      "cell_type": "code",
      "source": [
        "plt.figure(figsize=(10,6))\n",
        "plt.subplot(121)\n",
        "plt.hist(df.Displacement, bins = 20)\n",
        "\n",
        "plt.subplot(122)\n",
        "plt.boxplot(df.Displacement, whis = 2.5)\n",
        "\n",
        "plt.show()"
      ],
      "metadata": {
        "colab": {
          "base_uri": "https://localhost:8080/",
          "height": 374
        },
        "id": "lZ3MpnazkxP4",
        "outputId": "140af3ea-5c8c-4b9e-d3b5-a8bae8f90a86"
      },
      "execution_count": 70,
      "outputs": [
        {
          "output_type": "display_data",
          "data": {
            "image/png": "[encoded data removed]",
            "text/plain": [
              "<Figure size 720x432 with 2 Axes>"
            ]
          },
          "metadata": {
            "needs_background": "light"
          }
        }
      ]
    },
    {
      "cell_type": "code",
      "source": [
        "df[\"Displacement\"].max()"
      ],
      "metadata": {
        "colab": {
          "base_uri": "https://localhost:8080/"
        },
        "id": "0OaNuEEvlI4D",
        "outputId": "59770b60-394e-496e-bdbc-28684e74b59a"
      },
      "execution_count": 76,
      "outputs": [
        {
          "output_type": "execute_result",
          "data": {
            "text/plain": [
              "15.9"
            ]
          },
          "metadata": {},
          "execution_count": 76
        }
      ]
    },
    {
      "cell_type": "code",
      "source": [
        "df[\"Displacement\"].replace([16.0],1.6,regex=True,inplace=True)"
      ],
      "metadata": {
        "id": "xDB-aUpAlOd7"
      },
      "execution_count": 75,
      "outputs": []
    },
    {
      "cell_type": "code",
      "source": [
        "df[\"Displacement\"].replace([15.9],1.6,regex=True,inplace=True)"
      ],
      "metadata": {
        "id": "S-Ap5ZuAlvCx"
      },
      "execution_count": 77,
      "outputs": []
    },
    {
      "cell_type": "code",
      "source": [
        "df[\"Displacement\"].max()"
      ],
      "metadata": {
        "colab": {
          "base_uri": "https://localhost:8080/"
        },
        "id": "Pl9_qBCQl0Mz",
        "outputId": "4b8eb686-7d09-4938-bddc-8f95962ed19c"
      },
      "execution_count": 78,
      "outputs": [
        {
          "output_type": "execute_result",
          "data": {
            "text/plain": [
              "3.0"
            ]
          },
          "metadata": {},
          "execution_count": 78
        }
      ]
    },
    {
      "cell_type": "code",
      "source": [
        "df[\"Displacement\"].min()"
      ],
      "metadata": {
        "colab": {
          "base_uri": "https://localhost:8080/"
        },
        "id": "3CCljJwgmIkU",
        "outputId": "c68263cf-90db-4e53-fb74-8c249713e0f7"
      },
      "execution_count": 81,
      "outputs": [
        {
          "output_type": "execute_result",
          "data": {
            "text/plain": [
              "0.0"
            ]
          },
          "metadata": {},
          "execution_count": 81
        }
      ]
    },
    {
      "cell_type": "code",
      "source": [
        "df[\"Displacement\"].replace([0.0],1.0,regex=True,inplace=True)"
      ],
      "metadata": {
        "id": "jaPGVQjpmIsQ"
      },
      "execution_count": 82,
      "outputs": []
    },
    {
      "cell_type": "code",
      "source": [
        "plt.figure(figsize=(10,6))\n",
        "plt.subplot(121)\n",
        "plt.hist(df.Displacement, bins = 20)\n",
        "\n",
        "plt.subplot(122)\n",
        "plt.boxplot(df.Displacement, whis = 2.5)\n",
        "\n",
        "plt.show()"
      ],
      "metadata": {
        "colab": {
          "base_uri": "https://localhost:8080/",
          "height": 374
        },
        "id": "46xclIX3l4wM",
        "outputId": "ce7fd343-5675-41cc-b85e-adf5d3280029"
      },
      "execution_count": 83,
      "outputs": [
        {
          "output_type": "display_data",
          "data": {
            "image/png": "[encoded data removed]",
            "text/plain": [
              "<Figure size 720x432 with 2 Axes>"
            ]
          },
          "metadata": {
            "needs_background": "light"
          }
        }
      ]
    },
    {
      "cell_type": "markdown",
      "source": [
        "# ***34-Cylinders***"
      ],
      "metadata": {
        "id": "nIArIawzgSuy"
      }
    },
    {
      "cell_type": "code",
      "source": [
        "df[\"Cylinders\"]=df[\"Cylinders\"].apply(lambda item : item[0] if type(item)== list else item)\n",
        "df[\"Cylinders\"]=df[\"Cylinders\"].str.strip('\\n')\n",
        "df[\"Cylinders\"]"
      ],
      "metadata": {
        "colab": {
          "base_uri": "https://localhost:8080/"
        },
        "id": "nLR-DvCz293w",
        "outputId": "e121ab89-9183-4358-bd0f-06b591628001"
      },
      "execution_count": 46,
      "outputs": [
        {
          "output_type": "execute_result",
          "data": {
            "text/plain": [
              "0          3\n",
              "1          4\n",
              "2        NaN\n",
              "3          3\n",
              "4          3\n",
              "        ... \n",
              "15914      4\n",
              "15915      4\n",
              "15916      4\n",
              "15917      4\n",
              "15918      4\n",
              "Name: Cylinders, Length: 15919, dtype: object"
            ]
          },
          "metadata": {},
          "execution_count": 46
        }
      ]
    },
    {
      "cell_type": "code",
      "source": [
        "df[\"Cylinders\"]=df[\"Cylinders\"].astype(float)"
      ],
      "metadata": {
        "id": "Xvz9ErZ53c-Y"
      },
      "execution_count": 47,
      "outputs": []
    },
    {
      "cell_type": "code",
      "source": [
        "df[\"Cylinders\"].value_counts(dropna=False)"
      ],
      "metadata": {
        "colab": {
          "base_uri": "https://localhost:8080/"
        },
        "id": "qLQDKhKlpoZK",
        "outputId": "26297f1b-ff56-4c26-c765-ae0cae09ac13"
      },
      "execution_count": null,
      "outputs": [
        {
          "output_type": "execute_result",
          "data": {
            "text/plain": [
              "4.0    8105\n",
              "NaN    5680\n",
              "3.0    2104\n",
              "5.0      22\n",
              "6.0       3\n",
              "2.0       2\n",
              "8.0       2\n",
              "1.0       1\n",
              "Name: Cylinders, dtype: int64"
            ]
          },
          "metadata": {},
          "execution_count": 444
        }
      ]
    },
    {
      "cell_type": "code",
      "source": [
        "fillallmeth(df, \"make_model\", \"Weight\", \"Cylinders\", \"ffill\")"
      ],
      "metadata": {
        "colab": {
          "base_uri": "https://localhost:8080/"
        },
        "id": "hUuLj0Sp9Z02",
        "outputId": "f097fc75-4f4b-4ebf-f90e-ba4d5aab14e2"
      },
      "execution_count": 56,
      "outputs": [
        {
          "output_type": "stream",
          "name": "stdout",
          "text": [
            "Number of NaN :  0\n",
            "------------------\n",
            "4.0    12531\n",
            "3.0     3342\n",
            "5.0       23\n",
            "6.0        8\n",
            "8.0        7\n",
            "2.0        6\n",
            "1.0        2\n",
            "Name: Cylinders, dtype: int64\n"
          ]
        }
      ]
    },
    {
      "cell_type": "code",
      "source": [
        "df['c'].replace([1],4, inplace=True)"
      ],
      "metadata": {
        "id": "6Lf2IUo7jQAc"
      },
      "execution_count": 57,
      "outputs": []
    },
    {
      "cell_type": "code",
      "source": [
        "plt.figure(figsize=(10,6))\n",
        "plt.subplot(121)\n",
        "plt.hist(df.Cylinders, bins = 30)\n",
        "\n",
        "plt.subplot(122)\n",
        "plt.boxplot(df.Cylinders, whis = 4)\n",
        "\n",
        "plt.show()"
      ],
      "metadata": {
        "id": "uwgAe4zNnNKO",
        "colab": {
          "base_uri": "https://localhost:8080/",
          "height": 374
        },
        "outputId": "7243417c-2a8d-461b-d8a5-f069a753494d"
      },
      "execution_count": 63,
      "outputs": [
        {
          "output_type": "display_data",
          "data": {
            "image/png": "[encoded data removed]",
            "text/plain": [
              "<Figure size 720x432 with 2 Axes>"
            ]
          },
          "metadata": {
            "needs_background": "light"
          }
        }
      ]
    },
    {
      "cell_type": "markdown",
      "source": [
        "# ***35-Weight***"
      ],
      "metadata": {
        "id": "bJD3FKFngSsA"
      }
    },
    {
      "cell_type": "code",
      "source": [
        "df[\"Weight\"] = [\",\".join(item) if type(item) == list else item for item in df[\"Weight\"]] \n",
        "df[\"Weight\"]=df[\"Weight\"].str.strip('\\n').str.strip(' kg')\n",
        "df[\"Weight\"]"
      ],
      "metadata": {
        "id": "JY35HA2T370C",
        "colab": {
          "base_uri": "https://localhost:8080/"
        },
        "outputId": "cab68d60-5752-4343-d7b5-9fba73a51bf1"
      },
      "execution_count": 48,
      "outputs": [
        {
          "output_type": "execute_result",
          "data": {
            "text/plain": [
              "0        1,220\n",
              "1        1,255\n",
              "2          NaN\n",
              "3        1,195\n",
              "4          NaN\n",
              "         ...  \n",
              "15914    1,758\n",
              "15915    1,708\n",
              "15916      NaN\n",
              "15917    1,758\n",
              "15918    1,685\n",
              "Name: Weight, Length: 15919, dtype: object"
            ]
          },
          "metadata": {},
          "execution_count": 48
        }
      ]
    },
    {
      "cell_type": "code",
      "source": [
        "df[\"Weight\"]=df[\"Weight\"].str.replace(',','', regex=True)\n",
        "df[\"Weight\"]"
      ],
      "metadata": {
        "colab": {
          "base_uri": "https://localhost:8080/"
        },
        "id": "aNg1-fnMthzL",
        "outputId": "bbad1658-cda0-4700-fa22-5e2e40370104"
      },
      "execution_count": 49,
      "outputs": [
        {
          "output_type": "execute_result",
          "data": {
            "text/plain": [
              "0        1220\n",
              "1        1255\n",
              "2         NaN\n",
              "3        1195\n",
              "4         NaN\n",
              "         ... \n",
              "15914    1758\n",
              "15915    1708\n",
              "15916     NaN\n",
              "15917    1758\n",
              "15918    1685\n",
              "Name: Weight, Length: 15919, dtype: object"
            ]
          },
          "metadata": {},
          "execution_count": 49
        }
      ]
    },
    {
      "cell_type": "code",
      "source": [
        "df[\"Weight\"]=df[\"Weight\"].astype(float) #converting to float\n",
        "df[\"Weight\"]"
      ],
      "metadata": {
        "id": "WrlpVAOw37wg",
        "colab": {
          "base_uri": "https://localhost:8080/"
        },
        "outputId": "58834554-0fd6-4f26-8362-a8fe4d686577"
      },
      "execution_count": 50,
      "outputs": [
        {
          "output_type": "execute_result",
          "data": {
            "text/plain": [
              "0        1220.0\n",
              "1        1255.0\n",
              "2           NaN\n",
              "3        1195.0\n",
              "4           NaN\n",
              "          ...  \n",
              "15914    1758.0\n",
              "15915    1708.0\n",
              "15916       NaN\n",
              "15917    1758.0\n",
              "15918    1685.0\n",
              "Name: Weight, Length: 15919, dtype: float64"
            ]
          },
          "metadata": {},
          "execution_count": 50
        }
      ]
    },
    {
      "cell_type": "code",
      "source": [
        "df[\"Weight\"].value_counts(dropna=False)"
      ],
      "metadata": {
        "id": "fdsmU_sn37rO",
        "colab": {
          "base_uri": "https://localhost:8080/"
        },
        "outputId": "20b2648a-f466-4117-fe51-f59e670caa48"
      },
      "execution_count": null,
      "outputs": [
        {
          "output_type": "execute_result",
          "data": {
            "text/plain": [
              "NaN       6974\n",
              "1163.0     574\n",
              "1360.0     356\n",
              "1165.0     301\n",
              "1335.0     242\n",
              "          ... \n",
              "900.0        1\n",
              "1650.0       1\n",
              "1428.0       1\n",
              "2355.0       1\n",
              "1523.0       1\n",
              "Name: Weight, Length: 435, dtype: int64"
            ]
          },
          "metadata": {},
          "execution_count": 197
        }
      ]
    },
    {
      "cell_type": "code",
      "source": [
        ""
      ],
      "metadata": {
        "id": "ZyYHC4Uki1q0"
      },
      "execution_count": null,
      "outputs": []
    },
    {
      "cell_type": "code",
      "source": [
        "from numpy.lib.function_base import median\n",
        "fillallmeth(df, \"make_model\", \"body_type\", \"Weight\", \"median\")"
      ],
      "metadata": {
        "colab": {
          "base_uri": "https://localhost:8080/"
        },
        "id": "JrP9opxXk6_G",
        "outputId": "bfe7b717-0582-488a-f8ac-d97883b73f86"
      },
      "execution_count": 54,
      "outputs": [
        {
          "output_type": "stream",
          "name": "stdout",
          "text": [
            "Number of NaN :  0\n",
            "------------------\n",
            "1163.0    1548\n",
            "1350.0    1147\n",
            "1623.0     878\n",
            "1195.0     703\n",
            "1180.0     694\n",
            "          ... \n",
            "2110.0       1\n",
            "1057.0       1\n",
            "1430.0       1\n",
            "1159.0       1\n",
            "1713.0       1\n",
            "Name: Weight, Length: 441, dtype: int64\n"
          ]
        }
      ]
    },
    {
      "cell_type": "code",
      "source": [
        "plt.figure(figsize=(15,10))\n",
        "plt.subplot(141)\n",
        "plt.hist(df.Weight, bins = 50)\n",
        "\n",
        "plt.subplot(142)\n",
        "plt.boxplot(df.Weight)\n",
        "\n",
        "plt.subplot(143)\n",
        "plt.boxplot(df.Weight, whis = 2.5)\n",
        "\n",
        "plt.subplot(144)\n",
        "plt.boxplot(np.log(df.Weight), whis = 2.5)\n",
        "plt.show()"
      ],
      "metadata": {
        "colab": {
          "base_uri": "https://localhost:8080/",
          "height": 437
        },
        "id": "9VrJXjUJ1yHE",
        "outputId": "7df7ea40-8acf-4ab5-9daa-2f7ac392a7ae"
      },
      "execution_count": null,
      "outputs": [
        {
          "output_type": "display_data",
          "data": {
            "image/png": "[encoded data removed]",
            "text/plain": [
              "<Figure size 1080x720 with 4 Axes>"
            ]
          },
          "metadata": {
            "needs_background": "light"
          }
        }
      ]
    },
    {
      "cell_type": "code",
      "source": [
        "df[\"Weight\"].min()"
      ],
      "metadata": {
        "colab": {
          "base_uri": "https://localhost:8080/"
        },
        "id": "sjzGkWuW2xB-",
        "outputId": "85fe7370-9a64-4ffd-b119-e7ae9e64bbb5"
      },
      "execution_count": null,
      "outputs": [
        {
          "output_type": "execute_result",
          "data": {
            "text/plain": [
              "1.0"
            ]
          },
          "metadata": {},
          "execution_count": 567
        }
      ]
    },
    {
      "cell_type": "code",
      "source": [
        "df[\"Weight\"].max()"
      ],
      "metadata": {
        "colab": {
          "base_uri": "https://localhost:8080/"
        },
        "id": "_Srmkw503MzF",
        "outputId": "5f9bba76-638e-4d5f-f143-bb904125e6f1"
      },
      "execution_count": null,
      "outputs": [
        {
          "output_type": "execute_result",
          "data": {
            "text/plain": [
              "2471.0"
            ]
          },
          "metadata": {},
          "execution_count": 568
        }
      ]
    },
    {
      "cell_type": "code",
      "source": [
        "df[\"Weight\"].replace([1], np.nan, inplace = True)"
      ],
      "metadata": {
        "id": "kXRRKoHH3x3-"
      },
      "execution_count": 51,
      "outputs": []
    },
    {
      "cell_type": "code",
      "source": [
        "fillallmeth(df, \"make_model\", \"body_type\", \"Weight\", \"median\")"
      ],
      "metadata": {
        "id": "zqaS6EQJkN3R"
      },
      "execution_count": null,
      "outputs": []
    },
    {
      "cell_type": "markdown",
      "source": [
        "# ***36-Drive chain***"
      ],
      "metadata": {
        "id": "nbpk75pOgSpU"
      }
    },
    {
      "cell_type": "code",
      "source": [
        "df[\"Drive chain\"]=df[\"Drive chain\"].apply(lambda item : item[0] if type(item)== list else item)\n",
        "df[\"Drive chain\"]=df[\"Drive chain\"].str.strip('\\n')\n",
        "df[\"Drive chain\"]"
      ],
      "metadata": {
        "colab": {
          "base_uri": "https://localhost:8080/"
        },
        "id": "D5r6Xkt8bV4l",
        "outputId": "77e905c2-f8a5-4b2d-ad54-4acf18414079"
      },
      "execution_count": 145,
      "outputs": [
        {
          "output_type": "execute_result",
          "data": {
            "text/plain": [
              "0        front\n",
              "1        front\n",
              "2        front\n",
              "3          NaN\n",
              "4        front\n",
              "         ...  \n",
              "15914    front\n",
              "15915    front\n",
              "15916    front\n",
              "15917    front\n",
              "15918      4WD\n",
              "Name: Drive chain, Length: 15919, dtype: object"
            ]
          },
          "metadata": {},
          "execution_count": 145
        }
      ]
    },
    {
      "cell_type": "code",
      "source": [
        "fillallmeth(df, \"make_model\", \"body_type\", \"Drive chain\", \"ffill\")"
      ],
      "metadata": {
        "id": "sbFtvHioKOeS",
        "colab": {
          "base_uri": "https://localhost:8080/"
        },
        "outputId": "9e001ed7-a25a-471c-dc80-ed387b5f2bf9"
      },
      "execution_count": 146,
      "outputs": [
        {
          "output_type": "stream",
          "name": "stdout",
          "text": [
            "Number of NaN :  0\n",
            "------------------\n",
            "front    15575\n",
            "4WD        339\n",
            "rear         5\n",
            "Name: Drive chain, dtype: int64\n"
          ]
        }
      ]
    },
    {
      "cell_type": "code",
      "source": [
        "#pd.get_dummies(df[\"Drive chain\"],prefix='Drivechain',prefix_sep='_')"
      ],
      "metadata": {
        "id": "wzmSWprcbV7B"
      },
      "execution_count": null,
      "outputs": []
    },
    {
      "cell_type": "markdown",
      "source": [
        "# ***37-Fuel***"
      ],
      "metadata": {
        "id": "Ku77fVJIgSmc"
      }
    },
    {
      "cell_type": "code",
      "source": [
        "df[\"Fuel\"] = df.Fuel.str[1].str.split(\"/\").str[0].str.strip()\n"
      ],
      "metadata": {
        "id": "McK9g3oJ1t1b"
      },
      "execution_count": 147,
      "outputs": []
    },
    {
      "cell_type": "code",
      "source": [
        "df[\"Fuel\"] = df.Fuel.str.split(\"(\").str[0].str.strip()"
      ],
      "metadata": {
        "id": "HXqiO-mtxZLQ"
      },
      "execution_count": 148,
      "outputs": []
    },
    {
      "cell_type": "code",
      "source": [
        "df[\"Fuel\"].unique()"
      ],
      "metadata": {
        "id": "lTDrSLv6Qnmj",
        "colab": {
          "base_uri": "https://localhost:8080/"
        },
        "outputId": "c194ef90-9548-4946-b858-d5cc44dd5678"
      },
      "execution_count": null,
      "outputs": [
        {
          "output_type": "execute_result",
          "data": {
            "text/plain": [
              "array(['Diesel', 'Gasoline', 'Super 95', 'Regular', 'Super E10 95',\n",
              "       'Others', 'Super Plus 98', 'CNG', 'Electric', 'Biogas',\n",
              "       'Domestic gas H', 'Super Plus E10 98', 'LPG',\n",
              "       'Liquid petroleum gas'], dtype=object)"
            ]
          },
          "metadata": {},
          "execution_count": 208
        }
      ]
    },
    {
      "cell_type": "code",
      "source": [
        "benzine=[\"Gasoline\", \"Super 95\",\"Regular\",\"Super E10 95\",\"Super Plus 98\",\"Super Plus E10 98\", \"Others\"]\n",
        "lpg=[\"LPG\",\"Liquid petroleum gas\", \"CNG\", \"Biogas\", \"Domestic gas H\"]\n",
        "electric=[\"Electric\"]\n",
        "def fueltype(x):\n",
        "    if x in benzine:\n",
        "        return \"Benzine\"\n",
        "    elif x in electric:\n",
        "        return \"Electric\"\n",
        "    elif x in lpg:\n",
        "        return \"LPG/CNG\"\n",
        "    else:\n",
        "        return x\n",
        "df[\"Fuel\"]= df.Fuel.apply(fueltype)"
      ],
      "metadata": {
        "id": "BELG_PsJ6fBu"
      },
      "execution_count": 149,
      "outputs": []
    },
    {
      "cell_type": "code",
      "source": [
        "df[\"Fuel\"].isnull().sum()"
      ],
      "metadata": {
        "colab": {
          "base_uri": "https://localhost:8080/"
        },
        "id": "69S_0Y7TyuzX",
        "outputId": "d4207328-0642-4a4d-f451-9d7eee8f1a70"
      },
      "execution_count": null,
      "outputs": [
        {
          "output_type": "execute_result",
          "data": {
            "text/plain": [
              "0"
            ]
          },
          "metadata": {},
          "execution_count": 242
        }
      ]
    },
    {
      "cell_type": "code",
      "source": [
        "df[\"Fuel\"].value_counts(dropna=False)"
      ],
      "metadata": {
        "colab": {
          "base_uri": "https://localhost:8080/"
        },
        "id": "uGwuwOxfz8Kz",
        "outputId": "877a33af-426e-48f5-d521-5bd01d831c7a"
      },
      "execution_count": null,
      "outputs": [
        {
          "output_type": "execute_result",
          "data": {
            "text/plain": [
              "Benzine     8551\n",
              "Diesel      7299\n",
              "LPG/CNG       64\n",
              "Electric       5\n",
              "Name: Fuel, dtype: int64"
            ]
          },
          "metadata": {},
          "execution_count": 210
        }
      ]
    },
    {
      "cell_type": "code",
      "source": [
        "#pd.get_dummies(df[\"Fuel\"],prefix='Fuel',prefix_sep='_')"
      ],
      "metadata": {
        "id": "pY485eKE2fo1"
      },
      "execution_count": null,
      "outputs": []
    },
    {
      "cell_type": "markdown",
      "source": [
        "# ***38-Consumption***"
      ],
      "metadata": {
        "id": "PJDeuEsFgSju"
      }
    },
    {
      "cell_type": "code",
      "source": [
        "df[\"Consumption\"].value_counts()"
      ],
      "metadata": {
        "id": "Cy_w4kBI5yOM",
        "colab": {
          "base_uri": "https://localhost:8080/",
          "height": 446
        },
        "outputId": "89b06e5f-84e2-4062-ac93-7d0aa8d70d33"
      },
      "execution_count": null,
      "outputs": [
        {
          "output_type": "error",
          "ename": "TypeError",
          "evalue": "ignored",
          "traceback": [
            "\u001b[0;31m---------------------------------------------------------------------------\u001b[0m",
            "\u001b[0;31mTypeError\u001b[0m                                 Traceback (most recent call last)",
            "\u001b[0;32mpandas/_libs/hashtable_class_helper.pxi\u001b[0m in \u001b[0;36mpandas._libs.hashtable.PyObjectHashTable.map_locations\u001b[0;34m()\u001b[0m\n",
            "\u001b[0;31mTypeError\u001b[0m: unhashable type: 'list'"
          ]
        },
        {
          "output_type": "stream",
          "name": "stderr",
          "text": [
            "Exception ignored in: 'pandas._libs.index.IndexEngine._call_map_locations'\n",
            "Traceback (most recent call last):\n",
            "  File \"pandas/_libs/hashtable_class_helper.pxi\", line 1709, in pandas._libs.hashtable.PyObjectHashTable.map_locations\n",
            "TypeError: unhashable type: 'list'\n"
          ]
        },
        {
          "output_type": "execute_result",
          "data": {
            "text/plain": [
              "[[3.9 l/100 km (comb)], [4.1 l/100 km (city)], [3.7 l/100 km (country)]]              304\n",
              "[[4.2 l/100 km (comb)], [5 l/100 km (city)], [3.7 l/100 km (country)]]                276\n",
              "[[5.4 l/100 km (comb)], [6.8 l/100 km (city)], [4.5 l/100 km (country)]]              257\n",
              "[[3.8 l/100 km (comb)], [4.3 l/100 km (city)], [3.5 l/100 km (country)]]              253\n",
              "[[4.7 l/100 km (comb)], [5.1 l/100 km (city)], [4.4 l/100 km (country)]]              244\n",
              "                                                                                     ... \n",
              "[[], [], [5.6 l/100 km (country)]]                                                      1\n",
              "[\\n, 6.5 l/100 km (comb), \\n, 8.1 l/100 km (city), \\n, 5.5 l/100 km (country), \\n]      1\n",
              "[[3.5 l/100 km (comb)], [3.7 l/100 km (city)], [3.3 l/100 km (country)]]                1\n",
              "[[3.9 l/100 km (comb)], [4.5 l/100 km (city)], [3.7 l/100 km (country)]]                1\n",
              "[[5.4 l/100 km (comb)], [6.1 l/100 km (city)], [5 l/100 km (country)]]                  1\n",
              "Name: Consumption, Length: 881, dtype: int64"
            ]
          },
          "metadata": {},
          "execution_count": 17
        }
      ]
    },
    {
      "cell_type": "code",
      "source": [
        "def parser1(x):\n",
        "    if type(x)==float:\n",
        "        return np.nan\n",
        "    elif type(x[0])==list:\n",
        "        if x[0] !=[]:\n",
        "            return x[0][0]\n",
        "        else:\n",
        "            return np.nan\n",
        "    else:\n",
        "        return x[1]"
      ],
      "metadata": {
        "id": "oq05UB-nll9J"
      },
      "execution_count": 150,
      "outputs": []
    },
    {
      "cell_type": "code",
      "source": [
        "def parser2(x):\n",
        "    if type(x)==float:\n",
        "        return np.nan\n",
        "    elif type(x[0])==list:\n",
        "        if x[1] !=[]:\n",
        "            return x[1][0]\n",
        "        else:\n",
        "            return np.nan\n",
        "    elif x[3].endswith(')'):\n",
        "        return x[3]\n",
        "    else:\n",
        "        return np.nan"
      ],
      "metadata": {
        "id": "q764emtDkfw3"
      },
      "execution_count": 151,
      "outputs": []
    },
    {
      "cell_type": "code",
      "source": [
        "def parser3(x):\n",
        "    if type(x)==float:\n",
        "        return np.nan\n",
        "    elif type(x[0])==list:\n",
        "        if x[2] !=[]:\n",
        "            return x[2][0]\n",
        "        else:\n",
        "            return np.nan\n",
        "    elif type(x[0]) !=list and x[3].endswith(')'):\n",
        "        return x[5]\n",
        "    else:\n",
        "        return np.nan"
      ],
      "metadata": {
        "id": "SaAPj5jFnMBU"
      },
      "execution_count": 152,
      "outputs": []
    },
    {
      "cell_type": "code",
      "source": [
        "df['Consp_Comb'] = df.Consumption.apply(parser1).str.extract('(\\d{1,2}.\\d|\\d{1,3})')[0].astype(\"float\")\n",
        "df['Consp_City'] = df.Consumption.apply(parser2).str.extract('(\\d{1,2}.\\d|\\d{1,3})')[0].astype(\"float\")\n",
        "df['Consp_Country'] = df.Consumption.apply(parser3).str.extract('(\\d{1,2}.\\d|\\d{1,3})')[0].astype(\"float\")"
      ],
      "metadata": {
        "id": "1bVJXEXUvoXI"
      },
      "execution_count": 153,
      "outputs": []
    },
    {
      "cell_type": "code",
      "source": [
        "df['Consp_Comb'].value_counts(dropna=False)"
      ],
      "metadata": {
        "id": "7uTk8lEMKp0O",
        "colab": {
          "base_uri": "https://localhost:8080/"
        },
        "outputId": "bd6ba43d-ee5c-403d-f947-858d308a0b5d"
      },
      "execution_count": null,
      "outputs": [
        {
          "output_type": "execute_result",
          "data": {
            "text/plain": [
              "NaN     2033\n",
              "5.4      770\n",
              "3.9      733\n",
              "4.0      713\n",
              "5.1      657\n",
              "        ... \n",
              "1.0        1\n",
              "9.1        1\n",
              "46.0       1\n",
              "50.0       1\n",
              "43.0       1\n",
              "Name: Consp_Comb, Length: 73, dtype: int64"
            ]
          },
          "metadata": {},
          "execution_count": 292
        }
      ]
    },
    {
      "cell_type": "code",
      "source": [
        "df['Consp_Comb'].replace(43.0,4.3, inplace=True, regex=True)"
      ],
      "metadata": {
        "id": "xQfrHn2NrQ2z"
      },
      "execution_count": 158,
      "outputs": []
    },
    {
      "cell_type": "code",
      "source": [
        "df['Consp_Comb'].replace(50.0,5.0, inplace=True, regex=True)"
      ],
      "metadata": {
        "id": "w5ghpq3krqob"
      },
      "execution_count": 160,
      "outputs": []
    },
    {
      "cell_type": "code",
      "source": [
        "df['Consp_Comb'].replace(46.0,4.6, inplace=True, regex=True)"
      ],
      "metadata": {
        "id": "iWma3dQTr2fR"
      },
      "execution_count": 162,
      "outputs": []
    },
    {
      "cell_type": "code",
      "source": [
        "df['Consp_Comb'].replace(55.0,5.5, inplace=True, regex=True)"
      ],
      "metadata": {
        "id": "Ur3zTXX_sBeg"
      },
      "execution_count": 164,
      "outputs": []
    },
    {
      "cell_type": "code",
      "source": [
        "df['Consp_Comb'].replace(54.0,5.4, inplace=True, regex=True)"
      ],
      "metadata": {
        "id": "9cMFArZUsJ9h"
      },
      "execution_count": 166,
      "outputs": []
    },
    {
      "cell_type": "code",
      "source": [
        "df['Consp_Comb'].replace(33.0,3.3, inplace=True, regex=True)"
      ],
      "metadata": {
        "id": "q3kXbvB3sNER"
      },
      "execution_count": 167,
      "outputs": []
    },
    {
      "cell_type": "code",
      "source": [
        "df['Consp_Comb'].replace(11.0,1.1, inplace=True, regex=True)"
      ],
      "metadata": {
        "id": "bereBFsZsUgC"
      },
      "execution_count": 169,
      "outputs": []
    },
    {
      "cell_type": "code",
      "source": [
        "df['Consp_Comb'].replace(32.0,3.2, inplace=True, regex=True)"
      ],
      "metadata": {
        "id": "r6f1dByBsaRa"
      },
      "execution_count": 171,
      "outputs": []
    },
    {
      "cell_type": "code",
      "source": [
        "df['Consp_Comb'].replace(40.0,4.0, inplace=True, regex=True)"
      ],
      "metadata": {
        "id": "t_3xV8GftlwG"
      },
      "execution_count": 175,
      "outputs": []
    },
    {
      "cell_type": "code",
      "source": [
        "df['Consp_Comb'].replace(51.0,5.1, inplace=True, regex=True)"
      ],
      "metadata": {
        "id": "0xKkq62Ht0Cm"
      },
      "execution_count": 178,
      "outputs": []
    },
    {
      "cell_type": "code",
      "source": [
        "df['Consp_Comb'].replace(38.0,3.8, inplace=True, regex=True)"
      ],
      "metadata": {
        "id": "tK58Nz8Ot6zc"
      },
      "execution_count": 180,
      "outputs": []
    },
    {
      "cell_type": "code",
      "source": [
        "df['Consp_Comb'].value_counts(dropna=False)"
      ],
      "metadata": {
        "colab": {
          "base_uri": "https://localhost:8080/"
        },
        "id": "vOQFIlaDrmmI",
        "outputId": "de42c072-ea9f-48a6-c6be-48ea2bc1bd8e"
      },
      "execution_count": 172,
      "outputs": [
        {
          "output_type": "execute_result",
          "data": {
            "text/plain": [
              "3.9     1428\n",
              "5.1      898\n",
              "5.4      862\n",
              "4.8      840\n",
              "4.0      743\n",
              "        ... \n",
              "1.1        1\n",
              "13.8       1\n",
              "1.2        1\n",
              "7.5        1\n",
              "9.1        1\n",
              "Name: Consp_Comb, Length: 65, dtype: int64"
            ]
          },
          "metadata": {},
          "execution_count": 172
        }
      ]
    },
    {
      "cell_type": "code",
      "source": [
        "fillallmeth(df, 'Displacement','Fuel','Consp_Comb','mode')"
      ],
      "metadata": {
        "colab": {
          "base_uri": "https://localhost:8080/"
        },
        "id": "Se5bcwFB0Es2",
        "outputId": "b568508e-15c9-427a-e91f-9078f09f210c"
      },
      "execution_count": 154,
      "outputs": [
        {
          "output_type": "stream",
          "name": "stdout",
          "text": [
            "Number of NaN :  0\n",
            "------------------\n",
            "3.9     1428\n",
            "5.1      898\n",
            "5.4      861\n",
            "4.8      840\n",
            "4.0      743\n",
            "        ... \n",
            "32.0       1\n",
            "1.0        1\n",
            "55.0       1\n",
            "1.2        1\n",
            "50.0       1\n",
            "Name: Consp_Comb, Length: 72, dtype: int64\n"
          ]
        }
      ]
    },
    {
      "cell_type": "code",
      "source": [
        "plt.figure(figsize=(10,6))\n",
        "plt.subplot(121)\n",
        "plt.hist(df.Consp_Comb, bins = 20)\n",
        "\n",
        "plt.subplot(122)\n",
        "plt.boxplot(df.Consp_Comb, whis = 2.5)\n",
        "\n",
        "plt.show()"
      ],
      "metadata": {
        "colab": {
          "base_uri": "https://localhost:8080/",
          "height": 374
        },
        "id": "9gCeJ3ceqw8P",
        "outputId": "c567670a-173d-4a0c-b6b3-8c480c63ac2d"
      },
      "execution_count": 182,
      "outputs": [
        {
          "output_type": "display_data",
          "data": {
            "image/png": "[encoded data removed]",
            "text/plain": [
              "<Figure size 720x432 with 2 Axes>"
            ]
          },
          "metadata": {
            "needs_background": "light"
          }
        }
      ]
    },
    {
      "cell_type": "code",
      "source": [
        "df.drop('Consp_City', axis=1, inplace=True)"
      ],
      "metadata": {
        "id": "A5FLFyr-uI60"
      },
      "execution_count": 184,
      "outputs": []
    },
    {
      "cell_type": "code",
      "source": [
        "df.drop('Consp_Country', axis=1, inplace=True)"
      ],
      "metadata": {
        "id": "6Ws7ABteuZu1"
      },
      "execution_count": 185,
      "outputs": []
    },
    {
      "cell_type": "code",
      "source": [
        "df.drop('Consumption', axis=1, inplace=True)"
      ],
      "metadata": {
        "id": "SVpkLBWuueBI"
      },
      "execution_count": 186,
      "outputs": []
    },
    {
      "cell_type": "markdown",
      "source": [
        "# ***39-CO2 Emission***"
      ],
      "metadata": {
        "id": "A-MettaNgShU"
      }
    },
    {
      "cell_type": "code",
      "source": [
        "df[\"CO2 Emission\"].value_counts()"
      ],
      "metadata": {
        "colab": {
          "base_uri": "https://localhost:8080/",
          "height": 481
        },
        "id": "Brx-PImfLfmN",
        "outputId": "e0f3595e-5a7e-41d4-b675-c6a63a9f247c"
      },
      "execution_count": null,
      "outputs": [
        {
          "output_type": "error",
          "ename": "TypeError",
          "evalue": "ignored",
          "traceback": [
            "\u001b[0;31m---------------------------------------------------------------------------\u001b[0m",
            "\u001b[0;31mTypeError\u001b[0m                                 Traceback (most recent call last)",
            "\u001b[0;32mpandas/_libs/hashtable_class_helper.pxi\u001b[0m in \u001b[0;36mpandas._libs.hashtable.PyObjectHashTable.map_locations\u001b[0;34m()\u001b[0m\n",
            "\u001b[0;31mTypeError\u001b[0m: unhashable type: 'list'"
          ]
        },
        {
          "output_type": "stream",
          "name": "stderr",
          "text": [
            "Exception ignored in: 'pandas._libs.index.IndexEngine._call_map_locations'\n",
            "Traceback (most recent call last):\n",
            "  File \"pandas/_libs/hashtable_class_helper.pxi\", line 1709, in pandas._libs.hashtable.PyObjectHashTable.map_locations\n",
            "TypeError: unhashable type: 'list'\n"
          ]
        },
        {
          "output_type": "execute_result",
          "data": {
            "text/plain": [
              "[\\n120 g CO2/km (comb)\\n]       740\n",
              "[[], [], []]                    628\n",
              "[\\n99 g CO2/km (comb)\\n]        545\n",
              "[\\n97 g CO2/km (comb)\\n]        537\n",
              "[\\n104 g CO2/km (comb)\\n]       501\n",
              "                               ... \n",
              "[\\n13,983 g CO2/km (comb)\\n]      1\n",
              "[\\n331 g CO2/km (comb)\\n]         1\n",
              "[\\n990 g CO2/km (comb)\\n]         1\n",
              "[\\n14,457 g CO2/km (comb)\\n]      1\n",
              "[\\n190 g CO2/km (comb)\\n]         1\n",
              "Name: CO2 Emission, Length: 123, dtype: int64"
            ]
          },
          "metadata": {},
          "execution_count": 221
        }
      ]
    },
    {
      "cell_type": "code",
      "source": [
        "df[\"CO2 Emission\"]=df[\"CO2 Emission\"].apply(lambda item : item[0] if type(item)== list else item)\n",
        "df[\"CO2 Emission\"]=df[\"CO2 Emission\"].str.strip('\\n').str.strip('g CO2/km (comb)')\n",
        "df[\"CO2 Emission\"]"
      ],
      "metadata": {
        "colab": {
          "base_uri": "https://localhost:8080/"
        },
        "id": "gwpzCsbOLfpB",
        "outputId": "91d8ea5d-77dc-4ab6-abbe-504881f0f056"
      },
      "execution_count": 183,
      "outputs": [
        {
          "output_type": "execute_result",
          "data": {
            "text/plain": [
              "0         99\n",
              "1        129\n",
              "2         99\n",
              "3         99\n",
              "4        109\n",
              "        ... \n",
              "15914    139\n",
              "15915    168\n",
              "15916    139\n",
              "15917    139\n",
              "15918    153\n",
              "Name: CO2 Emission, Length: 15919, dtype: object"
            ]
          },
          "metadata": {},
          "execution_count": 183
        }
      ]
    },
    {
      "cell_type": "code",
      "source": [
        "df[\"CO2 Emission\"].unique()"
      ],
      "metadata": {
        "colab": {
          "base_uri": "https://localhost:8080/"
        },
        "id": "DPR4bysCLfsB",
        "outputId": "ab037fa8-cbe7-4bc3-f69f-d76350adb0f0"
      },
      "execution_count": 188,
      "outputs": [
        {
          "output_type": "execute_result",
          "data": {
            "text/plain": [
              "array(['99', '129', '109', '9', '98', '97', nan, '105', '11', '103', '10',\n",
              "       '95', '104', '91', '94', '117', '123', '106', '108', '121', '107',\n",
              "       '101', '113', '137', '100', '116', '114', '118', '331', '115',\n",
              "       '119', '90', '136', '134', '110', '111', '120', '89', '14', '126',\n",
              "       '1', '128', '127', '138', '130', '125', '85', '124', '15', '88',\n",
              "       '189', '194', '149', '153', '188', '36', '1,060', '96', '990',\n",
              "       '146', '135', '158', '141', '17', '154', '150', '167', '174', '93',\n",
              "       '133', '131', '145', '147', '156', '87', '5', '148', '139', '151',\n",
              "       '144', '168', '160', '170', '80', '13', '155', '159', '0', '143',\n",
              "       '140', '8', '12,324', '84', '165', '51', '157', '169', '166', '53',\n",
              "       '164', '175', '190', '161', '39', '197', '184', '14,457', '199',\n",
              "       '13,983', '187', '181', '186', '177', '180', '16', '45', '171',\n",
              "       '183', '191', '193'], dtype=object)"
            ]
          },
          "metadata": {},
          "execution_count": 188
        }
      ]
    },
    {
      "cell_type": "code",
      "source": [
        "df.groupby(\"CO2 Emission\")['price'].describe(include='O')"
      ],
      "metadata": {
        "colab": {
          "base_uri": "https://localhost:8080/",
          "height": 536
        },
        "id": "g7n38ofW5_ET",
        "outputId": "15b21e10-968f-4716-a7bc-164e5a2a7431"
      },
      "execution_count": null,
      "outputs": [
        {
          "output_type": "execute_result",
          "data": {
            "text/html": [
              "\n",
              "  <div id=\"df-ec2c266b-3014-4179-840c-781549a5ec7a\">\n",
              "    <div class=\"colab-df-container\">\n",
              "      <div>\n",
              "<style scoped>\n",
              "    .dataframe tbody tr th:only-of-type {\n",
              "        vertical-align: middle;\n",
              "    }\n",
              "\n",
              "    .dataframe tbody tr th {\n",
              "        vertical-align: top;\n",
              "    }\n",
              "\n",
              "    .dataframe thead th {\n",
              "        text-align: right;\n",
              "    }\n",
              "</style>\n",
              "<table border=\"1\" class=\"dataframe\">\n",
              "  <thead>\n",
              "    <tr style=\"text-align: right;\">\n",
              "      <th></th>\n",
              "      <th>count</th>\n",
              "      <th>mean</th>\n",
              "      <th>std</th>\n",
              "      <th>min</th>\n",
              "      <th>25%</th>\n",
              "      <th>50%</th>\n",
              "      <th>75%</th>\n",
              "      <th>max</th>\n",
              "    </tr>\n",
              "    <tr>\n",
              "      <th>CO2 Emission</th>\n",
              "      <th></th>\n",
              "      <th></th>\n",
              "      <th></th>\n",
              "      <th></th>\n",
              "      <th></th>\n",
              "      <th></th>\n",
              "      <th></th>\n",
              "      <th></th>\n",
              "    </tr>\n",
              "  </thead>\n",
              "  <tbody>\n",
              "    <tr>\n",
              "      <th>0</th>\n",
              "      <td>1.0</td>\n",
              "      <td>17850.000000</td>\n",
              "      <td>NaN</td>\n",
              "      <td>17850.0</td>\n",
              "      <td>17850.00</td>\n",
              "      <td>17850.0</td>\n",
              "      <td>17850.0</td>\n",
              "      <td>17850.0</td>\n",
              "    </tr>\n",
              "    <tr>\n",
              "      <th>1</th>\n",
              "      <td>82.0</td>\n",
              "      <td>16328.475610</td>\n",
              "      <td>3804.485716</td>\n",
              "      <td>9800.0</td>\n",
              "      <td>14000.00</td>\n",
              "      <td>15900.0</td>\n",
              "      <td>17990.0</td>\n",
              "      <td>32000.0</td>\n",
              "    </tr>\n",
              "    <tr>\n",
              "      <th>10</th>\n",
              "      <td>477.0</td>\n",
              "      <td>16888.635220</td>\n",
              "      <td>3033.919057</td>\n",
              "      <td>5300.0</td>\n",
              "      <td>15390.00</td>\n",
              "      <td>16500.0</td>\n",
              "      <td>18980.0</td>\n",
              "      <td>29150.0</td>\n",
              "    </tr>\n",
              "    <tr>\n",
              "      <th>100</th>\n",
              "      <td>36.0</td>\n",
              "      <td>10185.500000</td>\n",
              "      <td>3676.114537</td>\n",
              "      <td>5250.0</td>\n",
              "      <td>7486.75</td>\n",
              "      <td>8500.0</td>\n",
              "      <td>13230.0</td>\n",
              "      <td>17900.0</td>\n",
              "    </tr>\n",
              "    <tr>\n",
              "      <th>101</th>\n",
              "      <td>101.0</td>\n",
              "      <td>14196.950495</td>\n",
              "      <td>4469.316114</td>\n",
              "      <td>255.0</td>\n",
              "      <td>11990.00</td>\n",
              "      <td>14900.0</td>\n",
              "      <td>15950.0</td>\n",
              "      <td>28990.0</td>\n",
              "    </tr>\n",
              "    <tr>\n",
              "      <th>...</th>\n",
              "      <td>...</td>\n",
              "      <td>...</td>\n",
              "      <td>...</td>\n",
              "      <td>...</td>\n",
              "      <td>...</td>\n",
              "      <td>...</td>\n",
              "      <td>...</td>\n",
              "      <td>...</td>\n",
              "    </tr>\n",
              "    <tr>\n",
              "      <th>96</th>\n",
              "      <td>22.0</td>\n",
              "      <td>13155.181818</td>\n",
              "      <td>2909.454926</td>\n",
              "      <td>7899.0</td>\n",
              "      <td>11134.75</td>\n",
              "      <td>12439.5</td>\n",
              "      <td>15443.0</td>\n",
              "      <td>18879.0</td>\n",
              "    </tr>\n",
              "    <tr>\n",
              "      <th>97</th>\n",
              "      <td>537.0</td>\n",
              "      <td>14514.340782</td>\n",
              "      <td>2743.972479</td>\n",
              "      <td>6690.0</td>\n",
              "      <td>12955.00</td>\n",
              "      <td>14330.0</td>\n",
              "      <td>15900.0</td>\n",
              "      <td>33800.0</td>\n",
              "    </tr>\n",
              "    <tr>\n",
              "      <th>98</th>\n",
              "      <td>150.0</td>\n",
              "      <td>14656.840000</td>\n",
              "      <td>3572.879954</td>\n",
              "      <td>6950.0</td>\n",
              "      <td>12623.75</td>\n",
              "      <td>15725.0</td>\n",
              "      <td>16500.0</td>\n",
              "      <td>25256.0</td>\n",
              "    </tr>\n",
              "    <tr>\n",
              "      <th>99</th>\n",
              "      <td>513.0</td>\n",
              "      <td>16894.931774</td>\n",
              "      <td>2830.507311</td>\n",
              "      <td>7200.0</td>\n",
              "      <td>15500.00</td>\n",
              "      <td>16750.0</td>\n",
              "      <td>18185.0</td>\n",
              "      <td>28900.0</td>\n",
              "    </tr>\n",
              "    <tr>\n",
              "      <th>990</th>\n",
              "      <td>1.0</td>\n",
              "      <td>23500.000000</td>\n",
              "      <td>NaN</td>\n",
              "      <td>23500.0</td>\n",
              "      <td>23500.00</td>\n",
              "      <td>23500.0</td>\n",
              "      <td>23500.0</td>\n",
              "      <td>23500.0</td>\n",
              "    </tr>\n",
              "  </tbody>\n",
              "</table>\n",
              "<p>98 rows × 8 columns</p>\n",
              "</div>\n",
              "      <button class=\"colab-df-convert\" onclick=\"convertToInteractive('df-ec2c266b-3014-4179-840c-781549a5ec7a')\"\n",
              "              title=\"Convert this dataframe to an interactive table.\"\n",
              "              style=\"display:none;\">\n",
              "        \n",
              "  <svg xmlns=\"http://www.w3.org/2000/svg\" height=\"24px\"viewBox=\"0 0 24 24\"\n",
              "       width=\"24px\">\n",
              "    <path d=\"M0 0h24v24H0V0z\" fill=\"none\"/>\n",
              "    <path d=\"M18.56 5.44l.94 2.06.94-2.06 2.06-.94-2.06-.94-.94-2.06-.94 2.06-2.06.94zm-11 1L8.5 8.5l.94-2.06 2.06-.94-2.06-.94L8.5 2.5l-.94 2.06-2.06.94zm10 10l.94 2.06.94-2.06 2.06-.94-2.06-.94-.94-2.06-.94 2.06-2.06.94z\"/><path d=\"M17.41 7.96l-1.37-1.37c-.4-.4-.92-.59-1.43-.59-.52 0-1.04.2-1.43.59L10.3 9.45l-7.72 7.72c-.78.78-.78 2.05 0 2.83L4 21.41c.39.39.9.59 1.41.59.51 0 1.02-.2 1.41-.59l7.78-7.78 2.81-2.81c.8-.78.8-2.07 0-2.86zM5.41 20L4 18.59l7.72-7.72 1.47 1.35L5.41 20z\"/>\n",
              "  </svg>\n",
              "      </button>\n",
              "      \n",
              "  <style>\n",
              "    .colab-df-container {\n",
              "      display:flex;\n",
              "      flex-wrap:wrap;\n",
              "      gap: 12px;\n",
              "    }\n",
              "\n",
              "    .colab-df-convert {\n",
              "      background-color: #E8F0FE;\n",
              "      border: none;\n",
              "      border-radius: 50%;\n",
              "      cursor: pointer;\n",
              "      display: none;\n",
              "      fill: #1967D2;\n",
              "      height: 32px;\n",
              "      padding: 0 0 0 0;\n",
              "      width: 32px;\n",
              "    }\n",
              "\n",
              "    .colab-df-convert:hover {\n",
              "      background-color: #E2EBFA;\n",
              "      box-shadow: 0px 1px 2px rgba(60, 64, 67, 0.3), 0px 1px 3px 1px rgba(60, 64, 67, 0.15);\n",
              "      fill: #174EA6;\n",
              "    }\n",
              "\n",
              "    [theme=dark] .colab-df-convert {\n",
              "      background-color: #3B4455;\n",
              "      fill: #D2E3FC;\n",
              "    }\n",
              "\n",
              "    [theme=dark] .colab-df-convert:hover {\n",
              "      background-color: #434B5C;\n",
              "      box-shadow: 0px 1px 3px 1px rgba(0, 0, 0, 0.15);\n",
              "      filter: drop-shadow(0px 1px 2px rgba(0, 0, 0, 0.3));\n",
              "      fill: #FFFFFF;\n",
              "    }\n",
              "  </style>\n",
              "\n",
              "      <script>\n",
              "        const buttonEl =\n",
              "          document.querySelector('#df-ec2c266b-3014-4179-840c-781549a5ec7a button.colab-df-convert');\n",
              "        buttonEl.style.display =\n",
              "          google.colab.kernel.accessAllowed ? 'block' : 'none';\n",
              "\n",
              "        async function convertToInteractive(key) {\n",
              "          const element = document.querySelector('#df-ec2c266b-3014-4179-840c-781549a5ec7a');\n",
              "          const dataTable =\n",
              "            await google.colab.kernel.invokeFunction('convertToInteractive',\n",
              "                                                     [key], {});\n",
              "          if (!dataTable) return;\n",
              "\n",
              "          const docLinkHtml = 'Like what you see? Visit the ' +\n",
              "            '<a target=\"_blank\" href=https://colab.research.google.com/notebooks/data_table.ipynb>data table notebook</a>'\n",
              "            + ' to learn more about interactive tables.';\n",
              "          element.innerHTML = '';\n",
              "          dataTable['output_type'] = 'display_data';\n",
              "          await google.colab.output.renderOutput(dataTable, element);\n",
              "          const docLink = document.createElement('div');\n",
              "          docLink.innerHTML = docLinkHtml;\n",
              "          element.appendChild(docLink);\n",
              "        }\n",
              "      </script>\n",
              "    </div>\n",
              "  </div>\n",
              "  "
            ],
            "text/plain": [
              "              count          mean          std  ...      50%      75%      max\n",
              "CO2 Emission                                    ...                           \n",
              "0               1.0  17850.000000          NaN  ...  17850.0  17850.0  17850.0\n",
              "1              82.0  16328.475610  3804.485716  ...  15900.0  17990.0  32000.0\n",
              "10            477.0  16888.635220  3033.919057  ...  16500.0  18980.0  29150.0\n",
              "100            36.0  10185.500000  3676.114537  ...   8500.0  13230.0  17900.0\n",
              "101           101.0  14196.950495  4469.316114  ...  14900.0  15950.0  28990.0\n",
              "...             ...           ...          ...  ...      ...      ...      ...\n",
              "96             22.0  13155.181818  2909.454926  ...  12439.5  15443.0  18879.0\n",
              "97            537.0  14514.340782  2743.972479  ...  14330.0  15900.0  33800.0\n",
              "98            150.0  14656.840000  3572.879954  ...  15725.0  16500.0  25256.0\n",
              "99            513.0  16894.931774  2830.507311  ...  16750.0  18185.0  28900.0\n",
              "990             1.0  23500.000000          NaN  ...  23500.0  23500.0  23500.0\n",
              "\n",
              "[98 rows x 8 columns]"
            ]
          },
          "metadata": {},
          "execution_count": 287
        }
      ]
    },
    {
      "cell_type": "code",
      "source": [
        "df[\"CO2 Emission\"].replace('1,060','106',regex=True, inplace=True) "
      ],
      "metadata": {
        "id": "Nod3rBiB6nU8"
      },
      "execution_count": 189,
      "outputs": []
    },
    {
      "cell_type": "code",
      "source": [
        "df[\"CO2 Emission\"].replace('12,087','123',regex=True, inplace=True) "
      ],
      "metadata": {
        "id": "2POKkTY_845S"
      },
      "execution_count": 190,
      "outputs": []
    },
    {
      "cell_type": "code",
      "source": [
        "df[\"CO2 Emission\"].replace('13,983','140',regex=True, inplace=True) "
      ],
      "metadata": {
        "id": "SwUcfComvBkT"
      },
      "execution_count": 191,
      "outputs": []
    },
    {
      "cell_type": "code",
      "source": [
        "fillallmeth(df, 'Displacement','Fuel',\"CO2 Emission\",'mode')"
      ],
      "metadata": {
        "colab": {
          "base_uri": "https://localhost:8080/"
        },
        "id": "Gmn6HrUk-aTn",
        "outputId": "387857c4-e905-48d2-e32a-43fdde449c25"
      },
      "execution_count": 192,
      "outputs": [
        {
          "output_type": "stream",
          "name": "stdout",
          "text": [
            "Number of NaN :  0\n",
            "------------------\n",
            "99     1271\n",
            "120    1185\n",
            "10      946\n",
            "97      552\n",
            "104     501\n",
            "       ... \n",
            "990       1\n",
            "165       1\n",
            "39        1\n",
            "51        1\n",
            "171       1\n",
            "Name: CO2 Emission, Length: 117, dtype: int64\n"
          ]
        }
      ]
    },
    {
      "cell_type": "markdown",
      "source": [
        "# ***40-Emission Class***"
      ],
      "metadata": {
        "id": "cYTnyIA8gSey"
      }
    },
    {
      "cell_type": "code",
      "source": [
        "df[\"Emission Class\"].value_counts()"
      ],
      "metadata": {
        "colab": {
          "base_uri": "https://localhost:8080/",
          "height": 370
        },
        "id": "GJ49OJngNYmF",
        "outputId": "e39793bc-d7a5-4971-c65a-dde1890ab62e"
      },
      "execution_count": 197,
      "outputs": [
        {
          "output_type": "error",
          "ename": "TypeError",
          "evalue": "ignored",
          "traceback": [
            "\u001b[0;31m---------------------------------------------------------------------------\u001b[0m",
            "\u001b[0;31mTypeError\u001b[0m                                 Traceback (most recent call last)",
            "\u001b[0;32mpandas/_libs/hashtable_class_helper.pxi\u001b[0m in \u001b[0;36mpandas._libs.hashtable.PyObjectHashTable.map_locations\u001b[0;34m()\u001b[0m\n",
            "\u001b[0;31mTypeError\u001b[0m: unhashable type: 'list'"
          ]
        },
        {
          "output_type": "stream",
          "name": "stderr",
          "text": [
            "Exception ignored in: 'pandas._libs.index.IndexEngine._call_map_locations'\n",
            "Traceback (most recent call last):\n",
            "  File \"pandas/_libs/hashtable_class_helper.pxi\", line 1709, in pandas._libs.hashtable.PyObjectHashTable.map_locations\n",
            "TypeError: unhashable type: 'list'\n"
          ]
        },
        {
          "output_type": "execute_result",
          "data": {
            "text/plain": [
              "[\\nEuro 6\\n]          10139\n",
              "[\\nEuro 6d-TEMP\\n]     1845\n",
              "[[], [], []]            607\n",
              "[\\nEuro 6c\\n]           127\n",
              "[\\nEuro 5\\n]             78\n",
              "[\\nEuro 6d\\n]            62\n",
              "[\\nEuro 4\\n]             40\n",
              "Name: Emission Class, dtype: int64"
            ]
          },
          "metadata": {},
          "execution_count": 197
        }
      ]
    },
    {
      "cell_type": "code",
      "source": [
        "df[\"Emission Class\"]=df[\"Emission Class\"].apply(lambda item : item[0] if type(item)==list else item)\n",
        "df[\"Emission Class\"]=df[\"Emission Class\"].str.strip('\\n')\n",
        "df[\"Emission Class\"]=df[\"Emission Class\"].str.replace(' ','', regex=True)"
      ],
      "metadata": {
        "id": "RcVuUz_RNYuu"
      },
      "execution_count": 198,
      "outputs": []
    },
    {
      "cell_type": "code",
      "source": [
        "df[\"Emission Class\"].value_counts()"
      ],
      "metadata": {
        "colab": {
          "base_uri": "https://localhost:8080/"
        },
        "id": "9OFfd8TENY2d",
        "outputId": "7fe54e1b-2f9e-4ca4-9f90-62997b16d7ee"
      },
      "execution_count": 199,
      "outputs": [
        {
          "output_type": "execute_result",
          "data": {
            "text/plain": [
              "Euro6          10139\n",
              "Euro6d-TEMP     1845\n",
              "Euro6c           127\n",
              "Euro5             78\n",
              "Euro6d            62\n",
              "Euro4             40\n",
              "Name: Emission Class, dtype: int64"
            ]
          },
          "metadata": {},
          "execution_count": 199
        }
      ]
    },
    {
      "cell_type": "code",
      "source": [
        "df.replace({\"Emission Class\" : {\"Euro6d-TEMP\":\"Euro6\", \"Euro6c\":\"Euro6\", \"Euro6d\":\"Euro6\"}}, regex = True, inplace = True)"
      ],
      "metadata": {
        "id": "uCcSqxP1wKQw"
      },
      "execution_count": 200,
      "outputs": []
    },
    {
      "cell_type": "code",
      "source": [
        "df[\"Emission Class\"].isnull().sum()"
      ],
      "metadata": {
        "colab": {
          "base_uri": "https://localhost:8080/"
        },
        "id": "lccJ1nofwPJH",
        "outputId": "09e93de7-3691-4a44-d525-21f9f14b44c8"
      },
      "execution_count": 201,
      "outputs": [
        {
          "output_type": "execute_result",
          "data": {
            "text/plain": [
              "3628"
            ]
          },
          "metadata": {},
          "execution_count": 201
        }
      ]
    },
    {
      "cell_type": "code",
      "source": [
        "fillallmeth(df,'Fuel',\"CO2 Emission\",\"Emission Class\",'mode')"
      ],
      "metadata": {
        "colab": {
          "base_uri": "https://localhost:8080/"
        },
        "id": "A21lLRrFyWwC",
        "outputId": "328d760b-3b24-42a5-e0fa-1b5ab130f9e7"
      },
      "execution_count": 202,
      "outputs": [
        {
          "output_type": "stream",
          "name": "stdout",
          "text": [
            "Number of NaN :  0\n",
            "------------------\n",
            "Euro6    15801\n",
            "Euro5       78\n",
            "Euro4       40\n",
            "Name: Emission Class, dtype: int64\n"
          ]
        }
      ]
    },
    {
      "cell_type": "code",
      "source": [
        "#pd.get_dummies(df[\"Emission Class\"],prefix='FueEmissionClass',prefix_sep='_')"
      ],
      "metadata": {
        "id": "cyPTxsqMSHYH"
      },
      "execution_count": null,
      "outputs": []
    },
    {
      "cell_type": "markdown",
      "source": [
        "# ***41-Comfort_and_Convenience***"
      ],
      "metadata": {
        "id": "v9y5etvigSZo"
      }
    },
    {
      "cell_type": "code",
      "source": [
        "df[\"Comfort_and_Convenience\"] = [\",\".join(item) if type(item) == list else item for item in df[\"Comfort_and_Convenience\"]]"
      ],
      "metadata": {
        "id": "R4t9oJh2TjRh"
      },
      "execution_count": 203,
      "outputs": []
    },
    {
      "cell_type": "code",
      "source": [
        "df[\"Comfort_and_Convenience\"]"
      ],
      "metadata": {
        "colab": {
          "base_uri": "https://localhost:8080/"
        },
        "id": "csaM7TCV_QH9",
        "outputId": "e16a23a4-3a88-4b47-ba2a-7ffefdc8bfac"
      },
      "execution_count": 204,
      "outputs": [
        {
          "output_type": "execute_result",
          "data": {
            "text/plain": [
              "0        Air conditioning,Armrest,Automatic climate con...\n",
              "1        Air conditioning,Automatic climate control,Hil...\n",
              "2        Air conditioning,Cruise control,Electrical sid...\n",
              "3        Air suspension,Armrest,Auxiliary heating,Elect...\n",
              "4        Air conditioning,Armrest,Automatic climate con...\n",
              "                               ...                        \n",
              "15914    Air conditioning,Automatic climate control,Cru...\n",
              "15915    Air conditioning,Automatic climate control,Cru...\n",
              "15916    Air conditioning,Armrest,Automatic climate con...\n",
              "15917    Air conditioning,Automatic climate control,Cru...\n",
              "15918    Air conditioning,Automatic climate control,Cru...\n",
              "Name: Comfort_and_Convenience, Length: 15919, dtype: object"
            ]
          },
          "metadata": {},
          "execution_count": 204
        }
      ]
    },
    {
      "cell_type": "code",
      "source": [
        "fillallmeth(df,'make_model',\"body_type\",\"Comfort_and_Convenience\",'mode')"
      ],
      "metadata": {
        "colab": {
          "base_uri": "https://localhost:8080/"
        },
        "id": "JqLMOMuqBqV5",
        "outputId": "28e2e384-5849-4a53-ce5d-607e7f2d851f"
      },
      "execution_count": 205,
      "outputs": [
        {
          "output_type": "stream",
          "name": "stdout",
          "text": [
            "Number of NaN :  0\n",
            "------------------\n",
            "Air conditioning,Electrical side mirrors,Hill Holder,Power windows                                                                                                                                                                                                                                                                                                                                                                                                                315\n",
            "Air conditioning,Armrest,Automatic climate control,Cruise control,Electrical side mirrors,Leather steering wheel,Light sensor,Lumbar support,Multi-function steering wheel,Navigation system,Park Distance Control,Parking assist system sensors front,Parking assist system sensors rear,Power windows,Rain sensor,Seat heating,Start-stop system                                                                                                                                187\n",
            "Air conditioning,Automatic climate control,Cruise control,Multi-function steering wheel,Park Distance Control,Power windows                                                                                                                                                                                                                                                                                                                                                       158\n",
            "Air conditioning,Electrical side mirrors,Power windows                                                                                                                                                                                                                                                                                                                                                                                                                            134\n",
            "Air conditioning,Power windows                                                                                                                                                                                                                                                                                                                                                                                                                                                    130\n",
            "                                                                                                                                                                                                                                                                                                                                                                                                                                                                                 ... \n",
            "Air conditioning,Cruise control,Electrical side mirrors,Light sensor,Power windows,Start-stop system                                                                                                                                                                                                                                                                                                                                                                                1\n",
            "Air conditioning,Armrest,Cruise control,Electrical side mirrors,Hill Holder,Leather steering wheel,Multi-function steering wheel,Park Distance Control,Parking assist system sensors rear,Power windows,Seat heating,Start-stop system                                                                                                                                                                                                                                              1\n",
            "Air conditioning,Armrest,Automatic climate control,Electrical side mirrors,Hill Holder,Keyless central door lock,Leather steering wheel,Light sensor,Lumbar support,Multi-function steering wheel,Navigation system,Park Distance Control,Power windows,Rain sensor,Seat heating,Start-stop system                                                                                                                                                                                  1\n",
            "Air conditioning,Armrest,Automatic climate control,Cruise control,Electrically adjustable seats,Electrically heated windshield,Electrical side mirrors,Electric tailgate,Heated steering wheel,Hill Holder,Leather steering wheel,Light sensor,Lumbar support,Multi-function steering wheel,Park Distance Control,Parking assist system camera,Parking assist system sensors front,Parking assist system sensors rear,Power windows,Rain sensor,Seat heating,Start-stop system      1\n",
            "Air conditioning,Armrest,Automatic climate control,Cruise control,Electrical side mirrors,Hill Holder,Keyless central door lock,Multi-function steering wheel,Navigation system,Park Distance Control,Parking assist system sensors front,Parking assist system sensors rear,Rain sensor,Seat heating                                                                                                                                                                               1\n",
            "Name: Comfort_and_Convenience, Length: 6198, dtype: int64\n"
          ]
        }
      ]
    },
    {
      "cell_type": "code",
      "source": [
        "#df[\"Comfort_and_Convenience\"].str.get_dummies(sep=\",\")"
      ],
      "metadata": {
        "id": "LiwItz3HTjUH"
      },
      "execution_count": null,
      "outputs": []
    },
    {
      "cell_type": "code",
      "source": [
        ""
      ],
      "metadata": {
        "id": "eR6pIstTTjWf"
      },
      "execution_count": null,
      "outputs": []
    },
    {
      "cell_type": "markdown",
      "source": [
        "# ***42-Entertainment_and_Media***"
      ],
      "metadata": {
        "id": "UymROl9VgSW3"
      }
    },
    {
      "cell_type": "code",
      "source": [
        "df[\"Entertainment_and_Media\"] = [\",\".join(item) if type(item) == list else item for item in df[\"Entertainment_and_Media\"]]"
      ],
      "metadata": {
        "id": "_vOsC5niTkD5"
      },
      "execution_count": 206,
      "outputs": []
    },
    {
      "cell_type": "code",
      "source": [
        "#df[\"Entertainment_and_Media\"].str.get_dummies(sep=\",\")"
      ],
      "metadata": {
        "id": "gsRf3-nYTkGh"
      },
      "execution_count": null,
      "outputs": []
    },
    {
      "cell_type": "code",
      "source": [
        "fillallmeth(df,'make_model',\"body_type\",\"Comfort_and_Convenience\",'mode')"
      ],
      "metadata": {
        "colab": {
          "base_uri": "https://localhost:8080/"
        },
        "id": "HwSpmBeDCdtz",
        "outputId": "10ab8ff5-a620-4682-ee85-72d632ab05c0"
      },
      "execution_count": 208,
      "outputs": [
        {
          "output_type": "stream",
          "name": "stdout",
          "text": [
            "Number of NaN :  0\n",
            "------------------\n",
            "Air conditioning,Electrical side mirrors,Hill Holder,Power windows                                                                                                                                                                                                                                                                                                                                                                                                                315\n",
            "Air conditioning,Armrest,Automatic climate control,Cruise control,Electrical side mirrors,Leather steering wheel,Light sensor,Lumbar support,Multi-function steering wheel,Navigation system,Park Distance Control,Parking assist system sensors front,Parking assist system sensors rear,Power windows,Rain sensor,Seat heating,Start-stop system                                                                                                                                187\n",
            "Air conditioning,Automatic climate control,Cruise control,Multi-function steering wheel,Park Distance Control,Power windows                                                                                                                                                                                                                                                                                                                                                       158\n",
            "Air conditioning,Electrical side mirrors,Power windows                                                                                                                                                                                                                                                                                                                                                                                                                            134\n",
            "Air conditioning,Power windows                                                                                                                                                                                                                                                                                                                                                                                                                                                    130\n",
            "                                                                                                                                                                                                                                                                                                                                                                                                                                                                                 ... \n",
            "Air conditioning,Cruise control,Electrical side mirrors,Light sensor,Power windows,Start-stop system                                                                                                                                                                                                                                                                                                                                                                                1\n",
            "Air conditioning,Armrest,Cruise control,Electrical side mirrors,Hill Holder,Leather steering wheel,Multi-function steering wheel,Park Distance Control,Parking assist system sensors rear,Power windows,Seat heating,Start-stop system                                                                                                                                                                                                                                              1\n",
            "Air conditioning,Armrest,Automatic climate control,Electrical side mirrors,Hill Holder,Keyless central door lock,Leather steering wheel,Light sensor,Lumbar support,Multi-function steering wheel,Navigation system,Park Distance Control,Power windows,Rain sensor,Seat heating,Start-stop system                                                                                                                                                                                  1\n",
            "Air conditioning,Armrest,Automatic climate control,Cruise control,Electrically adjustable seats,Electrically heated windshield,Electrical side mirrors,Electric tailgate,Heated steering wheel,Hill Holder,Leather steering wheel,Light sensor,Lumbar support,Multi-function steering wheel,Park Distance Control,Parking assist system camera,Parking assist system sensors front,Parking assist system sensors rear,Power windows,Rain sensor,Seat heating,Start-stop system      1\n",
            "Air conditioning,Armrest,Automatic climate control,Cruise control,Electrical side mirrors,Hill Holder,Keyless central door lock,Multi-function steering wheel,Navigation system,Park Distance Control,Parking assist system sensors front,Parking assist system sensors rear,Rain sensor,Seat heating                                                                                                                                                                               1\n",
            "Name: Comfort_and_Convenience, Length: 6198, dtype: int64\n"
          ]
        }
      ]
    },
    {
      "cell_type": "markdown",
      "source": [
        "# ***43-Extras***"
      ],
      "metadata": {
        "id": "M5APiWmKgSUh"
      }
    },
    {
      "cell_type": "code",
      "source": [
        "df[\"Extras\"] = [\",\".join(item) if type(item) == list else item for item in df[\"Extras\"]]"
      ],
      "metadata": {
        "id": "uYup_ujwVcG_"
      },
      "execution_count": 209,
      "outputs": []
    },
    {
      "cell_type": "code",
      "source": [
        "#df[\"Extras\"].str.get_dummies(sep=\",\")"
      ],
      "metadata": {
        "id": "Wx87IQ4LVcbQ"
      },
      "execution_count": null,
      "outputs": []
    },
    {
      "cell_type": "code",
      "source": [
        "fillallmeth(df,'make_model',\"body_type\",\"Extras\",'mode')"
      ],
      "metadata": {
        "id": "sZtUJMuUVcMj",
        "colab": {
          "base_uri": "https://localhost:8080/"
        },
        "outputId": "52710271-2a66-4f07-b875-7a98c1fcf4cb"
      },
      "execution_count": 210,
      "outputs": [
        {
          "output_type": "stream",
          "name": "stdout",
          "text": [
            "Number of NaN :  0\n",
            "------------------\n",
            "Alloy wheels                                                                                                                                 5884\n",
            "Alloy wheels,Touch screen                                                                                                                     697\n",
            "Alloy wheels,Voice Control                                                                                                                    582\n",
            "Alloy wheels,Touch screen,Voice Control                                                                                                       544\n",
            "Roof rack                                                                                                                                     538\n",
            "                                                                                                                                             ... \n",
            "Alloy wheels,Catalytic Converter,Roof rack,Sport package,Sport seats,Touch screen                                                               1\n",
            "Alloy wheels,Roof rack,Sport package,Sport seats,Voice Control                                                                                  1\n",
            "Alloy wheels,Catalytic Converter,Ski bag,Sport package,Sport seats,Sport suspension,Touch screen,Trailer hitch,Voice Control,Winter tyres       1\n",
            "Alloy wheels,Touch screen,Trailer hitch,Winter tyres                                                                                            1\n",
            "Alloy wheels,Cab or rented Car,Shift paddles,Sport package,Sport seats                                                                          1\n",
            "Name: Extras, Length: 659, dtype: int64\n"
          ]
        }
      ]
    },
    {
      "cell_type": "markdown",
      "source": [
        "# ***44-Safety_and_Security***"
      ],
      "metadata": {
        "id": "bCIJeks4gSSM"
      }
    },
    {
      "cell_type": "code",
      "source": [
        "df[\"Safety_and_Security\"] = [\",\".join(item) if type(item) == list else item for item in df[\"Safety_and_Security\"]]"
      ],
      "metadata": {
        "id": "WPnfruc0ZNtB"
      },
      "execution_count": 211,
      "outputs": []
    },
    {
      "cell_type": "code",
      "source": [
        "#df[\"Safety_and_Security\"].str.get_dummies(sep=\",\")"
      ],
      "metadata": {
        "id": "oxbhlpszZNnB"
      },
      "execution_count": null,
      "outputs": []
    },
    {
      "cell_type": "code",
      "source": [
        "fillallmeth(df,'make_model',\"body_type\",\"Safety_and_Security\",'mode')"
      ],
      "metadata": {
        "id": "ogHVcXYrZNf3",
        "colab": {
          "base_uri": "https://localhost:8080/"
        },
        "outputId": "c2ceaa22-8cf7-4161-dec3-8e95bf7863ae"
      },
      "execution_count": 212,
      "outputs": [
        {
          "output_type": "stream",
          "name": "stdout",
          "text": [
            "Number of NaN :  0\n",
            "------------------\n",
            "ABS,Central door lock,Daytime running lights,Driver-side airbag,Electronic stability control,Fog lights,Immobilizer,Isofix,Passenger-side airbag,Power steering,Side airbag,Tire pressure monitoring system,Traction control                                                                                    729\n",
            "ABS,Central door lock,Daytime running lights,Driver-side airbag,Electronic stability control,Immobilizer,Isofix,Passenger-side airbag,Power steering,Side airbag,Tire pressure monitoring system,Traction control                                                                                               480\n",
            "ABS,Central door lock,Daytime running lights,Driver-side airbag,Electronic stability control,Fog lights,Immobilizer,Isofix,LED Daytime Running Lights,Passenger-side airbag,Power steering,Side airbag,Tire pressure monitoring system,Traction control                                                         373\n",
            "ABS,Central door lock,Daytime running lights,Driver-side airbag,Electronic stability control,Immobilizer,Isofix,Passenger-side airbag,Power steering,Side airbag,Tire pressure monitoring system,Traction control,Xenon headlights                                                                              351\n",
            "ABS,Central door lock,Daytime running lights,Driver-side airbag,Electronic stability control,Isofix,Passenger-side airbag,Power steering,Side airbag,Tire pressure monitoring system,Traction control                                                                                                           306\n",
            "                                                                                                                                                                                                                                                                                                               ... \n",
            "ABS,Daytime running lights,Driver-side airbag,Electronic stability control,Emergency brake assistant,Emergency system,Immobilizer,Isofix,Lane departure warning system,Passenger-side airbag,Power steering,Side airbag,Tire pressure monitoring system,Traction control                                          1\n",
            "ABS,Adaptive Cruise Control,Central door lock,Driver-side airbag,Electronic stability control,Fog lights,Immobilizer,Isofix,Passenger-side airbag,Power steering,Side airbag,Tire pressure monitoring system,Traction control                                                                                     1\n",
            "ABS,Adaptive Cruise Control,Alarm system,Central door lock,Central door lock with remote control,Driver-side airbag,Electronic stability control,Head airbag,Isofix,LED Daytime Running Lights,LED Headlights,Passenger-side airbag,Power steering,Rear airbag,Side airbag,Traction control,Xenon headlights      1\n",
            "ABS,Adaptive headlights,Central door lock,Daytime running lights,Driver-side airbag,Electronic stability control,Fog lights,Immobilizer,Isofix,Power steering,Side airbag,Traction control,Xenon headlights                                                                                                       1\n",
            "ABS,Central door lock,Central door lock with remote control,Driver-side airbag,Electronic stability control,Head airbag,Isofix,Passenger-side airbag,Power steering,Side airbag,Tire pressure monitoring system,Traction control                                                                                  1\n",
            "Name: Safety_and_Security, Length: 4443, dtype: int64\n"
          ]
        }
      ]
    },
    {
      "cell_type": "markdown",
      "source": [
        "# ***45-description***"
      ],
      "metadata": {
        "id": "tVDqJy4ZgSP2"
      }
    },
    {
      "cell_type": "code",
      "source": [
        "df[\"description\"] = [\",\".join(item) if type(item) == list else item for item in df[\"description\"]]"
      ],
      "metadata": {
        "id": "7U3kXgd-Zi6t"
      },
      "execution_count": null,
      "outputs": []
    },
    {
      "cell_type": "code",
      "source": [
        "fillallmeth(df,'make_model',\"body_type\",\"description\",'mode')"
      ],
      "metadata": {
        "id": "WC9gfQElZinc",
        "colab": {
          "base_uri": "https://localhost:8080/"
        },
        "outputId": "fce9d21b-c451-4fd5-95af-f3feecc3069e"
      },
      "execution_count": null,
      "outputs": [
        {
          "output_type": "stream",
          "name": "stdout",
          "text": [
            "Number of NaN :  0\n",
            "------------------\n",
            "                                                                                                                                                                                                                                                                                                                                                                                                                                                                                                                                                                                                                                                                                                                                                                                                                                                                                                                                                                                                                                                                                                                                                                                                                                                                                                                                                                                                                                                                                                                                                                                                                                                                                                                                                                                                                                                                                                                                                                                                                                                                                                                                                                                                                                                                                                                                                                                                                                                                                                                                                                                                                                                                                                                                                                          636\n",
            "\\n,\\n                                                                                                                                                                                                                                                                                                                                                                                                                                                                                                                                                                                                                                                                                                                                                                                                                                                                                                                                                                                                                                                                                                                                                                                                                                                                                                                                                                                                                                                                                                                                                                                                                                                                                                                                                                                                                                                                                                                                                                                                                                                                                                                                                                                                                                                                                                                                                                                                                                                                                                                                                                                                                                                                                                                                                                      30\n",
            "\\n,Fahrzeugbeschreibung, Sichern Sie sich diesen Audi A1 1.4 TDI Design zum Top-Preis inklusive dem,AUTOHERO-RUNDUM-SORGLOS-PAKET, ,Infos:, 2. Hand, deutsche Auslieferung, Unfallfrei, scheckheftgepflegt , ,Highlights, ,Leichtmetallfelgen, ,Sitzheizung vorn, ,Sportsitze vorn, ,Dynamik-Fahrwerk, ,Multi-Media-Interface MMI Navigation, ,Einparkhilfe hinten (APS), ,CO2-optimiert (Ausführung e, Ultra) , ,Komfort, ,Klimaautomatik, ,Mittelarmlehne vorn mit Fach, ,Fensterheber elektrisch vorn, ,Zentralverriegelung mit Fernbedienung, ,Berganfahr-Assistent, ,Multifunktionslederlenkrad, ,Rücksitzlehne geteilt/klappbar, ,Sitze vorn höhenverstellbar , ,Lendenwirbelstützen verstellbar , ,Multimedia, ,Audi music interface, ,Fahrer-Informations-System (FIS), ,Bluetooth-Freisprecheinrichtung, ,Licht und Sicht, ,Außenspiegel elektrisch verstell- und heizbar, beide, ,Tagfahrlicht, ,Scheibenwaschdüsen heizbar, ,Licht- und Regensensor, ,Nebelscheinwerfer integriert, ,Wärmeschutzverglasung grün getönt, ,Heckleuchten LED, ,Sicherheit, ,Isofix-Aufnahmen für Kindersitz, ,Bremsassistent, ,Seitenairbag vorn, ,Reifenkontroll-Anzeige, ,Anti-Blockier-System (ABS), ,Wegfahrsperre (elektronisch), ,Airbag Fahrer-/Beifahrerseite, ,Antriebs-Schlupfregelung (ASR), ,Kopf-Airbag-System (Sideguard), ,Elektronische Differentialsperre (EDS), ,Elektronisches Stabilitäts-Programm (ESP), ,Weiteres, ,Start/Stop-Anlage, ,Wagenheber, ,Servolenkung, ,Rußpartikelfilter, ,Dachkantenspoiler, ,Reifen-Reparaturkit, ,Ausströmer Schwarz Hochglanz , ,Innenausstattung Aluminium-Optik , ,Einstiegleisten mit Schriftzug , ,Gepäckraumabdeckung / Rollo , ,Dachhimmel Stoff, titangrau , ,Bremssättel dunkelgrau lackiert , Ihr ,AUTOHERO-RUNDUM-SORGLOS-PAKET, beinhaltet:,Kostenlose Lieferung in Ihre Nähe,Optische & technische Aufbereitung,Mindestens 12 Monate gültige HU und AU,1-Jahr-Premium-Garantie,Zulassung inklusive ,14-Tage-Rückgaberecht,Markenunabhängige Inzahlungnahme ,Individuelle Finanzierungen zu fairen Konditionen , ,HIER GEHT ES ZUR 360° - ANSICHT DES FAHRZEUGES:,:,https://www.autohero.com/de/audi-a1-1-4-tdi-design/id/156452a9-fad2-439b-b241-43c256331ecc/, ,Haftungsausschluss,:,Für Angaben vom Verkäufer, des Herstellers oder von Datenbankabfragen übernimmt Autohero keine Haftung. Änderungen, Zwischenverkauf und Irrtümer sind vorbehalten.\\n                                                                                                                                                                                                                                                                                                                                                      27\n",
            "\\nPosibilidad de prueba del vehículo hasta 5 días. Consultar condiciones. PVP para particulares. Varias unidades y colores disponibles. Precios publicados para vehículos industriales (furgonetas) válidos para compradores autónomos o empresas, consultar condiciones para particulares. Las imágenes y kilómetros pueden no corresponder con el modelo anunciado. Para confirmar póngase en contacto con nuestro departamento comercial. Consulta las excepcionales condiciones de financiación que tenemos disponibles. Precio de venta final IVA y gastos de transferencia incluidos. Horario de atención al cliente: Lunes a Viernes de 09:00 a 18:00.\\n                                                                                                                                                                                                                                                                                                                                                                                                                                                                                                                                                                                                                                                                                                                                                                                                                                                                                                                                                                                                                                                                                                                                                                                                                                                                                                                                                                                                                                                                                                                                                                                                                                                                                                                                                                                                                                                                                                                                                                                                                                                                                                            27\n",
            "\\nSichern Sie sich diesen RENAULT CLIO 1.2 TCE ENERGY INTENS zum Top-Preis inklusive dem,AUTOHERO-RUNDUM-SORGLOS-PAKET, ,Infos:, 1.Hand, mindestens 12 Monate gültige HU und AU, deutsche Ausführung, unfallfrei, ,Highlights, ,Navigationssystem mit Touchscreen-Farbdisplay (Media Nav Evolution), ,Scheinwerfer Full-LED, ,Einparkhilfe hinten , ,16? Pulse Leichtmetallfelgen , ,Sitzheizung vorn,Komfort, ,Startanlage Handsfree Entry & Drive, ,Sitz vorn links höhenverstellbar, ,Multifunktionslenkrad in Leder , ,Eco Mode (Fahrmodusschalter), ,Berganfahr-Assistent (HSA), ,Fensterheber elektrisch hinten und vorne mit Impulsgeber links vorn, ,Geschwindigkeits-Regelanlage (Tempomat) , ,Klimaanlage, ,Rücksitzlehne geteilt/klappbar, ,Start/Stop-Anlage , ,Komfort-Paket Plus, ,Mittelarmlehne vorn mit Ablagefach ,Multimedia, , ,Radioempfang digital (DAB), ,4 Lautsprecher , ,Bluetooth Freisprecheinrichtung , ,USB-/AUX-Schnittstelle , ,Bordcomputer,Licht und Sicht, ,Nebelscheinwerfer LED, ,Außenspiegel elektr. verstell-, heizbar-, und anklappbar, ,Heckscheibe heizbar , ,Licht- und Regensensor , ,Coming-Home-Lichtfunktion, ,Heckleuchten LED, ,Tagfahrlicht LED ,Sicherheit, ,Airbag für Fahrer und Beifahrer, ,Beifahrerairbag deaktivierbar , ,Seitenairbags vorn , ,Kopfairbagsystem, ,Anti-Blockier-System (ABS), ,Bremsassistent, ,Elektronische Bremskraftverteilung , ,Elektronische Stabilitäts-Programm (ESP), ,Reifendruck-Kontrollsystem , ,Untersteuerungskontrolle (USC), ,Reserverad in Fahrbereifung, ,ISOFIX Kindersitzverankerung ,Weiteres, ,Sonderlackierung Metallic Dezir Rot, ,Look-Paket Chrom (außen) , ,Look-Paket Klavierlack schwarz (innen), ,Energierückgewinnung (Energy Smart Management), Ihr ,AUTOHERO-RUNDUM-SORGLOS-PAKET, beinhaltet:,Kostenlose Lieferung in Ihre Nähe,Optische & technische Aufbereitung,Mindestens 12 Monate gültige HU und AU,1-Jahr-Premium-Garantie,Zulassung inklusive ,14-Tage-Rückgaberecht,Markenunabhängige Inzahlungnahme ,Individuelle Finanzierungen zu fairen Konditionen, ,HIER GEHT ES ZUR 360° - ANSICHT DES FAHRZEUGES:,:, ,Haftungsausschluss,:,Für Angaben vom Verkäufer, des Herstellers oder von Datenbankabfragen übernimmt Autohero keine Haftung. Änderungen, Zwischenverkauf und Irrtümer sind vorbehalten.\\n                                                                                                                                                                                                                                                                                                                                                                                                                                            27\n",
            "                                                                                                                                                                                                                                                                                                                                                                                                                                                                                                                                                                                                                                                                                                                                                                                                                                                                                                                                                                                                                                                                                                                                                                                                                                                                                                                                                                                                                                                                                                                                                                                                                                                                                                                                                                                                                                                                                                                                                                                                                                                                                                                                                                                                                                                                                                                                                                                                                                                                                                                                                                                                                                                                                                                                                                         ... \n",
            "\\nRenault Clio 1.2 benzina cambio manuale 75 cv. 4 anni di garanzia inclusi, 22.000 km unico proprietario. Immatricolazione 07/2018. Sensori di parcheggio posteriori, vetri oscurati posteriori, comandi al volante, usb, Bluetooth. Vendo per esigenze lavorative diverse. Ottime condizioni. Prezzo leggermente trattabile.\\n                                                                                                                                                                                                                                                                                                                                                                                                                                                                                                                                                                                                                                                                                                                                                                                                                                                                                                                                                                                                                                                                                                                                                                                                                                                                                                                                                                                                                                                                                                                                                                                                                                                                                                                                                                                                                                                                                                                                                                                                                                                                                                                                                                                                                                                                                                                                                                                                                                            1\n",
            "\\n,Sonderausstattung:,DAB-Tuner (Radioempfang digital), Metallic-/Mineraleffekt-Lackierung, Reserverad als Notrad,Weitere Ausstattung:,Airbag Fahrer-/Beifahrerseite, Audio-Navigationssystem Navi RF 900 Europa Touch (IntelliLink 8\"-Display), Außenspiegel elektr. verstell- und heizbar, elektr. anklappbar, Außenspiegel Wagenfarbe, Bordcomputer, Bremsassistent, Dach, Design-Ausführung, Dachreling silber, Drehzahlmesser, Ecoflex, Einstiegsleisten mit Schriftzug, Elektron. Stabilitäts-Programm Plus (ESP), Fahrassistenz-System: Berganfahr-Assistent (HSA, Hill Start Assist), Fahrzeugschlüssel (2) beide klappbar, Fensterheber elektrisch vorn + hinten, Fensterzierleisten Edelstahl / Chrom, Frontkamera, Getriebe Automatik - mit Start-/Stop (6-Stufen), Innenraum-Paket, Isofix-Aufnahmen für Kindersitz an Rücksitz, Karosserie: 5-türig, Klimaautomatik 2-Zonen, Kopf-Airbag-System, Laderaumabdeckung, Leder-Paket, Lenkrad mit Multifunktion, Lenksäule (Lenkrad) verstellbar, Licht-Paket, LM-Felgen, Motor 1,4 Ltr. - 110 kW 16V SIDI Turbo, OnStar SOS Service, Parkpilotsystem vorn und hinten, Reifendruck-Kontrollsystem, Rückfahrkamera, Schadstoffarm nach Abgasnorm Euro 6, Seitenairbag vorn, Start/Stop-Anlage, Steckdose (12V-Anschluß) in Mittelkonsole, Türgriffe außen Wagenfarbe, Voll-LED (IntelliLux), Winter-Paket Premium, Wärmeschutzverglasung hinten abgedunkelt (Solar-Protect),Wir nehmen Ihr Fahrzeug gerne in Zahlung und kalkulieren Ihnen gerne Ihre Wunschfinanzierung!,Der Verkäufer übernimmt keine Haftung für Tipp- und Datenübermittlungsfehlern. Aufgeführte Ausstattungen sind ggfs. gesondert zu prüfen. Alle Angaben in den Inseraten sind ohne Gewähr. Wir freuen uns auf Ihren Besuch!,Änderungen, Zwischenverkauf und Irrtümer vorbehalten.,Wunschauto nicht dabei? Sprechen Sie unsere Verkäufer an, die ständig Zugriff auf über 1.000 Fahrzeuge haben!,\\n                                                                                                                                                                                                                                                                                                                                                                                                                                                                                                                                                                                                                                                                                                                                                                                                                                           1\n",
            "\\n,Doppelkupplungs Automatik Getriebe 6-Gang,Energy Motor mit Start&Stop Automatik,Zusatzausstattungen:, ,Deluxe-Paket, - Klimaautomatik, - Keycard-Handsfree,Autom.Öffnen+Starten, - Licht- und Regensensor, - 16-Zoll-Leichtmetallrader, - Einparkhilfe hinten, akustisch, - Außenspiegel elektrisch anklappbar, - Hintere Scheiben dunkel getönt, - Media-Nav Navigation und Multimediasystem, -Touchscreen-Bedienung, -Handy Bluetooth-Freisprecheinrichtung, -USB-Anschulß für Radio, -Radiobediensatellit am Lenkrad, -Radio mit Anschluß externer Audioquellen,DAB-Digitalradio,Europa Kartenmaterial,Serienausstattungen:,Keyless Entry,Bordcomputer,Tempomat, Geschwindigkeits-Regelanlage,Ersatzrad,LED Tagfahrlicht,Nebelscheinwerfer, Berganfahrhilfe HILL START ASSIST,Lederlenkrad höhen,- u. längsverstellbar, Fahrersitz höhenverstellbar,Rückbank variabel 1/3 zu 2/3 umklappbar, Elektrische Fensterherber 4-fach,Außenspiegel elektrisch und beheizbar,Laderaumabdeckung variabel,ISOFIX-Kindersitzbefestigungen,Reifendruckkontrolle,ESP, ASR, ABS, Bremsassistent, Topzustand,Motorsteuerkette wartungsfrei,Scheckheft gepflegt,Inspektion wurde neu durchgeführt,Bei Neukauf Unverb. Preisempf.= ca. 20.630,- Euro, Inklusive 660,00 Euro Überführung,Dienstwagen Autohaus Schweier,Inclusive TÜV-Qualitäts Gebrauchtwagen Zertifikat, ,Bitte rufen Sie uns an oder senden Sie uns Ihre Handy Nummer., Wir freuen uns Ihre Fragen zu beantworten und auf Ihren Besuch., , Ihr Renault Autohaus Schweier Team,Mehr als 100 JAHRE Autohaus Schweier, seit 1912,Fast 70 JAHRE RENAULT HÄNDLER, seit 1950,RENAULT und DACIA Neuwagen,Jahreswagen und Gebrauchtwagen vieler Marken,Renault Oldtimer Museum mit vielen Raritäten,Modellauto Boutique,\\n                                                                                                                                                                                                                                                                                                                                                                                                                                                                                                                                                                                                                                                                                                                                                                                                                                                                                                                                                                                                     1\n",
            "\\nAngebots-Nr. 1026449,Ausstattung:, ,Ausstattungsvariante Innovation, ,8-Gang-Automatikgetriebe, ,Frontkamera inkl. City-Notbremsfunktion, ,Frontkamera inkl. Spurhalte-Assistent, ,OnStar (persönlicher Online/Serviceassistent), ,Voll LED-Scheinwerfer (IntelliLux Matrix-Licht), ,8-Zoll Navigationssystem 900 IntelliLink Europa, ,Leichtmetallfelgen in 17-Zoll, ,2-Zonen Klimaautomatik, ,Diebstahlwarnanlage, ,Rückfahr-Kamera, ,KeylessOpen-Start, ,Sitzheizung vorn, ,Tempomat, ,Bordcomputer, ,Einparkhilfe vorn/hinten, ,Bluetooth-Freisprecheinrichtung, ,Multifunktionslenkrad, ,LED-Tagfahrlicht, ,LED-Rückleuchten, ,Innenausstattung: Teilleder \\&ldquo,Morrocana\\&ldquo, schwarz, ,Airbag(s):Vorder+Seite+Weitere, ,ESP/Traktionskontrolle, ,Kindersitzbefestigung ISOFIX, ,Kurven-Abbiegelicht, ,Licht-Regensensor, ,Fernlicht-Assistent, ,SolarProtect-Verglasung im Fond, ,elektr. verstellb.u.beheizte Außenspiegel, ,elektr. Fensterheber vorn/hinten, ,elektr. Parkbremse inkl. Berg-Anfahr-Assistent, ,Rücksitzlehne geteilt umklappbar, ,2 USB Schnittstellen im Fond, ,Radio USB/MP3 Schnittstelle, ,Mittelarmlehne vorn/hinten, ,Start/Stopp-Funktion, ,Allwetterreifen, ,Fahrzeug zum Mitnahmepreis - Fragen Sie auch nach unseren Dienstleistungsangeboten!, ,Eingabefehler können nicht ausgeschlossen werden / Irrtümer und Zwischenverkauf unter Vorbehalt, , ,Privatkunden Verkauf:, Oliver Fritsche Tel: 03925/ 32901-14, ,Privatkunden Verkauf: ,Uwe Riesner Tel: 03925 / 32901-21, ,Händlerverkauf:, Jens Ulrich Tel: 03925/32901-18, ,Ständig über 500 Fahrzeugen zu Top Konditionen., ,Leasing u. Finanzierung zu günstigen Konditionen ,(bereits ab 2,99%), durch unsere Partnerbanken, auch ohne Anzahlung, ,Inzahlungnahme Ihres Altwagens zu fairen Preisen, ,GW-Garantie / Möglichkeit der Anschlussgarantie (schon ab 135,- Euro möglich / je nach Modell), ,Fahrzeuge werden technisch geprüft, ,TÜV / AU Service (auf Wunsch möglich), ,Für unsere Kunden von außerhalb: kostenlose Abholung vom Bahnhof Staßfurt,Information zu Verbrauchswerten: Sofern Verbrauchs- und Emissionswerten angegeben sind, handelt es sich um Werte, die bei der Typengenehmigung der Fahrzeuge, durch den Hersteller ermittelt wurden. Möglicherweise sind diese Werte unzutreffend. Sofern das Fahrzeug betroffen ist, bemüht sich der Hersteller, den Vorgang schnellstmöglich aufzuklären und die Werte -falls erforderlich- in Abstimmung mit den zuständigen Behörden zu korrigieren.,Weitere Informationen zum offiziellen Kraftstoffverbrauch und den offiziellen spezifischen CO2Emmissionen neuer Personenkraftwagen können dem \"Leitfaden über den Kraftstoffverbrauch, die CO2-Emmisionen und den Stromverbrauch neuer Pe\\n      1\n",
            "\\nDEK:[2361928],SALONE USATO E PARCO KM0 di Capelli Automobili Srl,Vieni a scoprire il nuovo parco auto multimarca usate e km0 di Capelli Automobili, con tante offerte adatte alle tue esigenze. Ci trovi in Via Beduschi 49 a Casalmaggiore (CR). Per qualsiasi info non esitare a contattarci, saremo a tua completa disposizione., *Nel prezzo viene ESCLUSO il costo del passaggio, *Alcuni accessori sopra indicati potrebbero differire nel modello in esame.\\n                                                                                                                                                                                                                                                                                                                                                                                                                                                                                                                                                                                                                                                                                                                                                                                                                                                                                                                                                                                                                                                                                                                                                                                                                                                                                                                                                                                                                                                                                                                                                                                                                                                                                                                                                                                                                                                                                                                                                                                                                                                                                                                                                                                                                                                                                                      1\n",
            "Name: description, Length: 12874, dtype: int64\n"
          ]
        }
      ]
    },
    {
      "cell_type": "code",
      "source": [
        "df.drop([\"description\"],axis=1, inplace=True)"
      ],
      "metadata": {
        "id": "HPwol2-BDNfB"
      },
      "execution_count": 213,
      "outputs": []
    },
    {
      "cell_type": "markdown",
      "source": [
        "# ***46-Emission Label***"
      ],
      "metadata": {
        "id": "Ybph_vMkgSNL"
      }
    },
    {
      "cell_type": "code",
      "source": [
        "df[\"Emission Label\"]=df[\"Emission Label\"].apply(lambda item : item[0] if type(item)==list else item)\n",
        "df[\"Emission Label\"]=df[\"Emission Label\"].str.strip('\\n')\n",
        "df[\"Emission Label\"]=df[\"Emission Label\"].str.replace(' ','', regex=True)"
      ],
      "metadata": {
        "id": "tNteqPVOaPik"
      },
      "execution_count": 214,
      "outputs": []
    },
    {
      "cell_type": "code",
      "source": [
        "df[\"Emission Label\"] "
      ],
      "metadata": {
        "colab": {
          "base_uri": "https://localhost:8080/"
        },
        "id": "37X7vAJJZ5Hg",
        "outputId": "cba70fcb-6e83-47fc-fe2b-17cd53503652"
      },
      "execution_count": null,
      "outputs": [
        {
          "output_type": "execute_result",
          "data": {
            "text/plain": [
              "0             NaN\n",
              "1        4(Green)\n",
              "2        4(Green)\n",
              "3             NaN\n",
              "4             NaN\n",
              "           ...   \n",
              "15914         NaN\n",
              "15915         NaN\n",
              "15916         NaN\n",
              "15917         NaN\n",
              "15918    4(Green)\n",
              "Name: Emission Label, Length: 15919, dtype: object"
            ]
          },
          "metadata": {},
          "execution_count": 321
        }
      ]
    },
    {
      "cell_type": "code",
      "source": [
        "#df[\"Emission Label\"].str.get_dummies(sep=\",\")"
      ],
      "metadata": {
        "id": "YA1aj30rZ5BY"
      },
      "execution_count": null,
      "outputs": []
    },
    {
      "cell_type": "code",
      "source": [
        "fillallmeth(df,'make_model',\"body_type\",\"Emission Label\",'mode')"
      ],
      "metadata": {
        "id": "wy4eEU95Z45o",
        "colab": {
          "base_uri": "https://localhost:8080/"
        },
        "outputId": "6933bc81-c1ad-433b-c79a-35f45ae25929"
      },
      "execution_count": 215,
      "outputs": [
        {
          "output_type": "stream",
          "name": "stdout",
          "text": [
            "Number of NaN :  0\n",
            "------------------\n",
            "4(Green)        15493\n",
            "1(Nosticker)      415\n",
            "5(Blue)             8\n",
            "3(Yellow)           2\n",
            "2(Red)              1\n",
            "Name: Emission Label, dtype: int64\n"
          ]
        }
      ]
    },
    {
      "cell_type": "markdown",
      "source": [
        "# ***47-Gears***"
      ],
      "metadata": {
        "id": "8Y5vlGvJgSK6"
      }
    },
    {
      "cell_type": "code",
      "source": [
        "df[\"Gears\"].value_counts(dropna=False)"
      ],
      "metadata": {
        "colab": {
          "base_uri": "https://localhost:8080/",
          "height": 446
        },
        "id": "wvYyBPDnbOpj",
        "outputId": "753ec6c2-b974-46cb-a460-62b0c1c081ca"
      },
      "execution_count": null,
      "outputs": [
        {
          "output_type": "error",
          "ename": "TypeError",
          "evalue": "ignored",
          "traceback": [
            "\u001b[0;31m---------------------------------------------------------------------------\u001b[0m",
            "\u001b[0;31mTypeError\u001b[0m                                 Traceback (most recent call last)",
            "\u001b[0;32mpandas/_libs/hashtable_class_helper.pxi\u001b[0m in \u001b[0;36mpandas._libs.hashtable.PyObjectHashTable.map_locations\u001b[0;34m()\u001b[0m\n",
            "\u001b[0;31mTypeError\u001b[0m: unhashable type: 'list'"
          ]
        },
        {
          "output_type": "stream",
          "name": "stderr",
          "text": [
            "Exception ignored in: 'pandas._libs.index.IndexEngine._call_map_locations'\n",
            "Traceback (most recent call last):\n",
            "  File \"pandas/_libs/hashtable_class_helper.pxi\", line 1709, in pandas._libs.hashtable.PyObjectHashTable.map_locations\n",
            "TypeError: unhashable type: 'list'\n"
          ]
        },
        {
          "output_type": "execute_result",
          "data": {
            "text/plain": [
              "[\\n6\\n]     5822\n",
              "NaN         4712\n",
              "[\\n5\\n]     3239\n",
              "[\\n7\\n]     1908\n",
              "[\\n8\\n]      224\n",
              "[\\n9\\n]        6\n",
              "[\\n4\\n]        2\n",
              "[\\n3\\n]        2\n",
              "[\\n1\\n]        2\n",
              "[\\n50\\n]       1\n",
              "[\\n2\\n]        1\n",
              "Name: Gears, dtype: int64"
            ]
          },
          "metadata": {},
          "execution_count": 66
        }
      ]
    },
    {
      "cell_type": "code",
      "source": [
        "df[\"Gears\"]=df[\"Gears\"].apply(lambda item : item[0] if type(item)==list else item)\n",
        "df[\"Gears\"]=df[\"Gears\"].str.strip('\\n')\n",
        "df[\"Gears\"]=df[\"Gears\"].str.replace(' ','', regex=True)"
      ],
      "metadata": {
        "id": "FtDjttJjbO3J"
      },
      "execution_count": 216,
      "outputs": []
    },
    {
      "cell_type": "code",
      "source": [
        "df[\"Gears\"]=df[\"Gears\"].str.replace('50','5', regex=True)"
      ],
      "metadata": {
        "id": "2_hgiDTCb3_Y"
      },
      "execution_count": 217,
      "outputs": []
    },
    {
      "cell_type": "code",
      "source": [
        "df[\"Gears\"]=df[\"Gears\"].astype(float)"
      ],
      "metadata": {
        "id": "Ept-0aJsb_3s"
      },
      "execution_count": 218,
      "outputs": []
    },
    {
      "cell_type": "code",
      "source": [
        "df[\"Gears\"].value_counts()"
      ],
      "metadata": {
        "colab": {
          "base_uri": "https://localhost:8080/"
        },
        "id": "UlRWlQ8CbwCS",
        "outputId": "1f70d460-babd-4264-f847-01d028776ac2"
      },
      "execution_count": null,
      "outputs": [
        {
          "output_type": "execute_result",
          "data": {
            "text/plain": [
              "6.0    5822\n",
              "5.0    3240\n",
              "7.0    1908\n",
              "8.0     224\n",
              "9.0       6\n",
              "4.0       2\n",
              "3.0       2\n",
              "1.0       2\n",
              "2.0       1\n",
              "Name: Gears, dtype: int64"
            ]
          },
          "metadata": {},
          "execution_count": 74
        }
      ]
    },
    {
      "cell_type": "code",
      "source": [
        "df.drop([\"Gears\"], axis=1, inplace=True)"
      ],
      "metadata": {
        "id": "XkKWrTmLbv_v"
      },
      "execution_count": 219,
      "outputs": []
    },
    {
      "cell_type": "markdown",
      "source": [
        "# ***48-Country version***"
      ],
      "metadata": {
        "id": "zYWzciPggSIQ"
      }
    },
    {
      "cell_type": "code",
      "source": [
        "df[\"Country version\"].value_counts()"
      ],
      "metadata": {
        "colab": {
          "base_uri": "https://localhost:8080/",
          "height": 654
        },
        "id": "iMVsqxurcQS_",
        "outputId": "a25f41ea-9268-484e-c7a5-5ff3cb471b83"
      },
      "execution_count": null,
      "outputs": [
        {
          "output_type": "error",
          "ename": "TypeError",
          "evalue": "ignored",
          "traceback": [
            "\u001b[0;31m---------------------------------------------------------------------------\u001b[0m",
            "\u001b[0;31mTypeError\u001b[0m                                 Traceback (most recent call last)",
            "\u001b[0;32mpandas/_libs/hashtable_class_helper.pxi\u001b[0m in \u001b[0;36mpandas._libs.hashtable.PyObjectHashTable.map_locations\u001b[0;34m()\u001b[0m\n",
            "\u001b[0;31mTypeError\u001b[0m: unhashable type: 'list'"
          ]
        },
        {
          "output_type": "stream",
          "name": "stderr",
          "text": [
            "Exception ignored in: 'pandas._libs.index.IndexEngine._call_map_locations'\n",
            "Traceback (most recent call last):\n",
            "  File \"pandas/_libs/hashtable_class_helper.pxi\", line 1709, in pandas._libs.hashtable.PyObjectHashTable.map_locations\n",
            "TypeError: unhashable type: 'list'\n"
          ]
        },
        {
          "output_type": "execute_result",
          "data": {
            "text/plain": [
              "[\\nGermany\\n]           4502\n",
              "[\\nItaly\\n]             1038\n",
              "[\\nEuropean Union\\n]     507\n",
              "[\\nNetherlands\\n]        464\n",
              "[\\nSpain\\n]              325\n",
              "[\\nBelgium\\n]            314\n",
              "[\\nAustria\\n]            208\n",
              "[\\nCzech Republic\\n]      52\n",
              "[\\nPoland\\n]              49\n",
              "[\\nFrance\\n]              38\n",
              "[\\nDenmark\\n]             33\n",
              "[\\nHungary\\n]             28\n",
              "[\\nJapan\\n]                8\n",
              "[\\nCroatia\\n]              4\n",
              "[\\nSlovakia\\n]             4\n",
              "[\\nSweden\\n]               3\n",
              "[\\nBulgaria\\n]             2\n",
              "[\\nRomania\\n]              2\n",
              "[\\nSwitzerland\\n]          1\n",
              "[\\nLuxembourg\\n]           1\n",
              "[\\nSerbia\\n]               1\n",
              "[\\nSlovenia\\n]             1\n",
              "[\\nEgypt\\n]                1\n",
              "Name: Country version, dtype: int64"
            ]
          },
          "metadata": {},
          "execution_count": 76
        }
      ]
    },
    {
      "cell_type": "code",
      "source": [
        "df[\"Country version\"]=df[\"Country version\"].apply(lambda item : item[0] if type(item)==list else item)\n",
        "df[\"Country version\"]=df[\"Country version\"].str.strip('\\n')\n",
        "df[\"Country version\"]"
      ],
      "metadata": {
        "colab": {
          "base_uri": "https://localhost:8080/"
        },
        "id": "BbpXrN_jcQQO",
        "outputId": "b82fa928-81d5-4b27-b0a0-9a62694dd0ea"
      },
      "execution_count": null,
      "outputs": [
        {
          "output_type": "execute_result",
          "data": {
            "text/plain": [
              "0            NaN\n",
              "1            NaN\n",
              "2            NaN\n",
              "3            NaN\n",
              "4        Germany\n",
              "          ...   \n",
              "15914        NaN\n",
              "15915    Germany\n",
              "15916    Austria\n",
              "15917        NaN\n",
              "15918    Germany\n",
              "Name: Country version, Length: 15919, dtype: object"
            ]
          },
          "metadata": {},
          "execution_count": 273
        }
      ]
    },
    {
      "cell_type": "code",
      "source": [
        "df.drop([\"Country version\"], axis=1,inplace=True)"
      ],
      "metadata": {
        "id": "0UXhpkthEJh6"
      },
      "execution_count": 220,
      "outputs": []
    },
    {
      "cell_type": "markdown",
      "source": [
        "# ***49-Electricity consumption***"
      ],
      "metadata": {
        "id": "grFUsxlXgSFi"
      }
    },
    {
      "cell_type": "code",
      "source": [
        "df[\"Electricity consumption\"].value_counts()"
      ],
      "metadata": {
        "colab": {
          "base_uri": "https://localhost:8080/"
        },
        "id": "2zT93WjqdQSq",
        "outputId": "8f53846e-60bf-43ec-e9ac-4cfb573f13b3"
      },
      "execution_count": null,
      "outputs": [
        {
          "output_type": "execute_result",
          "data": {
            "text/plain": [
              "0 kWh/100 km (comb)    137\n",
              "Name: Electricity consumption, dtype: int64"
            ]
          },
          "metadata": {},
          "execution_count": 81
        }
      ]
    },
    {
      "cell_type": "code",
      "source": [
        "df[\"Electricity consumption\"]=df[\"Electricity consumption\"].apply(lambda item : item[0] if type(item)==list else item)\n",
        "df[\"Electricity consumption\"]=df[\"Electricity consumption\"].str.strip('\\n')\n",
        "df[\"Electricity consumption\"]"
      ],
      "metadata": {
        "colab": {
          "base_uri": "https://localhost:8080/"
        },
        "id": "TcxaPs2fdQpO",
        "outputId": "d536b8aa-ad0e-4117-93dc-91068283b08c"
      },
      "execution_count": null,
      "outputs": [
        {
          "output_type": "execute_result",
          "data": {
            "text/plain": [
              "0        NaN\n",
              "1        NaN\n",
              "2        NaN\n",
              "3        NaN\n",
              "4        NaN\n",
              "        ... \n",
              "15914    NaN\n",
              "15915    NaN\n",
              "15916    NaN\n",
              "15917    NaN\n",
              "15918    NaN\n",
              "Name: Electricity consumption, Length: 15919, dtype: object"
            ]
          },
          "metadata": {},
          "execution_count": 274
        }
      ]
    },
    {
      "cell_type": "code",
      "source": [
        "df.drop([\"Electricity consumption\"], axis=1)"
      ],
      "metadata": {
        "id": "DArtnwOmdQYW"
      },
      "execution_count": null,
      "outputs": []
    },
    {
      "cell_type": "markdown",
      "source": [
        "# ***50-Last Service Date***"
      ],
      "metadata": {
        "id": "FP4IxHvegR_x"
      }
    },
    {
      "cell_type": "code",
      "source": [
        "df[\"Last Service Date\"].value_counts(dropna=False)"
      ],
      "metadata": {
        "colab": {
          "base_uri": "https://localhost:8080/",
          "height": 481
        },
        "id": "HFzAteSceEKY",
        "outputId": "91489664-fd86-4908-ddb9-582e975b00d3"
      },
      "execution_count": null,
      "outputs": [
        {
          "output_type": "error",
          "ename": "TypeError",
          "evalue": "ignored",
          "traceback": [
            "\u001b[0;31m---------------------------------------------------------------------------\u001b[0m",
            "\u001b[0;31mTypeError\u001b[0m                                 Traceback (most recent call last)",
            "\u001b[0;32mpandas/_libs/hashtable_class_helper.pxi\u001b[0m in \u001b[0;36mpandas._libs.hashtable.PyObjectHashTable.map_locations\u001b[0;34m()\u001b[0m\n",
            "\u001b[0;31mTypeError\u001b[0m: unhashable type: 'list'"
          ]
        },
        {
          "output_type": "stream",
          "name": "stderr",
          "text": [
            "Exception ignored in: 'pandas._libs.index.IndexEngine._call_map_locations'\n",
            "Traceback (most recent call last):\n",
            "  File \"pandas/_libs/hashtable_class_helper.pxi\", line 1709, in pandas._libs.hashtable.PyObjectHashTable.map_locations\n",
            "TypeError: unhashable type: 'list'\n"
          ]
        },
        {
          "output_type": "execute_result",
          "data": {
            "text/plain": [
              "NaN                                       15353\n",
              "[\\n02/2019\\n, \\nEuro 6\\n]                    23\n",
              "[\\n05/2019\\n, \\nEuro 6\\n]                    16\n",
              "[\\n01/2018\\n, \\n118 g CO2/km (comb)\\n]       15\n",
              "[\\n03/2019\\n, \\nEuro 6\\n]                    15\n",
              "                                          ...  \n",
              "[\\n11/2017\\n, \\nEuro 6d-TEMP\\n]               1\n",
              "[\\n12/2018\\n, \\n5 (Blue)\\n]                   1\n",
              "[\\n03/2019\\n, \\n129 g CO2/km (comb)\\n]        1\n",
              "[\\n04/2018\\n, \\n110 g CO2/km (comb)\\n]        1\n",
              "[\\n12/2018\\n, \\n97 g CO2/km (comb)\\n]         1\n",
              "Name: Last Service Date, Length: 267, dtype: int64"
            ]
          },
          "metadata": {},
          "execution_count": 330
        }
      ]
    },
    {
      "cell_type": "code",
      "source": [
        "df[\"Last Service Date\"]=  pd.to_datetime(df[\"Last Service Date\"])\n",
        "df[\"Last Service Date\"]"
      ],
      "metadata": {
        "colab": {
          "base_uri": "https://localhost:8080/"
        },
        "id": "JDFTnd9HftR6",
        "outputId": "76941b3e-345f-4af8-daf7-d39e46fb2cb2"
      },
      "execution_count": null,
      "outputs": [
        {
          "output_type": "execute_result",
          "data": {
            "text/plain": [
              "0       NaT\n",
              "1       NaT\n",
              "2       NaT\n",
              "3       NaT\n",
              "4       NaT\n",
              "         ..\n",
              "15914   NaT\n",
              "15915   NaT\n",
              "15916   NaT\n",
              "15917   NaT\n",
              "15918   NaT\n",
              "Name: Last Service Date, Length: 15919, dtype: datetime64[ns]"
            ]
          },
          "metadata": {},
          "execution_count": 335
        }
      ]
    },
    {
      "cell_type": "code",
      "source": [
        "df[\"Last Service Date\"]=df[\"Last Service Date\"].apply(lambda item : item[0] if type(item)==list else item)\n",
        "df[\"Last Service Date\"]=df[\"Last Service Date\"].str.strip('\\n')\n",
        "df[\"Last Service Date\"]"
      ],
      "metadata": {
        "colab": {
          "base_uri": "https://localhost:8080/"
        },
        "id": "zl72M9aUeE-y",
        "outputId": "1b94b67c-4bf7-41a2-d726-0e0517dcbdf2"
      },
      "execution_count": null,
      "outputs": [
        {
          "output_type": "execute_result",
          "data": {
            "text/plain": [
              "0        NaN\n",
              "1        NaN\n",
              "2        NaN\n",
              "3        NaN\n",
              "4        NaN\n",
              "        ... \n",
              "15914    NaN\n",
              "15915    NaN\n",
              "15916    NaN\n",
              "15917    NaN\n",
              "15918    NaN\n",
              "Name: Last Service Date, Length: 15919, dtype: object"
            ]
          },
          "metadata": {},
          "execution_count": 332
        }
      ]
    },
    {
      "cell_type": "code",
      "source": [
        "today=pd.to_datetime(\"2020-01-01\")\n",
        "print(today)"
      ],
      "metadata": {
        "colab": {
          "base_uri": "https://localhost:8080/"
        },
        "id": "Zir1LIuOeEo6",
        "outputId": "0d0eecc6-98d3-499c-a641-11b6e47c0f84"
      },
      "execution_count": null,
      "outputs": [
        {
          "output_type": "stream",
          "name": "stdout",
          "text": [
            "2020-01-01 00:00:00\n"
          ]
        }
      ]
    },
    {
      "cell_type": "code",
      "source": [
        "df['diff_year']=(today)-df[\"Last Service Date\"]\n",
        "df['diff_year']"
      ],
      "metadata": {
        "colab": {
          "base_uri": "https://localhost:8080/"
        },
        "id": "wwAtKi9XeEmI",
        "outputId": "72c960d0-f9d4-4699-b1cb-c333f0ced505"
      },
      "execution_count": null,
      "outputs": [
        {
          "output_type": "execute_result",
          "data": {
            "text/plain": [
              "0       NaT\n",
              "1       NaT\n",
              "2       NaT\n",
              "3       NaT\n",
              "4       NaT\n",
              "         ..\n",
              "15914   NaT\n",
              "15915   NaT\n",
              "15916   NaT\n",
              "15917   NaT\n",
              "15918   NaT\n",
              "Name: diff_year, Length: 15919, dtype: timedelta64[ns]"
            ]
          },
          "metadata": {},
          "execution_count": 336
        }
      ]
    },
    {
      "cell_type": "code",
      "source": [
        "fills(df,'age', 'Inspection new',\"Last Service Date\" , 'mode')"
      ],
      "metadata": {
        "id": "lvezrwPSFfkS"
      },
      "execution_count": null,
      "outputs": []
    },
    {
      "cell_type": "code",
      "source": [
        "df['passed_months_from_last_service']=round(df['diff_year']/np.timedelta64(1, 'M'),1)"
      ],
      "metadata": {
        "id": "kHtt65skf9JS"
      },
      "execution_count": null,
      "outputs": []
    },
    {
      "cell_type": "code",
      "source": [
        "df['passed_months_from_last_service'].value_counts()"
      ],
      "metadata": {
        "id": "RCfrzEmVgl7C"
      },
      "execution_count": null,
      "outputs": []
    },
    {
      "cell_type": "code",
      "source": [
        "df['passed_months_from_last_service']=df['passed_months_from_last_service'].astype(float)"
      ],
      "metadata": {
        "id": "Kt5BnP_pFybF"
      },
      "execution_count": null,
      "outputs": []
    },
    {
      "cell_type": "code",
      "source": [
        "df.drop('Last Service Date', axis=1, inplace=True)"
      ],
      "metadata": {
        "id": "UD6vvoH3Ex6d"
      },
      "execution_count": 222,
      "outputs": []
    },
    {
      "cell_type": "markdown",
      "source": [
        "# ***51-Other Fuel Types***"
      ],
      "metadata": {
        "id": "UGeXsZAYg46X"
      }
    },
    {
      "cell_type": "code",
      "source": [
        "df[\"Other Fuel Types\"].value_counts(dropna=False)"
      ],
      "metadata": {
        "colab": {
          "base_uri": "https://localhost:8080/",
          "height": 289
        },
        "id": "By43shRbiPNA",
        "outputId": "9631fe2f-7cfe-4877-c0a6-5e5a7c162134"
      },
      "execution_count": null,
      "outputs": [
        {
          "output_type": "error",
          "ename": "TypeError",
          "evalue": "ignored",
          "traceback": [
            "\u001b[0;31m---------------------------------------------------------------------------\u001b[0m",
            "\u001b[0;31mTypeError\u001b[0m                                 Traceback (most recent call last)",
            "\u001b[0;32mpandas/_libs/hashtable_class_helper.pxi\u001b[0m in \u001b[0;36mpandas._libs.hashtable.PyObjectHashTable.map_locations\u001b[0;34m()\u001b[0m\n",
            "\u001b[0;31mTypeError\u001b[0m: unhashable type: 'list'"
          ]
        },
        {
          "output_type": "stream",
          "name": "stderr",
          "text": [
            "Exception ignored in: 'pandas._libs.index.IndexEngine._call_map_locations'\n",
            "Traceback (most recent call last):\n",
            "  File \"pandas/_libs/hashtable_class_helper.pxi\", line 1709, in pandas._libs.hashtable.PyObjectHashTable.map_locations\n",
            "TypeError: unhashable type: 'list'\n"
          ]
        },
        {
          "output_type": "execute_result",
          "data": {
            "text/plain": [
              "NaN             15039\n",
              "[[], [], []]      880\n",
              "Name: Other Fuel Types, dtype: int64"
            ]
          },
          "metadata": {},
          "execution_count": 114
        }
      ]
    },
    {
      "cell_type": "code",
      "source": [
        "df.drop([\"Other Fuel Types\"], axis=1)"
      ],
      "metadata": {
        "id": "MP7zuN5GiPK5"
      },
      "execution_count": null,
      "outputs": []
    },
    {
      "cell_type": "markdown",
      "source": [
        "# ***52-Availability***"
      ],
      "metadata": {
        "id": "Z8dHG87Dg432"
      }
    },
    {
      "cell_type": "code",
      "source": [
        "df[\"Availability\"].value_counts(dropna=False)"
      ],
      "metadata": {
        "colab": {
          "base_uri": "https://localhost:8080/"
        },
        "id": "izJLaum_iyuq",
        "outputId": "75e9bdbf-feb3-42f2-d0d3-1211aef09051"
      },
      "execution_count": null,
      "outputs": [
        {
          "output_type": "execute_result",
          "data": {
            "text/plain": [
              "NaN    15284\n",
              "90       196\n",
              "120      182\n",
              "1         51\n",
              "3         35\n",
              "5         35\n",
              "180       24\n",
              "14        24\n",
              "7         20\n",
              "150       18\n",
              "2         16\n",
              "60        13\n",
              "42        10\n",
              "21         8\n",
              "4          2\n",
              "6          1\n",
              "Name: Availability, dtype: int64"
            ]
          },
          "metadata": {},
          "execution_count": 120
        }
      ]
    },
    {
      "cell_type": "code",
      "source": [
        "df[\"Availability\"]=df[\"Availability\"].apply(lambda item : item[0] if type(item)==list else item)\n",
        "df[\"Availability\"]=df[\"Availability\"].str.strip('\\n').str.strip(' days from ordering').str.strip('nin ')\n",
        "df[\"Availability\"]"
      ],
      "metadata": {
        "colab": {
          "base_uri": "https://localhost:8080/"
        },
        "id": "tPTK07y7iy0t",
        "outputId": "f70fe3ea-2d0a-4d9b-8ca2-690c30bcae3e"
      },
      "execution_count": null,
      "outputs": [
        {
          "output_type": "execute_result",
          "data": {
            "text/plain": [
              "0        NaN\n",
              "1        NaN\n",
              "2        NaN\n",
              "3        NaN\n",
              "4        NaN\n",
              "        ... \n",
              "15914    NaN\n",
              "15915      5\n",
              "15916    120\n",
              "15917    NaN\n",
              "15918    NaN\n",
              "Name: Availability, Length: 15919, dtype: object"
            ]
          },
          "metadata": {},
          "execution_count": 118
        }
      ]
    },
    {
      "cell_type": "code",
      "source": [
        "df.drop([\"Availability\"], axis=1)"
      ],
      "metadata": {
        "id": "pOoODoPXiyyJ"
      },
      "execution_count": null,
      "outputs": []
    },
    {
      "cell_type": "markdown",
      "source": [
        "# ***53-Last Timing Belt Service Date***"
      ],
      "metadata": {
        "id": "D8rHLcZWg41J"
      }
    },
    {
      "cell_type": "code",
      "source": [
        "df[\"Last Timing Belt Service Date\"].value_counts(dropna=False)"
      ],
      "metadata": {
        "colab": {
          "base_uri": "https://localhost:8080/"
        },
        "id": "4RgjCuOtkd6f",
        "outputId": "1cc81544-95fc-4ff0-adb9-5db33aa10337"
      },
      "execution_count": null,
      "outputs": [
        {
          "output_type": "execute_result",
          "data": {
            "text/plain": [
              "NaT           15903\n",
              "2016-04-01        2\n",
              "2019-06-01        1\n",
              "2019-05-01        1\n",
              "2018-05-01        1\n",
              "2017-06-01        1\n",
              "2019-04-01        1\n",
              "1900-12-01        1\n",
              "2018-09-01        1\n",
              "1900-01-01        1\n",
              "2018-07-01        1\n",
              "2019-02-01        1\n",
              "2019-01-01        1\n",
              "2018-02-01        1\n",
              "2018-01-01        1\n",
              "1970-01-01        1\n",
              "Name: Last Timing Belt Service Date, dtype: int64"
            ]
          },
          "metadata": {},
          "execution_count": 125
        }
      ]
    },
    {
      "cell_type": "code",
      "source": [
        "df[\"Last Timing Belt Service Date\"]=df[\"Last Timing Belt Service Date\"].apply(lambda item : item[0] if type(item)==list else item)\n",
        "df[\"Last Timing Belt Service Date\"]=df[\"Last Timing Belt Service Date\"].str.strip('\\n')\n",
        "df[\"Last Timing Belt Service Date\"]"
      ],
      "metadata": {
        "colab": {
          "base_uri": "https://localhost:8080/"
        },
        "id": "v2ZennYBkdtO",
        "outputId": "1cbc7a7b-7a6b-4f28-baac-6c1ad72ff9f4"
      },
      "execution_count": null,
      "outputs": [
        {
          "output_type": "execute_result",
          "data": {
            "text/plain": [
              "0        NaN\n",
              "1        NaN\n",
              "2        NaN\n",
              "3        NaN\n",
              "4        NaN\n",
              "        ... \n",
              "15914    NaN\n",
              "15915    NaN\n",
              "15916    NaN\n",
              "15917    NaN\n",
              "15918    NaN\n",
              "Name: Last Timing Belt Service Date, Length: 15919, dtype: object"
            ]
          },
          "metadata": {},
          "execution_count": 122
        }
      ]
    },
    {
      "cell_type": "code",
      "source": [
        "df[\"Last Timing Belt Service Date\"]=  pd.to_datetime(df[\"Last Timing Belt Service Date\"])\n",
        "df[\"Last Timing Belt Service Date\"]"
      ],
      "metadata": {
        "colab": {
          "base_uri": "https://localhost:8080/"
        },
        "id": "2Q8KtyHzkdeR",
        "outputId": "82d89363-be5a-4229-cf40-f7f70cbb9b05"
      },
      "execution_count": null,
      "outputs": [
        {
          "output_type": "execute_result",
          "data": {
            "text/plain": [
              "0       NaT\n",
              "1       NaT\n",
              "2       NaT\n",
              "3       NaT\n",
              "4       NaT\n",
              "         ..\n",
              "15914   NaT\n",
              "15915   NaT\n",
              "15916   NaT\n",
              "15917   NaT\n",
              "15918   NaT\n",
              "Name: Last Timing Belt Service Date, Length: 15919, dtype: datetime64[ns]"
            ]
          },
          "metadata": {},
          "execution_count": 123
        }
      ]
    },
    {
      "cell_type": "code",
      "source": [
        "df[\"Last Timing Belt Service Date\"].unique()"
      ],
      "metadata": {
        "colab": {
          "base_uri": "https://localhost:8080/"
        },
        "id": "QRqLYYTvk_Jm",
        "outputId": "14f62685-cbbb-41b2-aff1-e2ad0a9b6410"
      },
      "execution_count": null,
      "outputs": [
        {
          "output_type": "execute_result",
          "data": {
            "text/plain": [
              "array([                          'NaT', '1900-12-01T00:00:00.000000000',\n",
              "       '2018-07-01T00:00:00.000000000', '1900-01-01T00:00:00.000000000',\n",
              "       '2019-05-01T00:00:00.000000000', '2018-09-01T00:00:00.000000000',\n",
              "       '2018-05-01T00:00:00.000000000', '2017-06-01T00:00:00.000000000',\n",
              "       '2019-01-01T00:00:00.000000000', '2019-02-01T00:00:00.000000000',\n",
              "       '2018-02-01T00:00:00.000000000', '2016-04-01T00:00:00.000000000',\n",
              "       '2019-06-01T00:00:00.000000000', '2018-01-01T00:00:00.000000000',\n",
              "       '2019-04-01T00:00:00.000000000', '1970-01-01T00:00:00.000000000'],\n",
              "      dtype='datetime64[ns]')"
            ]
          },
          "metadata": {},
          "execution_count": 124
        }
      ]
    },
    {
      "cell_type": "code",
      "source": [
        "df.drop([\"Last Timing Belt Service Date\"], axis=1)"
      ],
      "metadata": {
        "id": "d1Bs5v7Rk_D2"
      },
      "execution_count": null,
      "outputs": []
    },
    {
      "cell_type": "markdown",
      "source": [
        "# ***54-Available from***"
      ],
      "metadata": {
        "id": "6RyIiN5Yg4yR"
      }
    },
    {
      "cell_type": "code",
      "source": [
        "df[\"Available from\"].value_counts(dropna=False)"
      ],
      "metadata": {
        "id": "Fyl-uOBQmMrw"
      },
      "execution_count": null,
      "outputs": []
    },
    {
      "cell_type": "code",
      "source": [
        "df[\"Available from\"]=df[\"Available from\"].apply(lambda item : item[0] if type(item)==list else item)\n",
        "df[\"Available from\"]=df[\"Available from\"].str.strip('\\n')\n",
        "df[\"Available from\"]"
      ],
      "metadata": {
        "colab": {
          "base_uri": "https://localhost:8080/"
        },
        "id": "9C_5_AMOmMxN",
        "outputId": "135c6d09-f1af-4eab-8b1c-1acb5a047fcd"
      },
      "execution_count": null,
      "outputs": [
        {
          "output_type": "execute_result",
          "data": {
            "text/plain": [
              "0        NaN\n",
              "1        NaN\n",
              "2        NaN\n",
              "3        NaN\n",
              "4        NaN\n",
              "        ... \n",
              "15914    NaN\n",
              "15915    NaN\n",
              "15916    NaN\n",
              "15917    NaN\n",
              "15918    NaN\n",
              "Name: Available from, Length: 15919, dtype: object"
            ]
          },
          "metadata": {},
          "execution_count": 129
        }
      ]
    },
    {
      "cell_type": "code",
      "source": [
        "df.drop([\"Available from\"], axis=1)"
      ],
      "metadata": {
        "id": "YpLdcaVkp7Po"
      },
      "execution_count": null,
      "outputs": []
    },
    {
      "cell_type": "code",
      "source": [
        "Autoscout24_last=df"
      ],
      "metadata": {
        "id": "8ygea5lzxKDH"
      },
      "execution_count": 228,
      "outputs": []
    }
  ]
}